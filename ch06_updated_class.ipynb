{
 "cells": [
  {
   "cell_type": "markdown",
   "metadata": {},
   "source": [
    "# 6장 데이터 로딩과 저장, 파일 형식"
   ]
  },
  {
   "cell_type": "code",
<<<<<<< HEAD
   "execution_count": 1,
=======
   "execution_count": 2,
>>>>>>> a2fc80b917052043d36ef0a9ff96a01d0148ed5f
   "metadata": {},
   "outputs": [],
   "source": [
    "import numpy as np\n",
    "import pandas as pd\n",
    "from pandas import DataFrame, Series\n",
    "np.random.seed(12345)\n",
    "import matplotlib.pyplot as plt\n",
    "plt.rc(\"figure\", figsize=(10, 6))\n",
    "pd.options.display.max_colwidth = 75\n",
    "pd.options.display.max_columns = 20\n",
<<<<<<< HEAD
    "pd.options.display.max_rows = 10\n",
=======
>>>>>>> a2fc80b917052043d36ef0a9ff96a01d0148ed5f
    "np.set_printoptions(precision=4, suppress=True)\n",
    "plt.rcParams[\"font.family\"] = 'Malgun Gothic'"
   ]
  },
  {
   "cell_type": "markdown",
   "metadata": {},
   "source": [
    "# 1. csv 텍스트 데이터\n",
    "## 1.1 csv파일 읽기\n",
    "* 판다스에서 CSV 파일을 읽기: pd.read_csv(path, encoding = 'utf-8') 함수를 사용\n",
    "    * path 인수 : 파일시스템에서의 위치, URL, 파일객체를 나타내는 문자열\n",
    "    * encoding 인수 - 유니코드 인코딩 종류을 지정\n"
   ]
  },
  {
   "cell_type": "markdown",
   "metadata": {},
   "source": [
    "    1) header(컬럼명)가 있는 파일"
   ]
  },
  {
   "cell_type": "code",
<<<<<<< HEAD
   "execution_count": null,
   "metadata": {
    "scrolled": true
   },
   "outputs": [],
   "source": [
    "#!cat examples/ex1.csv\n",
    "\n",
    "df = pd.read_csv(\"examples/ex1.csv\") # 데이터프레임으로 반환\n",
    "df.head(2)"
=======
   "execution_count": 4,
   "metadata": {
    "scrolled": true
   },
   "outputs": [
    {
     "name": "stdout",
     "output_type": "stream",
     "text": [
      "a,b,c,d,message\n",
      "1,2,3,4,hello\n",
      "5,6,7,8,world\n",
      "9,10,11,12,foo\n"
     ]
    },
    {
     "data": {
      "text/html": [
       "<div>\n",
       "<style scoped>\n",
       "    .dataframe tbody tr th:only-of-type {\n",
       "        vertical-align: middle;\n",
       "    }\n",
       "\n",
       "    .dataframe tbody tr th {\n",
       "        vertical-align: top;\n",
       "    }\n",
       "\n",
       "    .dataframe thead th {\n",
       "        text-align: right;\n",
       "    }\n",
       "</style>\n",
       "<table border=\"1\" class=\"dataframe\">\n",
       "  <thead>\n",
       "    <tr style=\"text-align: right;\">\n",
       "      <th></th>\n",
       "      <th>a</th>\n",
       "      <th>b</th>\n",
       "      <th>c</th>\n",
       "      <th>d</th>\n",
       "      <th>message</th>\n",
       "    </tr>\n",
       "  </thead>\n",
       "  <tbody>\n",
       "    <tr>\n",
       "      <th>0</th>\n",
       "      <td>1</td>\n",
       "      <td>2</td>\n",
       "      <td>3</td>\n",
       "      <td>4</td>\n",
       "      <td>hello</td>\n",
       "    </tr>\n",
       "    <tr>\n",
       "      <th>1</th>\n",
       "      <td>5</td>\n",
       "      <td>6</td>\n",
       "      <td>7</td>\n",
       "      <td>8</td>\n",
       "      <td>world</td>\n",
       "    </tr>\n",
       "    <tr>\n",
       "      <th>2</th>\n",
       "      <td>9</td>\n",
       "      <td>10</td>\n",
       "      <td>11</td>\n",
       "      <td>12</td>\n",
       "      <td>foo</td>\n",
       "    </tr>\n",
       "  </tbody>\n",
       "</table>\n",
       "</div>"
      ],
      "text/plain": [
       "   a   b   c   d message\n",
       "0  1   2   3   4   hello\n",
       "1  5   6   7   8   world\n",
       "2  9  10  11  12     foo"
      ]
     },
     "execution_count": 4,
     "metadata": {},
     "output_type": "execute_result"
    }
   ],
   "source": [
    "!cat examples/ex1.csv\n",
    "\n",
    "df = pd.read_csv(\"examples/ex1.csv\") #데이터 프레임으로 반환\n",
    "df"
>>>>>>> a2fc80b917052043d36ef0a9ff96a01d0148ed5f
   ]
  },
  {
   "cell_type": "markdown",
   "metadata": {},
   "source": [
    "    2) header가 없는 파일 : 컬럼을 지정\n",
    "        * names 인수 - 열 이름 리스트\n",
    "        * header 인수 - 헤더가 없을 경우 None으로 지정"
   ]
  },
  {
   "cell_type": "code",
<<<<<<< HEAD
   "execution_count": null,
   "metadata": {
    "scrolled": true
   },
   "outputs": [],
   "source": [
    "#!cat examples/ex2.csv\n",
    "names = [\"a\", \"b\", \"c\", \"d\", \"message\"]\n",
    "data = pd.read_csv(\"examples/ex2.csv\", names=names)\n",
    "data['message'] # Series"
=======
   "execution_count": 10,
   "metadata": {
    "scrolled": true
   },
   "outputs": [
    {
     "name": "stdout",
     "output_type": "stream",
     "text": [
      "1,2,3,4,hello\n",
      "5,6,7,8,world\n",
      "9,10,11,12,foo\n"
     ]
    },
    {
     "data": {
      "text/html": [
       "<div>\n",
       "<style scoped>\n",
       "    .dataframe tbody tr th:only-of-type {\n",
       "        vertical-align: middle;\n",
       "    }\n",
       "\n",
       "    .dataframe tbody tr th {\n",
       "        vertical-align: top;\n",
       "    }\n",
       "\n",
       "    .dataframe thead th {\n",
       "        text-align: right;\n",
       "    }\n",
       "</style>\n",
       "<table border=\"1\" class=\"dataframe\">\n",
       "  <thead>\n",
       "    <tr style=\"text-align: right;\">\n",
       "      <th></th>\n",
       "      <th>a</th>\n",
       "      <th>b</th>\n",
       "      <th>c</th>\n",
       "      <th>d</th>\n",
       "      <th>message</th>\n",
       "    </tr>\n",
       "  </thead>\n",
       "  <tbody>\n",
       "    <tr>\n",
       "      <th>0</th>\n",
       "      <td>1</td>\n",
       "      <td>2</td>\n",
       "      <td>3</td>\n",
       "      <td>4</td>\n",
       "      <td>hello</td>\n",
       "    </tr>\n",
       "    <tr>\n",
       "      <th>1</th>\n",
       "      <td>5</td>\n",
       "      <td>6</td>\n",
       "      <td>7</td>\n",
       "      <td>8</td>\n",
       "      <td>world</td>\n",
       "    </tr>\n",
       "    <tr>\n",
       "      <th>2</th>\n",
       "      <td>9</td>\n",
       "      <td>10</td>\n",
       "      <td>11</td>\n",
       "      <td>12</td>\n",
       "      <td>foo</td>\n",
       "    </tr>\n",
       "  </tbody>\n",
       "</table>\n",
       "</div>"
      ],
      "text/plain": [
       "   a   b   c   d message\n",
       "0  1   2   3   4   hello\n",
       "1  5   6   7   8   world\n",
       "2  9  10  11  12     foo"
      ]
     },
     "execution_count": 10,
     "metadata": {},
     "output_type": "execute_result"
    }
   ],
   "source": [
    "!cat examples/ex2.csv\n",
    "\n",
    "\n",
    "names = [\"a\", \"b\", \"c\", \"d\", \"message\"]\n",
    "pd.read_csv(\"examples/ex2.csv\", names=names)"
>>>>>>> a2fc80b917052043d36ef0a9ff96a01d0148ed5f
   ]
  },
  {
   "cell_type": "markdown",
   "metadata": {},
   "source": [
    "    3) 계층적 색인 지정하기\n",
    "        * index_col 인수 - 색인으로 사용할 열 번호나 이름, 계층적 색인을 지정할 경우 리스트"
   ]
  },
  {
   "cell_type": "code",
<<<<<<< HEAD
   "execution_count": null,
   "metadata": {},
   "outputs": [],
=======
   "execution_count": 14,
   "metadata": {},
   "outputs": [
    {
     "data": {
      "text/plain": [
       "Index(['value1', 'value2'], dtype='object')"
      ]
     },
     "execution_count": 14,
     "metadata": {},
     "output_type": "execute_result"
    }
   ],
>>>>>>> a2fc80b917052043d36ef0a9ff96a01d0148ed5f
   "source": [
    "# !cat examples/csv_mindex.csv\n",
    "parsed = pd.read_csv(\"examples/csv_mindex.csv\",\n",
    "                     index_col=[\"key1\", \"key2\"])\n",
    "parsed.columns"
   ]
  },
  {
   "cell_type": "markdown",
   "metadata": {},
   "source": [
    "    4) 여러 개의 공백으로 필드를 구분한 파일 \n",
    "        * sep 인수 - 필드을 구분하기 위해 사용할 정규 표현식"
   ]
  },
  {
   "cell_type": "code",
<<<<<<< HEAD
   "execution_count": null,
   "metadata": {},
   "outputs": [],
   "source": [
    "#!cat examples/ex3.txt\n",
    "\n",
    "result = pd.read_csv(\"examples/ex3.txt\",sep=\"\\s+\") #\\s+ -> 스페이스바가 0개 이상\n",
=======
   "execution_count": 18,
   "metadata": {},
   "outputs": [
    {
     "name": "stderr",
     "output_type": "stream",
     "text": [
      "<>:2: SyntaxWarning: invalid escape sequence '\\s'\n",
      "<>:2: SyntaxWarning: invalid escape sequence '\\s'\n",
      "C:\\Users\\shong\\AppData\\Local\\Temp\\ipykernel_14096\\3368945617.py:2: SyntaxWarning: invalid escape sequence '\\s'\n",
      "  result = pd.read_csv(\"examples/ex3.txt\", sep=\"\\s+\") #\\s+ ->스패이스바가 0개이상\n"
     ]
    },
    {
     "name": "stdout",
     "output_type": "stream",
     "text": [
      "            A         B         C\n",
      "aaa -0.264438 -1.026059 -0.619500\n",
      "bbb  0.927272  0.302904 -0.032399\n",
      "ccc -0.264273 -0.386314 -0.217601\n",
      "ddd -0.871858 -0.348382  1.100491\n"
     ]
    },
    {
     "data": {
      "text/html": [
       "<div>\n",
       "<style scoped>\n",
       "    .dataframe tbody tr th:only-of-type {\n",
       "        vertical-align: middle;\n",
       "    }\n",
       "\n",
       "    .dataframe tbody tr th {\n",
       "        vertical-align: top;\n",
       "    }\n",
       "\n",
       "    .dataframe thead th {\n",
       "        text-align: right;\n",
       "    }\n",
       "</style>\n",
       "<table border=\"1\" class=\"dataframe\">\n",
       "  <thead>\n",
       "    <tr style=\"text-align: right;\">\n",
       "      <th></th>\n",
       "      <th>A</th>\n",
       "      <th>B</th>\n",
       "      <th>C</th>\n",
       "    </tr>\n",
       "  </thead>\n",
       "  <tbody>\n",
       "    <tr>\n",
       "      <th>aaa</th>\n",
       "      <td>-0.264438</td>\n",
       "      <td>-1.026059</td>\n",
       "      <td>-0.619500</td>\n",
       "    </tr>\n",
       "    <tr>\n",
       "      <th>bbb</th>\n",
       "      <td>0.927272</td>\n",
       "      <td>0.302904</td>\n",
       "      <td>-0.032399</td>\n",
       "    </tr>\n",
       "    <tr>\n",
       "      <th>ccc</th>\n",
       "      <td>-0.264273</td>\n",
       "      <td>-0.386314</td>\n",
       "      <td>-0.217601</td>\n",
       "    </tr>\n",
       "    <tr>\n",
       "      <th>ddd</th>\n",
       "      <td>-0.871858</td>\n",
       "      <td>-0.348382</td>\n",
       "      <td>1.100491</td>\n",
       "    </tr>\n",
       "  </tbody>\n",
       "</table>\n",
       "</div>"
      ],
      "text/plain": [
       "            A         B         C\n",
       "aaa -0.264438 -1.026059 -0.619500\n",
       "bbb  0.927272  0.302904 -0.032399\n",
       "ccc -0.264273 -0.386314 -0.217601\n",
       "ddd -0.871858 -0.348382  1.100491"
      ]
     },
     "execution_count": 18,
     "metadata": {},
     "output_type": "execute_result"
    }
   ],
   "source": [
    "!cat examples/ex3.txt\n",
    "result = pd.read_csv(\"examples/ex3.txt\", sep=\"\\s+\") #\\s+ ->스패이스바가 0개이상\n",
>>>>>>> a2fc80b917052043d36ef0a9ff96a01d0148ed5f
    "result"
   ]
  },
  {
   "cell_type": "markdown",
   "metadata": {},
   "source": [
    "    5) 주석을 갖고 있는 파일\n",
    "        * skiprows 인수 - 파일의 시작부터 무시할 행 수 또는 무시할 행 번호가 담긴 리스트"
   ]
  },
  {
   "cell_type": "code",
<<<<<<< HEAD
   "execution_count": null,
   "metadata": {},
   "outputs": [],
   "source": [
    "# !cat examples/ex4.csv\n",
=======
   "execution_count": 20,
   "metadata": {},
   "outputs": [
    {
     "name": "stdout",
     "output_type": "stream",
     "text": [
      "# hey!\n",
      "a,b,c,d,message\n",
      "# just wanted to make things more difficult for you\n",
      "# who reads CSV files with computers, anyway?\n",
      "1,2,3,4,hello\n",
      "5,6,7,8,world\n",
      "9,10,11,12,foo\n"
     ]
    },
    {
     "data": {
      "text/html": [
       "<div>\n",
       "<style scoped>\n",
       "    .dataframe tbody tr th:only-of-type {\n",
       "        vertical-align: middle;\n",
       "    }\n",
       "\n",
       "    .dataframe tbody tr th {\n",
       "        vertical-align: top;\n",
       "    }\n",
       "\n",
       "    .dataframe thead th {\n",
       "        text-align: right;\n",
       "    }\n",
       "</style>\n",
       "<table border=\"1\" class=\"dataframe\">\n",
       "  <thead>\n",
       "    <tr style=\"text-align: right;\">\n",
       "      <th></th>\n",
       "      <th>a</th>\n",
       "      <th>b</th>\n",
       "      <th>c</th>\n",
       "      <th>d</th>\n",
       "      <th>message</th>\n",
       "    </tr>\n",
       "  </thead>\n",
       "  <tbody>\n",
       "    <tr>\n",
       "      <th>0</th>\n",
       "      <td>1</td>\n",
       "      <td>2</td>\n",
       "      <td>3</td>\n",
       "      <td>4</td>\n",
       "      <td>hello</td>\n",
       "    </tr>\n",
       "    <tr>\n",
       "      <th>1</th>\n",
       "      <td>5</td>\n",
       "      <td>6</td>\n",
       "      <td>7</td>\n",
       "      <td>8</td>\n",
       "      <td>world</td>\n",
       "    </tr>\n",
       "    <tr>\n",
       "      <th>2</th>\n",
       "      <td>9</td>\n",
       "      <td>10</td>\n",
       "      <td>11</td>\n",
       "      <td>12</td>\n",
       "      <td>foo</td>\n",
       "    </tr>\n",
       "  </tbody>\n",
       "</table>\n",
       "</div>"
      ],
      "text/plain": [
       "   a   b   c   d message\n",
       "0  1   2   3   4   hello\n",
       "1  5   6   7   8   world\n",
       "2  9  10  11  12     foo"
      ]
     },
     "execution_count": 20,
     "metadata": {},
     "output_type": "execute_result"
    }
   ],
   "source": [
    "!cat examples/ex4.csv\n",
>>>>>>> a2fc80b917052043d36ef0a9ff96a01d0148ed5f
    "pd.read_csv(\"examples/ex4.csv\", skiprows=[0, 2, 3])"
   ]
  },
  {
   "cell_type": "markdown",
   "metadata": {},
   "source": [
<<<<<<< HEAD
    "    6) **누락된 값이 있는 파일 : 비어 있는 문자열, NA, NULL을 NaN으로 출력** \n",
=======
    "    6) 누락된 값이 있는 파일 : 비어 있는 문자열, NA, NULL을 NaN으로 출력 \n",
>>>>>>> a2fc80b917052043d36ef0a9ff96a01d0148ed5f
    "        * na_values 인수 - NA 값으로 처리할 값들의 목록"
   ]
  },
  {
   "cell_type": "code",
<<<<<<< HEAD
   "execution_count": null,
   "metadata": {},
   "outputs": [],
   "source": [
    "# !cat examples/ex5.csv\n",
    "\n",
    "result = pd.read_csv(\"examples/ex5.csv\")\n",
    "result\n",
    "\n",
    "# 1) 누락된 값을 확인 : isna(), isnull(): 결측치 True, isnot(), notNa(): 결측치가 아닌 것 True\n",
=======
   "execution_count": 22,
   "metadata": {},
   "outputs": [
    {
     "name": "stdout",
     "output_type": "stream",
     "text": [
      "something,a,b,c,d,message\n",
      "one,1,2,3,4,NA\n",
      "two,5,6,,8,world\n",
      "three,9,10,11,12,foo\n",
      "  something  a   b     c   d message\n",
      "0       one  1   2   3.0   4     NaN\n",
      "1       NaN  5   6   NaN   8   world\n",
      "2     three  9  10  11.0  12     NaN\n"
     ]
    },
    {
     "data": {
      "text/html": [
       "<div>\n",
       "<style scoped>\n",
       "    .dataframe tbody tr th:only-of-type {\n",
       "        vertical-align: middle;\n",
       "    }\n",
       "\n",
       "    .dataframe tbody tr th {\n",
       "        vertical-align: top;\n",
       "    }\n",
       "\n",
       "    .dataframe thead th {\n",
       "        text-align: right;\n",
       "    }\n",
       "</style>\n",
       "<table border=\"1\" class=\"dataframe\">\n",
       "  <thead>\n",
       "    <tr style=\"text-align: right;\">\n",
       "      <th></th>\n",
       "      <th>something</th>\n",
       "      <th>a</th>\n",
       "      <th>b</th>\n",
       "      <th>c</th>\n",
       "      <th>d</th>\n",
       "      <th>message</th>\n",
       "    </tr>\n",
       "  </thead>\n",
       "  <tbody>\n",
       "    <tr>\n",
       "      <th>0</th>\n",
       "      <td>False</td>\n",
       "      <td>False</td>\n",
       "      <td>False</td>\n",
       "      <td>False</td>\n",
       "      <td>False</td>\n",
       "      <td>True</td>\n",
       "    </tr>\n",
       "    <tr>\n",
       "      <th>1</th>\n",
       "      <td>True</td>\n",
       "      <td>False</td>\n",
       "      <td>False</td>\n",
       "      <td>True</td>\n",
       "      <td>False</td>\n",
       "      <td>False</td>\n",
       "    </tr>\n",
       "    <tr>\n",
       "      <th>2</th>\n",
       "      <td>False</td>\n",
       "      <td>False</td>\n",
       "      <td>False</td>\n",
       "      <td>False</td>\n",
       "      <td>False</td>\n",
       "      <td>True</td>\n",
       "    </tr>\n",
       "  </tbody>\n",
       "</table>\n",
       "</div>"
      ],
      "text/plain": [
       "   something      a      b      c      d  message\n",
       "0      False  False  False  False  False     True\n",
       "1       True  False  False   True  False    False\n",
       "2      False  False  False  False  False     True"
      ]
     },
     "execution_count": 22,
     "metadata": {},
     "output_type": "execute_result"
    }
   ],
   "source": [
    "!cat examples/ex5.csv\n",
    "result = pd.read_csv(\"examples/ex5.csv\")\n",
    "result\n",
    "# 1) 누락된 값을 확인 : isna()함수 이용\n",
>>>>>>> a2fc80b917052043d36ef0a9ff96a01d0148ed5f
    "pd.isna(result)\n",
    "\n",
    "# 2) na_values -> 컬럼별 문자열 집합을 받아서 누락된 값 처리\n",
    "sentinels = {\"message\": [\"foo\", \"NA\"], \"something\": [\"two\"]}\n",
    "result = pd.read_csv(\"examples/ex5.csv\", na_values=sentinels)\n",
<<<<<<< HEAD
    "result\n",
=======
    "print(result)\n",
>>>>>>> a2fc80b917052043d36ef0a9ff96a01d0148ed5f
    "result.isna()"
   ]
  },
  {
   "cell_type": "markdown",
   "metadata": {},
   "source": [
    "    7) 텍스트 파일 조금씩 \n",
    "        * nrows 인수 - 파일의 첫 일부만 읽어올 때 처음 몇 줄을 읽을 것인지 지정 \n",
    "        * chunksize 인수 - TextParser 객체에서 사용할 한 번에 읽을 파일의 크기"
   ]
  },
  {
   "cell_type": "code",
<<<<<<< HEAD
   "execution_count": null,
   "metadata": {},
   "outputs": [],
   "source": [
    "# result = pd.read_csv(\"examples/ex6.csv\")\n",
    "# result\n",
=======
   "execution_count": 24,
   "metadata": {
    "scrolled": true
   },
   "outputs": [
    {
     "data": {
      "text/html": [
       "<div>\n",
       "<style scoped>\n",
       "    .dataframe tbody tr th:only-of-type {\n",
       "        vertical-align: middle;\n",
       "    }\n",
       "\n",
       "    .dataframe tbody tr th {\n",
       "        vertical-align: top;\n",
       "    }\n",
       "\n",
       "    .dataframe thead th {\n",
       "        text-align: right;\n",
       "    }\n",
       "</style>\n",
       "<table border=\"1\" class=\"dataframe\">\n",
       "  <thead>\n",
       "    <tr style=\"text-align: right;\">\n",
       "      <th></th>\n",
       "      <th>one</th>\n",
       "      <th>two</th>\n",
       "      <th>three</th>\n",
       "      <th>four</th>\n",
       "      <th>key</th>\n",
       "    </tr>\n",
       "  </thead>\n",
       "  <tbody>\n",
       "    <tr>\n",
       "      <th>0</th>\n",
       "      <td>0.467976</td>\n",
       "      <td>-0.038649</td>\n",
       "      <td>-0.295344</td>\n",
       "      <td>-1.824726</td>\n",
       "      <td>L</td>\n",
       "    </tr>\n",
       "    <tr>\n",
       "      <th>1</th>\n",
       "      <td>-0.358893</td>\n",
       "      <td>1.404453</td>\n",
       "      <td>0.704965</td>\n",
       "      <td>-0.200638</td>\n",
       "      <td>B</td>\n",
       "    </tr>\n",
       "    <tr>\n",
       "      <th>2</th>\n",
       "      <td>-0.501840</td>\n",
       "      <td>0.659254</td>\n",
       "      <td>-0.421691</td>\n",
       "      <td>-0.057688</td>\n",
       "      <td>G</td>\n",
       "    </tr>\n",
       "    <tr>\n",
       "      <th>3</th>\n",
       "      <td>0.204886</td>\n",
       "      <td>1.074134</td>\n",
       "      <td>1.388361</td>\n",
       "      <td>-0.982404</td>\n",
       "      <td>R</td>\n",
       "    </tr>\n",
       "    <tr>\n",
       "      <th>4</th>\n",
       "      <td>0.354628</td>\n",
       "      <td>-0.133116</td>\n",
       "      <td>0.283763</td>\n",
       "      <td>-0.837063</td>\n",
       "      <td>Q</td>\n",
       "    </tr>\n",
       "  </tbody>\n",
       "</table>\n",
       "</div>"
      ],
      "text/plain": [
       "        one       two     three      four key\n",
       "0  0.467976 -0.038649 -0.295344 -1.824726   L\n",
       "1 -0.358893  1.404453  0.704965 -0.200638   B\n",
       "2 -0.501840  0.659254 -0.421691 -0.057688   G\n",
       "3  0.204886  1.074134  1.388361 -0.982404   R\n",
       "4  0.354628 -0.133116  0.283763 -0.837063   Q"
      ]
     },
     "execution_count": 24,
     "metadata": {},
     "output_type": "execute_result"
    }
   ],
   "source": [
    "#pd.options.display.max_rows = 10\n",
    "result = pd.read_csv(\"examples/ex6.csv\")\n",
    "\n",
>>>>>>> a2fc80b917052043d36ef0a9ff96a01d0148ed5f
    "result = pd.read_csv(\"examples/ex6.csv\", nrows=5)\n",
    "result"
   ]
  },
  {
   "cell_type": "markdown",
   "metadata": {},
   "source": [
    "### [예제]  ex6.csv 파일의 \"key\" 컬럼의 값들에 대한 빈도수을 계산하기"
   ]
  },
  {
   "cell_type": "code",
<<<<<<< HEAD
   "execution_count": null,
   "metadata": {
    "scrolled": true
   },
   "outputs": [],
   "source": [
    "#!cat examples/ex6.csv\n",
    "chunker = pd.read_csv(\"examples/ex6.csv\", chunksize=1000)\n",
    "chunker\n",
    "tot = pd.Series([], dtype='int64')\n",
    "\n",
    "# \"key\" 컬럼의 값들에 대한 누적의 합\n",
    "for piece in chunker:# 10번 반복 수행\n",
    "    # print(piece[\"key\"].value_counts())\n",
    "    tot = tot.add(piece[\"key\"].value_counts(), fill_value=0)\n",
    "\n",
    "tot\n",
    "#값들을 정렬\n",
=======
   "execution_count": 45,
   "metadata": {},
   "outputs": [
    {
     "data": {
      "text/plain": [
       "key\n",
       "E    368.0\n",
       "X    364.0\n",
       "L    346.0\n",
       "O    343.0\n",
       "Q    340.0\n",
       "M    338.0\n",
       "J    337.0\n",
       "F    335.0\n",
       "K    334.0\n",
       "H    330.0\n",
       "dtype: float64"
      ]
     },
     "execution_count": 45,
     "metadata": {},
     "output_type": "execute_result"
    }
   ],
   "source": [
    "chunker = pd.read_csv(\"examples/ex6.csv\", chunksize=1000)\n",
    "\n",
    "tot = pd.Series([], dtype='int64')\n",
    "\n",
    "\n",
    "for piece in chunker: #10번반복수행\n",
    "    tot = tot.add(piece[\"key\"].value_counts(), fill_value=0)\n",
    "\n",
>>>>>>> a2fc80b917052043d36ef0a9ff96a01d0148ed5f
    "tot = tot.sort_values(ascending=False)\n",
    "tot\n",
    "tot[:10]"
   ]
  },
  {
   "cell_type": "code",
<<<<<<< HEAD
   "execution_count": null,
   "metadata": {},
   "outputs": [],
   "source": [
    "# 시리즈 간 덧셈 연산\n",
    "from pandas import Series\n",
    "tot = Series([], dtype= 'int64')\n",
    "tot1 = Series([1,2,3])\n",
    "#tot + tot1\n",
    "# tot.add(tot1)\n",
    "# 누적의 합\n",
    "for i in range(3):\n",
    "    tot = tot.add(tot1, fill_value = 0)\n",
=======
   "execution_count": 46,
   "metadata": {},
   "outputs": [
    {
     "data": {
      "text/plain": [
       "0    2\n",
       "1    4\n",
       "2    6\n",
       "dtype: int64"
      ]
     },
     "execution_count": 46,
     "metadata": {},
     "output_type": "execute_result"
    }
   ],
   "source": [
    "# 시리즈 간 덧셈 연산\n",
    "from pandas import Series\n",
    "tot = Series([],dtype= 'int64')\n",
    "tot1 = Series([1,2,3])\n",
    "# tot + tot1\n",
    "for i in range(3):\n",
    "    tot = tot1.add(tot1, fill_value = 0)\n",
>>>>>>> a2fc80b917052043d36ef0a9ff96a01d0148ed5f
    "tot"
   ]
  },
  {
   "cell_type": "markdown",
   "metadata": {},
   "source": [
    "## 1.2. csv 텍스트 파일 저장하기\n",
    "* 판다스에서 CSV 파일을 저장하기: df.to_csv(path, encoding = 'utf-8') 함수를 사용\n",
    "    * path 인수 : 파일시스템에서의 위치, URL, 파일객체를 나타내는 문자열\n",
    "    * encoding 인수 - 유니코드 인코딩 종류을 지정\n"
   ]
  },
  {
   "cell_type": "code",
<<<<<<< HEAD
   "execution_count": null,
   "metadata": {},
   "outputs": [],
   "source": [
    "# csv 파일로 저장\n",
    "# 1. 데이터프레임 준비\n",
    "data = pd.read_csv(\"examples/ex5.csv\") # 원본에 대한 데이터프레임\n",
    "data\n",
    "data1 = data[['a','b','d']] # 컬럼 인덱싱 이용 데이터 추출\n",
    "data1\n",
    "# 2. 데이터프레임을 파일로 저장\n",
=======
   "execution_count": 52,
   "metadata": {},
   "outputs": [],
   "source": [
    "#csv 파일로저장\n",
    "# 1.데이터프레임 준비\n",
    "data = pd.read_csv(\"examples/ex5.csv\")#원본에대한 데이터 프레임\n",
    "data\n",
    "data1 = data[['a','b','d']] #컬럼 인덱싱 이용 데이터 추출\n",
    "data1\n",
    "# 2.데이터프레임을 파일로 저장\n",
>>>>>>> a2fc80b917052043d36ef0a9ff96a01d0148ed5f
    "data1.to_csv(\"examples/out.csv\")"
   ]
  },
  {
   "cell_type": "code",
<<<<<<< HEAD
   "execution_count": null,
=======
   "execution_count": 10,
   "metadata": {
    "collapsed": true,
    "jupyter": {
     "outputs_hidden": true
    },
    "scrolled": true
   },
   "outputs": [
    {
     "name": "stdout",
     "output_type": "stream",
     "text": [
      ",a,b,d\n",
      "0,1,2,4\n",
      "1,5,6,8\n",
      "2,9,10,12\n"
     ]
    }
   ],
   "source": [
    "data1.to_csv(\"examples/out.csv\")\n",
    "!cat examples/out.csv"
   ]
  },
  {
   "cell_type": "code",
   "execution_count": 12,
>>>>>>> a2fc80b917052043d36ef0a9ff96a01d0148ed5f
   "metadata": {},
   "outputs": [],
   "source": [
    "data.to_csv(\"examples/out.csv\", sep=\"|\") # 구분자 사용\n",
<<<<<<< HEAD
    "data.to_csv(\"examples/out.csv\", na_rep = \"NULL\") #누락된 값을 원하는 값으로 지정\n",
=======
    "data1.to_csv(\"examples/out.csv\", na_rep = \"NULL\") #누락된 값을 원하는 값으로 지정\n",
>>>>>>> a2fc80b917052043d36ef0a9ff96a01d0148ed5f
    "data.to_csv(\"examples/out.csv\", index=False, header=False)\n",
    "data.to_csv(\"examples/out.csv\", index=False, columns=[\"a\", \"b\", \"c\"])\n"
   ]
  },
  {
   "cell_type": "markdown",
   "metadata": {},
   "source": [
    "# 2. JSON  데이터\n",
    "* JSON(JavaScript Object Notation)은 텍스트 데이터를 저장하고 전송하기 위한 일반적인 형식\n",
    "* 주로 웹에서 데이터를 전송하거나 저장하는 데 사용\n",
    "* JSON 파일은 일반적으로 텍스트 형식으로 작성되며, 사람과 기계 모두 이해하기 쉽다.\n",
    "* JSON 파일은 키-값 쌍의 모음으로 구성\n",
    "  * 키-값 쌍은 객체(object)라고도 하며, 중괄호 {} 로 묶는다.\n",
    "  * 배열(array)은 대괄호 [] 안에 값의 목록을 나열하여 정의."
   ]
  },
  {
   "cell_type": "markdown",
   "metadata": {},
   "source": [
    "## 2.1 JSON 데이터 읽기/저장\n",
<<<<<<< HEAD
    "    * pandas의 to_json() -> 데이터프레임을 JSON 파일로 저장\n",
=======
    "    * pandas의 to_json() -> 데이터프레임을 JSON 파일로 저\n",
>>>>>>> a2fc80b917052043d36ef0a9ff96a01d0148ed5f
    "    * read_json() -> JSON 파일에서 데이터프레임을 읽어오기"
   ]
  },
  {
   "cell_type": "markdown",
   "metadata": {},
   "source": [
    "### [예제]  pandas의 to_json() 및 read_json() 메서드를 사용하여 데이터프레임을 JSON 파일로 저장하고 읽기"
   ]
  },
  {
   "cell_type": "code",
<<<<<<< HEAD
   "execution_count": null,
   "metadata": {},
   "outputs": [],
   "source": [
    "import pandas as pd\n",
    "\n",
    "# 1. JSON 파일로 저장할 데이터프레임 생성\n",
=======
   "execution_count": 53,
   "metadata": {},
   "outputs": [
    {
     "name": "stdout",
     "output_type": "stream",
     "text": [
      "Original DataFrame:\n",
      "    name  age         city\n",
      "0   John   30     New York\n",
      "1  Alice   25  Los Angeles\n",
      "2    Bob   35      Chicago\n",
      "\n",
      "DataFrame from JSON file:\n",
      "    name  age         city\n",
      "0   John   30     New York\n",
      "1  Alice   25  Los Angeles\n",
      "2    Bob   35      Chicago\n"
     ]
    }
   ],
   "source": [
    "# 1. pandas 라이브러리 임포트\n",
    "\n",
    "import pandas as pd\n",
    "\n",
    "# 2. JSON 파일로 저장할 데이터프레임 생성\n",
>>>>>>> a2fc80b917052043d36ef0a9ff96a01d0148ed5f
    "data = {\n",
    "    \"name\": [\"John\", \"Alice\", \"Bob\"],\n",
    "    \"age\": [30, 25, 35],\n",
    "    \"city\": [\"New York\", \"Los Angeles\", \"Chicago\"]\n",
    "}\n",
    "df = pd.DataFrame(data)\n",
    "\n",
<<<<<<< HEAD
    "# 2. 데이터프레임을 JSON 파일로 저장\n",
    "df.to_json(\"examples/data.json\")\n",
    "\n",
    "# 3. JSON 파일을 읽어와 데이터프레임으로 변환\n",
=======
    "# 3. 데이터프레임을 JSON 파일로 저장\n",
    "df.to_json(\"examples/data.json\")\n",
    "\n",
    "# JSON 파일을 읽어와 데이터프레임으로 변환\n",
>>>>>>> a2fc80b917052043d36ef0a9ff96a01d0148ed5f
    "df_read = pd.read_json(\"examples/data.json\")\n",
    "\n",
    "print(\"Original DataFrame:\")\n",
    "print(df)\n",
    "\n",
    "print(\"\\nDataFrame from JSON file:\")\n",
<<<<<<< HEAD
    "print(df_read)"
=======
    "print(df_read)\n"
>>>>>>> a2fc80b917052043d36ef0a9ff96a01d0148ed5f
   ]
  },
  {
   "cell_type": "markdown",
   "metadata": {},
   "source": [
    "# 3. HTML 데이터\n",
    "## 3.1 웹 스크래핑 - read_html()"
   ]
  },
  {
   "attachments": {},
   "cell_type": "markdown",
   "metadata": {},
   "source": [
    "* read_html() - html 문서 내 테이블 데이터 읽어 테이블 구조의 모든 데이터를 데이터프레임으로 저장해서 반환\n",
    "    * https://www.fdic.gov/resources/resolutions/bank-failures/failed-bank-list/\n"
   ]
  },
  {
   "cell_type": "markdown",
   "metadata": {},
   "source": [
<<<<<<< HEAD
    "### [예제] 미국 예금 보험 공사에서 부도 은행을 보여주는 HTML 문서의 테이블 데이터 읽어오기\n",
=======
    "#### [예제] 미국 예금 보험 공사에서 부도 은행을 보여주는 HTML 문서의 테이블 데이터 읽어오기\n",
>>>>>>> a2fc80b917052043d36ef0a9ff96a01d0148ed5f
    "    * 연도별로 부도 은행의 개수을 계산하시오. "
   ]
  },
  {
   "cell_type": "code",
<<<<<<< HEAD
   "execution_count": null,
   "metadata": {
    "scrolled": true
   },
   "outputs": [],
   "source": [
    "import pandas as pd\n",
    "#tables = pd.read_html(\"examples/fdic_failed_bank_list.html\") \n",
    "#1. 정적웹페이지 데이터 읽어오기\n",
    "tables = pd.read_html(\"https://www.fdic.gov/resources/resolutions/bank-failures/failed-bank-list/\")\n",
    "type(tables)\n",
    "len(tables)\n",
    "failures = tables[0] #인덱싱\n",
    "failures\n",
    "type(failures)\n",
=======
   "execution_count": 59,
   "metadata": {
    "scrolled": true
   },
   "outputs": [
    {
     "name": "stdout",
     "output_type": "stream",
     "text": [
      "<class 'pandas.core.frame.DataFrame'>\n"
     ]
    },
    {
     "data": {
      "text/html": [
       "<div>\n",
       "<style scoped>\n",
       "    .dataframe tbody tr th:only-of-type {\n",
       "        vertical-align: middle;\n",
       "    }\n",
       "\n",
       "    .dataframe tbody tr th {\n",
       "        vertical-align: top;\n",
       "    }\n",
       "\n",
       "    .dataframe thead th {\n",
       "        text-align: right;\n",
       "    }\n",
       "</style>\n",
       "<table border=\"1\" class=\"dataframe\">\n",
       "  <thead>\n",
       "    <tr style=\"text-align: right;\">\n",
       "      <th></th>\n",
       "      <th>Bank NameBank</th>\n",
       "      <th>CityCity</th>\n",
       "      <th>StateSt</th>\n",
       "      <th>CertCert</th>\n",
       "      <th>Acquiring InstitutionAI</th>\n",
       "      <th>Closing DateClosing</th>\n",
       "      <th>FundFund</th>\n",
       "    </tr>\n",
       "  </thead>\n",
       "  <tbody>\n",
       "    <tr>\n",
       "      <th>0</th>\n",
       "      <td>Citizens Bank</td>\n",
       "      <td>Sac City</td>\n",
       "      <td>IA</td>\n",
       "      <td>8758</td>\n",
       "      <td>Iowa Trust &amp; Savings Bank</td>\n",
       "      <td>November 3, 2023</td>\n",
       "      <td>10545</td>\n",
       "    </tr>\n",
       "    <tr>\n",
       "      <th>1</th>\n",
       "      <td>Heartland Tri-State Bank</td>\n",
       "      <td>Elkhart</td>\n",
       "      <td>KS</td>\n",
       "      <td>25851</td>\n",
       "      <td>Dream First Bank, N.A.</td>\n",
       "      <td>July 28, 2023</td>\n",
       "      <td>10544</td>\n",
       "    </tr>\n",
       "    <tr>\n",
       "      <th>2</th>\n",
       "      <td>First Republic Bank</td>\n",
       "      <td>San Francisco</td>\n",
       "      <td>CA</td>\n",
       "      <td>59017</td>\n",
       "      <td>JPMorgan Chase Bank, N.A.</td>\n",
       "      <td>May 1, 2023</td>\n",
       "      <td>10543</td>\n",
       "    </tr>\n",
       "    <tr>\n",
       "      <th>3</th>\n",
       "      <td>Signature Bank</td>\n",
       "      <td>New York</td>\n",
       "      <td>NY</td>\n",
       "      <td>57053</td>\n",
       "      <td>Flagstar Bank, N.A.</td>\n",
       "      <td>March 12, 2023</td>\n",
       "      <td>10540</td>\n",
       "    </tr>\n",
       "    <tr>\n",
       "      <th>4</th>\n",
       "      <td>Silicon Valley Bank</td>\n",
       "      <td>Santa Clara</td>\n",
       "      <td>CA</td>\n",
       "      <td>24735</td>\n",
       "      <td>First–Citizens Bank &amp; Trust Company</td>\n",
       "      <td>March 10, 2023</td>\n",
       "      <td>10539</td>\n",
       "    </tr>\n",
       "  </tbody>\n",
       "</table>\n",
       "</div>"
      ],
      "text/plain": [
       "              Bank NameBank       CityCity StateSt  CertCert  \\\n",
       "0             Citizens Bank       Sac City      IA      8758   \n",
       "1  Heartland Tri-State Bank        Elkhart      KS     25851   \n",
       "2       First Republic Bank  San Francisco      CA     59017   \n",
       "3            Signature Bank       New York      NY     57053   \n",
       "4       Silicon Valley Bank    Santa Clara      CA     24735   \n",
       "\n",
       "               Acquiring InstitutionAI Closing DateClosing  FundFund  \n",
       "0            Iowa Trust & Savings Bank    November 3, 2023     10545  \n",
       "1               Dream First Bank, N.A.       July 28, 2023     10544  \n",
       "2            JPMorgan Chase Bank, N.A.         May 1, 2023     10543  \n",
       "3                  Flagstar Bank, N.A.      March 12, 2023     10540  \n",
       "4  First–Citizens Bank & Trust Company      March 10, 2023     10539  "
      ]
     },
     "execution_count": 59,
     "metadata": {},
     "output_type": "execute_result"
    }
   ],
   "source": [
    "import pandas as pd\n",
    "from pandas import Series, DataFrame\n",
    "\n",
    "#tables = pd.read_html(\"examples/fdic_failed_bank_list.html\") \n",
    "tables = pd.read_html(\"https://www.fdic.gov/resources/resolutions/bank-failures/failed-bank-list/\")\n",
    "type(tables)\n",
    "len(tables)\n",
    "failures = tables[0]  #인덱싱\n",
    "print(type(failures))\n",
>>>>>>> a2fc80b917052043d36ef0a9ff96a01d0148ed5f
    "failures.head()"
   ]
  },
  {
   "cell_type": "code",
<<<<<<< HEAD
   "execution_count": null,
   "metadata": {
    "scrolled": true
   },
   "outputs": [],
   "source": [
    "# 2. 연도별로 부도 은행의 개수 : DataFrame 가공\n",
    "# 1) 컬럼명 확인 /수정하기 /확인\n",
    "failures.columns\n",
    "failures.columns = ['BankNameBank', 'CityCity', 'StateSt', 'CertCert', 'AcquiringInstitutionAI', \\\n",
    "                    'ClosingDate', 'FundFund']\n",
=======
   "execution_count": 61,
   "metadata": {
    "scrolled": true
   },
   "outputs": [
    {
     "data": {
      "text/html": [
       "<div>\n",
       "<style scoped>\n",
       "    .dataframe tbody tr th:only-of-type {\n",
       "        vertical-align: middle;\n",
       "    }\n",
       "\n",
       "    .dataframe tbody tr th {\n",
       "        vertical-align: top;\n",
       "    }\n",
       "\n",
       "    .dataframe thead th {\n",
       "        text-align: right;\n",
       "    }\n",
       "</style>\n",
       "<table border=\"1\" class=\"dataframe\">\n",
       "  <thead>\n",
       "    <tr style=\"text-align: right;\">\n",
       "      <th></th>\n",
       "      <th>BankNameBank</th>\n",
       "      <th>CityCity</th>\n",
       "      <th>StateSt</th>\n",
       "      <th>CertCert</th>\n",
       "      <th>AcquiringInstitutionAI</th>\n",
       "      <th>ClosingDate</th>\n",
       "      <th>FundFund</th>\n",
       "    </tr>\n",
       "  </thead>\n",
       "  <tbody>\n",
       "    <tr>\n",
       "      <th>0</th>\n",
       "      <td>Citizens Bank</td>\n",
       "      <td>Sac City</td>\n",
       "      <td>IA</td>\n",
       "      <td>8758</td>\n",
       "      <td>Iowa Trust &amp; Savings Bank</td>\n",
       "      <td>November 3, 2023</td>\n",
       "      <td>10545</td>\n",
       "    </tr>\n",
       "    <tr>\n",
       "      <th>1</th>\n",
       "      <td>Heartland Tri-State Bank</td>\n",
       "      <td>Elkhart</td>\n",
       "      <td>KS</td>\n",
       "      <td>25851</td>\n",
       "      <td>Dream First Bank, N.A.</td>\n",
       "      <td>July 28, 2023</td>\n",
       "      <td>10544</td>\n",
       "    </tr>\n",
       "    <tr>\n",
       "      <th>2</th>\n",
       "      <td>First Republic Bank</td>\n",
       "      <td>San Francisco</td>\n",
       "      <td>CA</td>\n",
       "      <td>59017</td>\n",
       "      <td>JPMorgan Chase Bank, N.A.</td>\n",
       "      <td>May 1, 2023</td>\n",
       "      <td>10543</td>\n",
       "    </tr>\n",
       "  </tbody>\n",
       "</table>\n",
       "</div>"
      ],
      "text/plain": [
       "               BankNameBank       CityCity StateSt  CertCert  \\\n",
       "0             Citizens Bank       Sac City      IA      8758   \n",
       "1  Heartland Tri-State Bank        Elkhart      KS     25851   \n",
       "2       First Republic Bank  San Francisco      CA     59017   \n",
       "\n",
       "      AcquiringInstitutionAI       ClosingDate  FundFund  \n",
       "0  Iowa Trust & Savings Bank  November 3, 2023     10545  \n",
       "1     Dream First Bank, N.A.     July 28, 2023     10544  \n",
       "2  JPMorgan Chase Bank, N.A.       May 1, 2023     10543  "
      ]
     },
     "execution_count": 61,
     "metadata": {},
     "output_type": "execute_result"
    }
   ],
   "source": [
    "# 1) 컬럼명 확인 /수정하기\n",
    "failures.columns\n",
    "failures.columns = ['BankNameBank', 'CityCity', 'StateSt', 'CertCert',\n",
    "       'AcquiringInstitutionAI', 'ClosingDate', 'FundFund']\n",
>>>>>>> a2fc80b917052043d36ef0a9ff96a01d0148ed5f
    "failures.head(3)"
   ]
  },
  {
   "cell_type": "code",
<<<<<<< HEAD
   "execution_count": null,
   "metadata": {
    "scrolled": true
   },
   "outputs": [],
   "source": [
    "# 2) 데이터 변환 : 문자열 object -> datetime\n",
    "failures[\"ClosingDate\"] # 컬럼 인덱싱을 이용해서 시리즈로 추출\n",
    "close_timestamps = pd.to_datetime(failures[\"ClosingDate\"]) \n",
    "close_timestamps\n",
    "# 3) 년도별 데이터 개수 추출\n",
    "close_timestamps.dt.year\n",
=======
   "execution_count": 62,
   "metadata": {
    "scrolled": true
   },
   "outputs": [
    {
     "data": {
      "text/plain": [
       "ClosingDate\n",
       "2010    157\n",
       "2009    140\n",
       "2011     92\n",
       "2012     51\n",
       "2008     25\n",
       "2013     24\n",
       "2014     18\n",
       "2002     11\n",
       "2017      8\n",
       "2015      8\n",
       "2023      5\n",
       "2016      5\n",
       "2020      4\n",
       "2004      4\n",
       "2019      4\n",
       "2001      4\n",
       "2007      3\n",
       "2003      3\n",
       "2000      2\n",
       "Name: count, dtype: int64"
      ]
     },
     "execution_count": 62,
     "metadata": {},
     "output_type": "execute_result"
    }
   ],
   "source": [
    "# 2) 데이터 변환 : 문자열 -> datetime\n",
    "failures[\"ClosingDate\"]\n",
    "close_timestamps = pd.to_datetime(failures[\"ClosingDate\"]) #컬럼인덱싱을 이용해서 시리즈로 추출\n",
    "close_timestamps\n",
    "#3) 년도별 데이터 개수 추출\n",
>>>>>>> a2fc80b917052043d36ef0a9ff96a01d0148ed5f
    "close_timestamps.dt.year.value_counts()"
   ]
  },
  {
   "cell_type": "markdown",
   "metadata": {},
   "source": [
<<<<<<< HEAD
    "### [문제] : 네이버 주식 데이터을 스크래핑하여 csv파일로 저장하기 - read_html()\n",
=======
    "#### [문제] : 네이버 주식 데이터을 스크래핑하여 csv파일로 저장하기 - read_html()\n",
>>>>>>> a2fc80b917052043d36ef0a9ff96a01d0148ed5f
    "* https://www.naver.com/ -> 증권 -> 국내증시 -> 시가총액\n",
    "    * https://finance.naver.com/sise/sise_market_sum.naver"
   ]
  },
  {
   "cell_type": "code",
<<<<<<< HEAD
   "execution_count": null,
   "metadata": {},
   "outputs": [],
=======
   "execution_count": 63,
   "metadata": {
    "scrolled": true
   },
   "outputs": [
    {
     "name": "stdout",
     "output_type": "stream",
     "text": [
      "Collecting html5lib\n",
      "  Downloading html5lib-1.1-py2.py3-none-any.whl.metadata (16 kB)\n",
      "Requirement already satisfied: lxml in c:\\users\\shong\\appdata\\local\\programs\\python\\python312\\lib\\site-packages (5.1.0)\n",
      "Requirement already satisfied: six>=1.9 in c:\\users\\shong\\appdata\\local\\programs\\python\\python312\\lib\\site-packages (from html5lib) (1.16.0)\n",
      "Requirement already satisfied: webencodings in c:\\users\\shong\\appdata\\local\\programs\\python\\python312\\lib\\site-packages (from html5lib) (0.5.1)\n",
      "Downloading html5lib-1.1-py2.py3-none-any.whl (112 kB)\n",
      "   ---------------------------------------- 0.0/112.2 kB ? eta -:--:--\n",
      "   ---------- ----------------------------- 30.7/112.2 kB 1.4 MB/s eta 0:00:01\n",
      "   ---------------------------------------- 112.2/112.2 kB 1.6 MB/s eta 0:00:00\n",
      "Installing collected packages: html5lib\n",
      "Successfully installed html5lib-1.1\n"
     ]
    }
   ],
>>>>>>> a2fc80b917052043d36ef0a9ff96a01d0148ed5f
   "source": [
    "!pip install html5lib  lxml"
   ]
  },
  {
   "cell_type": "code",
<<<<<<< HEAD
   "execution_count": null,
   "metadata": {
    "scrolled": true
   },
   "outputs": [],
   "source": [
    "import pandas as pd\n",
    "# 1) 웹페이지 읽어오기 \n",
=======
   "execution_count": 67,
   "metadata": {
    "scrolled": true
   },
   "outputs": [
    {
     "name": "stderr",
     "output_type": "stream",
     "text": [
      "C:\\Users\\shong\\AppData\\Local\\Programs\\Python\\Python312\\Lib\\site-packages\\bs4\\__init__.py:228: UserWarning: You provided Unicode markup but also provided a value for from_encoding. Your from_encoding will be ignored.\n",
      "  warnings.warn(\"You provided Unicode markup but also provided a value for from_encoding. Your from_encoding will be ignored.\")\n"
     ]
    },
    {
     "name": "stdout",
     "output_type": "stream",
     "text": [
      "     0      1          2        3          4       5\n",
      "0  거래량   매수호가   거래대금(백만)  시가총액(억)    영업이익(억)  PER(배)\n",
      "1   시가   매도호가      전일거래량  자산총계(억)    영업이익증가율  ROE(%)\n",
      "2   고가  매수총잔량      외국인비율  부채총계(억)   당기순이익(억)  ROA(%)\n",
      "3   저가  매도총잔량  상장주식수(천주)   매출액(억)   주당순이익(원)  PBR(배)\n",
      "4  NaN    NaN        NaN   매출액증가율  보통주배당금(원)  유보율(%)\n",
      "       N       종목명       현재가     전일비     등락률     액면가       시가총액      상장주식수  \\\n",
      "0    NaN       NaN       NaN     NaN     NaN     NaN        NaN        NaN   \n",
      "1    1.0      삼성전자   85300.0  1200.0  +1.43%   100.0  5092225.0  5969783.0   \n",
      "2    2.0    SK하이닉스  188000.0  8800.0  +4.91%  5000.0  1368644.0   728002.0   \n",
      "3    3.0  LG에너지솔루션  379500.0  3500.0  +0.93%   500.0   888030.0   234000.0   \n",
      "4    4.0  삼성바이오로직스  817000.0  5000.0  +0.62%  2500.0   581492.0    71174.0   \n",
      "..   ...       ...       ...     ...     ...     ...        ...        ...   \n",
      "76  49.0      한화오션   25850.0  1900.0  -6.85%  5000.0    79194.0   306359.0   \n",
      "77  50.0      대한항공   21250.0   250.0  -1.16%  5000.0    78247.0   368221.0   \n",
      "78   NaN       NaN       NaN     NaN     NaN     NaN        NaN        NaN   \n",
      "79   NaN       NaN       NaN     NaN     NaN     NaN        NaN        NaN   \n",
      "80   NaN       NaN       NaN     NaN     NaN     NaN        NaN        NaN   \n",
      "\n",
      "    외국인비율         거래량    PER    ROE  토론실  \n",
      "0     NaN         NaN    NaN    NaN  NaN  \n",
      "1   55.61  24810196.0  40.03   4.15  NaN  \n",
      "2   54.63   4612601.0 -15.02 -15.61  NaN  \n",
      "3    4.92    174230.0  71.78   6.36  NaN  \n",
      "4   12.01     34503.0  67.80   9.12  NaN  \n",
      "..    ...         ...    ...    ...  ...  \n",
      "76  16.99   4540621.0  34.15   6.33  NaN  \n",
      "77  16.68    948266.0   7.40  11.46  NaN  \n",
      "78    NaN         NaN    NaN    NaN  NaN  \n",
      "79    NaN         NaN    NaN    NaN  NaN  \n",
      "80    NaN         NaN    NaN    NaN  NaN  \n",
      "\n",
      "[81 rows x 13 columns]\n",
      "   0   1   2   3   4   5   6   7   8   9   10  11\n",
      "0   1   2   3   4   5   6   7   8   9  10  다음  맨뒤\n"
     ]
    }
   ],
   "source": [
    "import pandas as pd\n",
    "\n",
>>>>>>> a2fc80b917052043d36ef0a9ff96a01d0148ed5f
    "# 'euc-kr' 또는 'cp949'로 인코딩 설정하여 페이지 읽기 시도\n",
    "df_list = pd.read_html(\"https://finance.naver.com/sise/sise_market_sum.naver\",encoding='cp949')\n",
    "df_list\n",
    "type(df_list)\n",
<<<<<<< HEAD
    "df_list[1] # 인덱싱\n",
    "# 데이터프레임 확인\n",
    "for df in df_list:\n",
    "    print(\"\\n\",df)\n"
=======
    "# 데이터프레임 확인\n",
    "for df in df_list:\n",
    "    print(df)\n"
>>>>>>> a2fc80b917052043d36ef0a9ff96a01d0148ed5f
   ]
  },
  {
   "cell_type": "code",
<<<<<<< HEAD
   "execution_count": null,
   "metadata": {},
   "outputs": [],
   "source": [
    "# 2) 데이터프레임 가공 : csv파일로 저장하기\n",
    "df = df_list[1]\n",
    "type(df)\n",
    "df.head(10)\n",
    "# (1) 데이터프레임 탐색 :  종목명 컬럼명으로 인덱싱 - NaN 처리\n",
    "df['종목명']\n",
    "# (2) 조건색인\n",
    "cond = df['종목명'].notnull() #불리언 시리즈\n",
    "data = df[cond] # 불리언색인을 이용하여 필터링\n",
    "data\n",
    "data.head(10)\n",
    "#3) 데이터프레임 저장\n",
    "data.to_csv(\"examples/Naver_kospi.csv\")"
=======
   "execution_count": 64,
   "metadata": {},
   "outputs": [
    {
     "name": "stdout",
     "output_type": "stream",
     "text": [
      "Requirement already satisfied: html5lib in c:\\users\\shong\\appdata\\local\\programs\\python\\python312\\lib\\site-packages (1.1)\n",
      "Requirement already satisfied: lxml in c:\\users\\shong\\appdata\\local\\programs\\python\\python312\\lib\\site-packages (5.1.0)\n",
      "Requirement already satisfied: six>=1.9 in c:\\users\\shong\\appdata\\local\\programs\\python\\python312\\lib\\site-packages (from html5lib) (1.16.0)\n",
      "Requirement already satisfied: webencodings in c:\\users\\shong\\appdata\\local\\programs\\python\\python312\\lib\\site-packages (from html5lib) (0.5.1)\n"
     ]
    }
   ],
   "source": [
    "!pip install html5lib lxml"
   ]
  },
  {
   "cell_type": "code",
   "execution_count": 71,
   "metadata": {},
   "outputs": [],
   "source": [
    "# 데이터프레임 기공\n",
    "df = df_list[1]\n",
    "df['종목명']\n",
    "#2) 조건색인\n",
    "data = df[df['종목명'].notnull()] # 조건색인\n",
    "data\n",
    "data.head(10)\n",
    "data.to_csv(\"Naver_kospi.csv\")"
>>>>>>> a2fc80b917052043d36ef0a9ff96a01d0148ed5f
   ]
  },
  {
   "cell_type": "markdown",
   "metadata": {},
   "source": [
    "## 3.2 웹 스크래핑 - requests"
   ]
  },
  {
   "cell_type": "markdown",
   "metadata": {},
   "source": [
    "* 웹 페이지 정보 가져오기 - requests 패키지 이용\n",
    "  * requests.get()\n",
    "  * requests.get().status_code\n",
    "  * requests.get().text\n"
   ]
  },
  {
   "cell_type": "markdown",
   "metadata": {},
   "source": [
    "### [예제] 패키지 requests을 활용하여 웹페이지 json 데이터을 데이터프레임으로 변환하기"
   ]
  },
  {
   "cell_type": "code",
<<<<<<< HEAD
   "execution_count": null,
   "metadata": {},
   "outputs": [],
   "source": [
    "!pip install requests"
   ]
  },
  {
   "cell_type": "code",
   "execution_count": null,
   "metadata": {},
   "outputs": [],
   "source": [
    "import requests\n",
    "import pandas as pd\n",
    "#1. 타겟 웹사이트 접속\n",
    "url = \"https://api.github.com/repos/pandas-dev/pandas/issues\"\n",
    "resp = requests.get(url)\n",
    "resp.status_code\n",
    "# 2. 웹페이지 콘텐츠 읽어오기\n",
    "resp.text # 문자열로 반환\n",
    "#pd.read_html(url)\n",
    "# 3. json 내용을 딕셔너리로 변환\n",
    "data = resp.json() # json의 내용을 딕셔너리 형태로 변환한 객체을 반환\n",
    "print(data[0].keys()) # 키 정보 출력\n",
    "# data[0]['number']\n",
    "\n",
    "#4. 딕셔너리를 DataFrame으로 생성하기\n",
=======
   "execution_count": 82,
   "metadata": {},
   "outputs": [
    {
     "name": "stdout",
     "output_type": "stream",
     "text": [
      "Requirement already satisfied: requests in c:\\users\\shong\\appdata\\local\\programs\\python\\python312\\lib\\site-packages (2.31.0)\n",
      "Requirement already satisfied: charset-normalizer<4,>=2 in c:\\users\\shong\\appdata\\local\\programs\\python\\python312\\lib\\site-packages (from requests) (3.3.2)\n",
      "Requirement already satisfied: idna<4,>=2.5 in c:\\users\\shong\\appdata\\local\\programs\\python\\python312\\lib\\site-packages (from requests) (3.6)\n",
      "Requirement already satisfied: urllib3<3,>=1.21.1 in c:\\users\\shong\\appdata\\local\\programs\\python\\python312\\lib\\site-packages (from requests) (2.2.1)\n",
      "Requirement already satisfied: certifi>=2017.4.17 in c:\\users\\shong\\appdata\\local\\programs\\python\\python312\\lib\\site-packages (from requests) (2024.2.2)\n",
      "<class 'dict'>\n"
     ]
    },
    {
     "ename": "KeyError",
     "evalue": "0",
     "output_type": "error",
     "traceback": [
      "\u001b[1;31m---------------------------------------------------------------------------\u001b[0m",
      "\u001b[1;31mKeyError\u001b[0m                                  Traceback (most recent call last)",
      "Cell \u001b[1;32mIn[82], line 14\u001b[0m\n\u001b[0;32m     12\u001b[0m data \u001b[38;5;241m=\u001b[39m resp\u001b[38;5;241m.\u001b[39mjson() \u001b[38;5;66;03m# json의 내용을 딕셔너리 형태로 변환한 객체을 반환\u001b[39;00m\n\u001b[0;32m     13\u001b[0m \u001b[38;5;28mprint\u001b[39m(\u001b[38;5;28mtype\u001b[39m(data))\n\u001b[1;32m---> 14\u001b[0m \u001b[43mdata\u001b[49m\u001b[43m[\u001b[49m\u001b[38;5;241;43m0\u001b[39;49m\u001b[43m]\u001b[49m[\u001b[38;5;124m'\u001b[39m\u001b[38;5;124mtitle\u001b[39m\u001b[38;5;124m'\u001b[39m]\n\u001b[0;32m     15\u001b[0m data[\u001b[38;5;241m0\u001b[39m]\u001b[38;5;241m.\u001b[39mkeys() \u001b[38;5;66;03m# 키 정보 출력\u001b[39;00m\n\u001b[0;32m     16\u001b[0m \u001b[38;5;66;03m# 5. 딕셔너리를 DataFrame으로 생성하기\u001b[39;00m\n",
      "\u001b[1;31mKeyError\u001b[0m: 0"
     ]
    }
   ],
   "source": [
    "# 1. requests 모듈 설치하기\n",
    "!pip install requests\n",
    "# 2. requests 모듈 임포트하기\n",
    "import requests\n",
    "#3. url 가져오기\n",
    "url = \"https://api.github.com/repos/pandas-dev/pandas/issues\"\n",
    "resp = requests.get(url)\n",
    "resp.status_code\n",
    "resp.text #문자열로반환\n",
    "#pd.read_html(url)\n",
    "# 4. json 내용을 딕셔너리로 변환\n",
    "data = resp.json() # json의 내용을 딕셔너리 형태로 변환한 객체을 반환\n",
    "print(type(data))\n",
    "data[0]['title']\n",
    "data[0].keys() # 키 정보 출력\n",
    "# 5. 딕셔너리를 DataFrame으로 생성하기\n",
>>>>>>> a2fc80b917052043d36ef0a9ff96a01d0148ed5f
    "issues = pd.DataFrame(data, columns=[\"number\", \"title\",\n",
    "                                      \"labels\", \"state\"])\n",
    "issues.head()\n"
   ]
  },
  {
   "cell_type": "markdown",
   "metadata": {},
   "source": [
    "### [문제] 네이버 블로그의 키워드 관련 검색 결과 텍스트 데이터 가져오기 - requests 모듈 사용시 한계점"
   ]
  },
  {
   "cell_type": "code",
<<<<<<< HEAD
   "execution_count": null,
   "metadata": {
    "scrolled": true
   },
   "outputs": [],
=======
   "execution_count": 84,
   "metadata": {
    "scrolled": true
   },
   "outputs": [
    {
     "name": "stdout",
     "output_type": "stream",
     "text": [
      "200\n",
      "https://section.blog.naver.com/Search/Post.naver?pageNo=1&rangeType=ALL&orderBy=sim&keyword=%ED%8C%8C%EC%9D%B4%EC%8D%AC\n",
      "\n",
      "\n",
      "\n",
      "\n",
      "<!DOCTYPE html>\n",
      "<html lang=\"ko\">\n",
      "<head>\n",
      "    <meta http-equiv=\"X-UA-Compatible\" content=\"IE=edge\">\n",
      "    <base href=\"/home\" />\n",
      "    <meta name=\"robots\" content=\"noindex,nofollow\"/>\n",
      "    <meta name=\"referrer\" content=\"always\"/>\n",
      "    <meta name=\"format-detection\" content=\"telephone=no\">\n",
      "    <link rel=\"shortcut icon\" type=\"image/x-icon\" href=\"https://section.blog.naver.com/favicon.ico?3\"/>\n",
      "    \n",
      "\n",
      "\n",
      "\n",
      "\n",
      " \n",
      "\n",
      "\t\n",
      "\t\t<meta property=\"og:title\" content=\"파이썬 : 네이버 블로그\"/>\n",
      "\n",
      "\t\t\n",
      "\t\t\t\n",
      "\t\t\t\n",
      "\t\t\t<meta property=\"og:image\" content=\"https://blogimgs.pstatic.net/nblog/mylog/post/og_default_image_160610.png\"/>\n",
      "\t\t\t\n",
      "\t\t\n",
      "        <meta property=\"og:description\" content=\"당신의 모든 기록을 담는 공간\"/>\n",
      "\n",
      "\t\t\n",
      "\t\n",
      "\t\n",
      "\n",
      "<meta property=\"me:feed:serviceId\" content=\"blog\" />\n",
      "\n",
      "    <meta http-equiv=\"Content-Type\" content=\"text/html; charset=UTF-8\" />\n",
      "    <title>네이버 블로그</title>\n",
      "\n",
      "    <link rel=\"stylesheet\" type=\"text/css\" href=\"https://ssl.pstatic.net/t.static.blog/section/versioning/section_ngapp-246879052_https.css\" charset=\"UTF-8\" />\n",
      "\n",
      "    <script>\n",
      "        var angularConfig = {\"isDev\":false,\"jeagleEyeDebug\":false};\n",
      "        var readOnlyStatus = {\"isReadOnly\":false,\"startTime\":null,\"endTime\":null,\"reason\":null,\"usageTip\":null,\"maintenanceType\":null,\"maintenancePeriod\":null};\n",
      "        var urlMap = {\"item2\":\"https://item2.naver.com\",\"likeit\":\"https://blog.like.naver.com\",\"admin\":\"https://admin.blog.naver.com\",\"section\":\"https://section.blog.naver.com\",\"blog\":\"https://blog.naver.com\",\"mkt_p1\":\"https://mkt.naver.com/p1/\",\"kin\":\"http://kin.naver.com\",\"search\":\"http://search.naver.com\",\"apigw_like\":\"https://apis.naver.com/blogserver/like\",\"guestbook\":\"https://guestbook.blog.naver.com\",\"beyond_analytics\":\"https://scv-blog.io.naver.com/jackpotlog/v1/logs\",\"sspndpsdk\":\"https://ssl.pstatic.net/tveta/libs/ndpsdk/prod\",\"gn_stndard\":\"https://ssl.pstatic.net/static.gn/templates/gnb_utf8.nhn\",\"sellerBlog\":\"https://seller.blog.naver.com\",\"lcs\":\"lcs.naver.com\",\"ad\":\"https://siape.veta.naver.com\",\"id_secret\":\"https://nid.naver.com\",\"likeitcdn\":\"https://static-like.pstatic.net\",\"nmobile\":\"https://m.blog.naver.com\",\"spi\":\"https://ssl.pstatic.net/spi\",\"blog_proxy\":\"https://proxy.blog.naver.com\",\"blogprofilethumb\":\"https://blogpfthumb-phinf.pstatic.net\",\"help\":\"http://help.naver.com\",\"uns\":\"https://notice.naver.com\",\"thumbnail2\":\"https://blogthumb.pstatic.net\"};\n",
      "        var isLikeUseProxy = false;\n",
      "        var g_ssc = \"blog.mainv2\";\n",
      "        var isSocialUseProxy = false;\n",
      "        var isGladSdkNew = false;\n",
      "\n",
      "        // 팝업을 통해서 부모창을 제어하기 위해 필요\n",
      "        // document.domain = 'naver.com';\n",
      "        //튜토리얼 css 가 제대로 동작안해서 필요\n",
      "        var doc = document.documentElement;\n",
      "        doc.setAttribute('data-useragent',navigator.userAgent);\n",
      "        var uploadURL = \"https://upload.blog.naver.com\";\n",
      "        var userNaverId = \"\";\n",
      "    </script>\n",
      "    <script type=\"text/javascript\" src=\"https://ssl.pstatic.net/t.static.blog/section/versioning//common/js/lottie.min-0e23629_https.js\"></script>\n",
      "    <script type=\"text/javascript\" src=\"https://ssl.pstatic.net/t.static.blog/section/versioning/NgAppBundle1-1693215087_https.js\" charset=\"UTF-8\"></script>\n",
      "    <script type=\"text/javascript\" src=\"https://ssl.pstatic.net/t.static.blog/section/versioning/NgAppBundle2-1927322194_https.js\" charset=\"UTF-8\"></script>\n",
      "    <script type=\"text/javascript\" src=\"https://ssl.pstatic.net/t.static.blog/section/versioning/NgTemplate-471391437_https.js\" charset=\"UTF-8\"></script>\n",
      "    \n",
      "</head>\n",
      "<template id=\"blogDomainRegisterLayerTemplate\">\n",
      "    <div id=\"sellerAlertLayer\" class=\"SetBlogId_layer_wrap\" style=\"display:none;\">\n",
      "        <div class=\"caution_alert_content\">\n",
      "            <i class=\"icon\"></i>\n",
      "            <div class=\"text_area\">\n",
      "                <strong class=\"title\">블로그 주소 변경 불가 안내</strong>\n",
      "                <p class=\"desc\">\n",
      "                    블로그 마켓 판매자의 이력 관리를 위해<br>\n",
      "                    블로그 주소 변경이 불가합니다.\n",
      "                </p>\n",
      "            </div>\n",
      "            <div class=\"btn_area\">\n",
      "                <a href=\"https://help.naver.com/alias/blog/blogmarket/blogmarket14.naver\" class=\"btn\">자세히 보기</a>\n",
      "                <button id=\"sellerAlertLayerClose\" type=\"button\" class=\"close_btn\">레이어 닫기</button>\n",
      "            </div>\n",
      "        </div>\n",
      "    </div>\n",
      "\n",
      "    <div id=\"blogDomainRegisterSuggestionLayer\" class=\"SetBlogId_layer_wrap IntroBlogId_layer\" style=\"display: none;\">\n",
      "        <div class=\"BlogId_content\">\n",
      "            <div class=\"img_area\">\n",
      "                <img src=\"https://ssl.pstatic.net/static/blog/img_ani_blogid1.gif\" width=\"335\" height=\"260\" class=\"img\" alt=\"블로그 아이디가 필요해요!\">\n",
      "            </div>\n",
      "            <div class=\"text_area\">\n",
      "                <strong class=\"title\">블로그 아이디가 필요해요!</strong>\n",
      "                <p class=\"desc\">\n",
      "                    블로그에서 진짜 나를 기록하고<br>\n",
      "                    다양한 이웃과 소식을 만나보세요. 지금 시작해볼까요?\n",
      "                </p>\n",
      "            </div>\n",
      "            <div class=\"btn_area\">\n",
      "                <a id=\"blogDomainRegisterStartBtn\" onclick=\"nclk_v2(this, 'bsu.popupok', '', '');return false;\" class=\"btn\">블로그 아이디 만들기</a>\n",
      "                <a id=\"blogDomainRegisterSuggestionLayerCloseBtn\" onclick=\"nclk_v2(this, 'bsu.popupclose', '', '');return false;\" class=\"close_btn\">블로그 아이디 만들기 레이어 닫기</a>\n",
      "            </div>\n",
      "        </div>\n",
      "    </div>\n",
      "\n",
      "    <div id=\"domainInputLayer\" class=\"SetBlogId_layer_wrap\" style=\"display: none;\">\n",
      "        <div class=\"BlogId_content\">\n",
      "            <h1 id=\"blogDomainTitle\" class=\"title_h1\"></h1>\n",
      "            <div class=\"domain\">\n",
      "                blog.naver.com/<strong id=\"domainIdInfo\" class=\"blogid\"></strong>\n",
      "            </div>\n",
      "            <!-- 오류 .error -->\n",
      "            <!-- 인증 성공 .success -->\n",
      "            <div id=\"blogidMessageWrap\" class=\"input_blogid_area\">\n",
      "                <input id=\"domainInput\" class=\"input_text\" type=\"text\" placeholder=\"블로그아이디\" maxlength=\"20\" autocomplete=\"off\">\n",
      "                <div class=\"right_area\">\n",
      "                    <button id=\"clearDomainInputBtn\" type=\"button\" class=\"del_btn\" style=\"display: none\">\n",
      "                        입력 내용 삭제\n",
      "                    </button>\n",
      "                    <!-- 아이디 입력중 -->\n",
      "                    <i class=\"loading_icon\" id=\"loading_icon\"></i>\n",
      "                </div>\n",
      "                <div id=\"domainMessage\" class=\"message\"></div>\n",
      "            </div>\n",
      "            <div id= \"recommendDomainIdDiv\" class=\"recommend_blogid\">\n",
      "                <ul id=\"recommendDomainId\" class=\"list\">\n",
      "                </ul>\n",
      "            </div>\n",
      "            <div class=\"desc_area\">\n",
      "                <ul class=\"list\">\n",
      "                    <li class=\"item\">\n",
      "                        설정한 아이디는 나중에 변경할 수 없으니 신중하게 입력해주세요.\n",
      "                    </li>\n",
      "                    <li class=\"item blogDomainChangeOnlyViewDesc\">\n",
      "                        변경 전 공유된 블로그/글/클립 링크는 연결이 끊길 수 있습니다.\n",
      "                    </li>\n",
      "                    <li class=\"item\">\n",
      "                        <strong class=\"strong\">네이버 아이디 또는 개인정보가 포함된 문자 사용</strong>은 피해주세요.\n",
      "                    </li>\n",
      "                    <li class=\"item blogDomainChangeOnlyViewDesc\">\n",
      "                        블로그 도움말에서 아이디 변경 유의사항을 확인해보세요.\n",
      "                    </li>\n",
      "                </ul>\n",
      "            </div>\n",
      "            <div class=\"btn_area\">\n",
      "                <button id=\"blogDomainRegisterCancelBtn\" type=\"button\" class=\"cancel_btn\">\n",
      "                    나중에 할게요\n",
      "                </button>\n",
      "                <input id=\"domainRegisterBtn\" type=\"submit\" value=\"확인\" class=\"submit_btn\" onclick=\"return false;\" disabled=\"\">\n",
      "            </div>\n",
      "        </div>\n",
      "    </div>\n",
      "\n",
      "    <div id=\"domainChangeConfirmLayer\" class=\"SetBlogId_layer_wrap SetBlogIdAlert_wrap\" style=\"display:none;\">\n",
      "        <div class=\"SetBlogIdAlert_content\">\n",
      "            <div class=\"blogid_area\">\n",
      "                <div id=\"changeConfirmDomainId\" class=\"blogid\"></div>\n",
      "                <div id=\"changeConfirmDomainURL\" class=\"domain\"></div>\n",
      "            </div>\n",
      "            <div class=\"text_area\">\n",
      "                <p class=\"text_small\">\n",
      "                    1. 이전 주소로 공유된 글은<br>\n",
      "                    3개월간 새로운 주소로 연결을 지원하며<br>\n",
      "                    이후 언제든 연결이 끊길 수 있습니다.\n",
      "                </p>\n",
      "                <p class=\"text_small\">\n",
      "                    2. 블로그 아이디는 한번 변경하면<br>\n",
      "                    <strong class=\"red_color\">다시 변경이 불가능</strong>합니다.\n",
      "                </p>\n",
      "                <p class=\"text_small\">\n",
      "                    <strong>변경하시겠습니까?</strong>\n",
      "                </p>\n",
      "            </div>\n",
      "            <div class=\"btn_area\">\n",
      "                <button id=\"changeConfirmCancleBtn\" type=\"button\" class=\"btn\">취소</button>\n",
      "                <button id=\"changeConfirmSubmitBtn\" type=\"button\" class=\"btn\">확인</button>\n",
      "            </div>\n",
      "        </div>\n",
      "    </div>\n",
      "\n",
      "    <div id=\"domainConfirmLayer\" class=\"SetBlogId_layer_wrap SetBlogIdAlert_wrap\" style=\"display:none;\">\n",
      "        <div class=\"SetBlogIdAlert_content\">\n",
      "            <div class=\"blogid_area\">\n",
      "                <div class=\"img_area\">\n",
      "                    <img src=\"https://ssl.pstatic.net/static/blog/img_ani_blogid2.gif\" width=\"208\" height=\"86\" alt=\"섬네일\">\n",
      "                </div>\n",
      "                <div id=\"confirmDomainId\" class=\"blogid\"></div>\n",
      "                <div id=\"confirmDomainURL\" class=\"domain\"></div>\n",
      "            </div>\n",
      "            <div class=\"text_area\">\n",
      "                <p class=\"text_red\">\n",
      "                    블로그 아이디는 한번 정하면\n",
      "                    <br>\n",
      "                    다시 변경이 불가능합니다.\n",
      "                </p>\n",
      "                <p class=\"text\">이 아이디로 블로그를 만들까요?</p>\n",
      "            </div>\n",
      "            <div class=\"btn_area\">\n",
      "                <button id=\"confirmCancleBtn\" type=\"button\" class=\"btn\">취소</button>\n",
      "                <button id=\"confirmSubmitBtn\" type=\"button\" class=\"btn\">확인</button>\n",
      "            </div>\n",
      "        </div>\n",
      "    </div>\n",
      "\n",
      "    <div id=\"domainWelcomeLayer\" class=\"SetBlogId_layer_wrap WelcomeSetBlogId_layer_wrap\" style=\"display:none\">\n",
      "        <div class=\"BlogId_content\">\n",
      "            <h1 class=\"title_h1\">\n",
      "                환영합니다!<br>\n",
      "                블로그 아이디가 만들어졌어요.\n",
      "            </h1>\n",
      "            <div class=\"img_area\">\n",
      "                <img src=\"https://ssl.pstatic.net/static/blog/img_ani_blogid3_2.gif\" class=\"img\" width=\"500\" height=\"281\" alt=\"섬네일\"/>\n",
      "            </div>\n",
      "            <div class=\"text_area\">\n",
      "                <div id=\"welcomeBlogId\" class=\"blogid\"></div>\n",
      "                <div id=\"welcomeBlogURL\" class=\"domain\">\n",
      "                    blog.naver.com/\n",
      "                </div>\n",
      "            </div>\n",
      "            <div class=\"btn_area\">\n",
      "                <a id=\"closeWelcomeLayer\" onclick=\"nclk_v2(this, 'bsu*i.start', '', '');return false;\" class=\"btn blue\">바로 시작하기</a>\n",
      "                <a id=\"nextStep\" onclick=\"nclk_v2(this, 'bsu*i.inform', '', '');return false;\" class=\"btn green\">추가정보 입력하기</a>\n",
      "            </div>\n",
      "        </div>\n",
      "    </div>\n",
      "\n",
      "    <div id=\"blogBasicInfoLayer\" class=\"SetBlogId_layer_wrap InputBlogId_layer_wrap\" style=\"display:none\">\n",
      "        <div class=\"BlogId_content\">\n",
      "            <h1 class=\"title_h1\">기본정보를 입력해주세요.</h1>\n",
      "            <p class=\"title_desc\">나중에 언제든지 변경할 수 있어요.</p>\n",
      "            <div class=\"profile_area\">\n",
      "                <div class=\"profile\">\n",
      "                    <div id=\"blogDomainProfileImage\" class=\"img\" title=\"\" style=\"background-image: url(https://ssl.pstatic.net/static/blog/profile/Profile_defaultIMG_A@2x.png);\"></div>\n",
      "                </div>\n",
      "                <button id=\"profileSetBtn\" onclick=\"nclk_v2(this, 'bsu*p.profile', '', '');return false;\"  type=\"button\" class=\"profile_set_btn\">프로필 이미지 설정</button>\n",
      "                <div id=\"profileSetLayer\" class=\"profile_set_layer\">\n",
      "                    <div class=\"top_btn_area\">\n",
      "                        <button id=\"profileImageClear\" onclick=\"nclk_v2(this, 'bsu*p.prfdelete', '', '');\" type=\"button\" class=\"del_btn\">지우기</button>\n",
      "                        <div class=\"file_btn\">\n",
      "                            <label class=\"label\" for=\"profile_upload_btn\">사진 업로드</label>\n",
      "                            <input type=\"file\" onclick=\"nclk_v2(this, 'bsu*p.prfupload', '', '');\" id=\"profile_upload_btn\" class=\"input_file\" accept=\".png, .jpg, .jpeg, .gif, .bmp\"/>\n",
      "                        </div>\n",
      "                    </div>\n",
      "                    <ul id=\"profilePresetList\" class=\"profile_list\">\n",
      "                        <li class=\"item\">\n",
      "                            <button type=\"button\" onclick=\"nclk_v2(this, 'bsu*p.prfop1', '', '');\" class=\"btn\"><img src=\"https://ssl.pstatic.net/static/blog/profile/img_profile_preset_01.png\" width=\"59\" height=\"59\" class=\"img\" alt=\"프리셋1\"  /></button>\n",
      "                        </li>\n",
      "                        <li class=\"item\">\n",
      "                            <button type=\"button\" onclick=\"nclk_v2(this, 'bsu*p.prfop2', '', '');\" class=\"btn\"><img src=\"https://ssl.pstatic.net/static/blog/profile/img_profile_preset_02.png\" width=\"59\" height=\"59\" class=\"img\" alt=\"프리셋2\"  /></button>\n",
      "                        </li>\n",
      "                        <li class=\"item\">\n",
      "                            <button type=\"button\" onclick=\"nclk_v2(this, 'bsu*p.prfop3', '', '');\" class=\"btn\"><img src=\"https://ssl.pstatic.net/static/blog/profile/img_profile_preset_03.png\" width=\"59\" height=\"59\" class=\"img\" alt=\"프리셋3\"  /></button>\n",
      "                        </li>\n",
      "                        <li class=\"item\">\n",
      "                            <button type=\"button\" onclick=\"nclk_v2(this, 'bsu*p.prfop4', '', '');\" class=\"btn\"><img src=\"https://ssl.pstatic.net/static/blog/profile/img_profile_preset_04.png\" width=\"59\" height=\"59\" class=\"img\" alt=\"프리셋4\"  /></button>\n",
      "                        </li>\n",
      "                        <li class=\"item\">\n",
      "                            <button type=\"button\" onclick=\"nclk_v2(this, 'bsu*p.prfop5', '', '');\" class=\"btn\"><img src=\"https://ssl.pstatic.net/static/blog/profile/img_profile_preset_05.png\" width=\"59\" height=\"59\" class=\"img\" alt=\"프리셋5\"  /></button>\n",
      "                        </li>\n",
      "                        <li class=\"item\">\n",
      "                            <button type=\"button\" onclick=\"nclk_v2(this, 'bsu*p.prfop6', '', '');\" class=\"btn\"><img src=\"https://ssl.pstatic.net/static/blog/profile/img_profile_preset_06.png\" width=\"59\" height=\"59\" class=\"img\" alt=\"프리셋6\"  /></button>\n",
      "                        </li>\n",
      "                        <li class=\"item\">\n",
      "                            <button type=\"button\" onclick=\"nclk_v2(this, 'bsu*p.prfop7', '', '');\" class=\"btn\"><img src=\"https://ssl.pstatic.net/static/blog/profile/img_profile_preset_07.png\" width=\"59\" height=\"59\" class=\"img\" alt=\"프리셋7\" /></button>\n",
      "                        </li>\n",
      "                        <li class=\"item\">\n",
      "                            <button type=\"button\" onclick=\"nclk_v2(this, 'bsu*p.prfop8', '', '');\" class=\"btn\"><img src=\"https://ssl.pstatic.net/static/blog/profile/img_profile_preset_08.png\" width=\"59\" height=\"59\" class=\"img\" alt=\"프리셋8\" /></button>\n",
      "                        </li>\n",
      "                    </ul>\n",
      "                    <div class=\"btn_area\">\n",
      "                        <button id=\"proflieImageCancelBtn\" onclick=\"nclk_v2(this, 'bsu*p.prfccl', '', '');\" type=\"button\" class=\"cancel_btn\">취소</button>\n",
      "                        <button id=\"proflieImageSelectedBtn\" onclick=\"nclk_v2(this, 'bsu*p.prfok', '', '');\" type=\"button\" class=\"submit_btn\">적용</button>\n",
      "                    </div>\n",
      "                </div>\n",
      "            </div>\n",
      "            <div class=\"input_area\">\n",
      "                <div class=\"input\">\n",
      "                    <label class=\"label\" for=\"nickname\">별명</label>\n",
      "                    <input onclick=\"nclk_v2(this, 'bsu*p.nickname', '', '');\" type=\"text\" class=\"input_text\" id=\"nickname\" maxlength=\"20\" autocomplete=\"off\"/>\n",
      "                </div>\n",
      "                <div class=\"input\">\n",
      "                    <label class=\"label\" for=\"blogname\">블로그명</label>\n",
      "                    <input onclick=\"nclk_v2(this, 'bsu*p.blogname', '', '');\" type=\"text\" class=\"input_text\" id=\"blogname\" maxlength=\"50\" autocomplete=\"off\"/>\n",
      "                </div>\n",
      "                <div class=\"input\">\n",
      "                    <label class=\"label\">블로그 주제</label>\n",
      "                    <button id=\"showBlogThemeList\" onclick=\"nclk_v2(this, 'bsu*p.blogtopic', '', '');\" type=\"button\" class=\"theme_btn\">주제 없음</button>\n",
      "                    <div id=\"basicInfoBlogThemeList\" class=\"theme_list_layer\">\n",
      "                        <strong class=\"title\">엔터테인먼트·예술</strong>\n",
      "                        <ul class=\"list\">\n",
      "                            <li class=\"item\">\n",
      "                                <input type=\"radio\" onclick=\"nclk_v2(this, 'bsu*p.option1', '', '');\" class=\"input_radio\" name=\"theme\"  id=\"theme1\" data-directoryseq=\"5\">\n",
      "                                <label for=\"theme1\" class=\"label\">문학·책</label>\n",
      "                            </li>\n",
      "\n",
      "                            <li class=\"item\">\n",
      "                                <input type=\"radio\" onclick=\"nclk_v2(this, 'bsu*p.option2', '', '');\" class=\"input_radio\" name=\"theme\" id=\"theme2\" data-directoryseq=\"6\">\n",
      "                                <label for=\"theme2\" class=\"label\">영화</label>\n",
      "                            </li>\n",
      "\n",
      "                            <li class=\"item\">\n",
      "                                <input type=\"radio\" onclick=\"nclk_v2(this, 'bsu*p.option3', '', '');\" class=\"input_radio\" name=\"theme\" id=\"theme3\" data-directoryseq=\"8\">\n",
      "                                <label for=\"theme3\" class=\"label\">미술·디자인</label>\n",
      "                            </li>\n",
      "\n",
      "                            <li class=\"item\">\n",
      "                                <input type=\"radio\" onclick=\"nclk_v2(this, 'bsu*p.option4', '', '');\" class=\"input_radio\" name=\"theme\" id=\"theme4\" data-directoryseq=\"7\">\n",
      "                                <label for=\"theme4\" class=\"label\">공연·전시</label>\n",
      "                            </li>\n",
      "\n",
      "                            <li class=\"item\">\n",
      "                                <input type=\"radio\" onclick=\"nclk_v2(this, 'bsu*p.option5', '', '');\" class=\"input_radio\" name=\"theme\" id=\"theme5\" data-directoryseq=\"11\">\n",
      "                                <label for=\"theme5\" class=\"label\">음악</label>\n",
      "                            </li>\n",
      "\n",
      "                            <li class=\"item\">\n",
      "                                <input type=\"radio\" onclick=\"nclk_v2(this, 'bsu*p.option6', '', '');\" class=\"input_radio\" name=\"theme\" id=\"theme6\" data-directoryseq=\"9\">\n",
      "                                <label for=\"theme6\" class=\"label\">드라마</label>\n",
      "                            </li>\n",
      "\n",
      "                            <li class=\"item\">\n",
      "                                <input type=\"radio\" onclick=\"nclk_v2(this, 'bsu*p.option7', '', '');\" class=\"input_radio\" name=\"theme\" id=\"theme7\" data-directoryseq=\"12\">\n",
      "                                <label for=\"theme7\" class=\"label\">스타·연예인</label>\n",
      "                            </li>\n",
      "                            <li class=\"item\">\n",
      "                                <input type=\"radio\" onclick=\"nclk_v2(this, 'bsu*p.option8', '', '');\" class=\"input_radio\" name=\"theme\" id=\"theme8\" data-directoryseq=\"13\">\n",
      "                                <label for=\"theme8\" class=\"label\">만화·애니</label>\n",
      "                            </li>\n",
      "\n",
      "                            <li class=\"item\">\n",
      "                                <input type=\"radio\" onclick=\"nclk_v2(this, 'bsu*p.option9', '', '');\" class=\"input_radio\" name=\"theme\" id=\"theme9\" data-directoryseq=\"10\">\n",
      "                                <label for=\"theme9\" class=\"label\">방송</label>\n",
      "                            </li>\n",
      "                        </ul>\n",
      "                        <strong class=\"title\">생활·노하우·쇼핑</strong>\n",
      "                        <ul class=\"list\">\n",
      "                            <li class=\"item\">\n",
      "                                <input type=\"radio\" onclick=\"nclk_v2(this, 'bsu*p.option10', '', '');\" class=\"input_radio\" name=\"theme\" id=\"theme10\" data-directoryseq=\"14\">\n",
      "                                <label for=\"theme10\" class=\"label\">일상·생각</label>\n",
      "                            </li>\n",
      "\n",
      "                            <li class=\"item\">\n",
      "                                <input type=\"radio\" onclick=\"nclk_v2(this, 'bsu*p.option11', '', '');\" class=\"input_radio\" name=\"theme\" id=\"theme11\" data-directoryseq=\"15\">\n",
      "                                <label for=\"theme11\" class=\"label\">육아·결혼</label>\n",
      "                            </li>\n",
      "\n",
      "                            <li class=\"item\">\n",
      "                                <input type=\"radio\" onclick=\"nclk_v2(this, 'bsu*p.option12', '', '');\" class=\"input_radio\" name=\"theme\" id=\"theme12\" data-directoryseq=\"16\">\n",
      "                                <label for=\"theme12\" class=\"label\">반려동물</label>\n",
      "                            </li>\n",
      "\n",
      "                            <li class=\"item\">\n",
      "                                <input type=\"radio\" onclick=\"nclk_v2(this, 'bsu*p.option13', '', '');\" class=\"input_radio\" name=\"theme\" id=\"theme13\" data-directoryseq=\"17\">\n",
      "                                <label for=\"theme13\" class=\"label\">좋은글·이미지</label>\n",
      "                            </li>\n",
      "\n",
      "                            <li class=\"item\">\n",
      "                                <input type=\"radio\" onclick=\"nclk_v2(this, 'bsu*p.option14', '', '');\" class=\"input_radio\" name=\"theme\" id=\"theme14\" data-directoryseq=\"18\">\n",
      "                                <label for=\"theme14\" class=\"label\">패션·미용</label>\n",
      "                            </li>\n",
      "\n",
      "                            <li class=\"item\">\n",
      "                                <input type=\"radio\" onclick=\"nclk_v2(this, 'bsu*p.option15', '', '');\" class=\"input_radio\" name=\"theme\" id=\"theme15\" data-directoryseq=\"19\">\n",
      "                                <label for=\"theme15\" class=\"label\">인테리어·DIY</label>\n",
      "                            </li>\n",
      "\n",
      "                            <li class=\"item\">\n",
      "                                <input type=\"radio\" onclick=\"nclk_v2(this, 'bsu*p.option16', '', '');\" class=\"input_radio\" name=\"theme\" id=\"theme16\" data-directoryseq=\"20\">\n",
      "                                <label for=\"theme16\" class=\"label\">요리·레시피</label>\n",
      "                            </li>\n",
      "\n",
      "                            <li class=\"item\">\n",
      "                                <input type=\"radio\" onclick=\"nclk_v2(this, 'bsu*p.option17', '', '');\" class=\"input_radio\" name=\"theme\" id=\"theme17\" data-directoryseq=\"21\">\n",
      "                                <label for=\"theme17\" class=\"label\">상품리뷰</label>\n",
      "                            </li>\n",
      "\n",
      "                            <li class=\"item\">\n",
      "                                <input type=\"radio\" onclick=\"nclk_v2(this, 'bsu*p.option18', '', '');\" class=\"input_radio\" name=\"theme\" id=\"theme18\" data-directoryseq=\"36\">\n",
      "                                <label for=\"theme18\" class=\"label\">원예·재배</label>\n",
      "                            </li>\n",
      "                        </ul>\n",
      "                        <strong class=\"title\">취미·여가·여행</strong>\n",
      "                        <ul class=\"list\">\n",
      "                            <li class=\"item\">\n",
      "                                <input type=\"radio\" onclick=\"nclk_v2(this, 'bsu*p.option19', '', '');\" onclick=\"nclk_v2(this, 'bsu*p.option1', '', '');\" class=\"input_radio\" name=\"theme\" id=\"theme19\" data-directoryseq=\"22\">\n",
      "                                <label for=\"theme19\" class=\"label\">게임</label>\n",
      "                            </li>\n",
      "\n",
      "                            <li class=\"item\">\n",
      "                                <input type=\"radio\" onclick=\"nclk_v2(this, 'bsu*p.option20', '', '');\" class=\"input_radio\" name=\"theme\" id=\"theme20\" data-directoryseq=\"23\">\n",
      "                                <label for=\"theme20\" class=\"label\">스포츠</label>\n",
      "                            </li>\n",
      "\n",
      "                            <li class=\"item\">\n",
      "                                <input type=\"radio\" onclick=\"nclk_v2(this, 'bsu*p.option21', '', '');\" class=\"input_radio\" name=\"theme\" id=\"theme21\" data-directoryseq=\"24\">\n",
      "                                <label for=\"theme21\" class=\"label\">사진</label>\n",
      "                            </li>\n",
      "\n",
      "                            <li class=\"item\">\n",
      "                                <input type=\"radio\" onclick=\"nclk_v2(this, 'bsu*p.option22', '', '');\" class=\"input_radio\" name=\"theme\" id=\"theme22\" data-directoryseq=\"25\">\n",
      "                                <label for=\"theme22\" class=\"label\">자동차</label>\n",
      "                            </li>\n",
      "\n",
      "                            <li class=\"item\">\n",
      "                                <input type=\"radio\" onclick=\"nclk_v2(this, 'bsu*p.option23', '', '');\" class=\"input_radio\" name=\"theme\" id=\"theme23\" data-directoryseq=\"26\">\n",
      "                                <label for=\"theme23\" class=\"label\">취미</label>\n",
      "                            </li>\n",
      "\n",
      "                            <li class=\"item\">\n",
      "                                <input type=\"radio\" onclick=\"nclk_v2(this, 'bsu*p.option24', '', '');\" class=\"input_radio\" name=\"theme\" id=\"theme24\" data-directoryseq=\"27\">\n",
      "                                <label for=\"theme24\" class=\"label\">국내여행</label>\n",
      "                            </li>\n",
      "\n",
      "                            <li class=\"item\">\n",
      "                                <input type=\"radio\" onclick=\"nclk_v2(this, 'bsu*p.option25', '', '');\" class=\"input_radio\" name=\"theme\" id=\"theme25\" data-directoryseq=\"28\">\n",
      "                                <label for=\"theme25\" class=\"label\">세계여행</label>\n",
      "                            </li>\n",
      "\n",
      "                            <li class=\"item\">\n",
      "                                <input type=\"radio\" onclick=\"nclk_v2(this, 'bsu*p.option26', '', '');\" class=\"input_radio\" name=\"theme\" id=\"theme26\" data-directoryseq=\"29\">\n",
      "                                <label for=\"theme26\" class=\"label\">맛집</label>\n",
      "                            </li>\n",
      "                        </ul>\n",
      "                        <strong class=\"title\">지식·동향</strong>\n",
      "                        <ul class=\"list\">\n",
      "                            <li class=\"item\">\n",
      "                                <input type=\"radio\" onclick=\"nclk_v2(this, 'bsu*p.option27', '', '');\" class=\"input_radio\" name=\"theme\" id=\"theme27\" data-directoryseq=\"30\">\n",
      "                                <label for=\"theme27\" class=\"label\">IT·컴퓨터</label>\n",
      "                            </li>\n",
      "\n",
      "                            <li class=\"item\">\n",
      "                                <input type=\"radio\" onclick=\"nclk_v2(this, 'bsu*p.option28', '', '');\" class=\"input_radio\" name=\"theme\" id=\"theme28\" data-directoryseq=\"31\">\n",
      "                                <label for=\"theme28\" class=\"label\">사회·정치</label>\n",
      "                            </li>\n",
      "\n",
      "                            <li class=\"item\">\n",
      "                                <input type=\"radio\" onclick=\"nclk_v2(this, 'bsu*p.option29', '', '');\" class=\"input_radio\" name=\"theme\" id=\"theme29\" data-directoryseq=\"32\">\n",
      "                                <label for=\"theme29\" class=\"label\">건강·의학</label>\n",
      "                            </li>\n",
      "\n",
      "                            <li class=\"item\">\n",
      "                                <input type=\"radio\" onclick=\"nclk_v2(this, 'bsu*p.option30', '', '');\" class=\"input_radio\" name=\"theme\" id=\"theme30\" data-directoryseq=\"33\">\n",
      "                                <label for=\"theme30\" class=\"label\">비즈니스·경제</label>\n",
      "                            </li>\n",
      "\n",
      "                            <li class=\"item\">\n",
      "                                <input type=\"radio\" onclick=\"nclk_v2(this, 'bsu*p.option31', '', '');\" class=\"input_radio\" name=\"theme\" id=\"theme31\" data-directoryseq=\"35\">\n",
      "                                <label for=\"theme31\" class=\"label\">어학·외국어</label>\n",
      "                            </li>\n",
      "\n",
      "                            <li class=\"item\">\n",
      "                                <input type=\"radio\" onclick=\"nclk_v2(this, 'bsu*p.option32', '', '');\" class=\"input_radio\" name=\"theme\" id=\"theme32\" data-directoryseq=\"34\">\n",
      "                                <label for=\"theme32\" class=\"label\">교육·학문</label>\n",
      "                            </li>\n",
      "                        </ul>\n",
      "                        <strong class=\"title\">주제없음</strong>\n",
      "                        <ul class=\"list\">\n",
      "                            <li class=\"item\">\n",
      "                                <input type=\"radio\" onclick=\"nclk_v2(this, 'bsu*p.option33', '', '');\" class=\"input_radio\" name=\"theme\" id=\"theme33\" data-directoryseq=\"0\">\n",
      "                                <label for=\"theme33\" class=\"label\">주제 선택 보류</label>\n",
      "                            </li>\n",
      "                        </ul>\n",
      "                    </div>\n",
      "                </div>\n",
      "            </div>\n",
      "            <div class=\"btn_area\">\n",
      "                <button id=\"closeBlogBasicInfoLayer\" onclick=\"nclk_v2(this, 'bsu*p.ccl', '', '', event);\"  type=\"button\" class=\"cancel_btn\">\n",
      "                    나중에 할게요\n",
      "                </button>\n",
      "                <input id=\"submitBlogBasicInfo\" onClick=\"nclk_v2(this, 'bsu*p.next', '', ''); return false;\" type=\"submit\" value=\"다음\" class=\"submit_btn\" />\n",
      "            </div>\n",
      "            <div class=\"pagination_area\">\n",
      "                <i class=\"item is_active\">기본정보 입력</i>\n",
      "                <i class=\"item\">관심분야 선택</i>\n",
      "                <i class=\"item\">이웃 맺기</i>\n",
      "            </div>\n",
      "            <div class=\"back_btn_area\">\n",
      "                <button id=\"blogBasicInfoBackBtn\" onclick=\"nclk_v2(this, 'bsu*p.previous', '', '');\" type=\"button\" class=\"back_btn\">뒤로가기 버튼</button>\n",
      "            </div>\n",
      "        </div>\n",
      "    </div>\n",
      "\n",
      "    <div id=\"personalThemeLayer\" class=\"SetBlogId_layer_wrap InputBlogId_layer_wrap\" style=\"display:none\">\n",
      "        <div class=\"BlogId_content\">\n",
      "            <h1 class=\"title_h1\">관심분야를 선택해주세요.</h1>\n",
      "            <p class=\"title_desc\">선택한 분야의 글과 이웃을 추천받을 수 있어요.</p>\n",
      "            <div class=\"recommendation_list\">\n",
      "                <ul id=\"personalThemeList\" class=\"list\">\n",
      "\n",
      "                </ul>\n",
      "            </div>\n",
      "            <div class=\"btn_area\">\n",
      "                <button id=\"personalThemeSelectCancel\" onClick=\"nclk_v2(this, 'bsu*t.ccl', '', '');\" type=\"button\" class=\"cancel_btn\">\n",
      "                    나중에 할게요\n",
      "                </button>\n",
      "                <!-- 사용할 수 있는 아이디 입력시 disabled 삭제 -->\n",
      "                <input id=\"personalThemeSubmitBtn\" onclick=\"nclk_v2(this, 'bsu*t.next', '', ''); return false;\" type=\"submit\" value=\"다음\" class=\"submit_btn\" />\n",
      "            </div>\n",
      "            <div class=\"pagination_area\">\n",
      "                <i class=\"item\">기본정보 입력</i>\n",
      "                <i class=\"item is_active\">관심분야 선택</i>\n",
      "                <i class=\"item\">이웃 맺기</i>\n",
      "            </div>\n",
      "            <div class=\"back_btn_area\">\n",
      "                <button id=\"personalThemeBackBtn\" onclick=\"nclk_v2(this, 'bsu*t.previous', '', '');\" type=\"button\" class=\"back_btn\">뒤로가기 버튼</button>\n",
      "            </div>\n",
      "        </div>\n",
      "    </div>\n",
      "\n",
      "    <div id=\"recommendBlogLayer\" class=\"SetBlogId_layer_wrap InputBlogId_layer_wrap\" style=\"display:none;\">\n",
      "        <div class=\"BlogId_content\">\n",
      "            <h1 class=\"title_h1\">인기블로거와 이웃을 맺으세요.</h1>\n",
      "            <p class=\"title_desc\">이웃을 맺으면 이웃새글에서 글을 받아볼 수 있어요.</p>\n",
      "            <div class=\"bloger_list\">\n",
      "                <ul id=\"recommendBlogList\" class=\"list\">\n",
      "\n",
      "                </ul>\n",
      "                <div class=\"loading_wrap\" id=\"recommendBlogList_loading_wrap\">\n",
      "                    <div class=\"colordot_loading\">\n",
      "                        <i class=\"dot dot1\"></i>\n",
      "                        <i class=\"dot dot2\"></i>\n",
      "                        <i class=\"dot dot3\"></i>\n",
      "                        <i class=\"dot dot4\"></i>\n",
      "                        <i class=\"dot dot5\"></i>\n",
      "                        <i class=\"dot dot6\"></i>\n",
      "                    </div>\n",
      "                </div>\n",
      "            </div>\n",
      "            <div class=\"btn_area\">\n",
      "                <button id=\"startBlogBtn\" onclick=\"nclk_v2(this, 'bsu*r.start', '', '');\" type=\"button\" class=\"start_blog_btn\">\n",
      "                    블로그 시작하기\n",
      "                </button>\n",
      "            </div>\n",
      "            <div class=\"pagination_area\">\n",
      "                <i class=\"item\">기본정보 입력</i>\n",
      "                <i class=\"item\">관심분야 선택</i>\n",
      "                <i class=\"item is_active\">이웃 맺기</i>\n",
      "            </div>\n",
      "            <div class=\"back_btn_area\">\n",
      "                <button id=\"recommendBackBtn\" onclick=\"nclk_v2(this, 'bsu*r.previous', '', '');\" type=\"button\" class=\"back_btn\">뒤로가기 버튼</button>\n",
      "            </div>\n",
      "            </fieldset>\n",
      "            </form>\n",
      "        </div>\n",
      "    </div>\n",
      "\n",
      "\n",
      "    <div class=\"SetBlogId_layer_wrap\" style=\"display:none;\" id=\"alertLayer\">\n",
      "        <div class=\"ui_alert_content\">\n",
      "            <div class=\"text_area\">\n",
      "                <p class=\"desc\" id=\"alertMessage\"></p>\n",
      "            </div>\n",
      "            <div class=\"btn_area\">\n",
      "                <button type=\"button\" class=\"btn\" id=\"closeAlertLayer\">확인</button>\n",
      "            </div>\n",
      "        </div>\n",
      "    </div>\n",
      "\n",
      "    <div class=\"SetBlogId_layer_wrap\" style=\"display:none;\" id=\"alertLayeCallBack\">\n",
      "        <div class=\"ui_alert_content\">\n",
      "            <div class=\"text_area\">\n",
      "                <p class=\"desc\" id=\"alertMessageCallBack\"></p>\n",
      "            </div>\n",
      "            <div class=\"btn_area\">\n",
      "                <button type=\"button\" class=\"btn\" id=\"closeAlertLayerCallBack\">확인</button>\n",
      "            </div>\n",
      "        </div>\n",
      "    </div>\n",
      "</template>\n",
      "\n",
      "<template id=\"blogDomainRegisterPopularBlogTemplate\" style=\"display: none\">\n",
      "    <li class=\"item\">\n",
      "        <div class=\"bloger_item\">\n",
      "            <div class=\"bloger\">\n",
      "                <div class=\"profile_img\">\n",
      "                    <img data-src=\"profileImage\" width=\"56\" height=\"56\" class=\"img\" alt=\"프로필\" />\n",
      "                </div>\n",
      "                <div class=\"profile_text\">\n",
      "                    <strong data-content=\"nickName\" class=\"nickname\"></strong>\n",
      "                    <span data-content=\"blogName\" class=\"blogname\"></span>\n",
      "                    <span data-content=\"themeName\" class=\"category\"></span>\n",
      "                </div>\n",
      "            </div>\n",
      "            <div class=\"post_list_wrap\">\n",
      "                <ul data-innerHTML=\"postList\" class=\"list\">\n",
      "                </ul>\n",
      "            </div>\n",
      "            <button type=\"button\" class=\"add_buddy_btn _recommendBuddyAdd\" data-template-bind='[{\"attribute\": \"style\", \"value\": \"buddyAddDisplayStyle\"}, {\"attribute\": \"data-domainIdOrBlogId\", \"value\": \"domainIdOrBlogId\"}]'>이웃추가</button>\n",
      "            <button class=\"buddy _recommendBuddyRemove\" data-template-bind='[{\"attribute\": \"style\", \"value\": \"buddyDisplayStyle\"}, {\"attribute\": \"data-domainIdOrBlogId\", \"value\": \"domainIdOrBlogId\"}]'>이웃</button>\n",
      "        </div>\n",
      "    </li>\n",
      "</template>\n",
      "\n",
      "<template id=\"blogDomainRegisterPopularBlogPostTemplate\" style=\"display: none\">\n",
      "    <li class=\"item\">\n",
      "        <div class=\"img_area\">\n",
      "            <img data-src=\"mainThumbnailUrl\" class=\"img\" alt=\"섬네일\" />\n",
      "        </div>\n",
      "        <div class=\"text_area\">\n",
      "            <strong data-content=\"title\" class=\"title\"></strong>\n",
      "            <p class=\"desc\" data-content=\"briefContents\"></p>\n",
      "        </div>\n",
      "    </li>\n",
      "</template>\n",
      "\n",
      "<template id=\"personalThemeTemplate\" style=\"display: none\">\n",
      "    <li class=\"item\">\n",
      "        <div class=\"recommend_item\">\n",
      "            <input type=\"checkbox\" class=\"inputbox\" data-template-bind='[{\"attribute\": \"id\", \"value\": \"id\"}]'>\n",
      "            <label data-template-bind='[\n",
      "                {\"attribute\": \"for\", \"value\": \"id\"},\n",
      "                {\"attribute\": \"data-directorySeq\", \"value\": \"directorySeq\"},\n",
      "                {\"attribute\": \"data-clickCode\", \"value\": \"clickCode\"}]' data-content=\"themeName\" class=\"label\"></label>\n",
      "        </div>\n",
      "    </li>\n",
      "</template>\n",
      "<body bg-body-click>\n",
      "<ui-view autoscroll=\"true\"></ui-view>\n",
      "</body>\n",
      "<script>\n",
      "\n",
      "    if(userAgentUtil.isNotSupportBrowser()){\n",
      "        alert('IE8 이하 브라우저에서는 \"신규버전 보기\"를 제공하지 않습니다.\\n브라우저 업데이트를 부탁드립니다.');\n",
      "        location.href = '/SectionMain.nhn';\n",
      "    }else{\n",
      "        angular.element(document).ready(function() {\n",
      "            angular.bootstrap(document, ['bgApp'], {\n",
      "                strictDi: true\n",
      "            });\n",
      "        });\n",
      "    }\n",
      "\n",
      "</script>\n",
      "<script type=\"text/javascript\" src=\"https://notice.naver.com/static/js/iframeListener.js\"></script>\n",
      "\n",
      "\n",
      "    <script type=\"text/javascript\" charset=\"utf-8\" src=\"https://ssl.pstatic.net/tveta/libs/ssp/ssp.web.sdk.js\"></script>\n",
      "\n",
      "</html>\n",
      "\n"
     ]
    }
   ],
>>>>>>> a2fc80b917052043d36ef0a9ff96a01d0148ed5f
   "source": [
    "import requests\n",
    "url = \"https://section.blog.naver.com/Search/Post.naver?pageNo=1&rangeType=ALL&orderBy=sim&keyword=%ED%8C%8C%EC%9D%B4%EC%8D%AC\"\n",
    "\n",
<<<<<<< HEAD
    "# params = {\n",
    "#     'pageNo' : 1,\n",
    "#     'rangeType' : 'ALL',\n",
    "#     'orderBy' : 'sim',\n",
    "#     'keyword' : '파이썬'\n",
    "# }\n",
    "\n",
    "# response = requests.get('https://section.blog.naver.com/Search/Post.naver?', params=params)\n",
=======
    "params = {\n",
    "    'pageNo' : 1,\n",
    "    'rangeType' : 'ALL',\n",
    "    'orderBy' : 'sim',\n",
    "    'keyword' : '파이썬'\n",
    "}\n",
    "\n",
    "response = requests.get('https://section.blog.naver.com/Search/Post.naver?', params=params)\n",
>>>>>>> a2fc80b917052043d36ef0a9ff96a01d0148ed5f
    "response = requests.get(url)\n",
    "print(response.status_code) # HTTP GET 방식으로 URL 파라미터 값 전달\n",
    "print(response.url) # status_code 는 응답코드\n",
    "print(response.text) # text에는 HTML 코드"
   ]
  },
  {
   "cell_type": "markdown",
   "metadata": {},
   "source": [
    "## 3.3 웹 스크래핑 - beautifulsoup\n",
    "* 웹 페이지 정보 추출하기 - beautifulsoup 사용법 \n",
    "  * soup.select_one()\n",
    "  * soup.select()\n",
    "  * get_text()\n",
<<<<<<< HEAD
    "  * get_attribute()\n",
=======
>>>>>>> a2fc80b917052043d36ef0a9ff96a01d0148ed5f
    "* 개발자 도구 사용"
   ]
  },
  {
   "cell_type": "markdown",
   "metadata": {},
   "source": [
    "### [문제] 네이버 지식iN의 검색어 관련 검색 결과 제목 가져오기"
   ]
  },
  {
   "cell_type": "code",
<<<<<<< HEAD
   "execution_count": null,
   "metadata": {},
   "outputs": [],
   "source": [
    "import requests\n",
    "from bs4 import BeautifulSoup\n",
    "#타겟 웹사이트 지정\n",
    "url = 'https://kin.naver.com/search/list.naver?query=%ED%8C%8C%EC%9D%B4%EC%8D%AC'\n",
    "\n",
    "# 웹페이지 로딩\n",
    "response = requests.get(url)\n",
    "\n",
    "if response.status_code == 200:    \n",
    "    # beautifulsoup 객체로 변환\n",
=======
   "execution_count": 90,
   "metadata": {},
   "outputs": [
    {
     "name": "stdout",
     "output_type": "stream",
     "text": [
      "비주얼스튜디오코드 파이썬 질문합니다,\n",
      "['https://kin.naver.com/qna/detail.naver?d1id=1&dirId=10402&docId=463767072&qb=7YyM7J207I2s&enc=utf8§ion=kin&rank=1&search_sort=0&spq=0']\n",
      "비주얼스튜디오코드 href파이썬href 질문합니다,\n",
      "맥북 href파이썬href idel\n",
      "파이썬href 모듈 미리 불러오기\n",
      "파이썬href과 자바\n",
      "파이썬href 질문...\n",
      "IDLE href파이썬href 단축키 알려주세요\n",
      "파이썬href강좌 독학할때 뭐보나요??\n",
      "파이썬href이 미래에 도움이 될까요?\n",
      "파이썬href독학할 때 어떻게 공부를... \n",
      "파이썬href강의 듣는데가 있나요?\n"
     ]
    }
   ],
   "source": [
    "import requests\n",
    "from bs4 import BeautifulSoup\n",
    "\n",
    "url = 'https://kin.naver.com/search/list.naver?query=%ED%8C%8C%EC%9D%B4%EC%8D%AC'\n",
    "#웹페이지 로딩\n",
    "response = requests.get(url)\n",
    "\n",
    "if response.status_code == 200:\n",
    "    html = response.text\n",
    "    # html -> beautifulsoup 객체로 변환\n",
>>>>>>> a2fc80b917052043d36ef0a9ff96a01d0148ed5f
    "    soup = BeautifulSoup(response.text, 'html.parser')\n",
    "\n",
    "    # 제목 한개 선택하여 텍스트 가져오기\n",
    "    title = soup.select_one('#s_content > div.section > ul > li:nth-child(1) > dl > dt > a')\n",
    "    # print(title)\n",
<<<<<<< HEAD
    "    # print(title.get_text())\n",
    "    # print(title.get_attribute_list(\"href\"))\n",
    "\n",
    "    # 제목 여러 개 선택하여 텍스트 리스트 가져오기\n",
    "    # s_content > div.section > ul > li:nth-child(2) > dl > dt > a\n",
    "    # s_content > div.section > ul > li:nth-child(3) > dl > dt > a\n",
    "    titles = soup.select('#s_content > div.section > ul > li:nth-child(n) > dl > dt > a')\n",
    "    # print(titles)\n",
    "    for title in titles:\n",
    "        print(\"\\n\",title.get_text())\n",
    "        print(\"\\n\",title.get_attribute_list(\"href\"))\n",
=======
    "    print(title.get_text())\n",
    "    print(title.get_attribute_list(\"href\"))\n",
    "\n",
    "    # 제목 여러 개 선택하여 텍스트 리스트 가져오기\n",
    "    titles = soup.select('#s_content > div.section > ul > li:nth-child(n) > dl > dt > a')\n",
    "    for title in titles:\n",
    "        print(title.get_text(\"href\"))\n",
>>>>>>> a2fc80b917052043d36ef0a9ff96a01d0148ed5f
    "else : \n",
    "    print(response.status_code)\n",
    "\n"
   ]
  },
  {
   "cell_type": "markdown",
   "metadata": {},
   "source": [
<<<<<<< HEAD
    "## 3.4 웹 스크래핑 - Selenium을 이용하여 크롤러( 6주차)\n",
    "*  https://selenium-python.readthedocs.io/\n",
=======
    "## 3.4 웹 스크래핑 - Selenium을 이용하여 사이트 자동화하기\n",
>>>>>>> a2fc80b917052043d36ef0a9ff96a01d0148ed5f
    "* selenium 사용법\n",
    "  1. 시스템의 OS 및 Chrome 브라우저의 버전 확인\n",
    "  2. Chrome 드라이버 다운로드 및 설치\n",
    "  3. 크롬 드라이버을 프로젝트 폴더에 저장 - 크롬 드라이버의 설치 경로\n",
    "     * from selenium import webdriver\n",
    "     * driver = webdriver.Chrome()\n",
    "* 동적으로 웹 페이지 정보 추출하기\n",
    "     * driver.get(\"웹주소\") \n",
    "  "
   ]
  },
  {
   "cell_type": "markdown",
   "metadata": {},
   "source": [
<<<<<<< HEAD
    "### [예제]Selenium을 이용하여 자동으로 타겟 웹 사이트 실행하기\n",
    "* 타겟 사이트 : https://www.google.com"
=======
    "### [예제] 패키지 Selenium을 활용하여 특정 웹사이트 자동으로 열기"
>>>>>>> a2fc80b917052043d36ef0a9ff96a01d0148ed5f
   ]
  },
  {
   "cell_type": "code",
<<<<<<< HEAD
   "execution_count": null,
   "metadata": {},
   "outputs": [],
=======
   "execution_count": 24,
   "metadata": {},
   "outputs": [
    {
     "name": "stdout",
     "output_type": "stream",
     "text": [
      "Requirement already satisfied: selenium in c:\\users\\user\\appdata\\local\\programs\\python\\python311\\lib\\site-packages (4.19.0)\n",
      "Requirement already satisfied: urllib3<3,>=1.26 in c:\\users\\user\\appdata\\local\\programs\\python\\python311\\lib\\site-packages (from urllib3[socks]<3,>=1.26->selenium) (2.2.1)\n",
      "Requirement already satisfied: trio~=0.17 in c:\\users\\user\\appdata\\local\\programs\\python\\python311\\lib\\site-packages (from selenium) (0.25.0)\n",
      "Requirement already satisfied: trio-websocket~=0.9 in c:\\users\\user\\appdata\\local\\programs\\python\\python311\\lib\\site-packages (from selenium) (0.11.1)\n",
      "Requirement already satisfied: certifi>=2021.10.8 in c:\\users\\user\\appdata\\local\\programs\\python\\python311\\lib\\site-packages (from selenium) (2024.2.2)\n",
      "Requirement already satisfied: typing_extensions>=4.9.0 in c:\\users\\user\\appdata\\local\\programs\\python\\python311\\lib\\site-packages (from selenium) (4.10.0)\n",
      "Requirement already satisfied: attrs>=23.2.0 in c:\\users\\user\\appdata\\local\\programs\\python\\python311\\lib\\site-packages (from trio~=0.17->selenium) (23.2.0)\n",
      "Requirement already satisfied: sortedcontainers in c:\\users\\user\\appdata\\local\\programs\\python\\python311\\lib\\site-packages (from trio~=0.17->selenium) (2.4.0)\n",
      "Requirement already satisfied: idna in c:\\users\\user\\appdata\\local\\programs\\python\\python311\\lib\\site-packages (from trio~=0.17->selenium) (3.6)\n",
      "Requirement already satisfied: outcome in c:\\users\\user\\appdata\\local\\programs\\python\\python311\\lib\\site-packages (from trio~=0.17->selenium) (1.3.0.post0)\n",
      "Requirement already satisfied: sniffio>=1.3.0 in c:\\users\\user\\appdata\\local\\programs\\python\\python311\\lib\\site-packages (from trio~=0.17->selenium) (1.3.1)\n",
      "Requirement already satisfied: cffi>=1.14 in c:\\users\\user\\appdata\\local\\programs\\python\\python311\\lib\\site-packages (from trio~=0.17->selenium) (1.16.0)\n",
      "Requirement already satisfied: wsproto>=0.14 in c:\\users\\user\\appdata\\local\\programs\\python\\python311\\lib\\site-packages (from trio-websocket~=0.9->selenium) (1.2.0)\n",
      "Requirement already satisfied: pysocks!=1.5.7,<2.0,>=1.5.6 in c:\\users\\user\\appdata\\local\\programs\\python\\python311\\lib\\site-packages (from urllib3[socks]<3,>=1.26->selenium) (1.7.1)\n",
      "Requirement already satisfied: pycparser in c:\\users\\user\\appdata\\local\\programs\\python\\python311\\lib\\site-packages (from cffi>=1.14->trio~=0.17->selenium) (2.21)\n",
      "Requirement already satisfied: h11<1,>=0.9.0 in c:\\users\\user\\appdata\\local\\programs\\python\\python311\\lib\\site-packages (from wsproto>=0.14->trio-websocket~=0.9->selenium) (0.14.0)\n"
     ]
    }
   ],
>>>>>>> a2fc80b917052043d36ef0a9ff96a01d0148ed5f
   "source": [
    "!pip install selenium"
   ]
  },
  {
   "cell_type": "code",
<<<<<<< HEAD
   "execution_count": 4,
=======
   "execution_count": 26,
>>>>>>> a2fc80b917052043d36ef0a9ff96a01d0148ed5f
   "metadata": {},
   "outputs": [],
   "source": [
    "from selenium import webdriver\n",
<<<<<<< HEAD
    "# 1. Chrome 브라우저 실행\n",
    "driver = webdriver.Chrome() # 크롬 드라이버 실행파일의 위치 - 작업디렉터리\n",
    "# 2. 타겟 웹페이지 로딩\n",
    "url = \"https://www.google.com\"\n",
    "driver.get(url)\n",
    "# 3. 타겟 브라우저 종료\n",
    "driver.quit()"
=======
    "# Chrome 브라우저 실행\n",
    "driver = webdriver.Chrome()\n",
    "# 웹페이지 열기\n",
    "url = \"https://www.google.com\"\n",
    "driver.get(url)"
>>>>>>> a2fc80b917052043d36ef0a9ff96a01d0148ed5f
   ]
  },
  {
   "cell_type": "markdown",
   "metadata": {},
   "source": [
<<<<<<< HEAD
    "### [문제] Selenium을 활용하여 타겟 웹사이트 자동으로 열기/ 쿼리로 검색하기/ 검색 결과의 제목과 url을 자동으로 추출하여 저장하는 web crawler 만들기\n",
    "    * 사전 준비 작업 : 타겟 웹사이트을 구글 개발도구을 이용하여 탐색하기\n",
    "    * 타겟 사이트: https://www.google.com\n",
    "    * from selenium.webdriver.common.by import By\n",
    "    * from selenium.webdriver.common.keys import Keys\n",
    "    * driver.find_element()\n",
    "    * send_keys()"
=======
    "### [문제] 패키지 Selenium을 활용하여 타겟 웹사이트 자동으로 열기/ 쿼리로 검색하기/ 검색 결과의 제목과 url을 자동으로 추출하여 저장하는 web crawler 만들기\n",
    "    * 사전 준비 작업 : 타겟 웹사이트을 구글 개발도구을 이용하여 탐색하기"
>>>>>>> a2fc80b917052043d36ef0a9ff96a01d0148ed5f
   ]
  },
  {
   "cell_type": "code",
<<<<<<< HEAD
   "execution_count": 6,
   "metadata": {},
   "outputs": [
    {
     "name": "stdin",
     "output_type": "stream",
     "text": [
      "검색키 입력:  총선 결과\n"
     ]
    },
    {
     "name": "stdout",
     "output_type": "stream",
     "text": [
      "제목: 22대 총선 개표 결과 보기\n",
      "URL: https://www.bbc.com/korean/articles/c06045ln53lo\n",
      "제목: [총선] 민주당 170석 이상 압승·국민의힘 참패 전망\n",
      "URL: https://news.kbs.co.kr/news/view.do?ncd=7936696\n",
      "제목: 제22대 국회의원 선거/정당별 결과/국민의힘\n",
      "URL: https://namu.wiki/w/%EC%A0%9C22%EB%8C%80%20%EA%B5%AD%ED%9A%8C%EC%9D%98%EC%9B%90%20%EC%84%A0%EA%B1%B0/%EC%A0%95%EB%8B%B9%EB%B3%84%20%EA%B2%B0%EA%B3%BC/%EA%B5%AD%EB%AF%BC%EC%9D%98%ED%9E%98\n",
      "제목: 22대 총선 결과 보건의료인 후보 다수 당선\n",
      "URL: http://www.bosa.co.kr/news/articleView.html?idxno=2220380\n",
      "제목: 22대 총선 결과…민주 '압도적 과반'·與 '3연패' | 뉴스A 라이브\n",
      "URL: https://www.youtube.com/watch?v=AGFg1n3QqNM\n",
      "제목: [다시보기] 22대 총선 결과…민주 '압도적 과반'·與 '3연패' 2024 ...\n",
      "URL: https://www.youtube.com/watch?v=oL969Le0F40\n",
      "제목: [그래픽] 4.10 총선 서울지역 당선결과\n",
      "URL: https://www.newspim.com/news/view/20240411000149\n",
      "제목: [총선] 관심 초집중 지역구 결과는?…계양을·동작을·종로·용산\n",
      "URL: https://news.kbs.co.kr/news/view.do?ncd=7936630\n"
=======
   "execution_count": 27,
   "metadata": {
    "collapsed": true,
    "jupyter": {
     "outputs_hidden": true
    }
   },
   "outputs": [
    {
     "name": "stdout",
     "output_type": "stream",
     "text": [
      "제목: OpenAI\n",
      "URL: https://openai.com/\n",
      "\n",
      "제목: OpenAI\n",
      "URL: https://openai.com/\n",
      "\n",
      "제목: OpenAI\n",
      "URL: https://namu.wiki/w/OpenAI\n",
      "\n",
      "제목: OpenAI\n",
      "URL: https://en.wikipedia.org/wiki/OpenAI\n",
      "\n",
      "제목: 오픈AI - 위키백과, 우리 모두의 백과사전\n",
      "URL: https://ko.wikipedia.org/wiki/%EC%98%A4%ED%94%88AI\n",
      "\n",
      "제목: OpenAI\n",
      "URL: https://twitter.com/OpenAI\n",
      "\n",
      "제목: OpenAI\n",
      "URL: https://www.youtube.com/@OpenAI\n",
      "\n",
      "제목: OpenAI\n",
      "URL: https://www.linkedin.com/company/openai\n",
      "\n",
      "제목: 설명\n",
      "URL: https://www.google.com/search?q=OpenAI&sca_esv=2677688350dc5440&sca_upv=1&source=hp&ei=zmENZuTsNPXt1e8PsZiD8AU&iflsig=ANes7DEAAAAAZg1v3jtof4ODacYG44nksvbGEv5iyLUp&udm=&ved=0ahUKEwjki7uNm6aFAxX1dvUHHTHMAF4Q4dUDCA8&uact=5&oq=OpenAI&gs_lp=Egdnd3Mtd2l6IgZPcGVuQUlIPFAAWBBwAHgAkAEAmAEAoAEAqgEAuAEDyAEA-AEBmAIAoAIAmAMAkgcAoAcA&sclient=gws-wiz#\n",
      "\n"
>>>>>>> a2fc80b917052043d36ef0a9ff96a01d0148ed5f
     ]
    }
   ],
   "source": [
    "from selenium import webdriver\n",
    "from selenium.webdriver.common.by import By\n",
    "from selenium.webdriver.common.keys import Keys\n",
<<<<<<< HEAD
    "import time # python 내장함수\n",
    "\n",
    "# 1. Chrome 브라우저 실행\n",
    "driver = webdriver.Chrome()\n",
    "\n",
    "# 2. 타겟 Google 홈페이지 열기\n",
    "url = \"https://www.google.com\"\n",
    "driver.get(url)\n",
    "\n",
    "# 3. 페이지가 완전히 로드될 때까지 2초 대기\n",
    "time.sleep(2)\n",
    "\n",
    "# 4. 검색 기능 - 검색창-> 검색어 입력 -> 엔터 키로 클릭 처리\n",
    "try:\n",
    "    # 4-1 검색 상자 요소 찾기\n",
    "    search_box = driver.find_element(By.NAME, \"q\") \n",
    "\n",
    "    # 4-2 검색어 입력\n",
    "    search_query = input(\"검색키 입력: \")\n",
    "    search_box.send_keys(search_query) \n",
    "\n",
    "    # 4-3 Enter 키를 눌러 검색 수행\n",
=======
    "import time\n",
    "\n",
    "# Chrome 브라우저 실행\n",
    "driver = webdriver.Chrome()\n",
    "\n",
    "# Google 홈페이지 열기\n",
    "url = \"https://www.google.com\"\n",
    "driver.get(url)\n",
    "\n",
    "# 페이지가 완전히 로드될 때까지 2초 대기\n",
    "time.sleep(5)\n",
    "\n",
    "try:\n",
    "    # 검색 상자 요소 찾기\n",
    "    search_box = driver.find_element(By.NAME, \"q\")\n",
    "\n",
    "    # 검색어 입력\n",
    "    search_query = \"OpenAI\"\n",
    "    search_box.send_keys(search_query)\n",
    "\n",
    "    # Enter 키를 눌러 검색 수행\n",
>>>>>>> a2fc80b917052043d36ef0a9ff96a01d0148ed5f
    "    search_box.send_keys(Keys.RETURN)\n",
    "\n",
    "    # 검색 결과가 로드될 때까지 5초 대기\n",
    "    time.sleep(5)\n",
    "\n",
<<<<<<< HEAD
    "    # 5. 검색에 관련된  결과 추출\n",
    "    search_results = driver.find_elements(By.CSS_SELECTOR, \"div.g\") \n",
    "    # print(search_results[0])\n",
    "        \n",
    "    # 5-1 첫 번째 제목과 링크 url 추출\n",
    "    # title = search_results[0].find_element(By.CSS_SELECTOR, \"h3\").text\n",
    "    # url = search_results[0].find_element(By.CSS_SELECTOR, \"a\").get_attribute(\"href\")\n",
    "    # print(\"제목:\", title)\n",
    "    # print(\"URL:\", url)\n",
    "\n",
    "    # # 5-2 검색 결과의 모든 제목과 링크 URL 인쇄\n",
=======
    "    # 검색 결과 추출\n",
    "    search_results = driver.find_elements(By.CSS_SELECTOR, \"div.g\")\n",
    "\n",
    "    # 검색 결과의 제목과 URL 인쇄\n",
>>>>>>> a2fc80b917052043d36ef0a9ff96a01d0148ed5f
    "    for result in search_results:\n",
    "        title = result.find_element(By.CSS_SELECTOR, \"h3\").text\n",
    "        url = result.find_element(By.CSS_SELECTOR, \"a\").get_attribute(\"href\")\n",
    "        print(\"제목:\", title)\n",
    "        print(\"URL:\", url)\n",
<<<<<<< HEAD
    "    \n",
    "except Exception as e:\n",
    "    print(\"오류가 발생:\", e)\n",
    "    exit()\n",
    "\n",
    "finally:\n",
    "    # 브라우저 창 닫기\n",
    "    driver.quit()"
   ]
  },
  {
   "cell_type": "markdown",
   "metadata": {},
   "source": [
    "### [문제] Selenium을 이용하여 네이버 증권 웹페이지 열기/ 삼성전자 일별 시세 HTML가져오기/ 10페이지 내역 테이블 데이터 찾기/검색 결과를 데이터프레임으로 변환/저장하기\n",
    "* 타겟 사이트: https://finance.naver.com/item/sise_day.naver?code=005930&page="
=======
    "        print()\n",
    "\n",
    "except Exception as e:\n",
    "    print(\"오류가 발생했습니다:\", e)\n",
    "\n",
    "finally:\n",
    "    # 브라우저 창 닫기\n",
    "    driver.quit()\n"
>>>>>>> a2fc80b917052043d36ef0a9ff96a01d0148ed5f
   ]
  },
  {
   "cell_type": "code",
<<<<<<< HEAD
   "execution_count": 7,
   "metadata": {},
   "outputs": [],
   "source": [
    "from selenium import webdriver\n",
    "from bs4 import BeautifulSoup\n",
    "import pandas as pd\n",
    "import time"
   ]
  },
  {
   "cell_type": "code",
   "execution_count": 16,
   "metadata": {},
   "outputs": [
    {
     "name": "stderr",
     "output_type": "stream",
     "text": [
      "C:\\Users\\user\\AppData\\Local\\Temp\\ipykernel_18020\\756399560.py:21: FutureWarning: Passing literal html to 'read_html' is deprecated and will be removed in a future version. To read from a literal string, wrap it in a 'StringIO' object.\n",
      "  df = pd.read_html(html) # 테이블 구조 -> 데이터프레임\n"
     ]
    },
    {
     "ename": "MaxRetryError",
     "evalue": "HTTPConnectionPool(host='localhost', port=7446): Max retries exceeded with url: /session/4e5c119e7a78b7ce772739b13ebfa238/url (Caused by NewConnectionError('<urllib3.connection.HTTPConnection object at 0x000002633FF02760>: Failed to establish a new connection: [WinError 10061] 대상 컴퓨터에서 연결을 거부했으므로 연결하지 못했습니다'))",
     "output_type": "error",
     "traceback": [
      "\u001b[1;31m---------------------------------------------------------------------------\u001b[0m",
      "\u001b[1;31mConnectionRefusedError\u001b[0m                    Traceback (most recent call last)",
      "File \u001b[1;32mC:\\Python39\\lib\\site-packages\\urllib3\\connection.py:198\u001b[0m, in \u001b[0;36mHTTPConnection._new_conn\u001b[1;34m(self)\u001b[0m\n\u001b[0;32m    197\u001b[0m \u001b[38;5;28;01mtry\u001b[39;00m:\n\u001b[1;32m--> 198\u001b[0m     sock \u001b[38;5;241m=\u001b[39m \u001b[43mconnection\u001b[49m\u001b[38;5;241;43m.\u001b[39;49m\u001b[43mcreate_connection\u001b[49m\u001b[43m(\u001b[49m\n\u001b[0;32m    199\u001b[0m \u001b[43m        \u001b[49m\u001b[43m(\u001b[49m\u001b[38;5;28;43mself\u001b[39;49m\u001b[38;5;241;43m.\u001b[39;49m\u001b[43m_dns_host\u001b[49m\u001b[43m,\u001b[49m\u001b[43m \u001b[49m\u001b[38;5;28;43mself\u001b[39;49m\u001b[38;5;241;43m.\u001b[39;49m\u001b[43mport\u001b[49m\u001b[43m)\u001b[49m\u001b[43m,\u001b[49m\n\u001b[0;32m    200\u001b[0m \u001b[43m        \u001b[49m\u001b[38;5;28;43mself\u001b[39;49m\u001b[38;5;241;43m.\u001b[39;49m\u001b[43mtimeout\u001b[49m\u001b[43m,\u001b[49m\n\u001b[0;32m    201\u001b[0m \u001b[43m        \u001b[49m\u001b[43msource_address\u001b[49m\u001b[38;5;241;43m=\u001b[39;49m\u001b[38;5;28;43mself\u001b[39;49m\u001b[38;5;241;43m.\u001b[39;49m\u001b[43msource_address\u001b[49m\u001b[43m,\u001b[49m\n\u001b[0;32m    202\u001b[0m \u001b[43m        \u001b[49m\u001b[43msocket_options\u001b[49m\u001b[38;5;241;43m=\u001b[39;49m\u001b[38;5;28;43mself\u001b[39;49m\u001b[38;5;241;43m.\u001b[39;49m\u001b[43msocket_options\u001b[49m\u001b[43m,\u001b[49m\n\u001b[0;32m    203\u001b[0m \u001b[43m    \u001b[49m\u001b[43m)\u001b[49m\n\u001b[0;32m    204\u001b[0m \u001b[38;5;28;01mexcept\u001b[39;00m socket\u001b[38;5;241m.\u001b[39mgaierror \u001b[38;5;28;01mas\u001b[39;00m e:\n",
      "File \u001b[1;32mC:\\Python39\\lib\\site-packages\\urllib3\\util\\connection.py:85\u001b[0m, in \u001b[0;36mcreate_connection\u001b[1;34m(address, timeout, source_address, socket_options)\u001b[0m\n\u001b[0;32m     84\u001b[0m \u001b[38;5;28;01mtry\u001b[39;00m:\n\u001b[1;32m---> 85\u001b[0m     \u001b[38;5;28;01mraise\u001b[39;00m err\n\u001b[0;32m     86\u001b[0m \u001b[38;5;28;01mfinally\u001b[39;00m:\n\u001b[0;32m     87\u001b[0m     \u001b[38;5;66;03m# Break explicitly a reference cycle\u001b[39;00m\n",
      "File \u001b[1;32mC:\\Python39\\lib\\site-packages\\urllib3\\util\\connection.py:73\u001b[0m, in \u001b[0;36mcreate_connection\u001b[1;34m(address, timeout, source_address, socket_options)\u001b[0m\n\u001b[0;32m     72\u001b[0m     sock\u001b[38;5;241m.\u001b[39mbind(source_address)\n\u001b[1;32m---> 73\u001b[0m \u001b[43msock\u001b[49m\u001b[38;5;241;43m.\u001b[39;49m\u001b[43mconnect\u001b[49m\u001b[43m(\u001b[49m\u001b[43msa\u001b[49m\u001b[43m)\u001b[49m\n\u001b[0;32m     74\u001b[0m \u001b[38;5;66;03m# Break explicitly a reference cycle\u001b[39;00m\n",
      "\u001b[1;31mConnectionRefusedError\u001b[0m: [WinError 10061] 대상 컴퓨터에서 연결을 거부했으므로 연결하지 못했습니다",
      "\nThe above exception was the direct cause of the following exception:\n",
      "\u001b[1;31mNewConnectionError\u001b[0m                        Traceback (most recent call last)",
      "File \u001b[1;32mC:\\Python39\\lib\\site-packages\\urllib3\\connectionpool.py:793\u001b[0m, in \u001b[0;36mHTTPConnectionPool.urlopen\u001b[1;34m(self, method, url, body, headers, retries, redirect, assert_same_host, timeout, pool_timeout, release_conn, chunked, body_pos, preload_content, decode_content, **response_kw)\u001b[0m\n\u001b[0;32m    792\u001b[0m \u001b[38;5;66;03m# Make the request on the HTTPConnection object\u001b[39;00m\n\u001b[1;32m--> 793\u001b[0m response \u001b[38;5;241m=\u001b[39m \u001b[38;5;28mself\u001b[39m\u001b[38;5;241m.\u001b[39m_make_request(\n\u001b[0;32m    794\u001b[0m     conn,\n\u001b[0;32m    795\u001b[0m     method,\n\u001b[0;32m    796\u001b[0m     url,\n\u001b[0;32m    797\u001b[0m     timeout\u001b[38;5;241m=\u001b[39mtimeout_obj,\n\u001b[0;32m    798\u001b[0m     body\u001b[38;5;241m=\u001b[39mbody,\n\u001b[0;32m    799\u001b[0m     headers\u001b[38;5;241m=\u001b[39mheaders,\n\u001b[0;32m    800\u001b[0m     chunked\u001b[38;5;241m=\u001b[39mchunked,\n\u001b[0;32m    801\u001b[0m     retries\u001b[38;5;241m=\u001b[39mretries,\n\u001b[0;32m    802\u001b[0m     response_conn\u001b[38;5;241m=\u001b[39mresponse_conn,\n\u001b[0;32m    803\u001b[0m     preload_content\u001b[38;5;241m=\u001b[39mpreload_content,\n\u001b[0;32m    804\u001b[0m     decode_content\u001b[38;5;241m=\u001b[39mdecode_content,\n\u001b[0;32m    805\u001b[0m     \u001b[38;5;241m*\u001b[39m\u001b[38;5;241m*\u001b[39mresponse_kw,\n\u001b[0;32m    806\u001b[0m )\n\u001b[0;32m    808\u001b[0m \u001b[38;5;66;03m# Everything went great!\u001b[39;00m\n",
      "File \u001b[1;32mC:\\Python39\\lib\\site-packages\\urllib3\\connectionpool.py:496\u001b[0m, in \u001b[0;36mHTTPConnectionPool._make_request\u001b[1;34m(self, conn, method, url, body, headers, retries, timeout, chunked, response_conn, preload_content, decode_content, enforce_content_length)\u001b[0m\n\u001b[0;32m    495\u001b[0m \u001b[38;5;28;01mtry\u001b[39;00m:\n\u001b[1;32m--> 496\u001b[0m     \u001b[43mconn\u001b[49m\u001b[38;5;241;43m.\u001b[39;49m\u001b[43mrequest\u001b[49m\u001b[43m(\u001b[49m\n\u001b[0;32m    497\u001b[0m \u001b[43m        \u001b[49m\u001b[43mmethod\u001b[49m\u001b[43m,\u001b[49m\n\u001b[0;32m    498\u001b[0m \u001b[43m        \u001b[49m\u001b[43murl\u001b[49m\u001b[43m,\u001b[49m\n\u001b[0;32m    499\u001b[0m \u001b[43m        \u001b[49m\u001b[43mbody\u001b[49m\u001b[38;5;241;43m=\u001b[39;49m\u001b[43mbody\u001b[49m\u001b[43m,\u001b[49m\n\u001b[0;32m    500\u001b[0m \u001b[43m        \u001b[49m\u001b[43mheaders\u001b[49m\u001b[38;5;241;43m=\u001b[39;49m\u001b[43mheaders\u001b[49m\u001b[43m,\u001b[49m\n\u001b[0;32m    501\u001b[0m \u001b[43m        \u001b[49m\u001b[43mchunked\u001b[49m\u001b[38;5;241;43m=\u001b[39;49m\u001b[43mchunked\u001b[49m\u001b[43m,\u001b[49m\n\u001b[0;32m    502\u001b[0m \u001b[43m        \u001b[49m\u001b[43mpreload_content\u001b[49m\u001b[38;5;241;43m=\u001b[39;49m\u001b[43mpreload_content\u001b[49m\u001b[43m,\u001b[49m\n\u001b[0;32m    503\u001b[0m \u001b[43m        \u001b[49m\u001b[43mdecode_content\u001b[49m\u001b[38;5;241;43m=\u001b[39;49m\u001b[43mdecode_content\u001b[49m\u001b[43m,\u001b[49m\n\u001b[0;32m    504\u001b[0m \u001b[43m        \u001b[49m\u001b[43menforce_content_length\u001b[49m\u001b[38;5;241;43m=\u001b[39;49m\u001b[43menforce_content_length\u001b[49m\u001b[43m,\u001b[49m\n\u001b[0;32m    505\u001b[0m \u001b[43m    \u001b[49m\u001b[43m)\u001b[49m\n\u001b[0;32m    507\u001b[0m \u001b[38;5;66;03m# We are swallowing BrokenPipeError (errno.EPIPE) since the server is\u001b[39;00m\n\u001b[0;32m    508\u001b[0m \u001b[38;5;66;03m# legitimately able to close the connection after sending a valid response.\u001b[39;00m\n\u001b[0;32m    509\u001b[0m \u001b[38;5;66;03m# With this behaviour, the received response is still readable.\u001b[39;00m\n",
      "File \u001b[1;32mC:\\Python39\\lib\\site-packages\\urllib3\\connection.py:400\u001b[0m, in \u001b[0;36mHTTPConnection.request\u001b[1;34m(self, method, url, body, headers, chunked, preload_content, decode_content, enforce_content_length)\u001b[0m\n\u001b[0;32m    399\u001b[0m     \u001b[38;5;28mself\u001b[39m\u001b[38;5;241m.\u001b[39mputheader(header, value)\n\u001b[1;32m--> 400\u001b[0m \u001b[38;5;28;43mself\u001b[39;49m\u001b[38;5;241;43m.\u001b[39;49m\u001b[43mendheaders\u001b[49m\u001b[43m(\u001b[49m\u001b[43m)\u001b[49m\n\u001b[0;32m    402\u001b[0m \u001b[38;5;66;03m# If we're given a body we start sending that in chunks.\u001b[39;00m\n",
      "File \u001b[1;32mC:\\Python39\\lib\\http\\client.py:1280\u001b[0m, in \u001b[0;36mHTTPConnection.endheaders\u001b[1;34m(self, message_body, encode_chunked)\u001b[0m\n\u001b[0;32m   1279\u001b[0m     \u001b[38;5;28;01mraise\u001b[39;00m CannotSendHeader()\n\u001b[1;32m-> 1280\u001b[0m \u001b[38;5;28;43mself\u001b[39;49m\u001b[38;5;241;43m.\u001b[39;49m\u001b[43m_send_output\u001b[49m\u001b[43m(\u001b[49m\u001b[43mmessage_body\u001b[49m\u001b[43m,\u001b[49m\u001b[43m \u001b[49m\u001b[43mencode_chunked\u001b[49m\u001b[38;5;241;43m=\u001b[39;49m\u001b[43mencode_chunked\u001b[49m\u001b[43m)\u001b[49m\n",
      "File \u001b[1;32mC:\\Python39\\lib\\http\\client.py:1040\u001b[0m, in \u001b[0;36mHTTPConnection._send_output\u001b[1;34m(self, message_body, encode_chunked)\u001b[0m\n\u001b[0;32m   1039\u001b[0m \u001b[38;5;28;01mdel\u001b[39;00m \u001b[38;5;28mself\u001b[39m\u001b[38;5;241m.\u001b[39m_buffer[:]\n\u001b[1;32m-> 1040\u001b[0m \u001b[38;5;28;43mself\u001b[39;49m\u001b[38;5;241;43m.\u001b[39;49m\u001b[43msend\u001b[49m\u001b[43m(\u001b[49m\u001b[43mmsg\u001b[49m\u001b[43m)\u001b[49m\n\u001b[0;32m   1042\u001b[0m \u001b[38;5;28;01mif\u001b[39;00m message_body \u001b[38;5;129;01mis\u001b[39;00m \u001b[38;5;129;01mnot\u001b[39;00m \u001b[38;5;28;01mNone\u001b[39;00m:\n\u001b[0;32m   1043\u001b[0m \n\u001b[0;32m   1044\u001b[0m     \u001b[38;5;66;03m# create a consistent interface to message_body\u001b[39;00m\n",
      "File \u001b[1;32mC:\\Python39\\lib\\http\\client.py:980\u001b[0m, in \u001b[0;36mHTTPConnection.send\u001b[1;34m(self, data)\u001b[0m\n\u001b[0;32m    979\u001b[0m \u001b[38;5;28;01mif\u001b[39;00m \u001b[38;5;28mself\u001b[39m\u001b[38;5;241m.\u001b[39mauto_open:\n\u001b[1;32m--> 980\u001b[0m     \u001b[38;5;28;43mself\u001b[39;49m\u001b[38;5;241;43m.\u001b[39;49m\u001b[43mconnect\u001b[49m\u001b[43m(\u001b[49m\u001b[43m)\u001b[49m\n\u001b[0;32m    981\u001b[0m \u001b[38;5;28;01melse\u001b[39;00m:\n",
      "File \u001b[1;32mC:\\Python39\\lib\\site-packages\\urllib3\\connection.py:238\u001b[0m, in \u001b[0;36mHTTPConnection.connect\u001b[1;34m(self)\u001b[0m\n\u001b[0;32m    237\u001b[0m \u001b[38;5;28;01mdef\u001b[39;00m \u001b[38;5;21mconnect\u001b[39m(\u001b[38;5;28mself\u001b[39m) \u001b[38;5;241m-\u001b[39m\u001b[38;5;241m>\u001b[39m \u001b[38;5;28;01mNone\u001b[39;00m:\n\u001b[1;32m--> 238\u001b[0m     \u001b[38;5;28mself\u001b[39m\u001b[38;5;241m.\u001b[39msock \u001b[38;5;241m=\u001b[39m \u001b[38;5;28;43mself\u001b[39;49m\u001b[38;5;241;43m.\u001b[39;49m\u001b[43m_new_conn\u001b[49m\u001b[43m(\u001b[49m\u001b[43m)\u001b[49m\n\u001b[0;32m    239\u001b[0m     \u001b[38;5;28;01mif\u001b[39;00m \u001b[38;5;28mself\u001b[39m\u001b[38;5;241m.\u001b[39m_tunnel_host:\n\u001b[0;32m    240\u001b[0m         \u001b[38;5;66;03m# If we're tunneling it means we're connected to our proxy.\u001b[39;00m\n",
      "File \u001b[1;32mC:\\Python39\\lib\\site-packages\\urllib3\\connection.py:213\u001b[0m, in \u001b[0;36mHTTPConnection._new_conn\u001b[1;34m(self)\u001b[0m\n\u001b[0;32m    212\u001b[0m \u001b[38;5;28;01mexcept\u001b[39;00m \u001b[38;5;167;01mOSError\u001b[39;00m \u001b[38;5;28;01mas\u001b[39;00m e:\n\u001b[1;32m--> 213\u001b[0m     \u001b[38;5;28;01mraise\u001b[39;00m NewConnectionError(\n\u001b[0;32m    214\u001b[0m         \u001b[38;5;28mself\u001b[39m, \u001b[38;5;124mf\u001b[39m\u001b[38;5;124m\"\u001b[39m\u001b[38;5;124mFailed to establish a new connection: \u001b[39m\u001b[38;5;132;01m{\u001b[39;00me\u001b[38;5;132;01m}\u001b[39;00m\u001b[38;5;124m\"\u001b[39m\n\u001b[0;32m    215\u001b[0m     ) \u001b[38;5;28;01mfrom\u001b[39;00m \u001b[38;5;21;01me\u001b[39;00m\n\u001b[0;32m    217\u001b[0m \u001b[38;5;66;03m# Audit hooks are only available in Python 3.8+\u001b[39;00m\n",
      "\u001b[1;31mNewConnectionError\u001b[0m: <urllib3.connection.HTTPConnection object at 0x000002633FF02760>: Failed to establish a new connection: [WinError 10061] 대상 컴퓨터에서 연결을 거부했으므로 연결하지 못했습니다",
      "\nThe above exception was the direct cause of the following exception:\n",
      "\u001b[1;31mMaxRetryError\u001b[0m                             Traceback (most recent call last)",
      "Cell \u001b[1;32mIn[16], line 16\u001b[0m\n\u001b[0;32m     14\u001b[0m full_url \u001b[38;5;241m=\u001b[39m samsung_url \u001b[38;5;241m+\u001b[39m \u001b[38;5;28mstr\u001b[39m(num)\n\u001b[0;32m     15\u001b[0m \u001b[38;5;66;03m# 4.1 페이지별 요청\u001b[39;00m\n\u001b[1;32m---> 16\u001b[0m \u001b[43mdriver\u001b[49m\u001b[38;5;241;43m.\u001b[39;49m\u001b[43mget\u001b[49m\u001b[43m(\u001b[49m\u001b[43mfull_url\u001b[49m\u001b[43m)\u001b[49m\n\u001b[0;32m     18\u001b[0m \u001b[38;5;28;01mtry\u001b[39;00m:\n\u001b[0;32m     19\u001b[0m     \u001b[38;5;66;03m# 4.2 페이지의 HTML 가져오기\u001b[39;00m\n\u001b[0;32m     20\u001b[0m     html \u001b[38;5;241m=\u001b[39m driver\u001b[38;5;241m.\u001b[39mpage_source\n",
      "File \u001b[1;32mC:\\Python39\\lib\\site-packages\\selenium\\webdriver\\remote\\webdriver.py:356\u001b[0m, in \u001b[0;36mWebDriver.get\u001b[1;34m(self, url)\u001b[0m\n\u001b[0;32m    354\u001b[0m \u001b[38;5;28;01mdef\u001b[39;00m \u001b[38;5;21mget\u001b[39m(\u001b[38;5;28mself\u001b[39m, url: \u001b[38;5;28mstr\u001b[39m) \u001b[38;5;241m-\u001b[39m\u001b[38;5;241m>\u001b[39m \u001b[38;5;28;01mNone\u001b[39;00m:\n\u001b[0;32m    355\u001b[0m \u001b[38;5;250m    \u001b[39m\u001b[38;5;124;03m\"\"\"Loads a web page in the current browser session.\"\"\"\u001b[39;00m\n\u001b[1;32m--> 356\u001b[0m     \u001b[38;5;28;43mself\u001b[39;49m\u001b[38;5;241;43m.\u001b[39;49m\u001b[43mexecute\u001b[49m\u001b[43m(\u001b[49m\u001b[43mCommand\u001b[49m\u001b[38;5;241;43m.\u001b[39;49m\u001b[43mGET\u001b[49m\u001b[43m,\u001b[49m\u001b[43m \u001b[49m\u001b[43m{\u001b[49m\u001b[38;5;124;43m\"\u001b[39;49m\u001b[38;5;124;43murl\u001b[39;49m\u001b[38;5;124;43m\"\u001b[39;49m\u001b[43m:\u001b[49m\u001b[43m \u001b[49m\u001b[43murl\u001b[49m\u001b[43m}\u001b[49m\u001b[43m)\u001b[49m\n",
      "File \u001b[1;32mC:\\Python39\\lib\\site-packages\\selenium\\webdriver\\remote\\webdriver.py:345\u001b[0m, in \u001b[0;36mWebDriver.execute\u001b[1;34m(self, driver_command, params)\u001b[0m\n\u001b[0;32m    342\u001b[0m     \u001b[38;5;28;01melif\u001b[39;00m \u001b[38;5;124m\"\u001b[39m\u001b[38;5;124msessionId\u001b[39m\u001b[38;5;124m\"\u001b[39m \u001b[38;5;129;01mnot\u001b[39;00m \u001b[38;5;129;01min\u001b[39;00m params:\n\u001b[0;32m    343\u001b[0m         params[\u001b[38;5;124m\"\u001b[39m\u001b[38;5;124msessionId\u001b[39m\u001b[38;5;124m\"\u001b[39m] \u001b[38;5;241m=\u001b[39m \u001b[38;5;28mself\u001b[39m\u001b[38;5;241m.\u001b[39msession_id\n\u001b[1;32m--> 345\u001b[0m response \u001b[38;5;241m=\u001b[39m \u001b[38;5;28;43mself\u001b[39;49m\u001b[38;5;241;43m.\u001b[39;49m\u001b[43mcommand_executor\u001b[49m\u001b[38;5;241;43m.\u001b[39;49m\u001b[43mexecute\u001b[49m\u001b[43m(\u001b[49m\u001b[43mdriver_command\u001b[49m\u001b[43m,\u001b[49m\u001b[43m \u001b[49m\u001b[43mparams\u001b[49m\u001b[43m)\u001b[49m\n\u001b[0;32m    346\u001b[0m \u001b[38;5;28;01mif\u001b[39;00m response:\n\u001b[0;32m    347\u001b[0m     \u001b[38;5;28mself\u001b[39m\u001b[38;5;241m.\u001b[39merror_handler\u001b[38;5;241m.\u001b[39mcheck_response(response)\n",
      "File \u001b[1;32mC:\\Python39\\lib\\site-packages\\selenium\\webdriver\\remote\\remote_connection.py:302\u001b[0m, in \u001b[0;36mRemoteConnection.execute\u001b[1;34m(self, command, params)\u001b[0m\n\u001b[0;32m    300\u001b[0m trimmed \u001b[38;5;241m=\u001b[39m \u001b[38;5;28mself\u001b[39m\u001b[38;5;241m.\u001b[39m_trim_large_entries(params)\n\u001b[0;32m    301\u001b[0m LOGGER\u001b[38;5;241m.\u001b[39mdebug(\u001b[38;5;124m\"\u001b[39m\u001b[38;5;132;01m%s\u001b[39;00m\u001b[38;5;124m \u001b[39m\u001b[38;5;132;01m%s\u001b[39;00m\u001b[38;5;124m \u001b[39m\u001b[38;5;132;01m%s\u001b[39;00m\u001b[38;5;124m\"\u001b[39m, command_info[\u001b[38;5;241m0\u001b[39m], url, \u001b[38;5;28mstr\u001b[39m(trimmed))\n\u001b[1;32m--> 302\u001b[0m \u001b[38;5;28;01mreturn\u001b[39;00m \u001b[38;5;28;43mself\u001b[39;49m\u001b[38;5;241;43m.\u001b[39;49m\u001b[43m_request\u001b[49m\u001b[43m(\u001b[49m\u001b[43mcommand_info\u001b[49m\u001b[43m[\u001b[49m\u001b[38;5;241;43m0\u001b[39;49m\u001b[43m]\u001b[49m\u001b[43m,\u001b[49m\u001b[43m \u001b[49m\u001b[43murl\u001b[49m\u001b[43m,\u001b[49m\u001b[43m \u001b[49m\u001b[43mbody\u001b[49m\u001b[38;5;241;43m=\u001b[39;49m\u001b[43mdata\u001b[49m\u001b[43m)\u001b[49m\n",
      "File \u001b[1;32mC:\\Python39\\lib\\site-packages\\selenium\\webdriver\\remote\\remote_connection.py:322\u001b[0m, in \u001b[0;36mRemoteConnection._request\u001b[1;34m(self, method, url, body)\u001b[0m\n\u001b[0;32m    319\u001b[0m     body \u001b[38;5;241m=\u001b[39m \u001b[38;5;28;01mNone\u001b[39;00m\n\u001b[0;32m    321\u001b[0m \u001b[38;5;28;01mif\u001b[39;00m \u001b[38;5;28mself\u001b[39m\u001b[38;5;241m.\u001b[39mkeep_alive:\n\u001b[1;32m--> 322\u001b[0m     response \u001b[38;5;241m=\u001b[39m \u001b[38;5;28;43mself\u001b[39;49m\u001b[38;5;241;43m.\u001b[39;49m\u001b[43m_conn\u001b[49m\u001b[38;5;241;43m.\u001b[39;49m\u001b[43mrequest\u001b[49m\u001b[43m(\u001b[49m\u001b[43mmethod\u001b[49m\u001b[43m,\u001b[49m\u001b[43m \u001b[49m\u001b[43murl\u001b[49m\u001b[43m,\u001b[49m\u001b[43m \u001b[49m\u001b[43mbody\u001b[49m\u001b[38;5;241;43m=\u001b[39;49m\u001b[43mbody\u001b[49m\u001b[43m,\u001b[49m\u001b[43m \u001b[49m\u001b[43mheaders\u001b[49m\u001b[38;5;241;43m=\u001b[39;49m\u001b[43mheaders\u001b[49m\u001b[43m)\u001b[49m\n\u001b[0;32m    323\u001b[0m     statuscode \u001b[38;5;241m=\u001b[39m response\u001b[38;5;241m.\u001b[39mstatus\n\u001b[0;32m    324\u001b[0m \u001b[38;5;28;01melse\u001b[39;00m:\n",
      "File \u001b[1;32mC:\\Python39\\lib\\site-packages\\urllib3\\_request_methods.py:144\u001b[0m, in \u001b[0;36mRequestMethods.request\u001b[1;34m(self, method, url, body, fields, headers, json, **urlopen_kw)\u001b[0m\n\u001b[0;32m    136\u001b[0m     \u001b[38;5;28;01mreturn\u001b[39;00m \u001b[38;5;28mself\u001b[39m\u001b[38;5;241m.\u001b[39mrequest_encode_url(\n\u001b[0;32m    137\u001b[0m         method,\n\u001b[0;32m    138\u001b[0m         url,\n\u001b[1;32m   (...)\u001b[0m\n\u001b[0;32m    141\u001b[0m         \u001b[38;5;241m*\u001b[39m\u001b[38;5;241m*\u001b[39murlopen_kw,\n\u001b[0;32m    142\u001b[0m     )\n\u001b[0;32m    143\u001b[0m \u001b[38;5;28;01melse\u001b[39;00m:\n\u001b[1;32m--> 144\u001b[0m     \u001b[38;5;28;01mreturn\u001b[39;00m \u001b[38;5;28mself\u001b[39m\u001b[38;5;241m.\u001b[39mrequest_encode_body(\n\u001b[0;32m    145\u001b[0m         method, url, fields\u001b[38;5;241m=\u001b[39mfields, headers\u001b[38;5;241m=\u001b[39mheaders, \u001b[38;5;241m*\u001b[39m\u001b[38;5;241m*\u001b[39murlopen_kw\n\u001b[0;32m    146\u001b[0m     )\n",
      "File \u001b[1;32mC:\\Python39\\lib\\site-packages\\urllib3\\_request_methods.py:279\u001b[0m, in \u001b[0;36mRequestMethods.request_encode_body\u001b[1;34m(self, method, url, fields, headers, encode_multipart, multipart_boundary, **urlopen_kw)\u001b[0m\n\u001b[0;32m    275\u001b[0m     extra_kw[\u001b[38;5;124m\"\u001b[39m\u001b[38;5;124mheaders\u001b[39m\u001b[38;5;124m\"\u001b[39m]\u001b[38;5;241m.\u001b[39msetdefault(\u001b[38;5;124m\"\u001b[39m\u001b[38;5;124mContent-Type\u001b[39m\u001b[38;5;124m\"\u001b[39m, content_type)\n\u001b[0;32m    277\u001b[0m extra_kw\u001b[38;5;241m.\u001b[39mupdate(urlopen_kw)\n\u001b[1;32m--> 279\u001b[0m \u001b[38;5;28;01mreturn\u001b[39;00m \u001b[38;5;28mself\u001b[39m\u001b[38;5;241m.\u001b[39murlopen(method, url, \u001b[38;5;241m*\u001b[39m\u001b[38;5;241m*\u001b[39mextra_kw)\n",
      "File \u001b[1;32mC:\\Python39\\lib\\site-packages\\urllib3\\poolmanager.py:444\u001b[0m, in \u001b[0;36mPoolManager.urlopen\u001b[1;34m(self, method, url, redirect, **kw)\u001b[0m\n\u001b[0;32m    442\u001b[0m     response \u001b[38;5;241m=\u001b[39m conn\u001b[38;5;241m.\u001b[39murlopen(method, url, \u001b[38;5;241m*\u001b[39m\u001b[38;5;241m*\u001b[39mkw)\n\u001b[0;32m    443\u001b[0m \u001b[38;5;28;01melse\u001b[39;00m:\n\u001b[1;32m--> 444\u001b[0m     response \u001b[38;5;241m=\u001b[39m conn\u001b[38;5;241m.\u001b[39murlopen(method, u\u001b[38;5;241m.\u001b[39mrequest_uri, \u001b[38;5;241m*\u001b[39m\u001b[38;5;241m*\u001b[39mkw)\n\u001b[0;32m    446\u001b[0m redirect_location \u001b[38;5;241m=\u001b[39m redirect \u001b[38;5;129;01mand\u001b[39;00m response\u001b[38;5;241m.\u001b[39mget_redirect_location()\n\u001b[0;32m    447\u001b[0m \u001b[38;5;28;01mif\u001b[39;00m \u001b[38;5;129;01mnot\u001b[39;00m redirect_location:\n",
      "File \u001b[1;32mC:\\Python39\\lib\\site-packages\\urllib3\\connectionpool.py:877\u001b[0m, in \u001b[0;36mHTTPConnectionPool.urlopen\u001b[1;34m(self, method, url, body, headers, retries, redirect, assert_same_host, timeout, pool_timeout, release_conn, chunked, body_pos, preload_content, decode_content, **response_kw)\u001b[0m\n\u001b[0;32m    872\u001b[0m \u001b[38;5;28;01mif\u001b[39;00m \u001b[38;5;129;01mnot\u001b[39;00m conn:\n\u001b[0;32m    873\u001b[0m     \u001b[38;5;66;03m# Try again\u001b[39;00m\n\u001b[0;32m    874\u001b[0m     log\u001b[38;5;241m.\u001b[39mwarning(\n\u001b[0;32m    875\u001b[0m         \u001b[38;5;124m\"\u001b[39m\u001b[38;5;124mRetrying (\u001b[39m\u001b[38;5;132;01m%r\u001b[39;00m\u001b[38;5;124m) after connection broken by \u001b[39m\u001b[38;5;124m'\u001b[39m\u001b[38;5;132;01m%r\u001b[39;00m\u001b[38;5;124m'\u001b[39m\u001b[38;5;124m: \u001b[39m\u001b[38;5;132;01m%s\u001b[39;00m\u001b[38;5;124m\"\u001b[39m, retries, err, url\n\u001b[0;32m    876\u001b[0m     )\n\u001b[1;32m--> 877\u001b[0m     \u001b[38;5;28;01mreturn\u001b[39;00m \u001b[38;5;28mself\u001b[39m\u001b[38;5;241m.\u001b[39murlopen(\n\u001b[0;32m    878\u001b[0m         method,\n\u001b[0;32m    879\u001b[0m         url,\n\u001b[0;32m    880\u001b[0m         body,\n\u001b[0;32m    881\u001b[0m         headers,\n\u001b[0;32m    882\u001b[0m         retries,\n\u001b[0;32m    883\u001b[0m         redirect,\n\u001b[0;32m    884\u001b[0m         assert_same_host,\n\u001b[0;32m    885\u001b[0m         timeout\u001b[38;5;241m=\u001b[39mtimeout,\n\u001b[0;32m    886\u001b[0m         pool_timeout\u001b[38;5;241m=\u001b[39mpool_timeout,\n\u001b[0;32m    887\u001b[0m         release_conn\u001b[38;5;241m=\u001b[39mrelease_conn,\n\u001b[0;32m    888\u001b[0m         chunked\u001b[38;5;241m=\u001b[39mchunked,\n\u001b[0;32m    889\u001b[0m         body_pos\u001b[38;5;241m=\u001b[39mbody_pos,\n\u001b[0;32m    890\u001b[0m         preload_content\u001b[38;5;241m=\u001b[39mpreload_content,\n\u001b[0;32m    891\u001b[0m         decode_content\u001b[38;5;241m=\u001b[39mdecode_content,\n\u001b[0;32m    892\u001b[0m         \u001b[38;5;241m*\u001b[39m\u001b[38;5;241m*\u001b[39mresponse_kw,\n\u001b[0;32m    893\u001b[0m     )\n\u001b[0;32m    895\u001b[0m \u001b[38;5;66;03m# Handle redirect?\u001b[39;00m\n\u001b[0;32m    896\u001b[0m redirect_location \u001b[38;5;241m=\u001b[39m redirect \u001b[38;5;129;01mand\u001b[39;00m response\u001b[38;5;241m.\u001b[39mget_redirect_location()\n",
      "File \u001b[1;32mC:\\Python39\\lib\\site-packages\\urllib3\\connectionpool.py:877\u001b[0m, in \u001b[0;36mHTTPConnectionPool.urlopen\u001b[1;34m(self, method, url, body, headers, retries, redirect, assert_same_host, timeout, pool_timeout, release_conn, chunked, body_pos, preload_content, decode_content, **response_kw)\u001b[0m\n\u001b[0;32m    872\u001b[0m \u001b[38;5;28;01mif\u001b[39;00m \u001b[38;5;129;01mnot\u001b[39;00m conn:\n\u001b[0;32m    873\u001b[0m     \u001b[38;5;66;03m# Try again\u001b[39;00m\n\u001b[0;32m    874\u001b[0m     log\u001b[38;5;241m.\u001b[39mwarning(\n\u001b[0;32m    875\u001b[0m         \u001b[38;5;124m\"\u001b[39m\u001b[38;5;124mRetrying (\u001b[39m\u001b[38;5;132;01m%r\u001b[39;00m\u001b[38;5;124m) after connection broken by \u001b[39m\u001b[38;5;124m'\u001b[39m\u001b[38;5;132;01m%r\u001b[39;00m\u001b[38;5;124m'\u001b[39m\u001b[38;5;124m: \u001b[39m\u001b[38;5;132;01m%s\u001b[39;00m\u001b[38;5;124m\"\u001b[39m, retries, err, url\n\u001b[0;32m    876\u001b[0m     )\n\u001b[1;32m--> 877\u001b[0m     \u001b[38;5;28;01mreturn\u001b[39;00m \u001b[38;5;28mself\u001b[39m\u001b[38;5;241m.\u001b[39murlopen(\n\u001b[0;32m    878\u001b[0m         method,\n\u001b[0;32m    879\u001b[0m         url,\n\u001b[0;32m    880\u001b[0m         body,\n\u001b[0;32m    881\u001b[0m         headers,\n\u001b[0;32m    882\u001b[0m         retries,\n\u001b[0;32m    883\u001b[0m         redirect,\n\u001b[0;32m    884\u001b[0m         assert_same_host,\n\u001b[0;32m    885\u001b[0m         timeout\u001b[38;5;241m=\u001b[39mtimeout,\n\u001b[0;32m    886\u001b[0m         pool_timeout\u001b[38;5;241m=\u001b[39mpool_timeout,\n\u001b[0;32m    887\u001b[0m         release_conn\u001b[38;5;241m=\u001b[39mrelease_conn,\n\u001b[0;32m    888\u001b[0m         chunked\u001b[38;5;241m=\u001b[39mchunked,\n\u001b[0;32m    889\u001b[0m         body_pos\u001b[38;5;241m=\u001b[39mbody_pos,\n\u001b[0;32m    890\u001b[0m         preload_content\u001b[38;5;241m=\u001b[39mpreload_content,\n\u001b[0;32m    891\u001b[0m         decode_content\u001b[38;5;241m=\u001b[39mdecode_content,\n\u001b[0;32m    892\u001b[0m         \u001b[38;5;241m*\u001b[39m\u001b[38;5;241m*\u001b[39mresponse_kw,\n\u001b[0;32m    893\u001b[0m     )\n\u001b[0;32m    895\u001b[0m \u001b[38;5;66;03m# Handle redirect?\u001b[39;00m\n\u001b[0;32m    896\u001b[0m redirect_location \u001b[38;5;241m=\u001b[39m redirect \u001b[38;5;129;01mand\u001b[39;00m response\u001b[38;5;241m.\u001b[39mget_redirect_location()\n",
      "File \u001b[1;32mC:\\Python39\\lib\\site-packages\\urllib3\\connectionpool.py:877\u001b[0m, in \u001b[0;36mHTTPConnectionPool.urlopen\u001b[1;34m(self, method, url, body, headers, retries, redirect, assert_same_host, timeout, pool_timeout, release_conn, chunked, body_pos, preload_content, decode_content, **response_kw)\u001b[0m\n\u001b[0;32m    872\u001b[0m \u001b[38;5;28;01mif\u001b[39;00m \u001b[38;5;129;01mnot\u001b[39;00m conn:\n\u001b[0;32m    873\u001b[0m     \u001b[38;5;66;03m# Try again\u001b[39;00m\n\u001b[0;32m    874\u001b[0m     log\u001b[38;5;241m.\u001b[39mwarning(\n\u001b[0;32m    875\u001b[0m         \u001b[38;5;124m\"\u001b[39m\u001b[38;5;124mRetrying (\u001b[39m\u001b[38;5;132;01m%r\u001b[39;00m\u001b[38;5;124m) after connection broken by \u001b[39m\u001b[38;5;124m'\u001b[39m\u001b[38;5;132;01m%r\u001b[39;00m\u001b[38;5;124m'\u001b[39m\u001b[38;5;124m: \u001b[39m\u001b[38;5;132;01m%s\u001b[39;00m\u001b[38;5;124m\"\u001b[39m, retries, err, url\n\u001b[0;32m    876\u001b[0m     )\n\u001b[1;32m--> 877\u001b[0m     \u001b[38;5;28;01mreturn\u001b[39;00m \u001b[38;5;28mself\u001b[39m\u001b[38;5;241m.\u001b[39murlopen(\n\u001b[0;32m    878\u001b[0m         method,\n\u001b[0;32m    879\u001b[0m         url,\n\u001b[0;32m    880\u001b[0m         body,\n\u001b[0;32m    881\u001b[0m         headers,\n\u001b[0;32m    882\u001b[0m         retries,\n\u001b[0;32m    883\u001b[0m         redirect,\n\u001b[0;32m    884\u001b[0m         assert_same_host,\n\u001b[0;32m    885\u001b[0m         timeout\u001b[38;5;241m=\u001b[39mtimeout,\n\u001b[0;32m    886\u001b[0m         pool_timeout\u001b[38;5;241m=\u001b[39mpool_timeout,\n\u001b[0;32m    887\u001b[0m         release_conn\u001b[38;5;241m=\u001b[39mrelease_conn,\n\u001b[0;32m    888\u001b[0m         chunked\u001b[38;5;241m=\u001b[39mchunked,\n\u001b[0;32m    889\u001b[0m         body_pos\u001b[38;5;241m=\u001b[39mbody_pos,\n\u001b[0;32m    890\u001b[0m         preload_content\u001b[38;5;241m=\u001b[39mpreload_content,\n\u001b[0;32m    891\u001b[0m         decode_content\u001b[38;5;241m=\u001b[39mdecode_content,\n\u001b[0;32m    892\u001b[0m         \u001b[38;5;241m*\u001b[39m\u001b[38;5;241m*\u001b[39mresponse_kw,\n\u001b[0;32m    893\u001b[0m     )\n\u001b[0;32m    895\u001b[0m \u001b[38;5;66;03m# Handle redirect?\u001b[39;00m\n\u001b[0;32m    896\u001b[0m redirect_location \u001b[38;5;241m=\u001b[39m redirect \u001b[38;5;129;01mand\u001b[39;00m response\u001b[38;5;241m.\u001b[39mget_redirect_location()\n",
      "File \u001b[1;32mC:\\Python39\\lib\\site-packages\\urllib3\\connectionpool.py:847\u001b[0m, in \u001b[0;36mHTTPConnectionPool.urlopen\u001b[1;34m(self, method, url, body, headers, retries, redirect, assert_same_host, timeout, pool_timeout, release_conn, chunked, body_pos, preload_content, decode_content, **response_kw)\u001b[0m\n\u001b[0;32m    844\u001b[0m \u001b[38;5;28;01melif\u001b[39;00m \u001b[38;5;28misinstance\u001b[39m(new_e, (\u001b[38;5;167;01mOSError\u001b[39;00m, HTTPException)):\n\u001b[0;32m    845\u001b[0m     new_e \u001b[38;5;241m=\u001b[39m ProtocolError(\u001b[38;5;124m\"\u001b[39m\u001b[38;5;124mConnection aborted.\u001b[39m\u001b[38;5;124m\"\u001b[39m, new_e)\n\u001b[1;32m--> 847\u001b[0m retries \u001b[38;5;241m=\u001b[39m \u001b[43mretries\u001b[49m\u001b[38;5;241;43m.\u001b[39;49m\u001b[43mincrement\u001b[49m\u001b[43m(\u001b[49m\n\u001b[0;32m    848\u001b[0m \u001b[43m    \u001b[49m\u001b[43mmethod\u001b[49m\u001b[43m,\u001b[49m\u001b[43m \u001b[49m\u001b[43murl\u001b[49m\u001b[43m,\u001b[49m\u001b[43m \u001b[49m\u001b[43merror\u001b[49m\u001b[38;5;241;43m=\u001b[39;49m\u001b[43mnew_e\u001b[49m\u001b[43m,\u001b[49m\u001b[43m \u001b[49m\u001b[43m_pool\u001b[49m\u001b[38;5;241;43m=\u001b[39;49m\u001b[38;5;28;43mself\u001b[39;49m\u001b[43m,\u001b[49m\u001b[43m \u001b[49m\u001b[43m_stacktrace\u001b[49m\u001b[38;5;241;43m=\u001b[39;49m\u001b[43msys\u001b[49m\u001b[38;5;241;43m.\u001b[39;49m\u001b[43mexc_info\u001b[49m\u001b[43m(\u001b[49m\u001b[43m)\u001b[49m\u001b[43m[\u001b[49m\u001b[38;5;241;43m2\u001b[39;49m\u001b[43m]\u001b[49m\n\u001b[0;32m    849\u001b[0m \u001b[43m\u001b[49m\u001b[43m)\u001b[49m\n\u001b[0;32m    850\u001b[0m retries\u001b[38;5;241m.\u001b[39msleep()\n\u001b[0;32m    852\u001b[0m \u001b[38;5;66;03m# Keep track of the error for the retry warning.\u001b[39;00m\n",
      "File \u001b[1;32mC:\\Python39\\lib\\site-packages\\urllib3\\util\\retry.py:515\u001b[0m, in \u001b[0;36mRetry.increment\u001b[1;34m(self, method, url, response, error, _pool, _stacktrace)\u001b[0m\n\u001b[0;32m    513\u001b[0m \u001b[38;5;28;01mif\u001b[39;00m new_retry\u001b[38;5;241m.\u001b[39mis_exhausted():\n\u001b[0;32m    514\u001b[0m     reason \u001b[38;5;241m=\u001b[39m error \u001b[38;5;129;01mor\u001b[39;00m ResponseError(cause)\n\u001b[1;32m--> 515\u001b[0m     \u001b[38;5;28;01mraise\u001b[39;00m MaxRetryError(_pool, url, reason) \u001b[38;5;28;01mfrom\u001b[39;00m \u001b[38;5;21;01mreason\u001b[39;00m  \u001b[38;5;66;03m# type: ignore[arg-type]\u001b[39;00m\n\u001b[0;32m    517\u001b[0m log\u001b[38;5;241m.\u001b[39mdebug(\u001b[38;5;124m\"\u001b[39m\u001b[38;5;124mIncremented Retry for (url=\u001b[39m\u001b[38;5;124m'\u001b[39m\u001b[38;5;132;01m%s\u001b[39;00m\u001b[38;5;124m'\u001b[39m\u001b[38;5;124m): \u001b[39m\u001b[38;5;132;01m%r\u001b[39;00m\u001b[38;5;124m\"\u001b[39m, url, new_retry)\n\u001b[0;32m    519\u001b[0m \u001b[38;5;28;01mreturn\u001b[39;00m new_retry\n",
      "\u001b[1;31mMaxRetryError\u001b[0m: HTTPConnectionPool(host='localhost', port=7446): Max retries exceeded with url: /session/4e5c119e7a78b7ce772739b13ebfa238/url (Caused by NewConnectionError('<urllib3.connection.HTTPConnection object at 0x000002633FF02760>: Failed to establish a new connection: [WinError 10061] 대상 컴퓨터에서 연결을 거부했으므로 연결하지 못했습니다'))"
     ]
    }
   ],
   "source": [
    "#1. 크롬 드라이버 실행\n",
    "driver= webdriver.Chrome()\n",
    "\n",
    "# 2페이지 로딩 시간\n",
    "time.sleep(2)\n",
    "\n",
    "# 3. 크롤링 사이트 : 삼성전자의 일별 시세 페이지 URL 찾기\n",
    "samsung_url =\"https://finance.naver.com/item/sise_day.naver?code=005930&page=\" #base url\n",
    "\n",
    "# 4. 첫 페이지부터 10 페이지까지 테이블 담기\n",
    "samsung_daily_kospi = [] # 리스트 선언\n",
    "\n",
    "for num in range(1,11):\n",
    "    full_url = samsung_url + str(num)\n",
    "    # 4.1 페이지별 요청\n",
    "    driver.get(full_url)\n",
    "        \n",
    "    try:\n",
    "        # 4.2 페이지의 HTML 가져오기\n",
    "        html = driver.page_source\n",
    "        df = pd.read_html(html) # 테이블 구조 -> 데이터프레임\n",
    "        #print(type(df))\n",
    "        #print(df)\n",
    "        # 4.3 결측치 처리 - 조건 색인을 이용한 불리언 인덱싱\n",
    "        ## 조건 색인 \n",
    "        cond = df[0]['날짜'].notnull()\n",
    "        samsung_day = df[0][cond]\n",
    "        ## 리스트에 담기\n",
    "        samsung_daily_kospi.append(samsung_day)\n",
    "                \n",
    "    except Exception as e:\n",
    "        print(\"Network Error\",e)\n",
    "    \n",
    "    # finally:\n",
    "    #     driver.quit()\n",
    "\n",
    "# 5. 데이터프레임 합치기\n",
    "# print(samsung_daily_kospi[:3])        \n",
    "samsung_daily_kospi_all = pd.concat(samsung_daily_kospi, ignore_index=True)\n",
    "# samsung_daily_kospi_all.head(20)\n",
    "# 6. csv 파일로 저장\n",
    "samsung_daily_kospi_all.to_csv(\"samsung_daily_kospi_2024_04_11.csv\")"
   ]
=======
   "execution_count": null,
   "metadata": {},
   "outputs": [],
   "source": []
>>>>>>> a2fc80b917052043d36ef0a9ff96a01d0148ed5f
  }
 ],
 "metadata": {
  "kernelspec": {
   "display_name": "Python 3 (ipykernel)",
   "language": "python",
   "name": "python3"
  },
  "language_info": {
   "codemirror_mode": {
    "name": "ipython",
    "version": 3
   },
   "file_extension": ".py",
   "mimetype": "text/x-python",
   "name": "python",
   "nbconvert_exporter": "python",
   "pygments_lexer": "ipython3",
<<<<<<< HEAD
   "version": "3.9.13"
=======
   "version": "3.12.2"
>>>>>>> a2fc80b917052043d36ef0a9ff96a01d0148ed5f
  }
 },
 "nbformat": 4,
 "nbformat_minor": 4
}
