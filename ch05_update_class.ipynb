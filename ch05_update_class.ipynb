{
 "cells": [
  {
   "cell_type": "markdown",
   "metadata": {},
   "source": [
    "# 1. pandas 라이브러리 import 하기"
   ]
  },
  {
   "cell_type": "code",
<<<<<<< HEAD
   "execution_count": 2,
=======
   "execution_count": 59,
>>>>>>> a2fc80b917052043d36ef0a9ff96a01d0148ed5f
   "metadata": {},
   "outputs": [],
   "source": [
    "import numpy as np\n",
<<<<<<< HEAD
    "import pandas as pd\n",
    "from pandas import Series, DataFrame # pandas  자료구조\n",
    "import matplotlib.pyplot as plt # 시각화"
=======
    "import pandas as pd"
   ]
  },
  {
   "cell_type": "code",
   "execution_count": 2,
   "metadata": {},
   "outputs": [],
   "source": [
    "from pandas import Series, DataFrame # pandas  자료구조"
>>>>>>> a2fc80b917052043d36ef0a9ff96a01d0148ed5f
   ]
  },
  {
   "cell_type": "code",
   "execution_count": 3,
   "metadata": {},
<<<<<<< HEAD
   "outputs": [],
   "source": [
=======
   "outputs": [
    {
     "name": "stdout",
     "output_type": "stream",
     "text": [
      "Requirement already satisfied: matplotlib in c:\\users\\shong\\appdata\\local\\programs\\python\\python312\\lib\\site-packages (3.8.3)\n",
      "Requirement already satisfied: contourpy>=1.0.1 in c:\\users\\shong\\appdata\\local\\programs\\python\\python312\\lib\\site-packages (from matplotlib) (1.2.0)\n",
      "Requirement already satisfied: cycler>=0.10 in c:\\users\\shong\\appdata\\local\\programs\\python\\python312\\lib\\site-packages (from matplotlib) (0.12.1)\n",
      "Requirement already satisfied: fonttools>=4.22.0 in c:\\users\\shong\\appdata\\local\\programs\\python\\python312\\lib\\site-packages (from matplotlib) (4.50.0)\n",
      "Requirement already satisfied: kiwisolver>=1.3.1 in c:\\users\\shong\\appdata\\local\\programs\\python\\python312\\lib\\site-packages (from matplotlib) (1.4.5)\n",
      "Requirement already satisfied: numpy<2,>=1.21 in c:\\users\\shong\\appdata\\local\\programs\\python\\python312\\lib\\site-packages (from matplotlib) (1.26.4)\n",
      "Requirement already satisfied: packaging>=20.0 in c:\\users\\shong\\appdata\\local\\programs\\python\\python312\\lib\\site-packages (from matplotlib) (23.2)\n",
      "Requirement already satisfied: pillow>=8 in c:\\users\\shong\\appdata\\local\\programs\\python\\python312\\lib\\site-packages (from matplotlib) (10.2.0)\n",
      "Requirement already satisfied: pyparsing>=2.3.1 in c:\\users\\shong\\appdata\\local\\programs\\python\\python312\\lib\\site-packages (from matplotlib) (3.1.2)\n",
      "Requirement already satisfied: python-dateutil>=2.7 in c:\\users\\shong\\appdata\\local\\programs\\python\\python312\\lib\\site-packages (from matplotlib) (2.9.0.post0)\n",
      "Requirement already satisfied: six>=1.5 in c:\\users\\shong\\appdata\\local\\programs\\python\\python312\\lib\\site-packages (from python-dateutil>=2.7->matplotlib) (1.16.0)\n"
     ]
    }
   ],
   "source": [
    "!pip install matplotlib"
   ]
  },
  {
   "cell_type": "code",
   "execution_count": 7,
   "metadata": {},
   "outputs": [],
   "source": [
    "import numpy as np\n",
    "np.random.seed(12345)\n",
    "import matplotlib.pyplot as plt\n",
>>>>>>> a2fc80b917052043d36ef0a9ff96a01d0148ed5f
    "plt.rc(\"figure\", figsize=(10, 6))\n",
    "PREVIOUS_MAX_ROWS = pd.options.display.max_rows\n",
    "pd.options.display.max_rows = 20\n",
    "pd.options.display.max_columns = 20\n",
    "pd.options.display.max_colwidth = 80\n",
    "np.set_printoptions(precision=4, suppress=True)\n",
<<<<<<< HEAD
    "plt.rcParams[\"font.family\"] = 'Malgun Gothic' # 한글 폰트 변경 정보"
=======
    "plt.rcParams[\"font.family\"] = 'Malgun Gothic' # 폰트 변경 정보"
>>>>>>> a2fc80b917052043d36ef0a9ff96a01d0148ed5f
   ]
  },
  {
   "cell_type": "markdown",
   "metadata": {},
   "source": [
    "# 2. Series  \n",
<<<<<<< HEAD
    "    * 일련의 객체를 담을 수 있는 1차원 데이터(리스트, 튜플, 사전, 넘파이 1차원 배열) 벡터 같은 자료구조\n",
    "    * 파이썬의 일차원 데이터를 저장, 처리, 분석을 위한 다양한 기능들을 제공\n",
    "    * 인덱스와 값으로 구성"
=======
    "    * 일련의 객체를 담을 수 있는 1차원 데이터(스칼라, 리스트, 튜플, 사전) 벡터 같은 자료구조\n",
    "    * 파이썬의 일차원 데이터를 저장, 처리, 분석을 위한 다양한 기능들을 제공\n",
    "    * 인덱스와 값으로 구성\n"
>>>>>>> a2fc80b917052043d36ef0a9ff96a01d0148ed5f
   ]
  },
  {
   "cell_type": "markdown",
   "metadata": {},
   "source": [
    "## 2.1 Series 생성\n"
   ]
  },
  {
   "cell_type": "markdown",
   "metadata": {},
   "source": [
    "### 1) List를 사용하여 Series 생성\n",
<<<<<<< HEAD
    "    * pd.Series(리스트, index=)\n",
=======
    "    * pd.Series(리스트,index=)\n",
>>>>>>> a2fc80b917052043d36ef0a9ff96a01d0148ed5f
    "    * Series(리스트)"
   ]
  },
  {
   "cell_type": "code",
   "execution_count": 5,
   "metadata": {},
   "outputs": [
    {
     "data": {
      "text/plain": [
       "a    4\n",
       "b    7\n",
       "c   -5\n",
       "d    3\n",
       "dtype: int64"
      ]
     },
     "execution_count": 5,
     "metadata": {},
     "output_type": "execute_result"
    }
   ],
   "source": [
    "data = [4,7,-5,3] #파이썬의 리스트  타입 변수\n",
<<<<<<< HEAD
    "obj = pd.Series(data, index = [\"a\",\"b\",\"c\",\"d\"]) \n",
=======
    "obj = pd.Series(data, index = [\"a\",\"b\",\"c\",\"d\"]) # Series([4,7,-5,3])\n",
>>>>>>> a2fc80b917052043d36ef0a9ff96a01d0148ed5f
    "obj # 시리즈 객체 : 색인(0부터 시작)과 데이터"
   ]
  },
  {
   "cell_type": "code",
<<<<<<< HEAD
   "execution_count": 7,
=======
   "execution_count": 10,
>>>>>>> a2fc80b917052043d36ef0a9ff96a01d0148ed5f
   "metadata": {},
   "outputs": [
    {
     "data": {
      "text/plain": [
       "d    4\n",
       "b    7\n",
       "a   -5\n",
       "c    3\n",
       "dtype: int64"
      ]
     },
<<<<<<< HEAD
     "execution_count": 7,
=======
     "execution_count": 10,
>>>>>>> a2fc80b917052043d36ef0a9ff96a01d0148ed5f
     "metadata": {},
     "output_type": "execute_result"
    }
   ],
   "source": [
<<<<<<< HEAD
    "obj2 = pd.Series(data=[4, 7, -5, 3], index=[\"d\", \"b\", \"a\", \"c\"]) # 인덱스 라벨 지정하기\n",
    "obj2"
=======
    "# OR\n",
    "obj.index = [\"d\", \"b\", \"a\", \"c\"]\n",
    "obj"
   ]
  },
  {
   "cell_type": "code",
   "execution_count": 11,
   "metadata": {},
   "outputs": [
    {
     "data": {
      "text/plain": [
       "Index(['d', 'b', 'a', 'c'], dtype='object')"
      ]
     },
     "execution_count": 11,
     "metadata": {},
     "output_type": "execute_result"
    }
   ],
   "source": [
    "obj2 = pd.Series(data = [4, 7, -5, 3], index=[\"d\", \"b\", \"a\", \"c\"]) # 인덱스 라벨 지정하기\n",
    "obj2\n",
    "obj2.index # 지정된 인덱스 확인"
>>>>>>> a2fc80b917052043d36ef0a9ff96a01d0148ed5f
   ]
  },
  {
   "cell_type": "markdown",
   "metadata": {},
   "source": [
    "### 2) Tuple을 이용하여 Series 생성하기"
   ]
  },
  {
   "cell_type": "code",
<<<<<<< HEAD
   "execution_count": 9,
=======
   "execution_count": 7,
>>>>>>> a2fc80b917052043d36ef0a9ff96a01d0148ed5f
   "metadata": {},
   "outputs": [
    {
     "data": {
      "text/plain": [
       "one      3\n",
       "two      4\n",
       "three    1\n",
       "four     2\n",
       "dtype: int64"
      ]
     },
<<<<<<< HEAD
     "execution_count": 9,
=======
     "execution_count": 7,
>>>>>>> a2fc80b917052043d36ef0a9ff96a01d0148ed5f
     "metadata": {},
     "output_type": "execute_result"
    }
   ],
   "source": [
    "arr = (3,4,1,2) # tuple 타입\n",
<<<<<<< HEAD
    "data2 = pd.Series(arr, index= ['one','two','three','four'])\n",
=======
    "data2 = pd.Series(arr,index=[\"one\",\"two\",\"three\",\"four\"])\n",
>>>>>>> a2fc80b917052043d36ef0a9ff96a01d0148ed5f
    "data2"
   ]
  },
  {
   "cell_type": "markdown",
   "metadata": {},
   "source": [
    "### 3) Dict을 이용하여 Series 생성하기"
   ]
  },
  {
   "cell_type": "code",
<<<<<<< HEAD
   "execution_count": 13,
=======
   "execution_count": 11,
>>>>>>> a2fc80b917052043d36ef0a9ff96a01d0148ed5f
   "metadata": {},
   "outputs": [
    {
     "data": {
      "text/plain": [
       "Ohio      35000\n",
       "Texas     71000\n",
       "Oregon    16000\n",
       "Utah       5000\n",
       "dtype: int64"
      ]
     },
<<<<<<< HEAD
     "execution_count": 13,
=======
     "execution_count": 11,
>>>>>>> a2fc80b917052043d36ef0a9ff96a01d0148ed5f
     "metadata": {},
     "output_type": "execute_result"
    }
   ],
   "source": [
<<<<<<< HEAD
    "sdata = {\"Ohio\": 35000, \"Texas\": 71000, \"Oregon\": 16000, \"Utah\": 5000} # dict\n",
    "# dict의 메서드\n",
=======
    "sdata = {\"Ohio\": 35000, \"Texas\": 71000, \"Oregon\": 16000, \"Utah\": 5000} #dict\n",
    "#dict 메소드\n",
>>>>>>> a2fc80b917052043d36ef0a9ff96a01d0148ed5f
    "sdata.keys()\n",
    "sdata.values()\n",
    "sdata.items()\n",
    "obj3 = pd.Series(sdata) # Series  객체의 색인은 딕셔너리의 keys 메서드에서 반환하는 키의 값 순서대로 들어감\n",
    "obj3"
   ]
  },
  {
   "cell_type": "markdown",
   "metadata": {},
   "source": [
    "## ** 몇 가지  Series 특징들 **\n",
    "* Series.values 는 numpy의 ndarray 객체"
   ]
  },
  {
   "cell_type": "code",
<<<<<<< HEAD
   "execution_count": 15,
=======
   "execution_count": 12,
>>>>>>> a2fc80b917052043d36ef0a9ff96a01d0148ed5f
   "metadata": {},
   "outputs": [
    {
     "name": "stdout",
     "output_type": "stream",
     "text": [
      "[35000 71000 16000  5000]\n"
     ]
    },
    {
     "data": {
      "text/plain": [
       "numpy.ndarray"
      ]
     },
<<<<<<< HEAD
     "execution_count": 15,
=======
     "execution_count": 12,
>>>>>>> a2fc80b917052043d36ef0a9ff96a01d0148ed5f
     "metadata": {},
     "output_type": "execute_result"
    }
   ],
   "source": [
<<<<<<< HEAD
    "data = obj3.values # Series의 저장된 값들을 가져오기\n",
    "print(data)\n",
    "type(obj3.values) "
=======
    "data = obj3.values #Seriees의 저장된 값들을 가져오기\n",
    "print(data)\n",
    "type(obj3.values)  "
>>>>>>> a2fc80b917052043d36ef0a9ff96a01d0148ed5f
   ]
  },
  {
   "cell_type": "markdown",
   "metadata": {},
   "source": [
    "* 값에는 모든 데이터 타입 사용이 가능"
   ]
  },
  {
   "cell_type": "code",
   "execution_count": 16,
   "metadata": {},
   "outputs": [
    {
     "data": {
      "text/plain": [
       "{'Ohio': 35000, 'Texas': 71000, 'Oregon': 16000, 'Utah': 5000}"
      ]
     },
     "execution_count": 16,
     "metadata": {},
     "output_type": "execute_result"
    }
   ],
   "source": [
    "obj3.to_dict() # series -> python dictionary 변환"
   ]
  },
  {
   "cell_type": "markdown",
   "metadata": {},
   "source": [
    "## 2.2 Series의 주요 속성 및 메서드 (p.199)\n",
<<<<<<< HEAD
    "    * 시리즈.속성\n",
    "    * 시리즈.메서드()"
=======
    "  * 시리즈.속성\n",
    "  * 시리즈.메서드()"
>>>>>>> a2fc80b917052043d36ef0a9ff96a01d0148ed5f
   ]
  },
  {
   "cell_type": "markdown",
   "metadata": {},
   "source": [
    "* index - Series의 인덱스(혹은 인덱스 라벨) "
   ]
  },
  {
   "cell_type": "code",
<<<<<<< HEAD
   "execution_count": 18,
   "metadata": {},
=======
   "execution_count": 13,
   "metadata": {
    "scrolled": true
   },
>>>>>>> a2fc80b917052043d36ef0a9ff96a01d0148ed5f
   "outputs": [
    {
     "data": {
      "text/plain": [
       "California        NaN\n",
       "Ohio          35000.0\n",
       "Oregon        16000.0\n",
       "Texas         71000.0\n",
       "dtype: float64"
      ]
     },
<<<<<<< HEAD
     "execution_count": 18,
=======
     "execution_count": 13,
>>>>>>> a2fc80b917052043d36ef0a9ff96a01d0148ed5f
     "metadata": {},
     "output_type": "execute_result"
    }
   ],
   "source": [
<<<<<<< HEAD
    "sdata = {\"Ohio\": 35000, \"Texas\": 71000, \"Oregon\": 16000, \"Utah\": 5000} #dict\n",
    "states = [\"California\", \"Ohio\", \"Oregon\", \"Texas\"] #list\n",
    "obj4 = pd.Series(data = sdata, index=states)\n",
    "obj4  \n",
    "#NaN (Not a number) - null, 결측치"
   ]
  },
  {
   "cell_type": "code",
   "execution_count": 19,
   "metadata": {},
   "outputs": [
    {
     "data": {
      "text/plain": [
       "Index(['California', 'Ohio', 'Oregon', 'Texas'], dtype='object')"
      ]
     },
     "execution_count": 19,
     "metadata": {},
     "output_type": "execute_result"
    }
   ],
   "source": [
=======
    "sdata = {\"Ohio\": 35000, \"Texas\": 71000, \"Oregon\": 16000, \"Utah\": 5000}\n",
    "states = [\"California\", \"Ohio\", \"Oregon\", \"Texas\"] \n",
    "obj4 = pd.Series(sdata, index=states)\n",
    "obj4  \n",
    "#NaN (not a number) - null,결측치\n",
>>>>>>> a2fc80b917052043d36ef0a9ff96a01d0148ed5f
    "obj4.index"
   ]
  },
  {
   "cell_type": "markdown",
   "metadata": {},
   "source": [
<<<<<<< HEAD
    "* shape - Series의 데이터 개수을 튜플로 반환"
   ]
  },
  {
   "cell_type": "code",
   "execution_count": 84,
   "metadata": {},
   "outputs": [
    {
     "name": "stdout",
     "output_type": "stream",
     "text": [
      "state\n",
      "California        NaN\n",
      "Ohio          35000.0\n",
      "Oregon        16000.0\n",
      "Texas         35000.0\n",
      "Name: population, dtype: float64\n"
     ]
    },
    {
     "data": {
      "text/plain": [
       "(4,)"
      ]
     },
     "execution_count": 84,
     "metadata": {},
     "output_type": "execute_result"
    }
   ],
   "source": [
    "print(obj4)\n",
    "obj4.shape # (4,)"
=======
    "* shape - Series의 데이터 개수를 튜플로 반환"
>>>>>>> a2fc80b917052043d36ef0a9ff96a01d0148ed5f
   ]
  },
  {
   "cell_type": "markdown",
   "metadata": {},
   "source": [
    "* values - Series의 데이터"
   ]
  },
  {
   "cell_type": "code",
<<<<<<< HEAD
   "execution_count": 20,
=======
   "execution_count": 28,
>>>>>>> a2fc80b917052043d36ef0a9ff96a01d0148ed5f
   "metadata": {},
   "outputs": [
    {
     "data": {
      "text/plain": [
       "array([   nan, 35000., 16000., 71000.])"
      ]
     },
<<<<<<< HEAD
     "execution_count": 20,
=======
     "execution_count": 28,
>>>>>>> a2fc80b917052043d36ef0a9ff96a01d0148ed5f
     "metadata": {},
     "output_type": "execute_result"
    }
   ],
   "source": [
    "obj4.values"
   ]
  },
  {
   "cell_type": "markdown",
   "metadata": {},
   "source": [
    "* size - Series의 크기(데이터의 길이) "
   ]
  },
  {
   "cell_type": "code",
<<<<<<< HEAD
   "execution_count": 22,
=======
   "execution_count": 14,
>>>>>>> a2fc80b917052043d36ef0a9ff96a01d0148ed5f
   "metadata": {},
   "outputs": [
    {
     "name": "stdout",
     "output_type": "stream",
     "text": [
      "California        NaN\n",
      "Ohio          35000.0\n",
      "Oregon        16000.0\n",
      "Texas         71000.0\n",
<<<<<<< HEAD
      "dtype: float64\n",
      "\n"
=======
      "dtype: float64\n"
>>>>>>> a2fc80b917052043d36ef0a9ff96a01d0148ed5f
     ]
    },
    {
     "data": {
      "text/plain": [
       "4"
      ]
     },
<<<<<<< HEAD
     "execution_count": 22,
=======
     "execution_count": 14,
>>>>>>> a2fc80b917052043d36ef0a9ff96a01d0148ed5f
     "metadata": {},
     "output_type": "execute_result"
    }
   ],
   "source": [
    "print(obj4)\n",
<<<<<<< HEAD
    "print()\n",
=======
>>>>>>> a2fc80b917052043d36ef0a9ff96a01d0148ed5f
    "obj4.size"
   ]
  },
  {
   "cell_type": "markdown",
   "metadata": {},
   "source": [
    "* dtype - Series의 데이터(Series.values)의 데이터 타입\n",
    "  * int64\n",
    "  * float64\n",
    "  * object - 문지열이거나 2개 이상의 데이터 타입으로 이루어진 경우"
   ]
  },
  {
   "cell_type": "code",
<<<<<<< HEAD
   "execution_count": 23,
=======
   "execution_count": 30,
>>>>>>> a2fc80b917052043d36ef0a9ff96a01d0148ed5f
   "metadata": {},
   "outputs": [
    {
     "data": {
      "text/plain": [
       "dtype('float64')"
      ]
     },
<<<<<<< HEAD
     "execution_count": 23,
=======
     "execution_count": 30,
>>>>>>> a2fc80b917052043d36ef0a9ff96a01d0148ed5f
     "metadata": {},
     "output_type": "execute_result"
    }
   ],
   "source": [
    "obj4.dtype"
   ]
  },
  {
   "cell_type": "code",
<<<<<<< HEAD
   "execution_count": 25,
=======
   "execution_count": 17,
>>>>>>> a2fc80b917052043d36ef0a9ff96a01d0148ed5f
   "metadata": {},
   "outputs": [
    {
     "name": "stdout",
     "output_type": "stream",
     "text": [
      "0      2\n",
      "1    3.5\n",
      "2    abc\n",
<<<<<<< HEAD
      "dtype: object\n",
      "\n"
=======
      "dtype: object\n"
>>>>>>> a2fc80b917052043d36ef0a9ff96a01d0148ed5f
     ]
    },
    {
     "data": {
      "text/plain": [
       "dtype('O')"
      ]
     },
<<<<<<< HEAD
     "execution_count": 25,
=======
     "execution_count": 17,
>>>>>>> a2fc80b917052043d36ef0a9ff96a01d0148ed5f
     "metadata": {},
     "output_type": "execute_result"
    }
   ],
   "source": [
<<<<<<< HEAD
    "# ex\n",
    "s = pd.Series([2,3.5,'abc'])\n",
    "print(s)\n",
    "print()\n",
=======
    "# ex \n",
    "s = pd.Series([2,3.5,'abc'])\n",
    "print(s)\n",
>>>>>>> a2fc80b917052043d36ef0a9ff96a01d0148ed5f
    "s.dtype"
   ]
  },
  {
   "cell_type": "markdown",
   "metadata": {},
   "source": [
    "* describe() - 통계 정보를 한 눈에 제공해주는 함수"
   ]
  },
  {
   "cell_type": "code",
<<<<<<< HEAD
   "execution_count": 27,
=======
   "execution_count": 18,
>>>>>>> a2fc80b917052043d36ef0a9ff96a01d0148ed5f
   "metadata": {},
   "outputs": [
    {
     "name": "stdout",
     "output_type": "stream",
     "text": [
      "California        NaN\n",
      "Ohio          35000.0\n",
      "Oregon        16000.0\n",
      "Texas         71000.0\n",
      "dtype: float64\n",
      "\n"
     ]
    },
    {
     "data": {
      "text/plain": [
       "count        3.000000\n",
       "mean     40666.666667\n",
       "std      27934.447074\n",
       "min      16000.000000\n",
       "25%      25500.000000\n",
       "50%      35000.000000\n",
       "75%      53000.000000\n",
       "max      71000.000000\n",
       "dtype: float64"
      ]
     },
<<<<<<< HEAD
     "execution_count": 27,
=======
     "execution_count": 18,
>>>>>>> a2fc80b917052043d36ef0a9ff96a01d0148ed5f
     "metadata": {},
     "output_type": "execute_result"
    }
   ],
   "source": [
    "print(obj4)\n",
    "print()\n",
    "obj4.describe()"
   ]
  },
  {
   "cell_type": "markdown",
   "metadata": {},
   "source": [
    "* 통계함수 - max(), min(), mean()..  "
   ]
  },
  {
   "cell_type": "code",
<<<<<<< HEAD
   "execution_count": 28,
=======
   "execution_count": 33,
>>>>>>> a2fc80b917052043d36ef0a9ff96a01d0148ed5f
   "metadata": {},
   "outputs": [
    {
     "data": {
      "text/plain": [
       "71000.0"
      ]
     },
<<<<<<< HEAD
     "execution_count": 28,
=======
     "execution_count": 33,
>>>>>>> a2fc80b917052043d36ef0a9ff96a01d0148ed5f
     "metadata": {},
     "output_type": "execute_result"
    }
   ],
   "source": [
    "obj4.max()"
   ]
  },
  {
   "cell_type": "code",
<<<<<<< HEAD
   "execution_count": 29,
   "metadata": {},
   "outputs": [
    {
     "data": {
      "text/plain": [
       "16000.0"
      ]
     },
     "execution_count": 29,
     "metadata": {},
     "output_type": "execute_result"
    }
   ],
   "source": [
    "obj4.min()"
   ]
  },
  {
   "cell_type": "code",
=======
>>>>>>> a2fc80b917052043d36ef0a9ff96a01d0148ed5f
   "execution_count": 34,
   "metadata": {},
   "outputs": [
    {
     "data": {
      "text/plain": [
       "40666.666666666664"
      ]
     },
     "execution_count": 34,
     "metadata": {},
     "output_type": "execute_result"
    }
   ],
   "source": [
    "obj4.mean()"
   ]
  },
  {
<<<<<<< HEAD
=======
   "cell_type": "code",
   "execution_count": 35,
   "metadata": {},
   "outputs": [
    {
     "data": {
      "text/plain": [
       "16000.0"
      ]
     },
     "execution_count": 35,
     "metadata": {},
     "output_type": "execute_result"
    }
   ],
   "source": [
    "obj4.min()"
   ]
  },
  {
>>>>>>> a2fc80b917052043d36ef0a9ff96a01d0148ed5f
   "cell_type": "markdown",
   "metadata": {},
   "source": [
    "* isna() - 누락된 데이터를 찾을 때 불리언 배열을 반환\n",
    "* notna() -누락되지 않은 데이터을 찾을 때 불리언 배열로 반환"
   ]
  },
  {
   "cell_type": "code",
<<<<<<< HEAD
   "execution_count": 33,
=======
   "execution_count": 36,
>>>>>>> a2fc80b917052043d36ef0a9ff96a01d0148ed5f
   "metadata": {},
   "outputs": [
    {
     "data": {
      "text/plain": [
<<<<<<< HEAD
       "California    False\n",
       "Ohio           True\n",
       "Oregon         True\n",
       "Texas          True\n",
       "dtype: bool"
      ]
     },
     "execution_count": 33,
=======
       "California     True\n",
       "Ohio          False\n",
       "Oregon        False\n",
       "Texas         False\n",
       "dtype: bool"
      ]
     },
     "execution_count": 36,
>>>>>>> a2fc80b917052043d36ef0a9ff96a01d0148ed5f
     "metadata": {},
     "output_type": "execute_result"
    }
   ],
   "source": [
<<<<<<< HEAD
    "obj4.isna() # 불리언 시리즈\n",
    "obj4.notna()"
=======
    "pd.isna(obj4)  # obj4.isna()\n",
    "# pd.notna(obj4)"
>>>>>>> a2fc80b917052043d36ef0a9ff96a01d0148ed5f
   ]
  },
  {
   "cell_type": "markdown",
   "metadata": {},
   "source": [
    "* value_counts() - Series에 있는 데이터 값들의 개수\n",
    "* values"
   ]
  },
  {
   "cell_type": "code",
<<<<<<< HEAD
   "execution_count": 36,
=======
   "execution_count": 19,
>>>>>>> a2fc80b917052043d36ef0a9ff96a01d0148ed5f
   "metadata": {},
   "outputs": [
    {
     "name": "stdout",
     "output_type": "stream",
     "text": [
      "California        NaN\n",
      "Ohio          35000.0\n",
      "Oregon        16000.0\n",
<<<<<<< HEAD
      "Texas         35000.0\n",
=======
      "Texas         71000.0\n",
>>>>>>> a2fc80b917052043d36ef0a9ff96a01d0148ed5f
      "dtype: float64\n"
     ]
    },
    {
     "data": {
      "text/plain": [
<<<<<<< HEAD
       "35000.0    2\n",
       "16000.0    1\n",
       "Name: count, dtype: int64"
      ]
     },
     "execution_count": 36,
=======
       "35000.0    1\n",
       "16000.0    1\n",
       "71000.0    1\n",
       "Name: count, dtype: int64"
      ]
     },
     "execution_count": 19,
>>>>>>> a2fc80b917052043d36ef0a9ff96a01d0148ed5f
     "metadata": {},
     "output_type": "execute_result"
    }
   ],
   "source": [
<<<<<<< HEAD
    "sdata = {\"Ohio\": 35000, \"Texas\": 35000, \"Oregon\": 16000, \"Utah\": 5000} #dict\n",
    "states = [\"California\", \"Ohio\", \"Oregon\", \"Texas\"] #list\n",
    "obj4 = pd.Series(data = sdata, index=states)\n",
=======
    "obj5 = pd.Series()\n",
>>>>>>> a2fc80b917052043d36ef0a9ff96a01d0148ed5f
    "print(obj4)\n",
    "obj4.value_counts()"
   ]
  },
  {
   "cell_type": "markdown",
   "metadata": {},
   "source": [
<<<<<<< HEAD
    "* 시리즈 간 산술연산 :\n",
    "  * 시리즈1.add(시리즈2) - Series의 데이터 각각에 값을 더하기\n",
    "  * 시리즈1.mul(시리즈2) - Series의 데이터 각각에 값을 곱하기\n",
    "  * 시리즈1.sub(시리즈2) - Series의 데이터 각각에 값을 빼기\n",
    "  * 시리즈1.div(시리즈2) - Series의 데이터 각각에 값을 나누기\n",
    "* 시리즈 + 숫자 - broadcasting"
=======
    "* 시리즈간의 산술연산 :\n",
    "* 시리즈1.add(시리즈2) - Series의 데이터 각각에 값을 더하기\n",
    "* 시리즈1.mul(시리즈2) - Series의 데이터 각각에 값을 곱하기\n",
    "* 시리즈1.sub(시리즈2) - Series의 데이터 각각에 값을 빼기\n",
    "* 시리즈1.dev(시리즈2) - Series의 데이터 각각에 값을 나누기\n",
    "* 시리즈 + 숫자  broadcasting"
>>>>>>> a2fc80b917052043d36ef0a9ff96a01d0148ed5f
   ]
  },
  {
   "cell_type": "code",
<<<<<<< HEAD
   "execution_count": 38,
=======
   "execution_count": 20,
>>>>>>> a2fc80b917052043d36ef0a9ff96a01d0148ed5f
   "metadata": {},
   "outputs": [
    {
     "name": "stdout",
     "output_type": "stream",
     "text": [
      "Ohio      35000\n",
      "Texas     71000\n",
      "Oregon    16000\n",
      "Utah       5000\n",
      "dtype: int64\n",
<<<<<<< HEAD
      "\n",
      "California        NaN\n",
      "Ohio          35000.0\n",
      "Oregon        16000.0\n",
      "Texas         35000.0\n",
      "dtype: float64\n",
      "\n"
=======
      "California        NaN\n",
      "Ohio          35000.0\n",
      "Oregon        16000.0\n",
      "Texas         71000.0\n",
      "dtype: float64\n"
>>>>>>> a2fc80b917052043d36ef0a9ff96a01d0148ed5f
     ]
    },
    {
     "data": {
      "text/plain": [
       "California         NaN\n",
       "Ohio           70000.0\n",
       "Oregon         32000.0\n",
<<<<<<< HEAD
       "Texas         106000.0\n",
=======
       "Texas         142000.0\n",
>>>>>>> a2fc80b917052043d36ef0a9ff96a01d0148ed5f
       "Utah               NaN\n",
       "dtype: float64"
      ]
     },
<<<<<<< HEAD
     "execution_count": 38,
=======
     "execution_count": 20,
>>>>>>> a2fc80b917052043d36ef0a9ff96a01d0148ed5f
     "metadata": {},
     "output_type": "execute_result"
    }
   ],
   "source": [
    "print(obj3)\n",
<<<<<<< HEAD
    "print()\n",
    "print(obj4)\n",
    "print()\n",
=======
    "print(obj4)\n",
    "obj3 + obj4"
   ]
  },
  {
   "cell_type": "code",
   "execution_count": 29,
   "metadata": {},
   "outputs": [
    {
     "data": {
      "text/plain": [
       "California         NaN\n",
       "Ohio           70000.0\n",
       "Oregon         32000.0\n",
       "Texas         142000.0\n",
       "Utah               NaN\n",
       "dtype: float64"
      ]
     },
     "execution_count": 29,
     "metadata": {},
     "output_type": "execute_result"
    }
   ],
   "source": [
>>>>>>> a2fc80b917052043d36ef0a9ff96a01d0148ed5f
    "obj3.add(obj4)"
   ]
  },
  {
   "cell_type": "markdown",
   "metadata": {},
   "source": [
    "### [Quiz] 시리즈 obj4의 데이터에 1000을 더하시오"
   ]
  },
  {
   "cell_type": "code",
<<<<<<< HEAD
   "execution_count": null,
   "metadata": {},
   "outputs": [],
   "source": []
=======
   "execution_count": 21,
   "metadata": {},
   "outputs": [
    {
     "data": {
      "text/plain": [
       "California        NaN\n",
       "Ohio          36000.0\n",
       "Oregon        17000.0\n",
       "Texas         72000.0\n",
       "dtype: float64"
      ]
     },
     "execution_count": 21,
     "metadata": {},
     "output_type": "execute_result"
    }
   ],
   "source": [
    "obj4 + 1000"
   ]
>>>>>>> a2fc80b917052043d36ef0a9ff96a01d0148ed5f
  },
  {
   "cell_type": "markdown",
   "metadata": {},
   "source": [
    "* series.isin(val_list) - Series에 있는 각각의 데이터를 vali_list 에 포함되어 있는지 여부를 확인하여 불리언 배열 반환\n",
    "\n",
    "cf) val_list in series"
   ]
  },
  {
   "cell_type": "code",
<<<<<<< HEAD
   "execution_count": 40,
   "metadata": {},
   "outputs": [
    {
     "name": "stdout",
     "output_type": "stream",
     "text": [
      "a     89\n",
      "b     90\n",
      "c     78\n",
      "d     65\n",
      "e     90\n",
      "f    100\n",
      "g     78\n",
      "h     55\n",
      "i     40\n",
      "j     90\n",
      "dtype: int64\n",
      "\n"
     ]
    },
    {
=======
   "execution_count": 23,
   "metadata": {},
   "outputs": [
    {
>>>>>>> a2fc80b917052043d36ef0a9ff96a01d0148ed5f
     "data": {
      "text/plain": [
       "a     True\n",
       "b    False\n",
       "c    False\n",
       "d    False\n",
       "e    False\n",
       "f    False\n",
       "g    False\n",
       "h    False\n",
       "i    False\n",
       "j    False\n",
       "dtype: bool"
      ]
     },
<<<<<<< HEAD
     "execution_count": 40,
=======
     "execution_count": 23,
>>>>>>> a2fc80b917052043d36ef0a9ff96a01d0148ed5f
     "metadata": {},
     "output_type": "execute_result"
    }
   ],
   "source": [
    "sample = Series(data=[89,90,78,65,90,100,78,55,40,90], index=['a','b','c','d','e','f','g','h','i','j'])\n",
<<<<<<< HEAD
    "print(sample)\n",
    "print()\n",
=======
>>>>>>> a2fc80b917052043d36ef0a9ff96a01d0148ed5f
    "sample.isin([89])"
   ]
  },
  {
   "cell_type": "markdown",
   "metadata": {},
   "source": [
    "### [Quiz] sample 데이터 내에 90, 89가 있는지 확인하시오"
   ]
  },
  {
   "cell_type": "code",
   "execution_count": null,
   "metadata": {},
   "outputs": [],
   "source": []
  },
  {
   "cell_type": "markdown",
   "metadata": {},
   "source": [
    "### [Quiz] sample 데이터 내에 90이 있으면 True, 없으면 False을 출력"
   ]
  },
  {
   "cell_type": "code",
   "execution_count": null,
   "metadata": {},
   "outputs": [],
   "source": []
  },
  {
   "cell_type": "markdown",
   "metadata": {},
   "source": [
    "### [Quiz] sample 인덱스 내에 'b' 있는지 True, 없으면 False을 출력"
   ]
  },
  {
   "cell_type": "code",
   "execution_count": null,
   "metadata": {},
   "outputs": [],
   "source": []
  },
  {
   "cell_type": "markdown",
   "metadata": {},
   "source": [
<<<<<<< HEAD
    "* 매우 중요해요!!!!!\n",
    "* 시리즈.apply(func) - Series의 데이터에 func 함수를 적용하기 위한 함수\n",
    "* 시리즈.apply(lambda X: 함수 또는 처리 연산)"
=======
    " 매우 중요함\n",
    "* 시리즈.apply(func) - Series의 데이터에 func 함수를 적용하기 위한 함수\n",
    "* 시리즈.apply(lambda X: 한수 또는 처리 연산)"
>>>>>>> a2fc80b917052043d36ef0a9ff96a01d0148ed5f
   ]
  },
  {
   "cell_type": "code",
<<<<<<< HEAD
   "execution_count": 44,
=======
   "execution_count": 25,
>>>>>>> a2fc80b917052043d36ef0a9ff96a01d0148ed5f
   "metadata": {},
   "outputs": [
    {
     "data": {
      "text/plain": [
       "pandas.core.series.Series"
      ]
     },
<<<<<<< HEAD
     "execution_count": 44,
=======
     "execution_count": 25,
>>>>>>> a2fc80b917052043d36ef0a9ff96a01d0148ed5f
     "metadata": {},
     "output_type": "execute_result"
    }
   ],
   "source": [
<<<<<<< HEAD
    "# 문제: 시리즈 sample의 각 데이터가 60 이상이면 pass, 60 미만이면 fail로 변경해서 결과을 출력하기\n",
    "# 1. 사용자 정의 함수 : 데이터가 60 이상이면 pass, 60 미만이면 fail 처리\n",
=======
    "# 문제:시리즈 sample의 각 데이터가 60 이상이면 pass, 60 미만이면 fail로 변경해서 결과를 출력하기\n",
    "# 1.사용자 정의 함수: 데이터가 60 이상이면 pass, 60미만이면 fail 처리\n",
>>>>>>> a2fc80b917052043d36ef0a9ff96a01d0148ed5f
    "def pass_fail(val):\n",
    "    if val >= 60:\n",
    "        return 'pass'\n",
    "    else:\n",
    "        return 'fail'\n",
    "\n",
<<<<<<< HEAD
    "# 2. 지정 함수 적용하여 60점이상인 값들만 출력\n",
    "result = sample.apply(pass_fail)\n",
=======
    "# 2. 지정한 함수 적용하여60점이상 값들만 출력\n",
    "result  = sample.apply(pass_fail)\n",
>>>>>>> a2fc80b917052043d36ef0a9ff96a01d0148ed5f
    "result\n",
    "type(result)"
   ]
  },
  {
   "cell_type": "code",
<<<<<<< HEAD
   "execution_count": 45,
=======
   "execution_count": 26,
>>>>>>> a2fc80b917052043d36ef0a9ff96a01d0148ed5f
   "metadata": {},
   "outputs": [
    {
     "data": {
      "text/plain": [
       "a    pass\n",
       "b    pass\n",
       "c    pass\n",
       "d    pass\n",
       "e    pass\n",
       "f    pass\n",
       "g    pass\n",
       "h    fail\n",
       "i    fail\n",
       "j    pass\n",
       "dtype: object"
      ]
     },
<<<<<<< HEAD
     "execution_count": 45,
=======
     "execution_count": 26,
>>>>>>> a2fc80b917052043d36ef0a9ff96a01d0148ed5f
     "metadata": {},
     "output_type": "execute_result"
    }
   ],
   "source": [
    "# 익명함수로 코딩\n",
    "sample.apply(lambda val: 'pass' if val >= 60 else 'fail')"
   ]
  },
  {
   "cell_type": "markdown",
   "metadata": {},
   "source": [
    "## 2.3 Series 객체와 색인의 이름 지정하기\n",
    "    * Series.name\n",
    "    * Series.index.name"
   ]
  },
  {
   "cell_type": "code",
<<<<<<< HEAD
   "execution_count": 49,
=======
   "execution_count": 46,
>>>>>>> a2fc80b917052043d36ef0a9ff96a01d0148ed5f
   "metadata": {},
   "outputs": [
    {
     "data": {
      "text/plain": [
       "state\n",
       "California        NaN\n",
       "Ohio          35000.0\n",
       "Oregon        16000.0\n",
<<<<<<< HEAD
       "Texas         35000.0\n",
       "Name: population, dtype: float64"
      ]
     },
     "execution_count": 49,
=======
       "Texas         71000.0\n",
       "Name: population, dtype: float64"
      ]
     },
     "execution_count": 46,
>>>>>>> a2fc80b917052043d36ef0a9ff96a01d0148ed5f
     "metadata": {},
     "output_type": "execute_result"
    }
   ],
   "source": [
<<<<<<< HEAD
    "obj4\n",
=======
>>>>>>> a2fc80b917052043d36ef0a9ff96a01d0148ed5f
    "obj4.name = \"population\"\n",
    "obj4.index.name = \"state\"\n",
    "obj4"
   ]
  },
  {
   "cell_type": "markdown",
   "metadata": {},
   "source": [
    "## 2.4 원하는 데이터만 선택하기 (p.205~208 색인하기, 선택하기, 거르기)\n",
<<<<<<< HEAD
    "* 인덱스를 활용:  특정 인덱스(들)에 해당하는 데이터 선택\n",
    "  * 시리즈[인덱스]\n",
    "* 인덱스 슬라이싱: 주어진 범위에 해당하는 데이터를 선택\n",
    "  * 시리즈[start:end:step]\n",
    "* 시리즈.loc[인덱스], 시리즈.iloc[인덱스]\n",
    "* 조건 색인(불리언 색인)을 활용하여 조건에 맞는 데이터 선택\n",
    "  * 시리즈[조건식]"
=======
    "* 인덱스를 활용: 특정 인덱스(들)에 해당하는 데이터 선택\n",
    "   * 시리즈[인덱스]\n",
    "* 인덱스 슬라이싱: 주어진 범위에 해당하는 데이터를 선택\n",
    "  * 시리즈[start:end:step]\n",
    "* 조건 색인(불리언 색인)을 활용: 조건에 맞는 데이터 선택\n",
    "   * 시리즈[조건식]"
>>>>>>> a2fc80b917052043d36ef0a9ff96a01d0148ed5f
   ]
  },
  {
   "cell_type": "markdown",
   "metadata": {},
   "source": [
    "    1) 특정 인덱스 선택하기 : 숫자 인덱스와 인덱스 라벨 모두 사용 가능"
   ]
  },
  {
   "cell_type": "code",
<<<<<<< HEAD
   "execution_count": 53,
=======
   "execution_count": 27,
>>>>>>> a2fc80b917052043d36ef0a9ff96a01d0148ed5f
   "metadata": {},
   "outputs": [
    {
     "name": "stdout",
     "output_type": "stream",
     "text": [
      "[0 1 2 3 4 5 6 7 8 9]\n"
     ]
<<<<<<< HEAD
    }
   ],
   "source": [
    "list(range(10)) # [0, 1, 2, 3, 4, 5, 6, 7, 8, 9]\n",
    "print(np.arange(10))"
   ]
  },
  {
   "cell_type": "markdown",
   "metadata": {},
   "source": [
    "#### <넘파이 1차원 배열로 시리즈 생성하기>"
   ]
  },
  {
   "cell_type": "code",
   "execution_count": 54,
   "metadata": {},
   "outputs": [
=======
    },
>>>>>>> a2fc80b917052043d36ef0a9ff96a01d0148ed5f
    {
     "data": {
      "text/plain": [
       "a    0.0\n",
       "b    1.0\n",
       "c    2.0\n",
       "d    3.0\n",
       "dtype: float64"
      ]
     },
<<<<<<< HEAD
     "execution_count": 54,
=======
     "execution_count": 27,
>>>>>>> a2fc80b917052043d36ef0a9ff96a01d0148ed5f
     "metadata": {},
     "output_type": "execute_result"
    }
   ],
   "source": [
<<<<<<< HEAD
    "obj = pd.Series(data= np.arange(4.0), index=[\"a\", \"b\", \"c\", \"d\"])\n",
=======
    "list(range(10))\n",
    "print(np.arange(10))\n",
    "obj = pd.Series(np.arange(4.0), index=[\"a\", \"b\", \"c\", \"d\"])\n",
>>>>>>> a2fc80b917052043d36ef0a9ff96a01d0148ed5f
    "obj"
   ]
  },
  {
   "cell_type": "code",
<<<<<<< HEAD
   "execution_count": 58,
=======
   "execution_count": 48,
>>>>>>> a2fc80b917052043d36ef0a9ff96a01d0148ed5f
   "metadata": {},
   "outputs": [
    {
     "data": {
      "text/plain": [
       "1.0"
      ]
     },
<<<<<<< HEAD
     "execution_count": 58,
=======
     "execution_count": 48,
>>>>>>> a2fc80b917052043d36ef0a9ff96a01d0148ed5f
     "metadata": {},
     "output_type": "execute_result"
    }
   ],
   "source": [
    "obj[\"b\"] # 인덱스 라벨로 선택"
   ]
  },
  {
<<<<<<< HEAD
=======
   "cell_type": "code",
   "execution_count": 49,
   "metadata": {},
   "outputs": [
    {
     "name": "stderr",
     "output_type": "stream",
     "text": [
      "C:\\Users\\USER\\AppData\\Local\\Temp\\ipykernel_20728\\1219467131.py:1: FutureWarning: Series.__getitem__ treating keys as positions is deprecated. In a future version, integer keys will always be treated as labels (consistent with DataFrame behavior). To access a value by position, use `ser.iloc[pos]`\n",
      "  obj[1]\n"
     ]
    },
    {
     "data": {
      "text/plain": [
       "1.0"
      ]
     },
     "execution_count": 49,
     "metadata": {},
     "output_type": "execute_result"
    }
   ],
   "source": [
    "obj[1] "
   ]
  },
  {
>>>>>>> a2fc80b917052043d36ef0a9ff96a01d0148ed5f
   "cell_type": "markdown",
   "metadata": {},
   "source": [
    "    2) 여러 인덱스를 동시에 선택하기 : 선택하고자 하는 인덱스 목록을 리스트로 전달"
   ]
  },
  {
   "cell_type": "code",
<<<<<<< HEAD
   "execution_count": 59,
   "metadata": {},
   "outputs": [
    {
=======
   "execution_count": 50,
   "metadata": {},
   "outputs": [
    {
     "name": "stderr",
     "output_type": "stream",
     "text": [
      "C:\\Users\\USER\\AppData\\Local\\Temp\\ipykernel_20728\\3784378537.py:1: FutureWarning: Series.__getitem__ treating keys as positions is deprecated. In a future version, integer keys will always be treated as labels (consistent with DataFrame behavior). To access a value by position, use `ser.iloc[pos]`\n",
      "  obj[[1,3]]  # 2, 4번쩨 데이터 선택\n"
     ]
    },
    {
>>>>>>> a2fc80b917052043d36ef0a9ff96a01d0148ed5f
     "data": {
      "text/plain": [
       "b    1.0\n",
       "d    3.0\n",
       "dtype: float64"
      ]
     },
<<<<<<< HEAD
     "execution_count": 59,
=======
     "execution_count": 50,
>>>>>>> a2fc80b917052043d36ef0a9ff96a01d0148ed5f
     "metadata": {},
     "output_type": "execute_result"
    }
   ],
   "source": [
<<<<<<< HEAD
    "obj[[\"b\",\"d\"]]  # 2, 4번쩨 데이터 선택"
=======
    "obj[[1,3]]  # 2, 4번쩨 데이터 선택"
>>>>>>> a2fc80b917052043d36ef0a9ff96a01d0148ed5f
   ]
  },
  {
   "cell_type": "code",
   "execution_count": 51,
   "metadata": {},
   "outputs": [
    {
     "data": {
      "text/plain": [
       "b    1.0\n",
       "d    3.0\n",
       "dtype: float64"
      ]
     },
     "execution_count": 51,
     "metadata": {},
     "output_type": "execute_result"
    }
   ],
   "source": [
    "obj[['b','d']]"
   ]
  },
  {
   "cell_type": "markdown",
   "metadata": {},
   "source": [
    "    3) 인덱스 슬라이싱 - 주어진 범위에 해당하는 데이터 선택"
   ]
  },
  {
   "cell_type": "code",
<<<<<<< HEAD
   "execution_count": 60,
=======
   "execution_count": 52,
>>>>>>> a2fc80b917052043d36ef0a9ff96a01d0148ed5f
   "metadata": {},
   "outputs": [
    {
     "data": {
      "text/plain": [
       "b    1.0\n",
       "c    2.0\n",
       "dtype: float64"
      ]
     },
<<<<<<< HEAD
     "execution_count": 60,
=======
     "execution_count": 52,
>>>>>>> a2fc80b917052043d36ef0a9ff96a01d0148ed5f
     "metadata": {},
     "output_type": "execute_result"
    }
   ],
   "source": [
<<<<<<< HEAD
    "obj[1:3] # 1, 2"
=======
    "obj[1:3]"
>>>>>>> a2fc80b917052043d36ef0a9ff96a01d0148ed5f
   ]
  },
  {
   "cell_type": "code",
<<<<<<< HEAD
   "execution_count": 61,
=======
   "execution_count": 53,
>>>>>>> a2fc80b917052043d36ef0a9ff96a01d0148ed5f
   "metadata": {},
   "outputs": [
    {
     "data": {
      "text/plain": [
       "b    1.0\n",
       "c    2.0\n",
       "dtype: float64"
      ]
     },
<<<<<<< HEAD
     "execution_count": 61,
=======
     "execution_count": 53,
>>>>>>> a2fc80b917052043d36ef0a9ff96a01d0148ed5f
     "metadata": {},
     "output_type": "execute_result"
    }
   ],
   "source": [
    "obj[-3:-1]"
   ]
  },
  {
<<<<<<< HEAD
   "cell_type": "code",
   "execution_count": 62,
=======
   "cell_type": "markdown",
   "metadata": {},
   "source": [
    "## loc[] ,iloc[]"
   ]
  },
  {
   "cell_type": "code",
   "execution_count": 54,
>>>>>>> a2fc80b917052043d36ef0a9ff96a01d0148ed5f
   "metadata": {},
   "outputs": [
    {
     "data": {
      "text/plain": [
       "b    1.0\n",
       "c    2.0\n",
       "dtype: float64"
      ]
     },
<<<<<<< HEAD
     "execution_count": 62,
=======
     "execution_count": 54,
>>>>>>> a2fc80b917052043d36ef0a9ff96a01d0148ed5f
     "metadata": {},
     "output_type": "execute_result"
    }
   ],
   "source": [
    "obj['b':'c'] # 레이블별 인덱스는 포함"
   ]
  },
  {
<<<<<<< HEAD
   "cell_type": "markdown",
   "metadata": {},
   "source": [
    "    4) loc[], iloc[]"
   ]
  },
  {
   "cell_type": "code",
   "execution_count": 63,
=======
   "cell_type": "code",
   "execution_count": 55,
>>>>>>> a2fc80b917052043d36ef0a9ff96a01d0148ed5f
   "metadata": {},
   "outputs": [
    {
     "data": {
      "text/plain": [
       "b    1.0\n",
       "c    2.0\n",
       "dtype: float64"
      ]
     },
<<<<<<< HEAD
     "execution_count": 63,
=======
     "execution_count": 55,
>>>>>>> a2fc80b917052043d36ef0a9ff96a01d0148ed5f
     "metadata": {},
     "output_type": "execute_result"
    }
   ],
   "source": [
    "obj.loc[['b','c']]"
   ]
  },
  {
   "cell_type": "code",
<<<<<<< HEAD
   "execution_count": 64,
=======
   "execution_count": 56,
>>>>>>> a2fc80b917052043d36ef0a9ff96a01d0148ed5f
   "metadata": {},
   "outputs": [
    {
     "data": {
      "text/plain": [
       "b    1.0\n",
       "c    2.0\n",
       "dtype: float64"
      ]
     },
<<<<<<< HEAD
     "execution_count": 64,
=======
     "execution_count": 56,
>>>>>>> a2fc80b917052043d36ef0a9ff96a01d0148ed5f
     "metadata": {},
     "output_type": "execute_result"
    }
   ],
   "source": [
    "obj.iloc[[1,2]]"
   ]
  },
  {
   "cell_type": "markdown",
   "metadata": {},
   "source": [
    "    4) **조건 색인(블리언 인덱싱)** : 조건 색인을 활용하여 원하는 데이터 선택"
   ]
  },
  {
   "cell_type": "code",
<<<<<<< HEAD
   "execution_count": 65,
   "metadata": {},
   "outputs": [
    {
     "data": {
      "text/plain": [
       "a    0.0\n",
       "b    1.0\n",
       "c    2.0\n",
       "d    3.0\n",
       "dtype: float64"
      ]
     },
     "execution_count": 65,
     "metadata": {},
     "output_type": "execute_result"
    }
   ],
   "source": [
    "obj"
   ]
  },
  {
   "cell_type": "code",
   "execution_count": 66,
=======
   "execution_count": 29,
>>>>>>> a2fc80b917052043d36ef0a9ff96a01d0148ed5f
   "metadata": {},
   "outputs": [
    {
     "data": {
      "text/plain": [
       "a     True\n",
       "b     True\n",
       "c    False\n",
       "d    False\n",
       "dtype: bool"
      ]
     },
<<<<<<< HEAD
     "execution_count": 66,
=======
     "execution_count": 29,
>>>>>>> a2fc80b917052043d36ef0a9ff96a01d0148ed5f
     "metadata": {},
     "output_type": "execute_result"
    }
   ],
   "source": [
<<<<<<< HEAD
    "# 1. 조건식 정의+\n",
=======
    "# 1. 조건식 정의 + \n",
>>>>>>> a2fc80b917052043d36ef0a9ff96a01d0148ed5f
    "bool_index = obj < 2 # 조건 색인\n",
    "bool_index"
   ]
  },
  {
   "cell_type": "code",
<<<<<<< HEAD
   "execution_count": 67,
=======
   "execution_count": 30,
>>>>>>> a2fc80b917052043d36ef0a9ff96a01d0148ed5f
   "metadata": {},
   "outputs": [
    {
     "data": {
      "text/plain": [
       "a    0.0\n",
       "b    1.0\n",
       "dtype: float64"
      ]
     },
<<<<<<< HEAD
     "execution_count": 67,
=======
     "execution_count": 30,
>>>>>>> a2fc80b917052043d36ef0a9ff96a01d0148ed5f
     "metadata": {},
     "output_type": "execute_result"
    }
   ],
   "source": [
<<<<<<< HEAD
    "# 2. 조건 색인을 이용하여 True에 해당하는 데이터 추출 -> 새로운 시리즈 \n",
=======
    "# 2. 조건 색인을 이용하여 True에 해당되는 데이터 추출-> 새로운 시리즈\n",
>>>>>>> a2fc80b917052043d36ef0a9ff96a01d0148ed5f
    "obj[bool_index]"
   ]
  },
  {
   "cell_type": "markdown",
   "metadata": {},
   "source": [
<<<<<<< HEAD
    "### [Quiz] sample 데이터에서 80 이상 데이터을 선택하시오.\n",
=======
    "### [quiz] sample 데이터에서 80 이상 데이터을 선택하시오.\n",
>>>>>>> a2fc80b917052043d36ef0a9ff96a01d0148ed5f
    "    sample = Series(data=[89,90,78,65,90,100,78,55,40,90], index=['a','b','c','d','e','f','g','h','i','j'])"
   ]
  },
  {
   "cell_type": "code",
   "execution_count": null,
   "metadata": {},
   "outputs": [],
   "source": []
  },
  {
   "cell_type": "markdown",
   "metadata": {},
   "source": [
    "### [Quiz] sample 데이터의 평균보다 작은 데이터만 선택하시오."
   ]
  },
  {
   "cell_type": "code",
   "execution_count": null,
   "metadata": {},
   "outputs": [],
   "source": []
  },
  {
   "cell_type": "markdown",
   "metadata": {},
   "source": [
    "### [Quiz] sample 데이터가 60과 80 사이의 데이터만 선택"
   ]
  },
  {
   "cell_type": "code",
   "execution_count": null,
   "metadata": {},
   "outputs": [],
   "source": []
  },
  {
   "cell_type": "markdown",
   "metadata": {},
   "source": [
    "# 3. DataFrame\n",
<<<<<<< HEAD
    "* 이차원 형태의 데이터(중첩된 리스트, 딕셔너리, 넘파이 이차원 배열)을 저장, 처리, 관리, 분석하기 위한 자료구조\n",
=======
    "* 이차원 형태의 데이터(중첩된리스트,딕셔너리,넘파이 이차원 배열)을 저장, 처리, 관리, 분석하기 위한 자료구조\n",
>>>>>>> a2fc80b917052043d36ef0a9ff96a01d0148ed5f
    "* 이차원 데이터는 여러 개의 1차원 데이터들의 모임\n",
    "* 여러 개의 Series의 묶음\n",
    "* 표 같은 스프레드시트 형식의 자료구조\n",
    "  * 여러 개의 열이 존재하고 서로 다른 종류의 값(숫자, 문지열, 시계열, 불리언 등) 을 담을 수 있다.\n",
    "* 2차원 형태의 데이터(값, value)와 2개의 인덱스(index) 즉 행과 열로 구성\n",
    "  * row index는 순서가 존재\n",
    "    * 숫자 인덱스나 문자 인덱스로 색인 가능\n",
    "    * axis = 0\n",
    "  * column index는 순서가 존재하지 않음\n",
    "    * axis = 1\n",
    "  * 2차원 형태의 데이터 타입에는 제약이 없음\n",
    "* 생성하는 방법\n",
    "  * 동일한 길이의 리스트에 담긴 딕셔너리를 이용\n",
    "  * 넘파이 배열을 이용"
   ]
  },
  {
   "cell_type": "markdown",
   "metadata": {},
   "source": [
    "## 3.1 중첩리스트을 이용하여 DataFrame 생성"
   ]
  },
  {
   "cell_type": "code",
<<<<<<< HEAD
   "execution_count": 68,
=======
   "execution_count": 65,
>>>>>>> a2fc80b917052043d36ef0a9ff96a01d0148ed5f
   "metadata": {},
   "outputs": [
    {
     "data": {
      "text/html": [
       "<div>\n",
       "<style scoped>\n",
       "    .dataframe tbody tr th:only-of-type {\n",
       "        vertical-align: middle;\n",
       "    }\n",
       "\n",
       "    .dataframe tbody tr th {\n",
       "        vertical-align: top;\n",
       "    }\n",
       "\n",
       "    .dataframe thead th {\n",
       "        text-align: right;\n",
       "    }\n",
       "</style>\n",
       "<table border=\"1\" class=\"dataframe\">\n",
       "  <thead>\n",
       "    <tr style=\"text-align: right;\">\n",
       "      <th></th>\n",
       "      <th>0</th>\n",
       "      <th>1</th>\n",
       "      <th>2</th>\n",
       "    </tr>\n",
       "  </thead>\n",
       "  <tbody>\n",
       "    <tr>\n",
       "      <th>0</th>\n",
       "      <td>1</td>\n",
       "      <td>2</td>\n",
       "      <td>3</td>\n",
       "    </tr>\n",
       "    <tr>\n",
       "      <th>1</th>\n",
       "      <td>kim</td>\n",
       "      <td>park</td>\n",
       "      <td>lee</td>\n",
       "    </tr>\n",
       "    <tr>\n",
       "      <th>2</th>\n",
       "      <td>90</td>\n",
       "      <td>80</td>\n",
       "      <td>100</td>\n",
       "    </tr>\n",
       "  </tbody>\n",
       "</table>\n",
       "</div>"
      ],
      "text/plain": [
       "     0     1    2\n",
       "0    1     2    3\n",
       "1  kim  park  lee\n",
       "2   90    80  100"
      ]
     },
<<<<<<< HEAD
     "execution_count": 68,
=======
     "execution_count": 65,
>>>>>>> a2fc80b917052043d36ef0a9ff96a01d0148ed5f
     "metadata": {},
     "output_type": "execute_result"
    }
   ],
   "source": [
    "#1. Pandas 라이브러리 임포트\n",
    "import pandas as pd\n",
    "from pandas import Series, DataFrame\n",
    "# 2. DataFrame 생성하고 데이터 할당하기 : 로우 인덱스와 컬럼 인덱스을  지정하지 않을 경우 기본값으로 할당\n",
    "df = DataFrame(data = [[1,2,3],\n",
    "                       ['kim','park','lee'],\n",
    "                       [90, 80, 100]\n",
    "                      ])\n",
    "df"
   ]
  },
  {
   "cell_type": "code",
<<<<<<< HEAD
   "execution_count": 70,
=======
   "execution_count": 38,
>>>>>>> a2fc80b917052043d36ef0a9ff96a01d0148ed5f
   "metadata": {},
   "outputs": [
    {
     "data": {
      "text/html": [
       "<div>\n",
       "<style scoped>\n",
       "    .dataframe tbody tr th:only-of-type {\n",
       "        vertical-align: middle;\n",
       "    }\n",
       "\n",
       "    .dataframe tbody tr th {\n",
       "        vertical-align: top;\n",
       "    }\n",
       "\n",
       "    .dataframe thead th {\n",
       "        text-align: right;\n",
       "    }\n",
       "</style>\n",
       "<table border=\"1\" class=\"dataframe\">\n",
       "  <thead>\n",
       "    <tr style=\"text-align: right;\">\n",
       "      <th></th>\n",
       "      <th>c1</th>\n",
       "      <th>c2</th>\n",
       "      <th>c3</th>\n",
       "    </tr>\n",
       "  </thead>\n",
       "  <tbody>\n",
       "    <tr>\n",
       "      <th>r1</th>\n",
       "      <td>1</td>\n",
       "      <td>2</td>\n",
       "      <td>3</td>\n",
       "    </tr>\n",
       "    <tr>\n",
       "      <th>r2</th>\n",
       "      <td>kim</td>\n",
       "      <td>park</td>\n",
       "      <td>lee</td>\n",
       "    </tr>\n",
       "    <tr>\n",
       "      <th>r3</th>\n",
       "      <td>90</td>\n",
       "      <td>80</td>\n",
       "      <td>100</td>\n",
       "    </tr>\n",
       "  </tbody>\n",
       "</table>\n",
       "</div>"
      ],
      "text/plain": [
       "     c1    c2   c3\n",
       "r1    1     2    3\n",
       "r2  kim  park  lee\n",
       "r3   90    80  100"
      ]
     },
<<<<<<< HEAD
     "execution_count": 70,
=======
     "execution_count": 38,
>>>>>>> a2fc80b917052043d36ef0a9ff96a01d0148ed5f
     "metadata": {},
     "output_type": "execute_result"
    }
   ],
   "source": [
    "#3. 로우 인덱스와 컬럼 인덱스 지정하기\n",
    "df1 = DataFrame(data = [[1,2,3],\n",
    "                       ['kim','park','lee'],\n",
    "                       [90, 80, 100]], index = ['r1','r2','r3'], columns =['c1','c2','c3'])\n",
    "df1"
   ]
  },
  {
   "cell_type": "markdown",
   "metadata": {},
   "source": [
    "## 3.2 딕셔너리을 이용하여 DataFrame 생성하기"
   ]
  },
  {
   "cell_type": "code",
<<<<<<< HEAD
   "execution_count": 74,
   "metadata": {},
=======
   "execution_count": 43,
   "metadata": {
    "scrolled": true
   },
>>>>>>> a2fc80b917052043d36ef0a9ff96a01d0148ed5f
   "outputs": [
    {
     "data": {
      "text/html": [
       "<div>\n",
       "<style scoped>\n",
       "    .dataframe tbody tr th:only-of-type {\n",
       "        vertical-align: middle;\n",
       "    }\n",
       "\n",
       "    .dataframe tbody tr th {\n",
       "        vertical-align: top;\n",
       "    }\n",
       "\n",
       "    .dataframe thead th {\n",
       "        text-align: right;\n",
       "    }\n",
       "</style>\n",
       "<table border=\"1\" class=\"dataframe\">\n",
       "  <thead>\n",
       "    <tr style=\"text-align: right;\">\n",
       "      <th></th>\n",
       "      <th>state</th>\n",
       "      <th>year</th>\n",
       "      <th>pop</th>\n",
       "    </tr>\n",
       "  </thead>\n",
       "  <tbody>\n",
       "    <tr>\n",
       "      <th>0</th>\n",
       "      <td>Ohio</td>\n",
       "      <td>2000</td>\n",
       "      <td>1.5</td>\n",
       "    </tr>\n",
       "    <tr>\n",
       "      <th>1</th>\n",
       "      <td>Ohio</td>\n",
       "      <td>2001</td>\n",
       "      <td>1.7</td>\n",
       "    </tr>\n",
       "    <tr>\n",
       "      <th>2</th>\n",
       "      <td>Ohio</td>\n",
       "      <td>2002</td>\n",
       "      <td>3.6</td>\n",
       "    </tr>\n",
       "    <tr>\n",
       "      <th>3</th>\n",
       "      <td>Nevada</td>\n",
       "      <td>2001</td>\n",
       "      <td>2.4</td>\n",
       "    </tr>\n",
       "    <tr>\n",
       "      <th>4</th>\n",
       "      <td>Nevada</td>\n",
       "      <td>2002</td>\n",
       "      <td>2.9</td>\n",
       "    </tr>\n",
       "    <tr>\n",
       "      <th>5</th>\n",
       "      <td>Nevada</td>\n",
       "      <td>2003</td>\n",
       "      <td>3.2</td>\n",
       "    </tr>\n",
       "  </tbody>\n",
       "</table>\n",
       "</div>"
      ],
      "text/plain": [
       "    state  year  pop\n",
       "0    Ohio  2000  1.5\n",
       "1    Ohio  2001  1.7\n",
       "2    Ohio  2002  3.6\n",
       "3  Nevada  2001  2.4\n",
       "4  Nevada  2002  2.9\n",
       "5  Nevada  2003  3.2"
      ]
     },
<<<<<<< HEAD
     "execution_count": 74,
=======
     "execution_count": 43,
>>>>>>> a2fc80b917052043d36ef0a9ff96a01d0148ed5f
     "metadata": {},
     "output_type": "execute_result"
    }
   ],
   "source": [
    "#1. 딕셔너리 타입 데이터를 생성하기 - 키값이 컬럼에 대응\n",
    "data = {\"state\": [\"Ohio\", \"Ohio\", \"Ohio\", \"Nevada\", \"Nevada\", \"Nevada\"],\n",
    "        \"year\": [2000, 2001, 2002, 2001, 2002, 2003],\n",
    "        \"pop\": [1.5, 1.7, 3.6, 2.4, 2.9, 3.2]}\n",
<<<<<<< HEAD
    "# s = pd.Series(data)\n",
    "# s\n",
=======
    "s = pd.Series(data)\n",
    "s\n",
>>>>>>> a2fc80b917052043d36ef0a9ff96a01d0148ed5f
    "frame = pd.DataFrame(data)\n",
    "frame"
   ]
  },
  {
   "cell_type": "code",
<<<<<<< HEAD
   "execution_count": 75,
=======
   "execution_count": 44,
>>>>>>> a2fc80b917052043d36ef0a9ff96a01d0148ed5f
   "metadata": {},
   "outputs": [
    {
     "data": {
      "text/html": [
       "<div>\n",
       "<style scoped>\n",
       "    .dataframe tbody tr th:only-of-type {\n",
       "        vertical-align: middle;\n",
       "    }\n",
       "\n",
       "    .dataframe tbody tr th {\n",
       "        vertical-align: top;\n",
       "    }\n",
       "\n",
       "    .dataframe thead th {\n",
       "        text-align: right;\n",
       "    }\n",
       "</style>\n",
       "<table border=\"1\" class=\"dataframe\">\n",
       "  <thead>\n",
       "    <tr style=\"text-align: right;\">\n",
       "      <th></th>\n",
       "      <th>state</th>\n",
       "      <th>year</th>\n",
       "      <th>pop</th>\n",
       "    </tr>\n",
       "  </thead>\n",
       "  <tbody>\n",
       "    <tr>\n",
       "      <th>a</th>\n",
       "      <td>Ohio</td>\n",
       "      <td>2000</td>\n",
       "      <td>1.5</td>\n",
       "    </tr>\n",
       "    <tr>\n",
       "      <th>b</th>\n",
       "      <td>Ohio</td>\n",
       "      <td>2001</td>\n",
       "      <td>1.7</td>\n",
       "    </tr>\n",
       "    <tr>\n",
       "      <th>c</th>\n",
       "      <td>Ohio</td>\n",
       "      <td>2002</td>\n",
       "      <td>3.6</td>\n",
       "    </tr>\n",
       "    <tr>\n",
       "      <th>d</th>\n",
       "      <td>Nevada</td>\n",
       "      <td>2001</td>\n",
       "      <td>2.4</td>\n",
       "    </tr>\n",
       "    <tr>\n",
       "      <th>e</th>\n",
       "      <td>Nevada</td>\n",
       "      <td>2002</td>\n",
       "      <td>2.9</td>\n",
       "    </tr>\n",
       "    <tr>\n",
       "      <th>f</th>\n",
       "      <td>Nevada</td>\n",
       "      <td>2003</td>\n",
       "      <td>3.2</td>\n",
       "    </tr>\n",
       "  </tbody>\n",
       "</table>\n",
       "</div>"
      ],
      "text/plain": [
       "    state  year  pop\n",
       "a    Ohio  2000  1.5\n",
       "b    Ohio  2001  1.7\n",
       "c    Ohio  2002  3.6\n",
       "d  Nevada  2001  2.4\n",
       "e  Nevada  2002  2.9\n",
       "f  Nevada  2003  3.2"
      ]
     },
<<<<<<< HEAD
     "execution_count": 75,
=======
     "execution_count": 44,
>>>>>>> a2fc80b917052043d36ef0a9ff96a01d0148ed5f
     "metadata": {},
     "output_type": "execute_result"
    }
   ],
   "source": [
    "# 2. 인덱스 변경\n",
    "frame.index = ['a','b','c','d','e','f']\n",
    "frame"
   ]
  },
  {
   "cell_type": "markdown",
   "metadata": {},
   "source": [
    "### [Quiz] 2021, 2022, 2023년 3년간 대전, 대구, 부산, 광주, 원주의 5개 도시의 인구 수을 저장하는 데이터프레임 생성하기\n",
    "\n",
    "    data = {'서울': [950, 945, 938], \n",
    "        '대전': [800, 790, 780],\n",
    "        '부산': [920, 910, 900],\n",
    "        '광주': [700, 690, 680],\n",
    "        '원주': [300, 290, 250]\n",
    "       }"
   ]
  },
  {
   "cell_type": "code",
   "execution_count": null,
   "metadata": {},
   "outputs": [],
   "source": []
  },
  {
   "cell_type": "markdown",
   "metadata": {},
   "source": [
<<<<<<< HEAD
    "## 3.3 DataFrame 의 주요 기능 : 속성과 함수 \n"
=======
    "## 3.3 DataFrame 의 주요 기능 : 속성과 함수 "
>>>>>>> a2fc80b917052043d36ef0a9ff96a01d0148ed5f
   ]
  },
  {
   "cell_type": "markdown",
   "metadata": {},
   "source": [
    "### 3.3.1 주요 속성\n",
    "* 데이터프레임.속성명"
   ]
  },
  {
   "cell_type": "code",
<<<<<<< HEAD
   "execution_count": 77,
=======
   "execution_count": 45,
>>>>>>> a2fc80b917052043d36ef0a9ff96a01d0148ed5f
   "metadata": {},
   "outputs": [
    {
     "name": "stdout",
     "output_type": "stream",
     "text": [
      "    state  year  pop\n",
      "a    Ohio  2000  1.5\n",
      "b    Ohio  2001  1.7\n",
      "c    Ohio  2002  3.6\n",
      "d  Nevada  2001  2.4\n",
      "e  Nevada  2002  2.9\n",
      "f  Nevada  2003  3.2\n"
     ]
    },
    {
     "data": {
      "text/plain": [
       "Index(['a', 'b', 'c', 'd', 'e', 'f'], dtype='object')"
      ]
     },
<<<<<<< HEAD
     "execution_count": 77,
=======
     "execution_count": 45,
>>>>>>> a2fc80b917052043d36ef0a9ff96a01d0148ed5f
     "metadata": {},
     "output_type": "execute_result"
    }
   ],
   "source": [
    "# 1. index : 데이터프레임의 인덱스를 리스트로 반환\n",
    "print(frame)\n",
    "frame.index"
   ]
  },
  {
   "cell_type": "code",
<<<<<<< HEAD
   "execution_count": 78,
=======
   "execution_count": 46,
>>>>>>> a2fc80b917052043d36ef0a9ff96a01d0148ed5f
   "metadata": {},
   "outputs": [
    {
     "data": {
      "text/plain": [
       "Index(['state', 'year', 'pop'], dtype='object')"
      ]
     },
<<<<<<< HEAD
     "execution_count": 78,
=======
     "execution_count": 46,
>>>>>>> a2fc80b917052043d36ef0a9ff96a01d0148ed5f
     "metadata": {},
     "output_type": "execute_result"
    }
   ],
   "source": [
    "# 2. columns : 데이터프레임의 컬럼을 리스트로 반환\n",
    "frame.columns"
   ]
  },
  {
   "cell_type": "code",
<<<<<<< HEAD
   "execution_count": 80,
=======
   "execution_count": 47,
>>>>>>> a2fc80b917052043d36ef0a9ff96a01d0148ed5f
   "metadata": {},
   "outputs": [
    {
     "data": {
      "text/plain": [
<<<<<<< HEAD
       "numpy.ndarray"
      ]
     },
     "execution_count": 80,
=======
       "array([['Ohio', 2000, 1.5],\n",
       "       ['Ohio', 2001, 1.7],\n",
       "       ['Ohio', 2002, 3.6],\n",
       "       ['Nevada', 2001, 2.4],\n",
       "       ['Nevada', 2002, 2.9],\n",
       "       ['Nevada', 2003, 3.2]], dtype=object)"
      ]
     },
     "execution_count": 47,
>>>>>>> a2fc80b917052043d36ef0a9ff96a01d0148ed5f
     "metadata": {},
     "output_type": "execute_result"
    }
   ],
   "source": [
    "# 3. values : 데이터프레임의 데이터 반환(numpy.ndarray)\n",
    "frame.values\n",
<<<<<<< HEAD
    "type(frame.values)"
=======
    "# type(frame.values)"
>>>>>>> a2fc80b917052043d36ef0a9ff96a01d0148ed5f
   ]
  },
  {
   "cell_type": "code",
<<<<<<< HEAD
   "execution_count": 85,
=======
   "execution_count": 48,
>>>>>>> a2fc80b917052043d36ef0a9ff96a01d0148ed5f
   "metadata": {},
   "outputs": [
    {
     "data": {
      "text/plain": [
       "(6, 3)"
      ]
     },
<<<<<<< HEAD
     "execution_count": 85,
=======
     "execution_count": 48,
>>>>>>> a2fc80b917052043d36ef0a9ff96a01d0148ed5f
     "metadata": {},
     "output_type": "execute_result"
    }
   ],
   "source": [
    "# 4. shape : 행과 열의 개수을 튜플로 반환\n",
    "frame.shape"
   ]
  },
  {
   "cell_type": "code",
<<<<<<< HEAD
   "execution_count": 87,
=======
   "execution_count": 49,
>>>>>>> a2fc80b917052043d36ef0a9ff96a01d0148ed5f
   "metadata": {},
   "outputs": [
    {
     "data": {
      "text/html": [
       "<div>\n",
       "<style scoped>\n",
       "    .dataframe tbody tr th:only-of-type {\n",
       "        vertical-align: middle;\n",
       "    }\n",
       "\n",
       "    .dataframe tbody tr th {\n",
       "        vertical-align: top;\n",
       "    }\n",
       "\n",
       "    .dataframe thead th {\n",
       "        text-align: right;\n",
       "    }\n",
       "</style>\n",
       "<table border=\"1\" class=\"dataframe\">\n",
       "  <thead>\n",
       "    <tr style=\"text-align: right;\">\n",
       "      <th></th>\n",
       "      <th>state</th>\n",
       "      <th>year</th>\n",
       "      <th>pop</th>\n",
       "    </tr>\n",
       "  </thead>\n",
       "  <tbody>\n",
       "    <tr>\n",
       "      <th>a</th>\n",
       "      <td>Ohio</td>\n",
       "      <td>2000</td>\n",
       "      <td>1.5</td>\n",
       "    </tr>\n",
       "    <tr>\n",
       "      <th>b</th>\n",
       "      <td>Ohio</td>\n",
       "      <td>2001</td>\n",
       "      <td>1.7</td>\n",
       "    </tr>\n",
       "  </tbody>\n",
       "</table>\n",
       "</div>"
      ],
      "text/plain": [
       "  state  year  pop\n",
       "a  Ohio  2000  1.5\n",
       "b  Ohio  2001  1.7"
      ]
     },
<<<<<<< HEAD
     "execution_count": 87,
=======
     "execution_count": 49,
>>>>>>> a2fc80b917052043d36ef0a9ff96a01d0148ed5f
     "metadata": {},
     "output_type": "execute_result"
    }
   ],
   "source": [
<<<<<<< HEAD
    "frame.head(2) # 처음 2개행을 출력"
=======
    "frame.head(2) # 처음 5개행을 출력"
>>>>>>> a2fc80b917052043d36ef0a9ff96a01d0148ed5f
   ]
  },
  {
   "cell_type": "code",
<<<<<<< HEAD
   "execution_count": 88,
=======
   "execution_count": 76,
>>>>>>> a2fc80b917052043d36ef0a9ff96a01d0148ed5f
   "metadata": {},
   "outputs": [
    {
     "data": {
      "text/html": [
       "<div>\n",
       "<style scoped>\n",
       "    .dataframe tbody tr th:only-of-type {\n",
       "        vertical-align: middle;\n",
       "    }\n",
       "\n",
       "    .dataframe tbody tr th {\n",
       "        vertical-align: top;\n",
       "    }\n",
       "\n",
       "    .dataframe thead th {\n",
       "        text-align: right;\n",
       "    }\n",
       "</style>\n",
       "<table border=\"1\" class=\"dataframe\">\n",
       "  <thead>\n",
       "    <tr style=\"text-align: right;\">\n",
       "      <th></th>\n",
       "      <th>a</th>\n",
       "      <th>b</th>\n",
       "      <th>c</th>\n",
       "      <th>d</th>\n",
       "      <th>e</th>\n",
       "      <th>f</th>\n",
       "    </tr>\n",
       "  </thead>\n",
       "  <tbody>\n",
       "    <tr>\n",
       "      <th>state</th>\n",
       "      <td>Ohio</td>\n",
       "      <td>Ohio</td>\n",
       "      <td>Ohio</td>\n",
       "      <td>Nevada</td>\n",
       "      <td>Nevada</td>\n",
       "      <td>Nevada</td>\n",
       "    </tr>\n",
       "    <tr>\n",
       "      <th>year</th>\n",
       "      <td>2000</td>\n",
       "      <td>2001</td>\n",
       "      <td>2002</td>\n",
       "      <td>2001</td>\n",
       "      <td>2002</td>\n",
       "      <td>2003</td>\n",
       "    </tr>\n",
       "    <tr>\n",
       "      <th>pop</th>\n",
       "      <td>1.5</td>\n",
       "      <td>1.7</td>\n",
       "      <td>3.6</td>\n",
       "      <td>2.4</td>\n",
       "      <td>2.9</td>\n",
       "      <td>3.2</td>\n",
       "    </tr>\n",
       "  </tbody>\n",
       "</table>\n",
       "</div>"
      ],
      "text/plain": [
       "          a     b     c       d       e       f\n",
       "state  Ohio  Ohio  Ohio  Nevada  Nevada  Nevada\n",
       "year   2000  2001  2002    2001    2002    2003\n",
       "pop     1.5   1.7   3.6     2.4     2.9     3.2"
      ]
     },
<<<<<<< HEAD
     "execution_count": 88,
=======
     "execution_count": 76,
>>>>>>> a2fc80b917052043d36ef0a9ff96a01d0148ed5f
     "metadata": {},
     "output_type": "execute_result"
    }
   ],
   "source": [
    "# 5. T (Transpose) : 행과 열 바꾸기\n",
    "frame.T"
   ]
  },
  {
   "cell_type": "code",
<<<<<<< HEAD
   "execution_count": 90,
=======
   "execution_count": 77,
   "metadata": {},
   "outputs": [
    {
     "data": {
      "text/plain": [
       "[Index(['a', 'b', 'c', 'd', 'e', 'f'], dtype='object'),\n",
       " Index(['state', 'year', 'pop'], dtype='object')]"
      ]
     },
     "execution_count": 77,
     "metadata": {},
     "output_type": "execute_result"
    }
   ],
   "source": [
    "# 6. axes : 행과 열 이름을 리스트로 반환\n",
    "frame.axes"
   ]
  },
  {
   "cell_type": "code",
   "execution_count": 51,
>>>>>>> a2fc80b917052043d36ef0a9ff96a01d0148ed5f
   "metadata": {},
   "outputs": [
    {
     "name": "stdout",
     "output_type": "stream",
     "text": [
<<<<<<< HEAD
      "    state  year  pop\n",
      "a    Ohio  2000  1.5\n",
      "b    Ohio  2001  1.7\n",
      "c    Ohio  2002  3.6\n",
      "d  Nevada  2001  2.4\n",
      "e  Nevada  2002  2.9\n",
      "f  Nevada  2003  3.2\n",
=======
>>>>>>> a2fc80b917052043d36ef0a9ff96a01d0148ed5f
      "\n"
     ]
    },
    {
     "data": {
      "text/plain": [
       "state     object\n",
       "year       int64\n",
       "pop      float64\n",
       "dtype: object"
      ]
     },
<<<<<<< HEAD
     "execution_count": 90,
=======
     "execution_count": 51,
>>>>>>> a2fc80b917052043d36ef0a9ff96a01d0148ed5f
     "metadata": {},
     "output_type": "execute_result"
    }
   ],
   "source": [
    "# 7. dtypes : 컬럼별 데이터타입 반환\n",
<<<<<<< HEAD
    "print(frame)\n",
=======
    "frame.dtypes\n",
>>>>>>> a2fc80b917052043d36ef0a9ff96a01d0148ed5f
    "print()\n",
    "frame.dtypes"
   ]
  },
  {
   "cell_type": "code",
<<<<<<< HEAD
   "execution_count": 92,
=======
   "execution_count": 79,
>>>>>>> a2fc80b917052043d36ef0a9ff96a01d0148ed5f
   "metadata": {},
   "outputs": [
    {
     "data": {
      "text/plain": [
       "18"
      ]
     },
<<<<<<< HEAD
     "execution_count": 92,
=======
     "execution_count": 79,
>>>>>>> a2fc80b917052043d36ef0a9ff96a01d0148ed5f
     "metadata": {},
     "output_type": "execute_result"
    }
   ],
   "source": [
<<<<<<< HEAD
    "# 8. size : 데이터프레임의 원소의 개수= #행 * #열를 반환\n",
=======
    "# 8. size : 데이터프레임의 원소의 개수= #행 반환\n",
>>>>>>> a2fc80b917052043d36ef0a9ff96a01d0148ed5f
    "frame.size"
   ]
  },
  {
   "cell_type": "markdown",
   "metadata": {},
   "source": [
    "### 3.3.2 주요 함수\n",
    "* 변수명.함수명()"
   ]
  },
  {
   "cell_type": "code",
<<<<<<< HEAD
   "execution_count": 96,
=======
   "execution_count": 80,
>>>>>>> a2fc80b917052043d36ef0a9ff96a01d0148ed5f
   "metadata": {},
   "outputs": [
    {
     "name": "stdout",
     "output_type": "stream",
     "text": [
      "<class 'pandas.core.frame.DataFrame'>\n",
      "Index: 6 entries, a to f\n",
      "Data columns (total 3 columns):\n",
      " #   Column  Non-Null Count  Dtype  \n",
      "---  ------  --------------  -----  \n",
      " 0   state   6 non-null      object \n",
      " 1   year    6 non-null      int64  \n",
      " 2   pop     6 non-null      float64\n",
      "dtypes: float64(1), int64(1), object(1)\n",
      "memory usage: 364.0+ bytes\n"
     ]
    }
   ],
   "source": [
    "# 1. info() - 데이터프레임의 기본 정보 출력\n",
    "frame.info()"
   ]
  },
  {
   "cell_type": "code",
<<<<<<< HEAD
   "execution_count": 97,
=======
   "execution_count": 81,
>>>>>>> a2fc80b917052043d36ef0a9ff96a01d0148ed5f
   "metadata": {},
   "outputs": [
    {
     "data": {
      "text/html": [
       "<div>\n",
       "<style scoped>\n",
       "    .dataframe tbody tr th:only-of-type {\n",
       "        vertical-align: middle;\n",
       "    }\n",
       "\n",
       "    .dataframe tbody tr th {\n",
       "        vertical-align: top;\n",
       "    }\n",
       "\n",
       "    .dataframe thead th {\n",
       "        text-align: right;\n",
       "    }\n",
       "</style>\n",
       "<table border=\"1\" class=\"dataframe\">\n",
       "  <thead>\n",
       "    <tr style=\"text-align: right;\">\n",
       "      <th></th>\n",
       "      <th>year</th>\n",
       "      <th>pop</th>\n",
       "    </tr>\n",
       "  </thead>\n",
       "  <tbody>\n",
       "    <tr>\n",
       "      <th>count</th>\n",
       "      <td>6.000000</td>\n",
       "      <td>6.000000</td>\n",
       "    </tr>\n",
       "    <tr>\n",
       "      <th>mean</th>\n",
       "      <td>2001.500000</td>\n",
       "      <td>2.550000</td>\n",
       "    </tr>\n",
       "    <tr>\n",
       "      <th>std</th>\n",
       "      <td>1.048809</td>\n",
       "      <td>0.836062</td>\n",
       "    </tr>\n",
       "    <tr>\n",
       "      <th>min</th>\n",
       "      <td>2000.000000</td>\n",
       "      <td>1.500000</td>\n",
       "    </tr>\n",
       "    <tr>\n",
       "      <th>25%</th>\n",
       "      <td>2001.000000</td>\n",
       "      <td>1.875000</td>\n",
       "    </tr>\n",
       "    <tr>\n",
       "      <th>50%</th>\n",
       "      <td>2001.500000</td>\n",
       "      <td>2.650000</td>\n",
       "    </tr>\n",
       "    <tr>\n",
       "      <th>75%</th>\n",
       "      <td>2002.000000</td>\n",
       "      <td>3.125000</td>\n",
       "    </tr>\n",
       "    <tr>\n",
       "      <th>max</th>\n",
       "      <td>2003.000000</td>\n",
       "      <td>3.600000</td>\n",
       "    </tr>\n",
       "  </tbody>\n",
       "</table>\n",
       "</div>"
      ],
      "text/plain": [
       "              year       pop\n",
       "count     6.000000  6.000000\n",
       "mean   2001.500000  2.550000\n",
       "std       1.048809  0.836062\n",
       "min    2000.000000  1.500000\n",
       "25%    2001.000000  1.875000\n",
       "50%    2001.500000  2.650000\n",
       "75%    2002.000000  3.125000\n",
       "max    2003.000000  3.600000"
      ]
     },
<<<<<<< HEAD
     "execution_count": 97,
=======
     "execution_count": 81,
>>>>>>> a2fc80b917052043d36ef0a9ff96a01d0148ed5f
     "metadata": {},
     "output_type": "execute_result"
    }
   ],
   "source": [
    "# 2. describe() -  숫자형 컬럼별 기본적인 통계 정보 출력\n",
    "frame.describe()"
   ]
  },
  {
   "cell_type": "code",
<<<<<<< HEAD
   "execution_count": 100,
   "metadata": {},
   "outputs": [
    {
     "name": "stdout",
     "output_type": "stream",
     "text": [
      "    state  year  pop\n",
      "a    Ohio  2000  1.5\n",
      "b    Ohio  2001  1.7\n",
      "c    Ohio  2002  3.6\n",
      "d  Nevada  2001  2.4\n",
      "e  Nevada  2002  2.9\n",
      "f  Nevada  2003  3.2\n"
     ]
    },
    {
=======
   "execution_count": 82,
   "metadata": {},
   "outputs": [
    {
>>>>>>> a2fc80b917052043d36ef0a9ff96a01d0148ed5f
     "data": {
      "text/plain": [
       "year    2000.0\n",
       "pop        1.5\n",
       "dtype: float64"
      ]
     },
<<<<<<< HEAD
     "execution_count": 100,
=======
     "execution_count": 82,
>>>>>>> a2fc80b917052043d36ef0a9ff96a01d0148ed5f
     "metadata": {},
     "output_type": "execute_result"
    }
   ],
   "source": [
    "# 3. 통계함수 (mean(), sum(), max(), min(),quantile()...)\n",
<<<<<<< HEAD
    "# frame[['year','pop']].mean()\n",
    "# frame[['year','pop']].sum()\n",
    "# frame[['year','pop']].max()\n",
    "print(frame)\n",
    "frame[['year','pop']].min() # series 반환"
=======
    "frame[['year','pop']].mean()\n",
    "frame[['year','pop']].sum()\n",
    "frame[['year','pop']].max()\n",
    "frame[['year','pop']].min()"
>>>>>>> a2fc80b917052043d36ef0a9ff96a01d0148ed5f
   ]
  },
  {
   "cell_type": "code",
<<<<<<< HEAD
   "execution_count": 104,
=======
   "execution_count": 86,
>>>>>>> a2fc80b917052043d36ef0a9ff96a01d0148ed5f
   "metadata": {},
   "outputs": [
    {
     "data": {
      "text/html": [
       "<div>\n",
       "<style scoped>\n",
       "    .dataframe tbody tr th:only-of-type {\n",
       "        vertical-align: middle;\n",
       "    }\n",
       "\n",
       "    .dataframe tbody tr th {\n",
       "        vertical-align: top;\n",
       "    }\n",
       "\n",
       "    .dataframe thead th {\n",
       "        text-align: right;\n",
       "    }\n",
       "</style>\n",
       "<table border=\"1\" class=\"dataframe\">\n",
       "  <thead>\n",
       "    <tr style=\"text-align: right;\">\n",
       "      <th></th>\n",
<<<<<<< HEAD
       "      <th>year</th>\n",
       "      <th>pop</th>\n",
=======
       "      <th>pop</th>\n",
       "      <th>state</th>\n",
>>>>>>> a2fc80b917052043d36ef0a9ff96a01d0148ed5f
       "    </tr>\n",
       "  </thead>\n",
       "  <tbody>\n",
       "    <tr>\n",
       "      <th>a</th>\n",
<<<<<<< HEAD
       "      <td>2000</td>\n",
       "      <td>1.5</td>\n",
       "    </tr>\n",
       "    <tr>\n",
       "      <th>b</th>\n",
       "      <td>2001</td>\n",
       "      <td>1.7</td>\n",
       "    </tr>\n",
       "    <tr>\n",
       "      <th>c</th>\n",
       "      <td>2002</td>\n",
       "      <td>3.6</td>\n",
       "    </tr>\n",
       "    <tr>\n",
       "      <th>d</th>\n",
       "      <td>2001</td>\n",
       "      <td>2.4</td>\n",
       "    </tr>\n",
       "    <tr>\n",
       "      <th>e</th>\n",
       "      <td>2002</td>\n",
       "      <td>2.9</td>\n",
       "    </tr>\n",
       "    <tr>\n",
       "      <th>f</th>\n",
       "      <td>2003</td>\n",
       "      <td>3.2</td>\n",
=======
       "      <td>1.5</td>\n",
       "      <td>Ohio</td>\n",
       "    </tr>\n",
       "    <tr>\n",
       "      <th>b</th>\n",
       "      <td>1.7</td>\n",
       "      <td>Ohio</td>\n",
       "    </tr>\n",
       "    <tr>\n",
       "      <th>c</th>\n",
       "      <td>3.6</td>\n",
       "      <td>Ohio</td>\n",
       "    </tr>\n",
       "    <tr>\n",
       "      <th>d</th>\n",
       "      <td>2.4</td>\n",
       "      <td>Nevada</td>\n",
       "    </tr>\n",
       "    <tr>\n",
       "      <th>e</th>\n",
       "      <td>2.9</td>\n",
       "      <td>Nevada</td>\n",
       "    </tr>\n",
       "    <tr>\n",
       "      <th>f</th>\n",
       "      <td>3.2</td>\n",
       "      <td>Nevada</td>\n",
>>>>>>> a2fc80b917052043d36ef0a9ff96a01d0148ed5f
       "    </tr>\n",
       "  </tbody>\n",
       "</table>\n",
       "</div>"
      ],
      "text/plain": [
<<<<<<< HEAD
       "   year  pop\n",
       "a  2000  1.5\n",
       "b  2001  1.7\n",
       "c  2002  3.6\n",
       "d  2001  2.4\n",
       "e  2002  2.9\n",
       "f  2003  3.2"
      ]
     },
     "execution_count": 104,
=======
       "   pop   state\n",
       "a  1.5    Ohio\n",
       "b  1.7    Ohio\n",
       "c  3.6    Ohio\n",
       "d  2.4  Nevada\n",
       "e  2.9  Nevada\n",
       "f  3.2  Nevada"
      ]
     },
     "execution_count": 86,
>>>>>>> a2fc80b917052043d36ef0a9ff96a01d0148ed5f
     "metadata": {},
     "output_type": "execute_result"
    }
   ],
   "source": [
<<<<<<< HEAD
    "# 4. sample(개수, axis = 0 | 1) : 전체 데이터의 일부 데이터를 랜덤으로 선택\n",
    "frame.sample(2, axis = 0) # dataFrame\n",
=======
    "# 4. sample(개수) : 전체 데이터의 일부 데이머를 랜덤으로 선택\n",
    "frame.sample(2, axis = 0)\n",
>>>>>>> a2fc80b917052043d36ef0a9ff96a01d0148ed5f
    "frame.sample(2, axis = 1)"
   ]
  },
  {
   "cell_type": "code",
   "execution_count": 151,
   "metadata": {},
   "outputs": [],
   "source": [
    "# 5.head(x), tail(x) - 맨 앞 혹은 맨 뒤 x 개의 데이터 출력"
   ]
  },
  {
   "cell_type": "code",
<<<<<<< HEAD
   "execution_count": 105,
=======
   "execution_count": 87,
>>>>>>> a2fc80b917052043d36ef0a9ff96a01d0148ed5f
   "metadata": {},
   "outputs": [
    {
     "data": {
      "text/html": [
       "<div>\n",
       "<style scoped>\n",
       "    .dataframe tbody tr th:only-of-type {\n",
       "        vertical-align: middle;\n",
       "    }\n",
       "\n",
       "    .dataframe tbody tr th {\n",
       "        vertical-align: top;\n",
       "    }\n",
       "\n",
       "    .dataframe thead th {\n",
       "        text-align: right;\n",
       "    }\n",
       "</style>\n",
       "<table border=\"1\" class=\"dataframe\">\n",
       "  <thead>\n",
       "    <tr style=\"text-align: right;\">\n",
       "      <th></th>\n",
       "      <th>state</th>\n",
       "      <th>year</th>\n",
       "      <th>pop</th>\n",
       "    </tr>\n",
       "  </thead>\n",
       "  <tbody>\n",
       "    <tr>\n",
<<<<<<< HEAD
=======
       "      <th>b</th>\n",
       "      <td>Ohio</td>\n",
       "      <td>2001</td>\n",
       "      <td>1.7</td>\n",
       "    </tr>\n",
       "    <tr>\n",
       "      <th>c</th>\n",
       "      <td>Ohio</td>\n",
       "      <td>2002</td>\n",
       "      <td>3.6</td>\n",
       "    </tr>\n",
       "    <tr>\n",
       "      <th>d</th>\n",
       "      <td>Nevada</td>\n",
       "      <td>2001</td>\n",
       "      <td>2.4</td>\n",
       "    </tr>\n",
       "    <tr>\n",
>>>>>>> a2fc80b917052043d36ef0a9ff96a01d0148ed5f
       "      <th>e</th>\n",
       "      <td>Nevada</td>\n",
       "      <td>2002</td>\n",
       "      <td>2.9</td>\n",
       "    </tr>\n",
       "    <tr>\n",
       "      <th>f</th>\n",
       "      <td>Nevada</td>\n",
       "      <td>2003</td>\n",
       "      <td>3.2</td>\n",
       "    </tr>\n",
       "  </tbody>\n",
       "</table>\n",
       "</div>"
      ],
      "text/plain": [
       "    state  year  pop\n",
<<<<<<< HEAD
=======
       "b    Ohio  2001  1.7\n",
       "c    Ohio  2002  3.6\n",
       "d  Nevada  2001  2.4\n",
>>>>>>> a2fc80b917052043d36ef0a9ff96a01d0148ed5f
       "e  Nevada  2002  2.9\n",
       "f  Nevada  2003  3.2"
      ]
     },
<<<<<<< HEAD
     "execution_count": 105,
=======
     "execution_count": 87,
>>>>>>> a2fc80b917052043d36ef0a9ff96a01d0148ed5f
     "metadata": {},
     "output_type": "execute_result"
    }
   ],
   "source": [
    "frame.head()\n",
<<<<<<< HEAD
    "frame.tail(2) "
=======
    "frame.tail() "
>>>>>>> a2fc80b917052043d36ef0a9ff96a01d0148ed5f
   ]
  },
  {
   "cell_type": "code",
<<<<<<< HEAD
   "execution_count": 106,
   "metadata": {},
   "outputs": [
    {
     "name": "stdout",
     "output_type": "stream",
     "text": [
      "    state  year  pop\n",
      "a    Ohio  2000  1.5\n",
      "b    Ohio  2001  1.7\n",
      "c    Ohio  2002  3.6\n",
      "d  Nevada  2001  2.4\n",
      "e  Nevada  2002  2.9\n",
      "f  Nevada  2003  3.2\n"
     ]
    },
    {
=======
   "execution_count": 88,
   "metadata": {},
   "outputs": [
    {
>>>>>>> a2fc80b917052043d36ef0a9ff96a01d0148ed5f
     "data": {
      "text/plain": [
       "state    2\n",
       "year     4\n",
       "pop      6\n",
       "dtype: int64"
      ]
     },
<<<<<<< HEAD
     "execution_count": 106,
=======
     "execution_count": 88,
>>>>>>> a2fc80b917052043d36ef0a9ff96a01d0148ed5f
     "metadata": {},
     "output_type": "execute_result"
    }
   ],
   "source": [
    "# 6. nunique() : - 컬럼별 unique한 값의 개수\n",
<<<<<<< HEAD
    "print(frame)\n",
=======
    "frame\n",
>>>>>>> a2fc80b917052043d36ef0a9ff96a01d0148ed5f
    "frame.nunique()"
   ]
  },
  {
   "cell_type": "code",
<<<<<<< HEAD
   "execution_count": 107,
=======
   "execution_count": 61,
>>>>>>> a2fc80b917052043d36ef0a9ff96a01d0148ed5f
   "metadata": {},
   "outputs": [
    {
     "data": {
      "text/plain": [
       "<Axes: >"
      ]
     },
<<<<<<< HEAD
     "execution_count": 107,
=======
     "execution_count": 61,
>>>>>>> a2fc80b917052043d36ef0a9ff96a01d0148ed5f
     "metadata": {},
     "output_type": "execute_result"
    },
    {
     "data": {
<<<<<<< HEAD
      "image/png": "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",
      "text/plain": [
       "<Figure size 1000x600 with 1 Axes>"
=======
      "image/png": "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",
      "text/plain": [
       "<Figure size 640x480 with 1 Axes>"
>>>>>>> a2fc80b917052043d36ef0a9ff96a01d0148ed5f
      ]
     },
     "metadata": {},
     "output_type": "display_data"
    }
   ],
   "source": [
    "# 7. plot() - 데이터 시각화\n",
    "frame.plot()\n"
   ]
  },
  {
   "cell_type": "code",
<<<<<<< HEAD
   "execution_count": null,
   "metadata": {},
   "outputs": [],
   "source": []
  },
  {
   "cell_type": "code",
   "execution_count": 109,
   "metadata": {},
   "outputs": [
    {
     "data": {
      "text/plain": [
       "array([[-0.0931, -0.4485,  1.1445],\n",
       "       [ 0.4705,  0.8428, -0.1834],\n",
       "       [-0.6736, -1.8633,  0.3885],\n",
       "       [ 0.7104, -2.5794,  0.2637],\n",
       "       [-1.4566, -0.5291,  1.5764],\n",
       "       [ 0.783 , -1.0726,  0.2225],\n",
       "       [-0.2685,  0.4757,  0.8892],\n",
       "       [ 1.1839,  0.8477,  0.0237],\n",
       "       [ 0.0847, -1.0345, -1.2253],\n",
       "       [-0.1689,  1.1152,  0.202 ]])"
      ]
     },
     "execution_count": 109,
     "metadata": {},
     "output_type": "execute_result"
    }
   ],
   "source": [
    "np.random.randn(10)\n",
    "np.random.randn(10,3)"
   ]
  },
  {
   "cell_type": "code",
   "execution_count": 115,
=======
   "execution_count": 69,
>>>>>>> a2fc80b917052043d36ef0a9ff96a01d0148ed5f
   "metadata": {},
   "outputs": [
    {
     "name": "stdout",
     "output_type": "stream",
     "text": [
      "                   A         B         C\n",
<<<<<<< HEAD
      "2023-01-01  1.624345 -0.611756 -0.528172\n",
      "2023-01-02  0.551377  0.253651 -2.829710\n",
      "2023-01-03  2.296189 -0.507556 -2.510671\n",
      "2023-01-04  2.046818  0.954552 -4.570812\n",
      "2023-01-05  1.724401  0.570498 -3.437043\n"
=======
      "2023-01-01  0.328187 -0.265853  1.523772\n",
      "2023-01-02  0.586570 -1.022436  0.118213\n",
      "2023-01-03  0.236052  0.285520 -0.916856\n",
      "2023-01-04 -0.298133  0.007087  0.482693\n",
      "2023-01-05 -0.225182  0.739757  0.645716\n"
>>>>>>> a2fc80b917052043d36ef0a9ff96a01d0148ed5f
     ]
    },
    {
     "data": {
      "text/plain": [
       "<Axes: >"
      ]
     },
<<<<<<< HEAD
     "execution_count": 115,
=======
     "execution_count": 69,
>>>>>>> a2fc80b917052043d36ef0a9ff96a01d0148ed5f
     "metadata": {},
     "output_type": "execute_result"
    },
    {
<<<<<<< HEAD
     "name": "stderr",
     "output_type": "stream",
     "text": [
      "C:\\Python39\\lib\\site-packages\\IPython\\core\\events.py:82: UserWarning: Glyph 8722 (\\N{MINUS SIGN}) missing from current font.\n",
      "  func(*args, **kwargs)\n",
      "C:\\Python39\\lib\\site-packages\\IPython\\core\\pylabtools.py:152: UserWarning: Glyph 8722 (\\N{MINUS SIGN}) missing from current font.\n",
      "  fig.canvas.print_figure(bytes_io, **kw)\n"
     ]
    },
    {
     "data": {
      "image/png": "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",
      "text/plain": [
       "<Figure size 1000x600 with 1 Axes>"
=======
     "data": {
      "image/png": "iVBORw0KGgoAAAANSUhEUgAAAiIAAAHNCAYAAAAjThDgAAAAOXRFWHRTb2Z0d2FyZQBNYXRwbG90bGliIHZlcnNpb24zLjguMywgaHR0cHM6Ly9tYXRwbG90bGliLm9yZy/H5lhTAAAACXBIWXMAAA9hAAAPYQGoP6dpAAEAAElEQVR4nOz9d5wkZ3ktAJ+qznFy2p2ZzauVdhUXJSSESAogEQw2xhY20TYX8MXY99r4fhff688Y2zgjPkwQFklcGTAGCZAQEighaZVWu9KuNofZyalz7qrvjzdUVXdVdVVP9yS95/fTb1YzPd013VVvnfc85zmPpKqqCgEBAQEBAQGBFYC80gcgICAgICAg8MqFICICAgICAgICKwZBRAQEBAQEBARWDIKICAgICAgICKwYBBEREBAQEBAQWDEIIiIgICAgICCwYhBEREBAQEBAQGDF4F3pA7CDoiiYmJhALBaDJEkrfTgCAgICAgICDqCqKtLpNDZs2ABZttc8VjURmZiYwMjIyEofhoCAgICAgEATGBsbw/DwsO1jVjURicViAMgfEo/HV/hoBAQEBAQEBJwglUphZGSE38ftsKqJCCvHxONxQUQEBAQEBATWGJzYKoRZVUBAQEBAQGDFIIiIgICAgICAwIpBEBEBAQEBAQGBFcOq9ogICAgICAisRSiKglKptNKH0Vb4/f6GrblOIIiIgICAgIBAC1EqlXDq1CkoirLSh9JWyLKMLVu2wO/3L+l5BBEREBAQEBBoEVRVxeTkJDweD0ZGRlqiGKxGsMDRyclJjI6OLil0VBARAQEBAQGBFqFSqSCXy2HDhg0Ih8MrfThtRV9fHyYmJlCpVODz+Zp+nvVJ1QQEBAQEBFYA1WoVAJZcrlgLYH8j+5ubhSAiAgICAgICLcYrYT5aq/5GQUQEBAQEBAQEVgyCiAgICAgICAisGAQRERAQEBAQEAAAPPHEE/B4PHjLW96ybK8piMg6R1WpIlVKrfRhCAgICAisAdxxxx34+Mc/jkceeQQTExPL8pqCiKxz/I9H/gded/frMJWdWulDERAQEBBYxchkMrj77rvxkY98BG95y1tw5513LsvrihyRdY5D84dQUko4NH8Ig5HBlT4cAQEBgVcUVFVFvry09tZmEfJ5XHW2/Md//Ad27dqF8847D7fddhs+8YlP4FOf+lTbO4AEEVnnKFaLAIC5/NwKH4mAgIDAKw/5chUXfPr+FXntQ395I8J+57f5O+64A7fddhsA4KabbkIymcTDDz+M66+/vk1HSCBKM+scxQohIrP52RU+EgEBAQGB1YojR45g3759eM973gMA8Hq9ePe734077rij7a8tFJF1jkK1AACYzQkiIiAgILDcCPk8OPSXN67YazvFHXfcgUqlgg0bNvDvqaqKQCCA22+/HR0dHe04RACCiKxrVJUqykoZgFBEBAQEBFYCkiS5Ko+sBCqVCr7xjW/gH/7hH3DDDTcYfvb2t78d3/nOd/AHf/AHbXv91f3uCCwJzB8CCEVEQEBAQMAc9957LxYXF/HBD36wTvl45zvfiTvuuKOtRER4RNYxWFkGEGZVAQEBAQFz3HHHHXjjG99oWn555zvfiWeeeQYHDhxo2+sLRWQdgxlVAWC+MI+qUoVHdl4zFBAQEBBY/7jnnnssf3bFFVdAVdW2vr5QRNYx9IqIoipYLC6u4NEICAgICAjUQxCRdQy9RwQQPhEBAQEBgdUHQUTWMQqVguH/ReeMgICAgMBqgyAi6xhCEREQEBAQWO0QRGQdQygiAgICAgKrHYKIrGPozaqAaOEVEBAQEFh9EERkHUOUZgQEBAQEVjsEEVnHYKUZj0SyQ4QiIiAgICCw2iCIyDoGU0SGIkMAgJn8zEoejoCAgICAQB0EEVnHYERkODYMgCgi7U7IExAQEBAQcANBRNYxWGlmY3QjAKCiVJAoJlbwiAQEBAQEViPe9773QZIk/l9PTw9uuummts6YYRBEZB2DEZGYP4bOQCcA0cIrICAgIGCOm266CZOTk5icnMSDDz4Ir9eLW265pe2vK4jIOgZr3w14AugN9QIA5nLCsCogICAgUI9AIIDBwUEMDg7ikksuwZ/92Z9hbGwMs7Pt3cCK6bvrGMwjEvQG0R/ux/HEcaGICAgICCwnVBUo51bmtX1hQJKa+tVMJoNvfetb2L59O3p6elp8YEYIIrKOUawQIqJXRAQRERAQEFhGlHPAX29Ymdf+8wnAH3H88HvvvRfRaBQAkM1mMTQ0hHvvvRey3N7iiSjNrGPoSzN9oT4AItRMQEBAQMAcr3vd67B//37s378f+/btw4033oibb74ZZ86caevrCkVkHYOVZkLeEPrClIgIRURAQEBg+eALE2VipV7bBSKRCLZv387//6tf/So6Ojrwla98BX/1V3/V6qPjaKsi8sUvfhEXXXQR4vE44vE4rr76avz0pz9t50sK6MC6ZgxmVZGuKiAgILB8kCRSHlmJ/5r0h2iHLkGWZeTz+Ra9GeZoqyIyPDyMv/mbv8GOHTugqiq+/vWv421vexuef/557N69u50vLQCtNBP0BhH1kbqfKM0ICAgICJihWCxiamoKALC4uIjbb78dmUwGt956a1tft61EpPbgP/OZz+CLX/winnzySUFElgF6syrziLB0VWmJTFlAQEBAYH3hvvvuw9AQGQkSi8Wwa9cufPe738X111/f1tddNo9ItVrFd7/7XWSzWVx99dWmjykWiygWtYmxqVRquQ5vXcKQIxLu5d/LlDOI+WMreWgCAgICAqsId955J+68884Vee22d80cPHgQ0WgUgUAAf/AHf4Af/OAHuOCCC0wf+9nPfhYdHR38v5GRkXYf3rLhpfmXlr0sos8RCXlDiPkI+RCGVQEBAQGB1YK2E5HzzjsP+/fvx1NPPYWPfOQj+N3f/V0cOnTI9LGf+tSnkEwm+X9jY2PtPrxlwbn0Obzn3vfgYw99bFlfV1+aAcBVEeETERAQEBBYLWh7acbv9/N2oL179+Lpp5/Gv/zLv+BLX/pS3WMDgQACgUC7D2nZcTZ9FipUHFk4glK1BL/Hvyyvy82qniAAoC/Uh1PJU0IRERAQEBBYNVj2QDNFUQw+kFcCksUkAKCqVjGWXh6Vp6pUUVbKAEhpBoCYNyMgICAgsOrQVkXkU5/6FG6++WaMjo4inU7jrrvuwi9/+Uvcf//97XzZVYdEMcH/fTp5Gts6t7X9NZk/BNBKMzxdVSgiAgICAgKrBG0lIjMzM/id3/kdTE5OoqOjAxdddBHuv/9+vOlNb2rny6466InIqdSpZXlNVpYBNEVEpKsKCAgICKw2tJWI3HHHHe18+jUDVpoBiCKyHGBGVZ/sgyyRCpw+S0RAQEBAQGA1QAy9WwaspCLCjKqAThERXTMCAgICAqsEgogsA2oVEVVV2/6azCMS8GpdSMysKkozAgICAgKrBYKILAP0RCRVSmGxuNj219QPvGNgpZlsOYtcOdf2YxAQEBAQEGgEQUSWAfrSDLA8PhGmiIS8If69iC/C/1/4RAQEBAQEajE1NYWPf/zj2Lp1KwKBAEZGRnDrrbfiwQcfbNtrCiKyDGBEZChChgmdTp1u+2uaKSKSJInyjICAgICAKU6fPo29e/fioYcewuc+9zkcPHgQ9913H173utfhox/9aNted9mG3r1SUVEqSJfSAIBL+i7BZHYSp5LtN6zqB97p0Rfqw1h6TBARAQEBAQED/tt/+2+QJAn79u1DJBLh39+9ezc+8IEPtO11BRFpMxgJAYCL+y/GT0//dFlLMyxDhIF1zoh0VQEBAYH2Q1VV5Cv5FXntkDcESZIcPXZhYQH33XcfPvOZzxhICENnZ2eLj06DICJtBivLxHwxnqi6UqUZQDOszuRn2n4MAgICAq905Ct5XHnXlSvy2k/91lMI+8KOHnv8+HGoqopdu3a1+ajqITwibQbrmOkIdGBzfDMAMo2XzYFpF7gi4jEqImLejICAgIBALZYjVsIKQhFpM5gi0hHowEB4ACFvCPlKHmPpMWzt2Nq21zXLEQFEzLuAgIDAciLkDeGp33pqxV7bKXbs2AFJkvDyyy+38YjMIYhIm8GISGegE5IkYXN8Mw4vHMbp5Om2EhFWmrFURET7roCAgEDbIUmS4/LISqK7uxs33ngjvvCFL+AP//AP63wiiUSibT4RUZppM/SlGQDY3LEZQPt9IpZmVTGBV0BAQEDABF/4whdQrVZxxRVX4Pvf/z6OHTuGw4cP41//9V9x9dVXt+11hSLSZjAi0hnoBABsiW8B0P5QM+bStjKrJotJlKol+D3+th6HgICAgMDawNatW/Hcc8/hM5/5DP74j/8Yk5OT6Ovrw969e/HFL36xba8riEiboS/NAJoi0u4sEStFpCPQAZ/sQ1kpYy4/hw3RDW09DgEBAQGBtYOhoSHcfvvtuP3225ftNUVpps3Qm1UB8M6ZtpdmKtSsWqOISJKktfDmRAuvgICAgMDKQhCRNqPWI7IpvgkAISiJQqJtr2uVrAoAvWFhWBUQEBAQWB0QRKTNqC3NhH1hDEYGAbRXFbEqzQDCsCogICAgsHogiEibUUtEAK08006fiFX7LqC18M7mBBEREBAQEFhZCCLSZqSKKQBaaQbQEZFU+4iIE0VElGYEBAQE2oOVTCpdLrTqbxREpI0oVArcq6FXRLZ0tL+F12rWDCDSVQUEBATaBY/HAwAolUorfCTtB/sb2d/cLET7bhvByjJeyYuIT0upW45QMzuzKveIiNKMgICAQEvh9XoRDocxOzsLn88HWV6f+31FUTA7O4twOAyvd2lUQhCRNoJ1zMQDccMoZhZqNpYeQ1kpwyf7Wv7atqUZoYgICAgItAWSJGFoaAinTp3CmTNnVvpw2gpZljE6Omq4vzUDQUTaCDOjKgAMRAYQ9ARRqBYwnh7nCkkrYZUjAmhm1cXCIipKBV5ZnAYCAgICrYLf78eOHTvWfXnG7/e3RPERd6A2woqIyJKMTfFNOLJ4BKdTp9tCRFhpxqxrpjvYDY/kQVWtYj4/j4HIAJCaAM78Crjg7YBHnBYCAgICS4EsywgG69dfgXqsz+LVKkFtmJke7TSsVpUqykoZABDw1isisiSjJ9gDQNc5c9+ngO9/EDh2f8uPR0BAQEBAwAqCiLQRtQPv9GinYZX5QwBzRQTQ0lW5T2SRHkdyvOXHIyAgICAgYAVBRNoIq9IM0N5QM1aWAczNqoBJumpugXyl5ElAQEBAQGA5IIhIG8GISDwQr/tZWxURalT1yT7IkvlHzDtnWAtvjpZoCqmWH4+AgICAgIAVBBFpI2xLM1QRWSgs8Me1CnZGVQaDIlLKAeUc+UFREBEBAQEBgeWDICJthF1pJuKLoD/cD6D1qgjziJgZVRlYC+9cbg7IzWs/EIqIgICAgMAyQhCRNsKuawbQgs1a3TljF+/OYFBE9EREKCICAgICAssIQUTaCLvSDKD5RFptWOWpqnalGX26ak43/E4oIgICAgICywhBRNoERVWQLDUgItQn0q7SjFXHDKCVZubz81CyQhEREBAQEFgZCCLSJqRLaSiqAsC6NMM7Z1pcmslX8gDsSzM9oR5IkFBVq1hIjWk/EIqIgICAgMAyQhCRNoGVZULeEPwev+ljWLrq2fRZVJRKy17biSLik33oCnYBAOYyE7pfFkREQEBAQGD5IIhIm2DXMcMwFBlCwBNAWSljQk8GlggnZlVAZ1jNzWjfLGWAautIkYCAgICAgB0EEWkTGhlVATLzZTQ+CqC1PhEnZlVAi3mfK8wbfyBUEQEBAQGBZYIgIm0CU0Ss/CEM7Yh6d5IjAugUkVK65gkEEREQEBAQWB4IItImOFFEgPZ0zrguzVQyNU8giIiAgICAwPJAEJE2wakiwgyrreycYYpIyBuyfRxPV1XYtF6JPoEgIgICAiuPRCFhmCYusD4hiEib4JaItLI046R9F9BCzWZQJd+IbyRfhSKyKpAqpfDtw9/GXH6u8YMFBNYZFgoLuPH7N+JD939opQ9FoM0QRKRNSFFVwWlpZr4wj3StV6NJOGnfBbTSzJzHQ77RvYU+gSAiqwHfP/p9/M2+v8HXXvzaSh+KgMCy47np55Cr5PDywssrfSgCbYYgIm2Ck/ZdAIj6o7xE0qryTLFCzaoOFZFZrwdqoAMId5MfCEVkVWCGtlXP5mZX+EgEBJYfh+YPASDTxEvV0gofjUA7IYhIm+C0NAPofCItMqwWqs7MqowAlSUJqUgXEIiTH1CjrcDKIlUihLBVSllFqeBzT38OD4893JLnExBoJxgRAVp3DQisTggi0iY47ZoBWt/C67Q0E/AEEPcQQ+tsuAsIUtIkFJFVAUZE2Nel4vmZ5/GNQ9/APz37Ty15PgGBdkFVVQMRadU1ILA6IYhIm+BGEWl1C6/T9l0A6POGAQCzwYhOEREX/WoA8xm1aje4WFgEQPxIAgJOoaoqprJTUFV12V5zMjuJxeIi/3+hiKxvCCLSBpSrZeQqOQAOFRE6/K7likiDZFUA6JXJHJw5fwgIUiIiFJFVgXSZLL6t2g2y50kWk6gq1ZY8p8D6x/eOfQ9v+t6b8B9H/mPZXlOvhgBCEVnvEESkDUiWSFlGlmTE/LGGj98Sp8PvUmdbcoNwWpoBgD6VnAIzXo9WmhGKyKoA2wWmSqmW7EbZ86lQxQ5TwDGenHgSAHBg7sCyvWYtERHn6/qGICJtQKKQAADE/XHIUuO3eEN0A3yyDyWlhIns0offOc0RAYA+hdzg5mRJK80UWmRWXUYpdz2ClWYqSoUbkJf0fLpdJSsdCgg0wonECQDAdG562V6zThERm6N1jbYSkc9+9rO4/PLLEYvF0N/fj7e//e04cuRIO19yVcBp6y6DR/ZgU3wTgNa08LpSRMplAMAsqq0tzZx5Avj7HcDB7y39uV6BqCgVXt4DWrMQ659DEBEBJyhXyziTOgMAmM4uDxFRVRUvzb8EANjRtQOAVqYUWJ9oKxF5+OGH8dGPfhRPPvkkHnjgAZTLZdxwww3IZrPtfNkVB+uYcWJUZWilYdVpjggA9JWIejKrFFtrVj3xEJCdBY7ev/TnegWiVopuhTQtFBEBtzidOo2KWgFAFJHlMKxOZieRKCbglby4rP8yAEIRWe/wtvPJ77vvPsP/33nnnejv78ezzz6L6667ru7xxWIRxaI2VyCVWpsnn5uOGQZmWG2FIsJkfEdm1XwG8AFzlWxrFZE8dbyLBaQp1BGRFuwI9c8piIiAE7CyDEBKvplyxpHvbSlgZZkdXTt41pEwq65vLKtHJJkkSkF3d7fpzz/72c+io6OD/zcyMrKch9cyuC3NAK1TRKpKFWWFlFsCXgeKSI4QhtlSCqqfEpFyFqhWlnQcnIiIDpymULvwtqQ0o3vOpAitE3CA44njhv9fjvIMIyIX9FyAOF2ThFl1fWPZiIiiKPjEJz6Ba665Bnv27DF9zKc+9Skkk0n+39jY2HIdXkvBumbcKCKtGn6nn1TZUBEp59FXyAAA8tUCsmzmDLB0JYMadltmfH2FoY6ItGBHqH8OlikiIGAHvSICLI9hlflDLui5gKsvQhFZ32hraUaPj370o3jxxRfx2GOPWT4mEAggEGi8i1/tcJOqysBKM7P5WWRKGUT90aZeW09EGnpEcvMIqyrCioKcLGO2lEDUGwIqeUJEwubKlSOI0syS0A4iIkozAm7BFJGQN4R8Jc/nH7UL+kTVC3ouwEJhAYBQRNY7lkUR+djHPoZ7770Xv/jFLzA8PLwcL7miYO27bohI3B9Hd5Dc+JlLvRmwVFWf7INH9tg/OEcSNvsVCQDIuPlW+UREaWZJaLVZVVVVQ3lHlGYEGqFYLeJs+iwA4PLBywEAU7mptr6m3qi6o2uHUEReIWgrEVFVFR/72Mfwgx/8AA899BC2bNnSzpdbNWjGrAroZs6kmi/PuDGqIjsHAOiViDA2m5ttXedMPqE9j6Is7blegaj1hCyViOQred79AMAQny0gYIbTydNQVAVxfxy7e3YDaL9HRG9UDXgCwiPyCkFbichHP/pRfOtb38Jdd92FWCyGqakpTE1NIZ/Pt/NlVxzNtO8CrfGJsNKME6MqckT27KOkZTY/2xpFRFE0jwhUQCwirlG78C51R1j7+0IREWgEVpbZ3rkdg5FBAO33iOjLMgC4IpIupZd11o3A8qKtROSLX/wikskkrr/+egwNDfH/7r777na+7Iqjma4ZQCMiS2nhdTPwDjmqiHgjAGhpphWKSDEFqDoVRJRnXIMRh55gD4Cl7whriYjwiAg0AjOqbuvchoHwAID2ExG9URUAV0SqatUQ8CewvtBWs+orkcGqqsq7ZtwSkVa08LoZeMc8In3+DqAy0zpFJF8j+wvDqmsw4rExthHzhfmlKyL0M2Cmw0QxAVVVIUnSko9VYH3iWOIYAEJE+sP9ANBWs2qtURUgGyqf7ENZKSNVTCHii7Tt9QVWDmLWTIuRq+RQUUgt3rVHhHbOnEmdaZrEuSrNMI8IDQ2azc1qg++W0nbLyzLs/wURcQtGPDZGNgJYuiLCfn84RsziFaWCbHl9JxwLLA1MEdnRuQMDEaKIJItJPsuq1eBGVdmLnV07AQCSJAnD6isAgoi0GEzyDngCCHlDrn6XEYJitWhow3UDVppxpYhQ2XU2rzerLoGICEVkydArIvr/bxZsEe8P9fOynSjPCFghX8njXPocAKKIxHwxvp61SxXhRtXOHfB7/Pz7wrC6/iGISIvBO2b87tQQgMjmEohUnilnmnp93jXjYOAdM6v205vdXG5Op4i0sDQjQs1cgysiUfLZLDVZlT1f3B/nJUNhWBWwwqnkKahQ0RXoQk+oB5IkaT6RNnXO1PpDGBgREYrI+oUgIi1Gkt50O4LuiYgsybwG2qxs3pRZtWMUAJlnUvCFyc+WcuNjrbv8oMQNzy24IkKJSKacgaI23wbNiUhAIyKihVfACqxjZlvnNnL9Pvt1DNCco3YZVmv9IQyxgNY5I7A+IYhIi9FsxwwDIyLNKiLNmFVjsRFOXGY91LwozKorBn342HCUeDpUqEtaiNnvxvwxfm6K0oyAFfStu/jV54F7/hADWXJdt4OImBlVGeI+oYisdwgi0mI02zHDEPWRaPdsqTlFxLFZVVF4aUaK9HJ/ypxETbJLUkRqSzNiAXEDffhYT6iHk8qlEBFGbOL+ODdRi9KMgBWYUXV753bg3DMAgIEqUeTaUZoxM6oyxAPCI7LeIYhIi9FsqirDUhURx6WZQgJQq+Tf4R70hfoAADOg6ZtLIQ+sa4b5VERpxhXYguuRPAh5Q4ZQp2ah94h0BbsAiMF3AtbQZ4hg+kUAwECVbFLaoYgwf0itURWA6Jp5BUAQkRbDauDdfS9O4chU4xvJUj0ijksztCyDQBzw+tETIsFZiywGvBUekc7RpT/XKxB60iBJUkvMevrSDCPJojQjYIZcOYfxzDgAYLs3DmRnAQADVbJxaQcRsSrLAGgJERdY3RBEpMUw65o5PpPGH3zrWXz0ruca/j6burtURaRh1wwjInTCLvcNqGX6RC0ozTAiIkozrqAnDfqvLVFEAqJrRsAeTA3pCfagM3GWf7+/RDY57WjftSMinIiLDc26hSAiLYZZaebMPIkmPjWXRaVq3/mw5K4Zp+27nIgQbwgnIiy/pJwFqhWTX3QATkQ2ka9iAXEFRhoYAWlFjVzvERFmVQE7cKNq13Zg6iD//kCRrGPz+XmUq+WWvZ7eqMqG6+khSjPrH4KItBhswdeXZuYzJQBAVVExmSzY/j43qzZbmqlQs2ojjwhNVUWYlGSYbyChn+fQLIFgpZkuSkSER8QVGOFgO8FWLMTpsvacgogI2MFgVJ16kX+/q5iFT/ZBhUrCD1uEiewEN6ru6NpR93ORI7L+IYhIi8Hbd4Od/HuzGS0l9dyifTwyN6uWlhZo1pCIMEUkQhQR7hsopQCWCNssgahVRERpxhVqFZGYb2lEpFwt81hu0b4r0AjHk7oMkWmNiMjFFJ8500qfiFWiKoNIVl3/EESkxTArzTBFBADGFu0nSC5ZEWFmVZceka4A7aQoLmrpqs0oIuUCwGZRdInSTDPQ+zn0X5utkbOWcgmSgYgIj4iAGY4v0tJMdBSYO6b9oJjGQBuJiJk/BBBE5JUAQURaiIpS4ReLoTSTdaGI+JepfbfGI2LIlljKBF7Wuit5gDgJ40Ip07zf5BUIRji4R4QtxOXmFmJGbKL+KGRJ5mpdvpLn54uAAEBu9oxkbCuXSYs/NdBDVTAQJOtFK7NEGhERdh3kKjmUldZ5UwRWDwQRaSH00jm7eQDAnKE0Y6+IRLzL1L5r4RFZLCzqBt81QURYWSbYoSkrzT7XKxS1HpGl7ghrny/qi8IreQGI8oyAEcwf0h/uR3z+FPnmxsvIxgLAAO0GbJUi0sioCmidhEDzJWuB1Q1BRFoItqjHfDF4ZS//vr40c27BXhFZavuu42TVGo8IU3BylRxKdLZDU4oIIyKhLsDr1/wmgog4hj5HBNCZVZt8D/UdMwAZrc7KPaI8I6CHwajK/CEDFwJ0TRigfqVWKSKNjKoA4JW93DsnDKvrE4KItBBswa9NVXWliCyxfZeZEhsHmhkVkZg/Blkip0MisATywDpmQkRhWVKZ5xUKq66ZZhWRWmIDaJ4goYgI6GEYdsc6Zgb38Ot4wEuGYrYqS6SRUZVBhJqtbwgi0kKYDbyrKioWspoiMpUqoFSxzhJZPrMqmTPDiIgsydpUVh+LZl+KIkKea0llnlco6nJElti+WBuQBmhkWUzgFdCDEZEdHduBaZohMrCHX8f9EiELZqWZmVQBH7vrOTx1ct7x6zXyhzCIULP1DUFEWgjeMaPzRizmSlBUQJIAv1eGogJTNlkiS454d5IjUi4QAynAiQigM6x66c6kGdleX5oBNJ+IUEQco22KSEBTRHjnjMh4EdCBz5jxxkj7vuwF+s7TSjPUWzSbm0VVqRp+9/6XpnDvgUl87fFTjl/PKRHh5cmyWEfWI9YEETmXPrfSh+AIZnNmmD+kK+zHSBcpedi18DJFJF/Jo6K47zThyap2pRnmD5G9BkMpb+H1Un/LUj0igK40I254TlGXI0K/FqoFlKoly9+zfL6iSWkmKEozAkYki0keVLYtTzcqfbsAb4ATkd6qClmSUVErWCgsGH4/XSTrVSLnrLNFVVU+7M7KqMogFJH1jTVBRMbSYyt9CI5gNmeG+UN6In4Md5H6qp1PhCkigHtVpKpUeXubrVmVt+72EKmGgu+SZfq9Zi561r7LAt1EacYVKkqFf+5MwYj5Y5BAPpNmyjOs7desNCOIiAADK8sMRYYQYfkhA3vIV3ouektZ9IZoC29NeSZXJApJquBsAzWRnUCymLQ1qjIIj8j6xpogIpPZyZU+BEcw84gwItIbDWCkmygidlkiPo+Pl1XcEhHmDwEaKSJGoyoDy5dYlMi479YqIoKIOIG+PZEtvrIkc6WsmYXYTBER6aoCteBlmc5t2oyZQUZEKIktpjEQHgBQT0SyJUJAUnlniohToyogQs3WO9YEEZnKTK30ITgCK83ou2bmaGmmJ6opImMLzjpn3Lbw6omIrUekxqjKoE3gpTuapeSIMCLCFRFRmnECttCGvCH4ZB//Pk9XbUIRMeuaEUREoBbcqNq5Q9e6W0tEUhoRyVopIu6ISCN/CCDmzax3rAkiMplbG4qIuUdEU0SGuxorIkDzhlVGRHyyDx7ZY/3ArIUiwokIXUia8XXUte92Nv9cr0DU+kMYliJNm3XNiJh3gVpwRSS6EVightPBC8lXXYl1IGKuiOTKhIhkihUoitrw9V6aI/4QR0SkBROoBVYv1gQRmcquDUXEvjSj94g0CDWjMrzbFEHnGSLGMDMG3r7LlJVWtO+K0owrGNSLs08Cn9sBHPrhkoiIadcMK8MVRPuuAAFTRLZXJQAqEB3U1gh2HduUZnLUrKqqmnHVCqqq4tCCfaKqHq2YQC2weiGISAth1r7LumZ6owHeNTOdLqBYqdb9PsNSFZHGqarmigjrpEhWKVFqaWlGLCBOYGjdPfITIDsDPP4vS+oaMPOIGGYLCbzisVBY4F0wWzK0dMv8IYCpR6Q21Ix5RIDGPhE3RlVAm0AtFJH1iTVBRObycyhXV/+wI+4RMeuaiQbQHfEj5PNAVYGJhHWWSLOhZs0OvGPgigjzppRzgJv3XVG0EowwqzYFgyLCvDzjzyIGUmpzO/iuqlT575glq6bL6VUxSCxVSuHek/fij37xR/jQ/R9qTJAys8ALdwMV9+3MAvVgZZnh6DDCs0fINwfMiUg/m8Bb4xHJl7TNVSOfiBujKrA0j5TA6oe38UNWHipUTOWmMBIbWelDsUS+kueKhLE0wxQRPyRJwnBXCMdmMji3mMOW3ojZUzU9gdfxwDtuVu02fJt7RPQXezFd9zjrA0gCoLVh5g3hgWZi5+0EBj9H7jT/fjxD8h3cLsT6c0hPROL+OCRIUKEiWUzylszlxFx+Dg+dfQgPnX0IT009ZcjN+eXYL/G27W+z/uWH/wZ4+qvA+LPAm/+u/Qe7zsHLMp3bgVMs2v1C7QG6+VN6j4iqqpBoBEBWT0Ty9qUZN/4QQLTvrnesCSICABOZiVVNRNgOzitpA5pUVTW07wLASHcYx2YyGLMZftesIuK4NMPMqhYekWw5i7IvDF85RwiEUyLCyjK+CBl4B4jSjEsY/BxMuQIQWzxDfu7yfWTPF/KG4PNoXTge2YOYP4ZUKbWsRORc+hwePPsgHjz7IPbP7IcKzdS4rWMbAOBE8gQmshP2T7R4mnx9+qvA3vcBA85uaMuJR4/NoicSwAUb4o0fvMLgRtWOrcD098k3DYqI5hFhikixWkSymOR+o5zOF+JUEXFKRPSlST35EVgfWFNEZDVD37qr3yEU6VyZnii5MWudM41DzdwqIqw049isWuMRYYPvFFVBIhRHXznnjkDU+kMAUZpxCaMioiMi86eA7g7XO0KrLhyAeIJSpdSytPA+cOYBfPnAl/HywsuG7+/p2YM3bHoD3jD6Bmzp2IIvvfAl3L7/9sbXOyPTahW478+A3/mhIZxvpTGZzON3v7YPQx0hPP5nr1/pw2mIY4skwGybLw6Us4A3CPRs1x6gIyIBTwDdwW4sFBYwnZvWiEhZr4hYExG3RlVAIyIVtYJ8JY+wL+z0TxNYA1gTHhFg9YeamXbMpIlCEfZ7EPYTzuekhXepiojtwDtFsSQiHtnD/S2JIDkGVwSitnUX0BawSt6d32QN4r5T9+HDP/sw5vPOh37VgikeMV8MyNMSmi+MeIW8d25LM7Vza/RYznTVv933t3h54WXIkozLBy/Hn13xZ3jgXQ/gO7d8Bx+68EPY0rEFALAhugEAMJlpcL2z8iIAnHoYePnedh16Uzgxk4WiAhPJvKNW1pXAfz53Dtf8zUN4aTyJE0miiGwv0Y65/vMBj26fqssRgapqPhFd5wzLEQHs01XdGlUBouh56ZybtVieeWz8Mdz4vRvx1ORTK30oqxJrhoisdkWEd8zowszms8yoqpmxRhzEvDO232z7rq1ZtZgku0igjogAupuTn+44mlJEOrXv6VpGV5sq8k8PHMWf/+AgVLU1N4pvHvomnpx8Eo+OP9r0c7ChXnF/VHs/d/8a4gpR1lwrIiYdMwzcE8Ri+duEilLhM0x++LYf4ms3fg2/ff5vYzAyWPdYRkQalmZY59eed5Gv9/8vMsxxlWA8Qa5vVQXSDiPPlxv3vTiF8UQeDxw5jmQxCVmSsSVJO2H0ZRlAIyJQgVKmroW3XFVQqmpTxe0UEeYPcWpUBQBJktZ0C+8DZx7ARHYCD597eKUPZVVizRCR1a6I2KWqMn8IAC1dtZ2KiF1pJkt36/4YGWZVA9bCu+inz+FKETEhIh4v4GfqSsL5c7UZpYqCf33oGO566qytX8cNxjPjAIgJs1mki7Q0Aw+g0oX90tt0RKQ5j4gtEWmzIjKfn4eiKvBInoY+rw0RqohkJ6GoivmDSjnS0QUAN34GiG0AEmeAJz7fysNeEsZ113civzo7ezLU0zGRI+FlI7ERBGdo6UxvVAUAX4gMyQSMWSK0cyanM6oC9h6RF+eJGXZ3r7OyDMNaDjVjhC1Xtk/VXldYOOn4oWuGiKwVRcQszKwnoicipDQzmy6iUDZevAw80KzJrhlHA+8i9WoIoFNEvNTY6EYRYURDX5oBVqVhdS5TBBNCJpNLJyLFahHzBfLeLqk0w4gDk/MDHcDIlYgFyeeVyi9Y/aopzFJVGZYrXZWpIT2hHvvEXwB94T54JA9RUXKz5g/i06N9QHQAeNNfkv9/9B+B5HirDntJ0Jdekw5nryw3GBGZKpwGQM3CtdHuDJJkzBKpSVfNlYyqj13XDFNELuy90PIxZmBZImtREWGZK2uRRDWNH37M8UPXDBGZyk6hqliHgK00zOPdyU6oL6bJj51hHyJ+shiPJ8xvgKx9ty05IhZhZgwsXyLB6sPNeERY6y7DKjSszqS1uTxTqaVL+vrQvaUoIpyIMD9NuBuQZcS2Xg8ASFdyrkpJZqmqDDw3ptjedFV2s2K7aDt4ZS8v2ViqoPpkYEkCLnwXMHIVUUl+/hctOeal4pzu2k7kVikRoSWj+dJZADTaPUknnQ+YqBU2oWbZojNFRFEVvDRPiIhToyrDWm7hZcqR2zV9TSPnfEO2JoiIV/Kiomp15tUIM4+ImSIiSRJGuu2H37W1NGMRZsbAHPAJmXYguCmnmHXNAKtSEZnRkY/J5NKJiF6xa5aIqKqqmUvLVM6nhDF+3lsBAFWoyLnwDtl5RJbLrMqUjb5Qn6PHD0WGAGilrjrUkmlJAm7+WwAScPC7JBp/hWEszaxOIsJi2JOVcwCAHaAqaMeosbzKwK7jQrIu1KxeETH/m08nTyNbziLoCZIpvy6wVkPNCpUCP2a3KveahapqnW0OsCaICDvpV7NPxE4R6Y0aDVmNOmeW2r7rqDRjoYhw3wDrhHRlVk2Qr7VEZBWGmhkUkRYQkVYoIoVqgaecxkr03KCfU3Db6+GlSkh67FeOn7NR+y7Q/tIM2zX3hZ0REd45Y6mImATybbgEuOy95N8/+R/ACqqnlapiUNlWa2kmW6wAUJFRCRHZlqcbo8E95r+ga+GtL83UKiLmpRnmDzm/53x4ZXfpEWvVrKqPwn/FKCKlDKCbBt8Ia4KIMBlwNftEzDwis7p4dz0aDb/TKyJuZHhnZlUWZmZfmlkEXUiWalYFVn1pphUeEX2XR7NEhKkhsiQjUqDyM73ZSr4g4hLZsaaO3ef6Oe3Mqu0efMeUTCelGUDXOWN1vfPp0TWq3us/TTw1UweA57/Z1LG2AlOpAqq6lt1kbvWZVauKilypCsmbQhV5eCQPNi8SQlLnD2EwKc1kyhlkShmuiLAoFytF5MU5QkT29Fq8hg2WMm9pJaFvcX7FKCJZd9WLNUFEhqJEql0Lioi+Fj9fk6rKwBSRMYsWXqaIKKrCW3KdgAea2eWI8N2kvVk1qVIistRAM2BVlmZm09qOtRWKiP6mmSlnXH1uDDxDxB+DlK//nOL0s0mdfsT5c9p0zSzX4DvXikikARGxUvWifcD1f0r+/eBfagrdMmO8ZoOxGhURZlSVA+QmORofhX+ahIxZKyJalkjEF+Hm0ZncDPeIsLXOyiPCiUiPeyKyVj0ieiKSLb1CFBEXZRlgjRARZl5ba4rInGVpxl4RCXlDkCXy0biR8grVFphVWfsufa7mFJHa0swqVERSekWktaUZoLnOGcNwunx9+SEWISXKdHocmDvm6DmdmFWTpaR1q2wLwIhIf6jf0ePZxsMyS0RvVq3FFb8H9O4kj3n4b10faytQa0JfjWbVWiKyvWMrMHOY/LC2dZchqJVmABjKM2zg3VBHkD9/bZBbuVrmybpLUkTWcGkmU860LLdoVSMz0/gxOqwJIsLMa6uViCiqwi8OtriXKgrfCVkpIuMWiogkSYh43ftEHCWrNjKrspsT29G3on13lXtEZjNFlKtLuxHXnpvNlGf0ioiZchUPElKSkmXg5R87ek4n7buKqrR1l8lKM8zr1Qg8SyQzab5o25Fpjw+46bPk3/u+DLBJsssIpoh4qOF7VSoihRoi4u8iNX1/FOjcbP5LutIMAEO6apaWZgbiZO1RVc0My3A0cRRlpYy4P97U3DBGRNacIqKbUqxCbUotXXNYj6UZrog0SltcIaRLab6jZIv7QpaoIR5ZQkfIZ3g865qZy5Tq3OYMzbTwOmrfzdorIuz409U8yoBzFaOcB+jr17Xv8tLM6iEiszoioqpGYuIWiqpgKkcUEbY4N6OIGMooJuUHLk07JCKqqtp2zfg9foS95FxsV+dMoVLgpR+npZnByCAkSChUC1gomOSmNCgvYvsbgZ03A0qFzKFp5Q60mAa+/2Hg4PcsH8KUzm195BpejV0zTBHxUCKyjS1DA7sB2eK2oI95BwyhZsys2hX2IeAlv1/rE2H5Ibt7djc1tG6tEhG9IgK8Qnwi67I0E6a5AlY7pBUGW2jD3jCfcKq17vohy8aLriPkQyxIHOO19WSGZlp4nbXv0kXcTNaGNh4eAJKy7FwRYWUZyaOLg6bgisjqkFQVRZuKHPSRS2ApPpHZ3CwqSgUeyYMLusk00aYUEX2HCyMiIa00wxdiWQLOPQ2kp+qeQ498JY8K9fqYERGg/emqTA0JeAKWx1ALv8fPW31NfWENyDQAkrjq8QMnHgKO/NTVMdviuW8CB/8DeORzlg9hpZndG6inZ9USERWynxKRDL1+rYyqgK59lxIRXWmGbajCfi/idONV6xNZilEVWB9dM4D70R1rEutREWEnfKFaaHv4UjOwTVWNmqsTjXwizbTwNkxWrRSBkrEboxYe2cP9BAmPh4REORlWp2/drd3trDKz6kKuhIqiQpKA84fIsS2FiLCbZX+4n5+rcwX3RMTQ4WKy6+cLcXwIgNrwBssWbK/kRcgbMn0My41pl2GVZYj0h/td7YK5T8SsHGvnEWHo2QZc9d/Iv+//c3LutwIH/h/5arPj04gIvY5Wo0ekUIHkTUDylKCqHgzPnSY/sDKqAob2XQCGUDNmVo0EPIjTTVZtuurBuYMAlk5E1poiwtRShleGIrIOiYhhh9RoKucKwHTgnYVRlWGEZ4m0LtSMd81YKSJsAZc89eUTHXgLr4eeHkUHF75V6y6w6jwizKjaE/FzQriUFl5GRIYiQ+gJEeLQjCLCiYhPN/DOjIh0EA8FjvzE9vn0RlUrEtDuFl7eMeMwzIzBsoVXUXRGXhtFBACu+xMgOggsngL2fcXV65ti5mVg8gXy7/wCOZYaKIrKicgFlOSuSo9Iscz9IUqxF/4ZUjbBgE3suo1HpJEikivncDJJZo80S0TYBilTzqzqlG09KkqFl2nZuiqISD3WBBEBXEzlXAGYD7wzb91laDT8jisiLmQ81jVjaVbV+w5sdqe8rdNHd9FOCIRVxwyw6rpmZmjrbl8syF3+S1FE2M1yKDqE3hDZpS+lNBOX/QBoCVL3fvKhX0zNOvlLW5Jo5w9haHe6Ku+YcWhUZeAtvLXXeyGhDQNsREQCMeB1nyL/fvorpsTBFZgaApBjMEkdnssUUaookCXgvEFy486Xq5ZzpVYKmWKVExFfsRtydgaABAxcYP1LNURE7xHJUo9I2O9BPEiJiI6AHV44DEVV0B/qd30uMOgN12vlZj6fn0dVrcIjeTAaHwXwCgk1W7dEpFG2wArCNFU1a6+IDDdSRPxNeESo/GxpVuVhZjaSNnSKSCBMn9gBgbDqmAFWXWmGGVP7YwEMUpf/5BLmzTBFZENkA3qD5L21M6u+NJHEH9293xAzD+g6XJgNKthBphdTcEVEUoDubUC1BBz/ueXr2HXMMLDPum2lGZcdMww8XbVWAWXncKCDdMg0woW/QR67eBo4+QtXx2CAogAH/sP4vXy9isRmzAzGg+gK+8HsYavNJ5IpVOAJkrW0v0zfx+6tADXJm6LGrMqaCBaLi8iWyLkcMSgiWmmmaX/IsQeAKfK7PtnHS4xrJdSMEfHeUC/fELxSPCJ/0WNe/jfDmiEitjXjFYbpnJl0I49I62PeuSLSqDTTYCfJfQN++jytUkSqJaC89MyOpWJWT0RaoIjw0oxDReT/3nMIP3h+HN999pzh+3WTd2s+J0PXwK63kG/adM/YhZkxtNusysKcmiUidYoIP4cdLnL+MHDxu8m/n/maq2Mw4PSjQGqckJrYkPFYdGDm841dIci6jrnVVp5JFDLwRkluyG62F7LzhwBaibWoeZnYWpMsEcIZ8us9ItrfzDpmXBGRF+4Gvv0u4O7b+Lc4GS+vLSIyEB5oeobYmkO1AuQWcMTvYKNA0VYi8sgjj+DWW2/Fhg0bIEkS/uu//qvp57KUalcBTM2qVBHpiVh4RFo8+K6qVPmcEkuzqlMiwnwDXnoiOSmpMCJi5j3xxwDaibMaVBGmRPTHW0NEGDneENlgICJmHV7jiTz2nSIeB1a+Y+AKBqt/WxCRVCkF7LqFfPPozyzNxE6ISLtLM24H3jFYKqBOjKq12Pt+8vXIT4FUkx6zA3eTr7vfbk9EqCKysZNsNBgRWW0tvCey+yB5SlBKXbiuRD03dv4QwFiaURRIksTN2ZkKeY5IwGPqEWFG1d29DifuLpwCfvzH5N+Js7wFe63FvDOj6kBkgEcyrJWyUtPILwBQkZWdm9PbSkSy2SwuvvhifOELX1jyc/GY91VoVjUrzTBFpDdmTgo2UkVkMVfmPf16uFVEiroBQ0tWRNgumZUFnFz0doqILBsmd640tNKM5hGZrpkP4hSqqpqaVctK2bTN8J4XtBvrYtY4g4R7OirGybsMhq6B4VcBkT6SzXL6MdNjsxt4x7Bc7btuFREm+2fKGeP72CAZ2BQDFwAjVwFqFXj+W66OAwBQygGHfkj+ffFvamoM62zSgZVamQesI0w2IslV1jlzpvgoAKCcuhQXSGPkm40UEd6WrwJ0g8Q+15xC1paw36vziJB1LVFI4FyGqH+7exwQkWoZ+M8Pax1+apWvG2stS0TvkXrFKCLUH5KVPY5/pa1E5Oabb8Zf/dVf4R3veIejxxeLRaRSKcN/DGtBETF0zWQpEYmYE5F40Md3S2ZZIoyIOJ1NoCciDT0iTokICzZypIgkyFczIgKsKsMqIyJ9sQD6ogHIElBRVD4byA3S5TRfWAYjg/B7/HyxNCvP/Nfz2mj7hZqbE1dEaL1dnyECaItwtpxFBSpw3s3kBxblGd6FYxLvzsDKcO0gIqqqNm1WDfvC6KZJsobNR4NkYEu86gPk67N3up/M+/KPyTTRzk2E0LDrp0FpBlidishCYQELClEopOQebJPommoV7c7gDQJsYi7LEqGG1YJKFRG/F/EQLc1QReSleVKWGY2NGtZISzz8dyQnJ9ABsLWMvtdrmYg0O1V9zSE7iyqA3GpRRNzis5/9LDo6Ovh/IyNaDDCrGadL6VV3EtZ2zaiqqrXvxsxLMwAw0k2H35mUZzh7rrgjIl7ZC48VE3Uoa/Obk0QVAleKSKf5z5earqpUgZ/9b8fR5nZgXTP9sQC8Hhn9MWpYbaI8w26SXYEuhH1kF2zlEzkylcbLU9q5q1dEqkpVmzVTpJ95jQ+CGZgBanhj5ZmXf2yaHuqka4aTTpMOkKVCP/zPaaqqHmy0w3hGI2/IuvSIMFzwNkKSU+dsDb6mYN0yF72bqHt2RKSmNNO5Cj0i9526D5AUVPPD2FEpwSdVUfTGgfhG+1+UJMsskZJKrv+QSdeMK6PqmV8Bj/49+fct/whEKYGl68taCzVjHim9R2Tdm1Uzs8i5TM5dVUTkU5/6FJLJJP9vbGyM/yzsC/NFc7UZVmtLM8l8GRUq83dbeEQAYLiThZrVExG37btswQ95zIOrADguzbBOigToznGpZlVg6YrI2D7gV/9KIruXAFVVeY4IIyDMJ9IMEWHnIislAJofopaI/HA/uaGyctCCjojod0mxAv13zefkk308kj1dSgNbXgv4IkB6Aph4vu7Y3JZmWp1azPwhMX/MMlDNDrxzJmuiiLjxiACALwhc/Fvk325Mq+lpks4KkLIMoClVeWNpRlVVS0UkmTOW4VYSPz5JyHw5eSmuCJFzci6607aln6O2hZd6RKpyAkCtR4SUZhwTkfwiic9XFfJZXfgubT2hZbC1FmpmKM3QjUSrFJFCpbAqk8aRnUXGakyABVYVEQkEAojH44b/9GA7JNPY5xVErVmVTd2NB70IeK3rZHadM27bdxumqgLuzaoq3cUttX0XWHqoWZqSz+Q4cWU3iVShgmKF5En0x8l7pWWJuA8146279KYJwDTUTFVV/HA/+Rtuu2oTAGBRd3NipCHoCcJvEmbGYNgR+oLAjjeSH5goRYakVguwz7qslFs+jIt3zDiculsLU8NqMx4RhldR0+qxnwHJc/aPZXjxe+TGOHw5SWsFLD0iiVyZ52lwRSS8uhSRM6kzODB3AFBlVFIX4RIfeR+mgtudPUFNKz4vuXnpmAu/19A1o6oqXpx3QERUFbj3j4hi1bUFePPfke+HjaSPlRnXgiKiL022umvmdPI0XvP/XoPPPPWZJT9Xy7HWiUgjWKYtriDK1TJyFaJosNJMozAzBt45Y6eIOGTPjgbeuWzfTSslVICld80AS88SYWOl1Sppo2wSs7QsEwt6EfQRksgVkSayRPRGVQZWmtFniTx7ZhHjiTwifg9+/VXDAIBcSQu6Msa7W5cf6qTp82gbr0nKqj5Z1Qohbwh+mah2rfaJMKNqM2UZwKJlv1mPCAD07gA2v4YQi+e+4ex3XvgO+XrRu7XvWZRmWFmmNxrg59Zq84gwNQSFnVCrMezEGQDAucBWZ09QmyVC54BJnIgYu2amc9OYy8/BI3mwq3uX9fPu/zbw0g+IB+Wdd2ivw99rqoj41k5pJlVKcXLfao/IS/MvoVAt4Jdjv1zyc7nFgXMJ/PLIjPUDsrOuOmaANUZEVqMiwhZvWZL5TUKLd7cnIraKiEv23HDgnao6lrX1O2hHg+8UzdXettJMRhuljeSY9eMaQB9mxrCUdFXeuqtTRMw8IkwNuXHPIPqiAXjphcpUEdOBdyaEsc6st/MGEtk/cwiYP2F4rBOPiCRJmgLW4jlOzRpVGUwN6llnZNoSe99Hvj73jcbK2vQhYOogIPuAPe/Uvs8VESMROVdTlgGwqnJEVFXFvSfvBQCUEpcAUDFaJrHrp71bnD1JsMYjQkszkjcNv0eFzyNzj0imWMHBWaKGbO/cbl2emz8B/OR/kn+/7s+B4b3az0JrVxFh539HoANBb1Bb0x02INiBXf/Tuem2hRGa4bFjc3jnF3+FD9z5NCYSFgpqdo5MCHeBthKRTCaD/fv3Y//+/QCAU6dOYf/+/Th79mxTz7caFRFGROL+OGSJvJ3awDtrfwhgP/iOseditYiyg6FzDUszhSQZiw40XMS9spffvBIeuTF50JdbGppVl6iIAECieSIymzb6QwBgsIMskE2ZVW0UEUZEylUFPz5IHvf2SzZCkiR0Ue8Q84kYOlwcEBG+EIe6gM3Xkn/XqCLM/GrnEQGADlo2S7a4tXrJRMQsXZWT6SaJyPm3EjUlPQkcvc/+scykuuMGozpVs0tnYIrIcGc9EVkNg+9emH0BY+kxhLwhFJMXYBALCFdTqKgyTkqjzp6kxiPSHeyGR/JAklSEwuQGyyaLqyrw/PQBADZlmUoJ+P4HSTvw5tcA13zC+PMa0reWPCK1538rc0T0f/+JxAmbR7YOL44n8fvffAblqgpFBY7PWPwd2VlkVxMReeaZZ3DppZfi0ksvBQB88pOfxKWXXopPf/rTTT2fqXlthWEa7+6wNMMUkWS+XDcymxERwJkq4njgnT8G2PlIKLqC1LAqexqTB1aW8cesY7eX6hHRKyKJ5ogsoA28Y/4QAIYsEbfQp6oycI8IncD76LFZLGRL6I368ept5GfdNF9iMUs+d6ZexHxR7T2y8YgYFmKWsnrsAf6tclXzfNgpIoDOnNzq0kyTYWYM7D1dLC4iV84B5TzPr2haEfEGgEt/m/zbzrSqVIED3yX/ZiZVBvbaNYPvmOlcr4h0shyRVaCIMDXk2g2vA1Q/zpfJdXRC3YBU2eGtoIaIyJKMrgD5fIMBcmMK+jwIeMnzHaRGVcsgs198hhitg53AO74E1Hb8MUWEkr61FGim75gBjCr3Uk2m+uv/2OKxJT2XE5yZz+J9/76Pe6AA4KxFGCeyM8isptLM9ddfD1VV6/678847m3o+JtUa2vlWGGYD72ZpaaaRIhIJeHlXzbkFoyrilb2cVDhh0FwRsfKIuIzG5ombThQRniHSaf2YlpZmlkBEdK27DHzeTNKdC71YLXLVg52bQL1HhJVlbrloA7x0onFXhBC2hVyNIuIJggy8k0z9NqbS9OhV5OvEfn5jTJbIeSlBaqyI0M+65aWZvGbUawZxf5x7Aiazk9o5LPs0ha0ZsPLMiYfIDBoznH6UGKSDncDOG40/YzfHmsF3rGNm2EBEVkdpplwt4/7T9wMArh0kf88lXnIdHVZHkS06zFZhRER3HXf4CDHzBbWbI/GJKDiaIDHye3pMFJGTDwOP/wv591v/FegwaR+uNasuU46IqqpQmgg41MOKiFTVKh/H0Sz01/+xRHuJyGy6iN/52j7MZUo4fyiOX99LPG5WqeDIziEjrSJFpNVgishCYYErACsNs3h3p4oIYD/8joeaOVFEGk3edTjwjoEPvvPIjVWMRhkiwNJLM2m9ItIKj4j2Pg1QIlKqKFh0IaFPZUl8c9ATNHz+jIgsFhaRzOfxs5fIsb/tEo2sMALKskS4R0SigVE1A+8YTBWR/gtI2FQxCSycNPw86ovykqEVeNt5i2vNTJpu1qwK1BhWHU6P1uPkbAa/941ncGhCd951bwW2vg6ACjz7dfNffIGWZXa/o15B9Prp2AIYBt/VZogARo/ISrZaPj7xOBLFBHpDvdgWvRgAsMtDOmYOK5uQLTnsRDO5jmM+cr57fdr5Ew96IfnnkatkEPAEsL2rpisntwD84PcBqMBlv0tyXszAFRHyPi8XEfmf3zuAi/7vz3BytvkySm1pJuQNQaKjLmzXdAdTopdLEckUK/jAnU/jzHwOw10hfP39l2P3BvIZnJk3ISKlLFDOre+umbg/znMUVkt5xnTgHSci9ooI0LoWXselGYeSNldEZA9QyVvOMyEvniBfrYyqwNJKM0pVa9sElmZWNSnN+L0y/6wmXbTw6ssyku7G2BnohEfyQIWKH714DPlyFZt6wrhkpJM/pits9IjwDhd2SVp8TnUeEYCUw1gq5sRzxudzoBy0I+ZdURXM0c+sWY8IUOMLc5gMrMftDx3Hzw5N43P3v2z8AWvlff6bxKegRykLHPoR+ffF7zF/YhPDKiciJmbVqqKajnJYLrCyzM1bbgYTZzZJ5EZ5Sh1E1umx1QSaAUDEQz8Pr3ZOxkM+eIKE6Ozq3gWfrCvZqirwo48Tn07PDuCmz1q/Xo0iwoh4SSm1bTN6dDqN7z57DpliBXc/3fxaM501KiKSJDUONTv7JPDZYWDfV2yfW09EjieOt4XklioKPvKtZ3FwPInuiB/f+MAV6I8HMdpD7sGmpRkW7+61KNFbYE0REUmSrMeDrxDMSjPzWWddMwAw0tWaFt6GZlWX+QvcN+BxEPPeqHUXWJoikp0jMjhD8pyjXYMZWGmmr2YGUDPD79g5qC/LAKRu3hMk7/M9Lx4BALyNmlQZuCJS2zVjMXmXwTJZcsNl5Os4JSIOOmYY2kFEFguLqKgVSJC4Z6YZGDpnmDnUoVG1qqj4BW0zfPTYHBL6ULHz3gxEB8jCeaQmg+XlHxMvStcWYOQK8yevaeHNFCvckKpXRPR+iZUyrKZLad7mecvWW5ChQWNDKrlRjqn9htq/LWradwEgJBGyoHoS/HvxoA+eECEidUbVsX3Ay/eSEts7vwr4I7BETWZL2BfmCl/TqkiDm/aXHznJ/33PCxNNl2jMzNoNQ81e+gE5947eb/vc+us/VUrx12oVFEXF//jeC3j02BxCPg/+/X2XY2sfOfZR3cDWOgJENwtpf9jV660pIgJo3QmrZeaM6eTdNOuacVOaWVoLb8McEZeKCI9591JVx062b5SqCixNEWH+kFA3aVWtloyeERcwK80AwGDcfecMOwf1RlUGdvN9foLU4fVlGaBeEeEeEYvJuwyWXQMbKRGpUUQa+UMA3Wfdwph3tjB2B7uNu2GXMGw8XJLp/WMJXmqrKCovkQEgKtKl7yX/fubfjb/IyjIXvdu6BFRzg2T+kI6QD7Gg8e9daZ/Iz8/8HMVqEVs7tuL87vORKVYQRQ4dKjlHxtQ+5BwrIkazKgD4KRFh6aoAU0SImlA36G7xFPm66dXAhkvsX4+VZip5oJQzxCQ01cL7vQ8An98LFM2JwGQyzxOQ/R4ZE8kCnjnTnHeKB/rpiEjDzeW5p8nXlP39rfb6P5443tQxWuGvf3IYP9w/Aa8s4Yu3XYaLdWou6/ZM68g3B1dEGlcD9FhzRGS1tfDWds3kS1W+u3BWmmncwutGEbEuzdDdpFMiwnbJPvo32CoiCfLVlojozKpuZUTWuhvfCMTpDb2J8kyhXEWa7gb1pRmguSwRpojoW3cZmE8EchoXbuzAtr6o4ee1iggnIhV6YVuYii1r5EwRmTwAVCuOUlUZ2qGINDt1txbseh/PjrsOM/vFy+S88XkImbjnQM2asfd3AUjAqYe1DJb0FHDyF+TfF/2G9ZPXKCLjCdoxo1NDGFY6S4SFmN2y9RZIkoR0sYIRiXw+SqgbGYSRLVWd7fyD9aUZn9oJAChBu2FHA4AcJO93nSLiJqY/ENMG7bHyjK/JFl5VBQ7fCyycACb3mz7k3x8/jXJVxZVbuvFWunlgxMQNitUiv5704x9ss0QqRZJbA2hJ0hZgf/vWDhJE10qfyJcfOYGvPkbI4t+96yJcf57xGg76PNzgf6a2PEPX6sx6Ls0AOiKyyhSR2lRVv1dGNFBvNqwFG3x3zkTmchOAwxURq9JM02ZV2k5nV1Jxooiw0oxaBcoWbmsrMPUj2g900EGITbTwMn9IwCsjVvPZNDNvxixDhIEZNCVvuk4NAaDLEaHtu8zTwSbvNiAide2LPdvJe1zJA7OHm/KItNKsutQMEQZWmpnMTLr2iDxIichHXkui2X91Yt4w3wedo8CON5F/P0tVkYPfJWXAkSu1SHcz1BIRkzAz/jKhlWvhncpOYd/UPgDAm7e+GQCQLVYwQv0h6NzMH5svOyjPmCgistIJgEzgVWgJVfFNQZIr8ElhbIpvMj4H/xwdrEWSVN/C22yoWTENsCnlc0frfpzMl3HXU2Rd+YPXbuPX7U8OTqJcdVcKZud/wBMwbAZss0QmDxC1FyBrasl8nVRVlRORywbIBqRVnTM/eP4c/vonxE/1qZt34dcuGzZ9HCvP1PlEqCKyrs2qQM3CtAqQpDs/tpgzf0hfNGDwBFhhY6cmc6XyRnm0tYpIc2bVJDuhnHhE7Lpm/BFSVmn0XGbgRGSA3DyA5ogIa92N1382XBFJOTermqWqMvhA3j/Jl8atF9f/XMsRMSoiMbb4NDCr1u0GZRkYIt0QGH9Ol0vioDTThmTVVnTMAFrZazY/ixJd5JyQ6clkHocnU5Ak4HdfvRl7NsZRVVTc9+KU8YF7mWn120C5ALxwN/l/faS7GfjNkVxXPFXVRBGJr2Co2U9P/RQqVFzWfxk2Rkl7bKagERGpexNY5IMjw2pAp2wyVOJQVQkqqlgskHMoh9MAgJi0pb5rK+duU2RlWHVNRPSG97n6G/ddT51FpljBeQMxXH9eH67e2oPeqB+LuTIeOzZX93g76I2q+rWGm1XN1nRWlmFIm9/j8pU8Kir5rC7rp0SkBYrIw0dn8T++SwLoPnjtFvzeddax/yM6n4gBlGRmJHeq95ojIrydbzUoImP7kKA5BHzgHfeHOKuRhfweXsKpNaw2075r7RFxsQuBFmi2yE4oO0XESdeMJOnKMy533qw0E+0HOqki0kRpxsofArhXRBRVwVSO3NTMFJHxOaK49HaUeHuwHvocEVVVNXMpq1038IiYdg3ofCIsVdWJIsJIZ76SR6laavBoZ+CKSJMD7xi6Al08GnyKkn4nWTgPUTXkkpFO9EQDeMuFhAz++GDNurHjBlLyyy8AD/8NMH0Q8PhJ264d+M2R3HjPsVRVM0VkBT0irFvmlm238O9ldKUZqWszIn5yrjoyrLLzqZTmhvF8CVAr5AbLfBGLVVLqCiqb6p+Dx/Q7yzSqTbJtOtQsqyciRkWkWKnia4+TcsTvXbcVkiTB65Fxy0XkvPnRC+7uN1aKoK3vb/wZ4/9b+ETYJsQjeXBR30UAgJPJk6gqDg3HJiiUq/j4Xc+hoqh468Ub8L/efL7tRporIrUtvMwjorpTkNYcEWGKyExuBmVlZUOC1Jd/jCTtKumgF8d8lhKRiHOzzkbuEzF+qE2171rliDTpEUlDaTz4zklpBmi+c0aviPDSTBNEJFUfZsYwRGPepxyGms3l51BRKvBInrrFRlVVvHiWXIgdEXNiwzwipYqCxXwOJYUQgFiezewxX6RtuwZ0nTNuumZi/hg8VK1qlU+kVR4RSZI40RsvsnO4MZlm/pA37CKvf8tF5DmeODHPY/4BkKyWy36H/PuxfyJfd97Y+CZpUZoxIyLa4LvWkDynOLJwBEcXj8In+3DDphv499OFCkZZaaZrMyK0TOlMEdEpbLQFNVeqQq0QMsuUgJki2aHLJZPoeJebIr6u0Pe66SwRpqgBdUTkv54fx2y6iKGOoEHBZP++/6Up5J12FsGaiNiq3EwR8dGOkwZEJOaPYTg6jKAniGK1iLF0863GR6fTSBUq6Ar78Pe/fjHkBsmooz3kPD+zUHNvYqUZ1d29ec0RkZ5QD3yyD4qqtLxlyS2yY0+gQlljR54s/HMOB97pMWLROdNUacaMiFSK2s3fYesj2yWrAFKNBt85ad8Fmk9XNSgiSynN1A+8Y2Dmq1ypilSh8YLMyjL94X54ZaPf5PBkGhPz5Oajesz/1pCurXMsQRZYWZIRaUAY9V0Dlp0zM4eQ0s1AagRZkrXcmBYRkVaVZgBNBZ2kKk8jMl0oV/HYcXKzex0lIiPdYVw83AFFBe57qaY8c+l7AX354KKaSHcz1OSIaGFm9W2LncysusylmR+fIibV64avM8QLZIplroigcxPCAUJCHRERb4C03QLcJ5IrVaBUyHk2nZtGvpLHdOE0AKCSH6l/DjdmVaBOfWqeiOgUkcQY92Aoioov0ZbdD167BX6vdi5cNtqJ4a4QcqUqHnzZeaceT1WNGFOFLX1/mRm6pknAtteT71lMGdfPkPLIHmzrJF6mpXTOHJkiz7lrMG74+60w2k3uTWM1ieDIzqECIO9SJFhzRESWZK2FdyU7ZypFJKdIPS2gKAjNkChjbeCdcyJi1TnTsvZddnOTPIBuQbKDV/byG17CLl1VVS0VkWqtC5+9tltTpJlHJDnmuvuGD7wzKZWE/B4uoTvpnLEzqv7whXEoVKpeKMzX/RwgO32mikykyecT9UUhO1CuLEehd4yQXaZSQTpLiICT9l1AF2DXohbeVplVAWBjhHgbJhRm5LUnIk+cnEehrGAwHsQFQxoRYzL7vbUye8dGYOfN5N+hLlKuaQRduaBQrvJzy9SsugKlGUVVDN0yeuQKZc2sqivN5Jzs+CWpLkskW6pCLVNFJDeNIwtHoECBUokhmzPJCHFjVgXqzKpNe0T0ighU0j0D4OeHp3FyNotY0IvfvMKo4EiSxE2rbFSDE9TGuzNYbi7P0bJM3y6g7zzybweKCEAmGwNL84kcnSbPed6gs/WClWYmknmUKroyTHYGWZdzZoA1SESAVdLCO7EfCVK0QIeikMFNAOa5IuK8NGMV894ysyqXQruJqdEheFun3eC7cl5zeuuIyK+Oz+HC/3M//ukBnQTabJYIV0QGSD0fIJ03NdNPG4EpIrVhZgzazJnGhlWzYXcA2V3ds38CaoVc0LlKjgxsMwHLEplM63Z6NgPvGCy7BiSJqyJcEXE4k6WVg+/KShkLBfLZtIKIcF8Y6+BqQERYWeZ1u/oNde6bLyRtlPtOL/AyHce1fwT4IsDVHyMR7o2gG3w3sUg2CiGfB13h+rbFlTCrPjP1DGZyM4j5Y3jN8GsMP/PmZxGUylAlGegYRoQqIo6TX2taeHOlCi/NzORm8CIddKfkh3m7PEe1rHnKlmhWXZIiAvDyDFND3nvVJtNOx7deTNacXx6ZcaxqWXpErALNmD9k+FVaRIGFWZV3xFFlaEfXDgBL65w5Ok2OZ+eAMyLSG/Uj5PNAVTU1kCRgz/OOGUu/ognWNhFZScPq2Sd4a2tnVSMicy7mzDBoDmQLRcRB+65tsqrL/AUGR/NmmBoiew0JiY8en0OuVMW/PHgM337qDPlmM6WZcl5TUKL9gC9ICAngevidXWkGcDeFl3fM1KSqPn16ARPJAmL+CDdZsuF3tWCKyGyWvIcxL9tNS7YdSLY7wg1k0nWKqmhOSjMAWlqaYdHuXtlrCPprFjxd1eshPiMboqCqKh48bPSHMAx3hXHpaCdUlbRkGjByOfC/JoDr/sTZQekG303PTNPnD5ka/FZiAi8zqd6w6Ya6G0IsTyT/YngD4PHpFBG3oWbk/MsVq1DKmkfk4BzJwqgWhpEpVoz5JHzzIDX2lDFYTeBtumuGfkZzx/DM6QU8e2YRfo+M912z2fTXzhuMYddgDOWqivtectataaWIWEa8M3/I8Ku0zZZFaYZ3xNF1YEcnJSItUUSiDR5JIElSfQtvfhFQFT7wLuK1ScytwZokIkwOX8kW3skzj+BvesiFNFqpkMmnqqpTRNyUZjRFRG+UtO05r4HtrBmXrbsMLHEzKcvW5EFfltEtwmzwHwD87/96kexSmzGrMjXEE9AUlSZ9IrN88q65oXeww3m6qpUi8l9Uvr1pzyAPNZsrmLf+sSyRuRwhWnH22YU668eh62BbI99wGaoA0iAyu9PSTCtDzdjU3b5QX8OBe7X4zr6z+I1/ewITCY2U83RVr7fhOXxsJoPxRB5+r4xXb69/LCvP/LiWiLiFbvDd/CzxnJiVZYDlDzQrVAp44MwDAOrLMgDQXSI3uEqcXEfMrJpxPIG3VhGpQtV5RF6afwkAUM0PQ1VJNAEHIwOhLttz3ACd+gQsRRGhpZkBmvQ6dxT/9jBRQ965d6PlugBoplUn5Rm7OUum5XalCoyTjSyGLwdidE1pUJqpVUTOps/yDakbJPNlvubtcKiIANBmzszTv4V1zITIOh2xi+6vwZokIiutiJxNnMbvFo/gjM+HDcEefDKR45NPNY+Ii64Zmj2QLVUN8q0bjwhXRMzkMNYu59CoysDzJTw2ZlWL1l1m2h3qCEJRgY/e9RxmyvTY3Cgi+rIMIzpNdM5UqgrPeKlNVWVgpRknHhGmiOg9IqWKwnfab790o0ZE8uZEpJvK+Iu0UybOJu82uNnaEpGNlyGjq9F2+J15gnjMewuIyGyuuY4ZVVXxzz8/in2nF/D5h7TdHbvep70eVBp0szA15OqtPQj762X2N9PyzNOnF10NODQFPZbkPCUiJhkigM6sukxE5OFzDyNTzmAoMsQDr/ToLZPjVbtIay0rzbiOeS8wj0iFKyLjmXGcSREF1FsmRCel/7vdGlWBOmNw04FmrDSz6dUAgOLUy/j54WlIEvCh11hnZgDAWykReeLkfH1ZrwYLhQVU1ApkSdYSlilMN5ezR0g7tD9KPCJMEcnMmA4brfWI9IZ60RHogKIqOJk4Wff4RjhG1ZChjiDiwfrSohXqFBHWMUPVXGYtcII1SURqFZGqoi59UXGI44vH8bv3vReTHhmbyxV8/eZvYqTvfACAMv4cFnLuFZGgz8PLBfosEX2OiNKgL9u2fbdZRYQlbsoeZ4qIDkwR+fQtF+Ca7T3Ilar4zgsJerAuPCL6VFV+YO6zROYyJagq4JUlHiZWiyEXWSJTWbKY60szDx+dRTJfRn8sgKu29vBFiN2Ya8EUkQSbCyM580Dw0owZOYz2I0UXspDsh8/jbGFpZbpqs0bVE7MZTNP02+8/O85LZL2hXvgkD6qShJmwPbHibbvnm7/2UEcIl28m5+pPDk6ZPsYx6OeUT5DXbKSIZIoV1wmdzeAnJ38CAHjL1rfUKVKKomKQDruTuzYDACdszgffaYqIqqqG9l0WqTAcHUacnlOpgu5m6taoCuhKM7SE2bRZlb726NUAAGn+OCQouOGCgboRDLUY6Q5j76YuqCpwzwF7NY21MPcGe+s66kw3l6wss+FSohKFe0iWDVQycqAG+q4ZgJRJeHmmCZ/IEUpEnPpDGOqICIt3D5LniXqdlXmANUpEuFSbnURVqeK//7/ncfVnH8IDh5obhOYUh+YP4f33vx9zxQR2lEr4d+9mDMZHeH5D4cwzUFWycTczrdnBbPgdIyIqVOQr9kSLBZrZm1XdeUQcKSIWrbtMERnsCOKLt+3FzoEoJoqEbJVzCecHwYhITJvX0ExphqWq9kYDlj3yTifwpkopvqPRz5G4h3Zj3HrxBnhkiU/gtVREKBHJMKmVVeWcKiJlc2k6NUBc9zGpXhGwAv+sC0tPV+WtuyF3rbuP6tIrS1UFd9B5F7IkY9BDXfoB66meiVwJz5wh8v3rzrMmQW+5kGxk7q2dPeMWdKdeSpHjZt1vtWBmVaBGHWgDVFXF/tn9AIDrR66v+3m2pKWq+vqICuAqRwQwxLyXqgrpjlN96PB38ofs6d2DeJA8ryExOteEOssUkWISqFb4+Z8pZRpu0DhUVVsHN+6F6vHDrxaxAfP4/dfaRPnrwFSRRuFmZsPuGPQNCLwMrzeqAqShgK13JuWZWkUE0Dpnji+6b+E9OuWuY4ZBIyL03sRSVek1GvZZX6u1WJNEZCA8AI/kQVkp4zvPHcK9lKH+w8+OND2yuRH2z+zHB+//IBLFBPbIUfz75Ax6R68lP6QGQWZY7Q774fW4e2uHTULNgp4gD5qyK89UlSrfidibVZvziCScekQoVFXFrM60Gw/68O/vvwIyNaueGJtwvjPUZ4gwdDAi4lwRYXNmrMoygF4RsSd9TInrCnQZLrZnTpOb4BvPJwY1lqExb9HCy7pmsmyHU6U7UoswMwZbRQRAuofcYOKK8903j/RvgSLSbJgZi9G+eis5T7/95BnepbBBJp/bhNeaXD18dBaKCuwciHIDuBnefOEQJAl4/myirlPNFej1pNDry6o045ElxOhNOdFmIjKTm8FCYQEeyYPzus6r+3lGN2fG17MFABDx0zXGtVk1jZzOV6L/vPf07uEEbMmKiH6Tk1/kRESF6sg/B4CUkBX698UGMecnM1RuHkrjslFnptk3XzgEjyzhhbEETs9Zr8d2RIQpIhWlwkMMeevu8OXaA20Mq2aTtZlP5GiifoZOIzStiOg8IqqqaqUZH7kOWIeQE6xJIuKVvfxD/vufP8G///JUGg8cbr0q8uTkk/i9B34PmXIGewf24isLWdKyO3oleQAlIv7ZFyFDceUPYWDD7/SdM5IkOWrh1RuUTBURlwPvGHhLp8dDhqmZ1CvNJu9mihXeW85KVBs7Q/j9G8j7pBZS+PP/POgowdSQIcLASzNuFBHaumtTMmOKSKpQsd0dMqOqXg2ZTRcxkSxAkoALh8lNvaFHhCoiBYV8tvEqfc0GPohGZr1UB1nE+AA9B2hl+24zpZlyVcGTJ8kN/X+95XzsGowhW6ri60+cBgBsUMlSNWGzYunbdu3QHw/iis3kPa7rnnEDSkS8tFXZLFWVYbmyRA4vkDyjrZ1bTcu02WwWg3RKrkRLM80rIklOXvxeGYO68C6iiFAiYvCIuBtcCICk3zKjen4Bfo+fr3OOY97ZGhiII12R8XyObBJ+fZPzkn5fLIBXbyPHbaeKsPO/NswMMKoEmVKGGH5pBhU2vkp7oE0Lr9lkbUZEmlFEjtHW3fNcEpGNnSFIEinpLWRLGhGhXW3r3iMCaD6RjDKH84fifEDP5x865uwG5xAPjz2Mj/78o8hX8nj1hlfji1f+H0QXz5AkxuEryIN6dwK+MLyVLLZIk678IQxmigjgrIVXT0RsA82cznag4C2ddoPvTAbesbJMxO9ByK854zdvJJ9ZTMrhu8+ew+cfcnDRmCoilIgUknV+k7JSxnvufQ8+8YtPGL6vH3hnhVjQx3MEpmwMaWbD7g6OJwAA2/qi/DkaERGmiBQV8tnGyvRzdFiasaqRp6jsHSvn67MTLNDSrpkmUlWfP5tAtlRFT8SPC4bi+Mj1RC7/98dPIVeqYKhCdt6TML9ZVhUVvzxKFsI37Kq/AdTiFiqz/7hBvd8WVLnqRBp+j2xLcjuWKV318Dy5qZ3ffb7pz4vzZyBLKnII8o0JN6s69YgwUlBM89jziN/Db7yyJOP87vN1iohZacbdpqh23ozrzhndwMTv7DuLI1WyFu30uPv833YJIfk/3D9ueZ+xI+KyJBtniI0/B0AlKm9Md94yIuKyNDOdm3alas5lipjPliBJwPZ+5woGQLyNzOB/diHH15osVS3XffsuAKhlsoPz+hP43Lsuwu9ftxUhnwcvjqfwyyPm5kC3uO/0ffjELz6BklLC60dej8+//vMITewnPxzYreVieLzAIBk+dJF00lWqKoOZRwRw1sLLiIhX9sJj1hLXpEfEoIgA5omoJqWZeat0WbqA9fvIz//xgaP4wfPn7A/CTBEJRLXyRU155lz6HF6cfxEPnn3QECSmhZlZt+gBznwiZqmqL4yR9+aiYc1M2RNy5hGpghxnvEg/e6dmVQsiwlp347p8m0ZgpDNVSqGiONwZW6CZrpnHjpHfefX2XsiyhLdcOITR7jAWc2Xc/fQYNpbI5zdeNS+lPH92EYlcGR0hHy4b7Wz4ejftHoQsAS+cS9YP7nIKSuy7pAw2dAZt53N0hqgxuc3zZg4tHAIAXNBzgenP1QXiu5mWtS40blZtwiPCDK5hv5dnZmzt2IqwL6zziCyxNAPUTTt2T0TI6yrhHtzx2CmcUMiNXpp3Z+68cfcA/F4ZJ2azODRpfv3pJ++agRGRdDld7w9hiDEiUl+aMVNEYv4YX49OJE44+2Og+UM2dYcNm0anGNEbVpkiQs+rdd++O58p4oXT5I+9cJOCPRs70BMN4LariHfgX1ugivzg2A/wp4/8KSpqBW/e8mb8/fV/D7/HD5x9kjyAOq85aHnmIvmkq1RVBn3Mu/7YnbTw2maIqKojj8jdT5/FTf/8iGGss5YjIpFbm5kiYtK+q4W61bwP1G3vr2Tw+6/ZDAD4n987gF+dsNm169t39bDonGGJnoDW2QLoPCIWYWYMTjpnzIjIgXMJAMDFw538e71Bstgu5BdMTXVMrodMCEiMT961V65Y+6JlaYYlLyoK3XE1hn4WiZtuhG8+cRpf+MVxfs7myjluonUzeZfNhnnNdvKeeT0yVzm/8shJDOXJezNZNj+2B2lZ5rqdfY78WX2xAK6mMnvTmSL0euqS0pYdMwytUEQ+/+AxfPDOp239VY0UEWmRlDPnfNq5G+WlGaddM3qPCCEvkYAHF/ddDAB47fBrAcDcI9KMWRWoS1d1HWpGb5KT5RimU0UshulU4Dl3nopY0MeD8n70wgTw3DeAf74QmDzAH2MVZsafg45oyJayOn9IDRGxUERUVTVVRIDmot6b9YcwGKbw0rESGTqxfd2XZv7PPYeQy5ETsadTu3F++LqtCHhlPH82gcePmxsEnWDf5D58+lefhqIqeOeOd+Kvr/1r+Nigp7PUkzJypfGXKBG5UD7VVGlmQ2cQkgTky1WedwE4i3nnHTNmrbvFlGbSsiEid+0bw8tTaTx8VFOT+OA7SbIefGeiiFgO/mMKElT86euH8ZaLhlCuqvj9bz7Le9kNUFXz9l3AMktEn2I6ntF2E1qYmf1no2WJWNeOmVmVlWZUVcWBc/WKSDfdxVXUiqlcGvR5EPF7IHnIa8XZ5F2HpZlM2bxrgE/eVRRgwhkRMcwWclieyZUq+PSPXsLn7j+Cg+Pk2JlRNeQNOV6IUoUyXqDv3zU7tJ3yu/YOoy8WwESygH46j2eyaE7qaqftOsFbLqSzZ5rtnqGfUzfSlkZVho4wm8DbPBH58iMn8eDLMzg0YX7znc/PYzo3DQkSzuuuN6oCgIdmfCz6NSISbtasWkhxRSTk9+LqDVfj4Xc/jP9+2X8HAJ1HRPe8S1ZEmi3NkNfdv0BI12uvJlkiyExrPjeHYLNn7tk/AfXpr5Luvcf/GQBZC+zMqoBO5S5lzI2qgM6saiTJuUoOVdU8rLCZqPejSyQimwyKCC3N0ONb1+279704RdokK+TGN53TPqj+WBDvuUJTRZrFryZ+BQB4w+gb8BdX/4VW7ihmgCkSX2yliOyWTqMv7P5tDXg9GKBlA315xo0iYh5mRi98f5TEo1uAucBndCPSfbKPs3cy+M6GiOic7ZaD/7xBPrlTLqXxD79+MfZu6kK6UMHf3veyyR+WBJj/JVJzUfMW3jOGb+sVEaZc6P8us4F3ejhRRFiQHp+BkixgPluCV5Zwvm7Imk/28fKWVXmmM+IFZHJscdbW7LA0o6iK6XnBd0xMEXGoDnKfiMPBd2fmc/ypWecaN+qFB0zjzs3wxIl5VBUVW3sjhht60OfBB6/dggBK2FjKwKOqKCuVuvdyPJHHy1NpyBLw2p3OfSk37RmER5bw0kQKp2y6ICxBd+mdUsZ06q6eMC011CxTrPCE0sWceXnn5QVyDW2Kb7IkgYEMKYUmgxv596KuzapajgiLhWedN93Bbv65x0O0NMMUEUVpuoOvThFxG2pGy9On8iHEg16865rztfLHvDuD5/Xn9SMW8GIhmYQ6RVJkcfheIL+ITDnDoxasiAhf05NniIog+3hpn4ObVSfI+0bBrm2v7K1TwJtSRGhpZqfL1l0G1jkzNb8A0Nj6tMI8gutUEVnMlvD/+S8yUOndl5APbjxjNA39/mu3wu+Rse/UAp462Zwqwm40l/RdYlxMx58B1CoxFnVsNP5Sz3bkpBBCUgkj1Qa+BwuYDb/jikjtbAId7AfeNTaqJnIlvkDO6ogIUGNYNQsiY7t4k9JMX21pRpIMg++CPg/+7OZdAIDDkyY7G1aWCXbUkyj9FF4d9ESEmUoVReXH1FARoTHvVh6RYrXIb4QszOzAWAIA6cMP+ox11kY+kc6IAolKmTFGABos0gFPgJNOsx2hVpoBWegsZlbUHYtLw+oZnbfi3hcmoCgq94e4Maqytt1rd9Tvkn/7ylGMBPPwAuin7c21wy4fomrIZaNdPCTOCbojft4F0VT3DCvNII3hTuN5lSqlcNP3b8If/PwPACy9NKM/H62G57GOmfN7zMsyABDJkuslFx7m3wszIuI40ExXmtF5RGpR1zVTTJL1E3BvVq1VRKwmUFtAyZDzcl4ljQ3xoA/oJQqC2/JM0OfBjXsGsUc6BVml5K1aBA5+jxPxmD9mmaPB1/Q52i0zeGH9+hYdIA0RSsUwNVg/8K6W6O/s2gkAOJ447siaoKoqH3bntmOGgXlEsgu0DO7xI0s3xuu2NPN/73kJc5kidvRH8T/fdBUAIF/JG2TvoY4Q3vUqcpE56sowAZPea+eIaP6Qq+p/SZbxMkhNe2PeZHfvAGbD77jDutK4a8Y8Q6SxFKrfDbISBkNXUGdYrS3NVCuagdVgViWM2NS0WzP4jiUajify3IHPYWZUZXBQmmGEMpEvo1wlF2ajslkjRYQZ0YKeIL9xv8DLMp11j2/UORMLk4XMK/kQUAFAR9ZsYGdY5YsVk3cdGlbdpquemdfOm4lkAc+dXWwqzIz5Q67dXn+OxoI+vPcicg300TVfr3QBztt2zXArnT1zT4OQKlPQm6NHUjEaMZKDJyeexGR2Eo+PP45CpbDk9l39IEYrReTQPDWqdpsbVQEgViB/Zz46wr/H1IxSRXGW78MUkVIauQJZe8ImRse6rhk2asIfA8zWKjtwRYROqmaKiMP23flpsjnM+7vxvmtIfgp6yY0bc+7V87ddsgGXyMQUqrKy/f5vN/SHADpFZJEYh+vKMgBpgGDrnm4jYeUPAYAtHVvgkTxIlVL8OrTDRLKATLECryxhS69z0qAH84hUM6wrqZ/bCNZl18wDh6bxX/snIEvA5379YsQDYZ5cWTtz5iOv3QavLOGx43N47qz7pEi249oYrVE9mD/EhIioqornquQE70q85Po1AXNFxEn77lIH3p3W3VBmbBWRmoter5Dobp62E4hrBt91R/x8kT45V6P62BERB2ZVRihZ6253xA+/1/6U510zFu27+rIM25FoRtV6AsGIiNUE3kiI3FSCEi1JOBwGZjdvhgce9dCF1qFh1bUiQo3NbGN2zwsTfOCd3UKsx7nFHE7NZeGRJVy1zfwcfftO8pl0lsn7ovf+5EtVPE6JjFWsux1u2D0Aryzh5ak0js84DMeiUGQfMir53Ib9xs6bfVP7+L/HM+NcEWnWI2IkIubPwUozu3p2mT9JfhGhKjlf2MA7wKhm5JwYVgPaTbBCTcSsBViPuq4Ztilya1QF6ufNNEgX1qNcVZBeIGvJqy/cxUtRzSoiAAndu9JP5rqM7XgvmT4+8TymJwnpt+sY44oIy0GqNaoymGSJcCLiqycifo8fm+LEhHs80XgTzvwhW/siDddFK/RE/Ij4PegGvTdEejUist5KM4lcCX/+A+LN+PB1W3HJSCcAXdR7zRTeke4w3nEpIRGff9Ad2y1Xy9xwp++KQLUCjNGZACZEJFOsYH+FJhXOHaj7uRPYxbw7ad+19YjYSKGn53RtrikjEWEeB9OYd+YPCcQJg6fQJhCbyOQ1iggAbKVs/ORsDdkyyxBhYKWZ7CxQ0o5fn2LKSIPTjhlAM6suZEsolOsXZW5UpWUZRVG5UdNOEWHnVC1CAfJeBVS6q3JYO7dTRHh738CF5BsODauMdC4WnZF31vb6ZhqZ/uODk5jOussQYSTikpFOy4FbHSr5e6Jlcj7pr/cnTs6hWFGwoSNoKi//avxXeMN334Bfjv3S9Lk7w368hpaE3GaKzGaKWFDJRqHPazx3n5p8iv97LD2GDtq+26wioifGSRNFJFVKYSxNSLlVxwwWT5PjVjsQDGtGQr9Xhp92GjkyrPqCdBYKUMmT88+0NFPbNdOsURWwNKs6UUR+8Nw44koCAPCmK3ZrP+BExL0i4vXIuMJLiMiP8hcBO28CAMyc+gWABooITRzNMGJmRURMpvDaKSKAO58Ia91t1qgKkNDNke4weiWyBpbDvfx+tO5KM39738uYTRexrS+CP3rjTv59RhTMpvB+9HXbIUvAL47M4uA55wEvU9kpqFAR9ATRHdT5KqYPAuUsEOgA+uov9LlMCQdUUpqRZ14EKu7zAkZoC69+8B07aW3NqrRrptl4d70iMpcpGmLytZh3T71HhLfudhq+PWtlVgU0RURniNxKyzP1RITWHc0UkWAnH8OOpObJ0Ssis7lZlKtlXYZIYyLSGfYhQHcHtaQMqE9VPT2fRbpQQcArY8dAvUu8UWnG76f+HsXZ5F0Gq4VYVVWta2YDXeAmnndkWGVlOKelGXbe/PaVo+gM+zCXKeHkIrkWnRIRNl/mGpOyDAe9gQUr5Po4Mq8l6rJpu68/v7+uZq6qKv7h2X/ATG4GPzj2A8unfwstz/z4oLvyzLnFPBZAPgevbkbPdHYap1On+f+fTZ3VFJEmPSLTSXtF5MjCEQBExdW3YhuwSIzdZ9V+HjnPwBQNt1kiCl0TTEszQW3Yn6KozaWqMli07zbqmilVFNz+4MvoBnlcqEM3s4qVZhZOmqdG2yE9hY7yNKqqhK+f7kLxwt8GAMzMEg+jnSLCVW5JJe9F1xbzB5rEvJvFu+vhpnOGte426w9hGO0Oo5cqItmwVqJfd0TknhcmIUnA373rYoMZkCkiteY1ANjcG+FDij7vooNmPEs+9MHIoHFhO0t3OKNXkqFENZjPFHFW7UcaEaBaAmYOOX5NBn2WCNuNO2rfpaWZkMekhZCbVe2IiEZ8KopqqEFzud5OEdH5QwrlKtK0JmyaNMm6a3TPtbWPKiJ1pRkbRUSSTKPeF/IaEVGhYio7paWqNggzI08r2c6cqU1VZW27uzfE4TPJr2hUmvH6KIms0nPN4SJttRDnK3lUqIEuvmEv4AkQArnQeDy4m66ZUkXBRIK8P9v7orh5D90UpGnrooMMEUVR8asT5H15jYlRlYOS6WFKbo5SIqKqKveHvN7EH7Jvah+OLhLZ/cX5Fy2f/k0XDMDvkXF0OsPlaicYT+SRUGOGY2Svq8fZ9Flefkzly01lHE018Igwf4ilGgJwRWRM7eOx7gzuJ/Ayw6q1IsLIjqqCdPw0m6oKaIpIfhFQVcftu9979hwyiTnI1BBuMO3HNgC+CKCUOUlzDNp2e1oexWzJh4cqFwLRAUzT5F9HpRlJIrHuVt1lPEukvjTDPDK14FN4nSgirHW3yY4ZhtHuMHqoIpIOkeMKeUN1k4ftsCaICAB86Not2LvJOJzIjogAwMdevx2SBPzs0DQOW6Tg1YLJvm78IQDLzpBw0kflPocGQT2Gu0IY7gqhVFG4ec5J+64zs6oNEalpXdT7RPjNycwjYtK6u0AzUHweibfvGWBamrFSRGw8IoDOsEpuTMVqkdeMmZo1kZ1wNPBODzufSG2Y2QvUH2JWlgEaKyKyh5LIClsonQ3gsirNsP/3Sl6EAnHiyAcc+US4H8iBR2Q8kYeiAiGfB32xAG69eAiAilyVEEEnqaqHJlNYyJYQDXh5udUU9By+YpgojjllFsem0zgyncZEsoCAV8bVW+tvbt849A3+75ncDO/oqUVHyIfrdpLfv9eFafXcYo4rIpzwQyMi7LM/lz7HFZFSVUHepOTXCFM6dc5MVXHSMcNa3c+q/ZpPgsJ9Cy8dQV8k15uZRyTo83B1MZUva2bVpSgiSgUophwFmhUrVdz+0DH0SPQxoS7Aoyv/yTLQS0oZrn0i50iZPtFNQtyePJ0ELv5NzNAUav0cqlqwNT0jy9ZlGWBJisjJ5ElUFevzrKqofMYML81Uy45b/fXY1BPm73E2SJ6L/Y1OsSaIyKaeMP74hvqAHlanr3XRM2zvj+HNdKd2+y+cddDUZkQAIB8O65gZsSIiNII6QheCJoiILEv4rSuJ9+FbT5JFw0n7rm2OSINdyGJWa93dTHvCTYmIqSKSIF9NWnd7IgHzHIkasyoAbGOKyGzGuFu0U0QAXZYIqY2zEfZe2csnj05kJnhLshOPCEA6rwDzzplaRYSV/S4eMZfDOREpWKTH0lTVMJ2lslRFhHfMBGh738bL6IE3JiJuBt+xssymnjAkScKVW3rQG68CMlXDHJRmWFnmqq3dpmoSBz2Hd/WT+TOSXMbtD7/AyzLXbO+ti6c+lTyFR849AgDc1P7inLUqcitVT//f02N8YGMjjC/msWiiiDw9RW5Sb9/+dgBEEQn7PfB5yPVgIBKqCtz1buAbbzfkRdTCWJqpV0QaJaqSXzwNABgzKc2EXZdmyPku0TTgkK+eiAA1PhFuVm1CEfGFANYOm5t3pIjc/fQYJpIF7IjQ9y5ick7yzhmXRGT8WQCAZ5R0vDx3NgFcchumveR96Fetz2debm9IRKw9Ivp4dz02Rjci6AmiWC1yz5AZzi7kUKwoCHhl0vlSygFffDXwpdfYnodmGOkOo4eWZjIBspa7KcsAa4SI/OXbdtflMwC6QCkTjwjDx15PGO9PDk7i+Exj2ZXfaCLaQDMsniZ+BdmnLew1YAbNhQ5qhmqCiADAb7xqBH6PjBfOJXHgXMI4IMkCljkiShWYp3MHouYMnd1QBuNBjPaQ15rRKQHMN7Aoe6wVEdPWXYs8B66IaD6E0Z4wZDrF0dC100gRqemcYUbV7mC3ZmTOTvLSjBOPCGA9b0ZRFUzliG9lKDKESlXBixPk77hwY6fpczEikiwmUarW30CqEimLRcv05rRUIlKs2TFtoOdrixURZlRl7XseWcJrzifvrw9Rc1Jcg8eOE4XCrG3XALqTDkT70eEnO+OfHD6E/3yOeIPM2na/ffjbAIDrh6/Ha4ZfAwA4OHfQ8iVu3jOEgXgAM+mi7WRVPcYTeSxSsyojIufS5zCeGYdX8uJt294GgKwpFbWiZYnUzl45eh9w8heW06Srisp9V0B9FkmunMOpJGkFtVVEaPlhTO1HNGA0BkdoacXx4DuqiHjKTBExl+G1zpnK0syqgM6wushLE4VqwfS6KpSr+ALdfP7m7pD16zbTwqtU+fU0tPtaAMDhyRSS0REsUEWk/+Sjlr8erRCyl5ElYONe69fRx7zTDZpd1wwAeGQPtnUSwm7XOcOCzHYMROGRJeDlewkZmzroaqo5QD0iVBFJ08m761IR2bvJPIyLkYVkMWkYcKbH+UNxvOmCAagq8NUHXwSOPUA6YCxgNlkVY9QfsuFSwsxNwJSAXA+VwmcOAWXnY9gZeqMB3HwhIQ3fevKMu2TV2tLM5H5i7vLHgKGL6n8RGhHZ3Bvmng79osezJWw9Ip38W7N2rbuALtBMe66A18MzVE7MUuWnqlu4GpZmKBGhPoyeYI+hbMdTVR14RABYekTm8nOoKBV4JA/6w/04NpNBoawgFvDyzp9axP1xXivVG2kZKiodeMcW0yV2zdTtmBhxnnzB9rwHjDkianYesGkZZ2Fmm3V/9yWbyY6/VIyZdhzpUShX8fRpcv6YBZkZoFP1NnWQjCDVu4ATtJRX6w9JFpP44fEfAgDee8F7sadnDwDgpXnrtnq/V8b7ab7EVx456cjHMb6Yx2JNaYaVZS7suxCj8VEEPAFU1SqmMlPmhtWEbtG38PHMZYqo6gzk6WLFkPdxdPEoVKjoD/Vz4lsHpcpf66zSj6iFWTXjsjTjpUTEzKwKWCgizZRmAK1smV9A1BeFBHK+mZVn7nrqLKZTRWzsDOHqQfpemSkxzbTwzhwmjQv+GPq3XISBeAAVRcVjp8imz6eq6Dr4fcsyR2ThNAAg6/HZZwax5NdKnpv7G3XNAM46Z47VRrvv/7bu73OXg7WxK8S7ZmYUch4w1ccp1gQRsULUH+UfiJVPBAD+8PXkZNtw6MvAt98F/ORPLB/LyjwGItLAHwIA81nq0+jZRC40pQJMN5cn8t6rSC/4j16YQLVCbuglpWTK/AEbReT4Q+Tr1tcaa6M6nKKtu5t7ItxDoe8W4TcnWYZSlyOSIF9NB95ZEBGT0gxg0sKbmwOgknRBq4WLl2bIAstu9N2hbkNHlZv2XUA/b8ZIJNk51h/uh1f28vyQPRs7LCevSpJk6xMpVAnx6qOxyHzX1wBWg+/0yYsAgJ4dhIhW8lBnD+P/7Ttr2UXGOqSqahXpz18KfPl1luSFhZkxRQQA4lFyLlXLMfzyiH2g0tOnF1CqKBiMB3monSV0NzC2+ZB8CQDArsFY3ZyX7x79LgrVAs7rOg+XD16OPX0aEbEjGO+5YhQRvwdHptN45JjNIEYQo+x4Io8FVpqhJmnWtnvF4BWQJRkjMUKWiWHVpIVXv/ukk3Frwc7D/liA+xr1ZIYbVe3UkNQEoJRRUj2YQjeiNeZSTRFxR0R8NGjRWhHRpasyH00zpRnA0MIrSzK/2dUSkXypiv/fLwkp+Njrt8PHNgCNSjNO/RFsYu7GSyF5vNy7+ORZQiT7qwqkuWPcR1KL6CzpcMrYTGsGQNqk2d9MyzNOiIiTzhlDx0xiDDj5sPZDl40WAVlCN1VExouE9K1LRcQObGGyK89cONyB68/rwwWgF/qz/w6M7at7XEWp8ORMQ4aIXaIqxVyaliRiAT53xml+Qy32burCrsEYCmUFPz2o7aKtVBHevlsrh594kHzd9nrL1zrDFZEIv1HPmnhEFElCWika25JtSjOWE4hNzKqASQsvK8tE+qwDvhgRSU8ClRInIj3BHm42Hk9PcHOgU7OqlUeETfPVjKo0P8TCH8LApvCaEZEMm1SrUPVliYpInZlNloENlwAAjjz3CP7sPw/ij7+73/Q5A54A77xKVrLA3BFSNjABCzPb1KMREZaVolZiuOcF+0wOfay77UwaRdF1fvXycmxfp7kaUq6W8Z3D3wEA/M7u34EkSdjZuRM+2YdkMYlzaevxCx0hH36Tzqr6yiP2XUaLuTJypapOEZmHqqpcEblyiAzFZESEZImw0ozuGtInA1soIsw0PdQZ0qkq2nO4MaqOq71QINeZSxmRyDidwEuvY3+VfA6NPSL60kyzioizFt5vPnkac5kiRrpDeNfeYS0i3YwAdW8DIJFNVdaefHIwgrGR+DsuGyXr34vT5LMcoF4rPP8t01+PTJISYQmq5eaSgxtWyf2tkVkVcNY5Y+iYeeE7AHQkbNZlMnghAS8IATlXoHNm1qNHxA6NOmcYPv76HRiRdK75ez9Zt9ubzc2iolbglb1aRHVuQftgaifu6jCX1SkBrC4/sd/5H6KDJEm4jaoidz11DiEvuTlYtfAWK1QR0U/fLSQ1srX9DZavxTpmNveEeeliRhfz7vP4+Em1WDuB12bgnVtFhO2KeQtvI6MqQEiKNwhABVLjvDSj94hM56YAKIgGvKYthmZgHpHZTNEggdcamZmycJGFP4TBThFhC8ugQkuLrS7NAJwYZ06S8+H4TMa8dFKtoJMujAlG/p7+St3DFEUl0zZBlDQGFiutVDrw4MvTtjI/M6ratu0Cxvkk4W5sjJCFeddIBR+4Zgt+/7pthofff+Z+zORn0Bvqxc2bbwZAzuFd3SRt1K6NFwDef81meGgq80sT1nkq4zR0UOW79HmcSp7CXH4OAU8AF/WRUqhBETHziCQaKyIsVXUwHuDPoc8ScWtUDfk88NaYg5lZNeeyNBOoNlJEqNKSSZESA9ASRQQwz9LJFiv4t4cJofv463cQEzQnIiaKiC8IdJG11nF55hwxqrJo9kspETlFM3QGuqnK8uJ/1pc3FQWRiRe047UpuQPQ+URI50wjsyqgKSJn02e5Wq5HqaLwDd95/VGtLHP+W8nXmcP2x1QL+v4m1Ahmc2T9tiNKZlg/RMRGEQGAvaOd2OQhb1hF8pOAsn1fMjyGPcdgeFCbuMv8Ib07bS+guTS7Aft1ikhzhlUAePulGxENeHFqLgu/RAcLNVBEDETk1CNkAe/ZDnRttnyd07paPzNz1sa8Gzpn9KFmTZlVtaF3evAskVpFxMofApD+e+oZQHLMoIj0hfrglbyoqlVI3rTjsgxAYot9Hgmqanwv9EbmYqWKl6fIAniRSbS74flsBt+xhWVQZYqIw9KMg64ZDuoT6VggOzFFhXmc+c//Ap1FchyLb/hzABJw8pd1Rr6pVAGligKvrGWuABoR6Q70olBW8ODhadNjn8sUcYi20796mzOjKgJxwBvgJDBVnsWnb70AHWGt5KiqKr7xEmnZ/c3zfhM+XTlydw8xkdt1zgAky+ctNCn2q4+aEwMAGE+Q6ybcQYlyfhFPTRLl9JL+S7g6ORojCstYaoyrAwaPiH5EwaJ9aWYwHuTlHaaIFKtFnEiQMsQFPdYzZgxG1WA9aYi4zhGheREKJSINPCJ8FoknQCaBNwNG0mtj3nXXwNefOI2FbAmbe8L4NZqu3bBt2E3nTCGlbUxpx8uejXH4PTLyCm1d77uArLmlNHD4HuPvzx2Fp5hCiHp+7PKhyB+pZYkoqsIfb3ej7w31oiPQAUVVcDJRr7KdmsuioqiIBbwYSj5HSKo/Brz2T/kxwqb1tw5ZbaDgfJ6al19pigiTyWtj3uuQnUVQLUJRJdzuex/53i/+GkhqPdqmRlUHZZlSReGDnYgiQonI7GFD/LgbRANe/Npl5EIqlWlCoUULr2n77vGfk6/brNUQfevupm7z0gyga+uUawbf2bTvNjSrljKGk50RkXOLObJbd0JEAINPhCsioW54ZA8GIuR3Zd+i444ZgLRRD3CfiGZY5Rki0SEcnkyjXFXRHfHzaH4rOFFEYooCBbJBXbIDW4TzlTzKinZj46mqBkWEEJHN1dMIgNzAjtV2kB34LvDE7eikn0mydxuPrcYzXzM8lBlVh7tChp01y+m4cnQzAOtBcizWfddgrPHnwpOBCUGzK8U+O/0sDi8cRsATwG+c9xuGn+3pJT6RRkQEAD78mq38+FloWy3YGIZYDyUiqoJ9448DAK4c1JTTkbhWmjEdfGcozZwy9Smw0sxARxBdYSOZOb54HBW1gq5Al/18H12YWcxEvYi4zhEh51cE5H2obZ9m4LH9+rKMXSnODjWlmdoW3nShjC/Tktp/f+MO7dy0U0QAd50zE88BUMkEdqrWBrwe7NkYh+Qj195AZBC4hCSt1pVnqL8kKtH324UikivnoKhEobUKNAOIos7KM2adM8wfsmMgCmn/XeSbu98O9F8AeENApcDPF0eg7+8cOpCkJfdXnkfEoSLC3tgpdONfUtchN7CX3Azv/xR/CCMi5v6Qqy2fmhlVvbJELrz4EGmXVRXSDtUkWHkmk7c/aevMqqqqGVVtyjKndK27Ib+HeyhypapBVu+g5GHRows1U1VTRWSOe0QalGYAA6npiwYQC3ihqPRG56Q0Axg6Z7hZlYaZsc9R8iXQH3fWMcNgNoVXH2Z2gAeZddh7HGBNRIrVIv/s4oqCoi9umtprBv2Frt8RmtaQO0dR9HfBJ1VxvkRKAWz8NwBSQvzRx8hDqaycKCaAyz9Efv78tw0S8xmeIWLc9bCBdzftIhkuDx+dNR17z4hIw7IMUDc9ml3v6VK63htw6JsAgFu33crbzhkYETm8cNg26AkgnrKrt/agoqi481enTR/DiMhQVxzwx6AAeHqGeMKuGLqCP07vEYkHyc2aD75TVWNpppIH0lN1r6WVZoLooooIyxI5tKAZVW3PQ12YmVkZhSkabs2qMYnm4FiUPVmoocSShZsZeMdQU5qpDTW78/HTSOTK2NoXwVsv1gVSNiQiLjpnaKJqbf7HZaNdkLxE5e0P9wMXvweABJx+1Fhyo/6SCO2+bJQMq2/hZY/1y/6G7fF2nTNsxsyFfR7gpf8i37z0NrL29FFS5qY8k9EUEXaPekV1zQC6ULNGigiVJtOhjVAh4z+HPglIHuDQD0lLL7QbDU9VLRc0w6mNP0RfjuDdE0s0rAKkteqKLd1QFXJTtPSI1Carzh8nbnyPH9h8reXzn9G17gJkMWEJi4YsEaqIJPUekVKWRCMDvH23qqhYyOpKVGbw+qmvAwbDqiRJuvJMxoUiomWJ6EszgHbTkn2LrkozAHSKiI6I6AbeHeD+EPuyDGBNRPSLUFRRkfU0fi4Gj+zhZET/PKY1ZEnCSR9ZYK4KkuuAte8hOwfcfRvZBe24AR2jrwZAici21xOJuZgEDn6PP52ZUbWqVLkitXd4M3YNxlCuqrj/kPHGqqqqzqjqYB5NzayksC/MS4V6X9jZ1Fn8YowMHHvv+e+te5rN8c0Ie8PIV/I4mWwcd/971xFV5K6nzmpD23QYp0rJxq4QEO7GUb8PyXIGEV+El4EAQlq9khclpQSZ7pj5NNpCgsj3gHaemxhW2Tk4oCvNMI+II38IYPCI1KaqAnqzqjsiEkUeQZ9MsihMwBQRLxu90GyGCGCriCTzZXzlUfLefeKNO7XjqZa17j6r0rqb0owVEdnUBZkSkYHwAFmXtl5PfshUB93vx+g57FgRSU86Mqoy2HXOMEXkjXiStCF3b9Pub2yO2qwLIqIrzRSp1+0Vp4iwmvFsftbegUwvRH8vWWC+dToOXPUR8rOf/AlQzmuKCEtVnXiezI2J9APdWy2felaXJsrRAp8IQFp5VYUsPqmiOXtmpRmuiByn3TKjVwE2o5j1rbsM/SY+EbbwGxQRdnF7/DzxcDFXAos76I5YEBFAN/iu1ifCDKtZF4oIKc0oiTM2ioh7IlKriKRKKU4EByODOkWks+FzWRERtrCEEIAMICU5JyKAuVnPzCOiqioey5P36dZeQgyOTmfIIv3d9xGfQvc24Ne+gk6qJCQKCbJDetUHyZM8/RVeNmBhZnpFZKGwgKpahSzJ6A5286TS2vLMybksJpIF+D0yrtjswA9jMj2al2N1icrfPvxtqFBx7cZrsbWz/lr1yB7uoXBSnnntzj7s6I8iU6zg7n31CZXMrDrcFQLCPXgqSM6XvQN7DTM2vLIXG2NkY1OUyDnNPSKsLBPpI7I4YOoTmabt54SIGLtmOBGx65gp5TixP2vlEWFmVZeBZjEpZ2sCZx4Rf2mJrbuAIdAMMCoidzx2CqlCBTsHorjlQp2izYisJBuUWwMYEUmcBcrmpTgA5PxnrbvUqMpw6WgHJB9Zn6Neqvpcehv5uv8uUoYuZnhrbIQmDzf0iMS00kxTRMREEWGbkItmf0y+cclvaeWyfnoeuVFEKBFJezoh0ZEVrziPSFegi3eVWEW9AwASpwEAg5t2wSNLeHkqjTMX/iH5oBdPA4/+g5YhwlJV9fkhNrInb1mNtZ6I3Lh7EAGZ3Oj3j5ub/7giwuQ63rZrXZYBjK27DL02RCTp0XlE9GUZ+t6w96Er7Ktz5RvAfCIWWSInXCki5AabSp5FlXZXMCLClC3Zl3DcusswSFt4WX2eqSGdgU6oip+bPRu17gLGwXf6HAumXkQkenOBu12EmVmvLlkVwLGZDJ4skPdpZ5UsTGOLOVTu+19EOvZHgd+8Cwh1asZklq566W1EwZo6qA36YqUZXYYIK8v0Bnvhlb245SJyM/jViXnuGwK0tt1Xbe6y9BUYUOMRAbTPdTxD/F2pUgo/OE6m6773gno1hIGVZ+yCzRhkWeJeka89fsrQPQXoFJHOMBDuxr4QISJXDF6BWgzHiKE6W6VEhLXvsrJMx4i20alRRDLFClcpBms8ImWlzIf62SoibBaTN4okIqYeET70zqkiQtt3o8hbhpkBWtdMsETXiyUpIlqgGaCd49OZRXztMULg/uiNO42ZPnpvilUMQLiHkhRVS6I2Q+IsuenKPmDQGBDp9+chSVWoqoTJOeqL2XULWetS54BTD9Mp2AoQH0aUGtizNqGBADRFpJBEmt7w7TpmGFhpZjo3bZimnS9VcWYhh1FpGh0z+wBIwMW/qf0iJyIuWnjpcSmRfkgyudZfcV0zkiRp4VV2Lby0NBPq34qrtpJF7b5jGeDmvwUAKI/9MybowsbNqqxjxsYfAugMmnoVgGY3YO5YfTS6C/i9Mnb2Efb89BlzosVzRLwBUk46/Rj5wfY32j631rpbr4joDatazLtOEWmmdZfBSZYIV0SclWYWsuTxcX+cd0swZYsoIs15RJgsrveHvDiehKKSxzh5XtY1U6gWDFIsJw0SWSDnVXdExKyFlw390y9Wjx6bwwGFtLn6Fo5hJFzFO6RH4H2ado2940tAP2lv1aerAiAEYM87yb+f/gpUVdUpIjoiQt9/NmNmU08EFw13oKqo+OmLWnmGte1e0yjWnaGmNANonysjh/959D+Rr+SxvXM7rh6yvlZ39zrrnGF426Ub0BsNYDJZwI8P6CagFsrccLqxK4RyqAvPBMk5b0ZEWOdMokKeg/tmWMdM5yjQTUfB1xARdv5FA6Rs2qnziJxMnERJKSHqi3KyYwqqBicDGwBIph4Rbeidu66ZqFRAzGe9SWOKSKSaIN9oNkNE/7vlHFDOc9Xv2XMTyBQr2LupCzfurhllwfwhdgRIkpyVZ1h+yOAe0varw3SObJzUagQvnKMbA18QuPDXyb+f/7ZOTXmVo6nqAMhayUpQNAPHyU0+5o/xwXusqwog3XKqCrw3SIzV2PY6rfMQAPrIOoD5Y0QxdQJK9nyxfkB+hSoigEYc2A7JFGzMc9dm3ERP1vtemgLOvxXYcQMWpCpKShmyJJNuC0XRGVWt/SEAMM9uwHpFJNoPxIcBqMDUgab+LoZLNpKb8Xhq0XReDivNhDwhouKUc8QsO7C77rEMqqriFCMivdoNxSxLhM8g0ce8N9Mxw2CVrko9IhOz89rPGpVmYkOA7MW8TJQGpoYAmrIl+xLos/KsWKB23oy+o+rgOJsv46yUEvKGeM1UX55hSkYHvQxnqs0pIoyIlKtl5GlWg56IPH58DrPoRCYwAEDF70UfwWd9d5AfvvZPgfNv4Y/lZbjiovZCl9PyzEs/QGJuEuliBZIEHssPaGFm+mF3t15kLM+UqwqePEmIhSOjKqAjItrj9Z0zFaWCb79MchDee8F7bQ2bLOr9yOKRxkFSIN0Q779mMwDgy7rYd6aGdIR8iAa8OOTzIifLiEs+nNddP5yTEZGFIg2lKlRIZDsrzXTqFRFjaYYZVQeootfF23fLPMhsV/cuyJLNUk6NqnM+8r6ZlWaYqpF1aVYFgG6/9Q2LeURiVXo9L8WsGogDrOyVW+DneKaURizgxT+/+5L6hGOT0p4puGHVpnNm3JgfogdrXVfLHXj2jO7aYd0zh+/RSubDr9IG3zXyiABcFUmnyfnjVG0wCzY7Mp2GBAVvlx8xHh9DxwhRSKsly4C9OlCyF+4ehESJyCvOIwIQIxoAaxNatUzkMQDo2oQbKBF5/myCjNe++e8wESCLap83Cp/sI6mShQTxP9TIcLVgnSI9tb4IpoossTwzGOsEAEhyEd968qzhZ1Wlyts3A96AMU3VZlFO5Mq85XhTt04RoQverC7m3dC+y3wdNh0zlhkiDCaD7wBgS28EkgT4i/Tm4w0au2zMIHuA+AbM02FTTH0AgE4/uSlKchm+gE3t1wRMEZlOFVBVVEOq6gt84m6n4+cz84kwAtFJb3CT5XD9L9qgtn0xWdLeT7YQlCrazV8ZIuXC96a+goBUxrHOa4HX/pnhOVnMu2Hw3ca9pAW4WkLuqTsBkA4O/SBKthDrW0jfQsszT59ewGQyjwPnEsgUK+gM+7B7g0M/jIkiog8x/PmZn2MqO4XuYDfesvUttk+1MboRnYFOVJQKjiwccfTyv33lKEI+Dw5NpvCrE+RYmD+ERcvvA1GIrvB2mBIC1jkzldNSXdOFMicI6BgFupgiYmzh5Rki9HxkHpHFXAkvLxD53NYfAnBFZNZDPhszs2pU177rZM4OvAFUZXIsPV7rmVpsyi+LAF9SaUaStPUmv4CxOXKckiePv3rHHgMx5uATfxsYox0pIizavX5irhbmF8fzYwntPdxwKdC/G6gWSRkUAIYvd66IAHwKb5qqjk6JyPYu2jmjM6wenU7javkQ+qozZILyrpprRpaBPkqmnfpEOBHphSQTRe0V1zUDaPUws/AWAEQCVRVyY4sOYCAexGWjnQCAnx2aArq3YGLP2wEAG7OL5CbL/CHDr7Kc08LAlICeWiWAj2BfGhHh7FIu4PvPnjO02OmT84KeoKO2XaC+dZeBDb7Te0TMFREzIuK0NFM/+A4Agj4PNnSE0I8E+UZ0wFnmQOcmzFNPil4RSeZUKGVy0WYrs6a/aoW+aACyBFQUFfOZopaqWtO66xQ81KxgoojQbICpcqTOi2CH2tKMfjInC+TbP5ZArlRFT8SP6FatbHBCGcI/xv6krl3YMPhOf0Oirbydh74FGYphxgygLcQ8kRjAhs4QLt/cBVUFfnxgUivLbOu17LKog8mOVj9Z+RuHSIDZu897d8OWRkmStPJMg4RVhs6wH+++nBAJllHBFBGWH/NUiRzjFYo5AddniUT85P1O5Mq60syIFjpYTGrXFnQZInEjEUnkytqMmYYdM4TwTMhkAxYzU0QoEVFUoFhxdg6WveT86/LWp3cyBH0eBLwyusEUkSUQEYAbVjOLM/jXBwixC/hLeNslG80fbxfvrkcjIlIpkcGRQF3HDKCNf5CrnUjkysRwD5D161Kd6iB7gaGLHQ0z5aAx7ym6iVmSIjKVxq976FyZC99pPsSVd8448ImUC/yeEOnV1t6w192mal0QkYZjj1k4S+cmfmO7aQ8tz9D69cTGSwAAQ6UC8OD/FzjrzB8C2MxXaZFhNUI7X0LBCtLFCn60X/PC6IlIILcAzLwEQAK2vs72OWtbdxm4ImLiEUnKMpR8rSLSyR/HS1SNFBFemqmP0N7aF0EfneTY0B/C0DGCBXrj1RORmXQRapkce8OcmRp4PTIvU00mC9yP0OHr54FejaLd9dAbVhkYgeioEEVrUY3yfAgnqB18Z9Yx89gxshC/ensv5E3kXK74ovhw+Y9xYLZ+58uISLFa5GUeAMCeXwNCXYjkxnG9vN/gKwI0s2p/2FhK490zByYN82Ucg8+Z0XlEqCdsobCAg3MH4ZN9dQFmVmDlGac+EQD4wDVbIEskF+XIVJpniGzsCqFULWF/jpwbV1qUNYajw5AgIVfJIR4ln28yX9aVZkYBf1jrkNBJ4jO6DBFAK82UqhWuiNgmqgJ8/TunEpJopoiEdeqWU8Nq0UPOgS7Zfsp4PORDj0RLyktRRABuWv7Ow/sxkyS3r6qUs1ZxGmWIMDAiMn+clOVrMX2QqBqhLtMOSkbEB2mI4nP68sxF79ZKSgN7AF9IU0QsQioNYKUZul46MasCWufM8cRxraw4NYWbZTr645LbzH+R+sUcKSJMcZJ9iHWRe4mqBOxLhSZYFiLyhS98AZs3b0YwGMSVV16JffvqB84tBVs6iKw5nZs2/2B1/hAGZmp66tQCFrIlTOSJ2WhDpUKSJI/8lDzQJj+EwVIJGLqEfF04adjluAVjzz0xcoF844kz/MRiRMQre+FhExQ3XNKwFstad7fUjK8384iwm1NVkpBmkr3p5N0GYWYMFooIQGbO9En0uRv5Q/gBjmCBKiL60sxsugCFEhHbjioLDOpaeBmRSWfIbmRTT9gQL94IZqUZnvlBWwYX1RgWsw4NYqj3iJh1zDzGwsO29xJS/Y4vI/vbP8ZJdQPGE/m6m07YGyalScDgtocvxNsR3+t5AKM9RgLLUlVricjNe4YgS8ALYwk8d5ZcA9c6NapWilrOho6IxP1xQw36lq238Pe3EXjnzJzzydijPWHcvIeQn688etJQmnlh9gUU1Qp6K1VsyZnPpvF7/Nw4GAqT9yCVSvDuDx7KZ2JYZYoIOxfDfg/8HhmSfx75Sh5BT5CXpk2hqrwEdFohn42ZWVWWJc0n4tCwWqTdfB2yfdmzKwDEJXezlCxBFZEzY2Pwgry+oirWygKLd2+kiHRuIt0w5RyQNtm06MsyJiotM6tu6yakgZ3r/LVZSvEIUSXZ+eusNKOF+AHOFZEtHVvgkTxIlVKYyc0gmS/jVdmHEZTKqPbs1BT7Wrhp4dURvWiY3J/UaoBHWjhF24nI3XffjU9+8pP4i7/4Czz33HO4+OKLceONN2JmZqZlr9ER6OCSsKlPhCkibLgRiKv//KE4qoqKnx+e1jJEBi4FoJLduiSbGpP0UBQVC1mLG3C4WyM/TNZrAow9B/xl+L0yDk2m8PxYAkBNhgjzhzTolgG0jpnadEzWNbOYK6NEJVq/x48wlb0TtCvDfM6MRYmqFhZmVQDY1owi0jmqeUSC2kI3ky5CKXcCaDwU0QzMJ3IukeIEYmqBfM9Jfogedh6ReJEs0guI8XPJCWrbd/nzMYJSKHM/yzU7eskCevG70bH5Eh6tfqxm5owkSfUtvAyv+gAA4LXyAZwfMGaiMCKiN6sCQF8swOfJKCohcKa1fDMwf4js1cgrPUae9QPgtgssdnYmYETkZPKkM1mc4kOvISThh/vHcWA8AYCUZti03SsKBUhMvTEBM6z6g+S6qSzQzVGwQ/NMcSKiGVandBkiAP18wj54gsSYf173edpcLDPk5kmCNCScKpObuFn7LqBr4XVoWM1zImKviAxTf5YKmywPh0jK5CbciQz++I27OWm2TCh10jUDAB6vpnSYlWcsgswYmCJy0RC5xzx3JmF8wE2fBa74PeDaPwKgeSgcERGqlKWq9UZ0OwQ8AYzGyXl3PHEcx2e0soznstusy96sNLNwwjht3Qy60mmJhpmpShBjC+5Gm7SdiPzjP/4jPvzhD+P9738/LrjgAvzbv/0bwuEwvva1rzX+ZRdg5Rl9qxJHol4RAcC7Z+5/cUpLVb3897VFb2CPtkhYIJkvo0JTvExDvFpQnmFEpFDN8U6Ebz1J/iZDhsgJkizZKD8E0JVmaohIZ9gHn4ecoHpW2+Uj70OCKU6m7bsWJapaWAy+A0gLb5/eI+IEHSNY8JiUZlLNl2YAbRd6cpEs+kFPEEfGCTm72IU/BNAIkhkRidF5RAtqzFVppm7WRk2q6hMn5lFVVGztjXBjJcPOAbIQsnHgenBPUC0R6d6Kx6VLIEsqLpz6T/7tUrXEu2z6Q/Uq1q0Xa6TBsRoC2M4nYZ0zVw1dhZ1dOx0/ZW+oFwPhAahQucfCCS4d7cIVm7tRrqoYW2AekTD2TRIicmW+QK4JM1kfWpaI7KPG4UVqOmezkgCdYVXbTE0njaUZgJRnPEFyPjtNVEVsCIslstybdc0AQDTAFBFnRCQnkbWDxbxbYYOPrDVFf6fjEQZmKFaq+NlJohju6arg967bVqcK1sFpaQaw75wZd0ZEXr2J3IeOzqSNibydo8CbP8fVDXceEaqI0E4vNxkdep/I5PED2CsfQxUyKRfZvV4gDigVUqqyg+795WRQCfDp3E7RViJSKpXw7LPP4o1v1HbosizjjW98I5544om6xxeLRaRSKcN/TmFLRPQeER2YT+TRY7OaItJ7PnDT3wCQyCCgBmBzZjpCPvi9Jm9nC4iI/qS97SqycN17YBKL2RKv4wchE6k3ELe8WBj0rbu1pRlJkjTDqi7mnd+cKCuvbd9VVZUTl2ZzRACjR6TiZPEAjKUZg0ekwBWRhiMATMAUkbE0ISJD0SEcHCfH3KwiYvCIsAF1dOBdGmFXikitWbXWI8JmuphlduzoJ797zISIWCkimWIFXysSkttz9D94CiVr3fXLfn6e6HHj7kF4qTnVcdsuYNoxw/DWbW/Flo4t+MRln3D+fBTNlGcA4MPXGb0B3VHgwCxpzb+8UCCGeFayrAHbmVa95L3ypKg/pENHRNiOnKarVhXtmhrUTTnuCPsgU0XEqT8EXZuRoV1yZh4RQK+IOCvNZCVCbtngOysMeMnmJe/rdPS8Vvjbnx7B8QzZ5Lx2xAtZlkyzdAxg55AjImJhWM3Oa+Rw4966X8uWs1zZ2NU3jNHuMFQV2H82YflS7jwixKyaBiG5boiIvnOm4ygZ03Cy42ogNmj9S5KkK880IOss7ynSx0mVWg1yH51TtJWIzM3NoVqtYmDAuLMdGBjA1FT9cKfPfvaz6Ojo4P+NjIw4fq2tHeQiPpE0IyLmisjOgSi29EZQUrPIVcgbNxQZIpG3//MkcO0nG77ubLpByyojIuNLV0Sy5SwuGo5jz8Y4ShUF3312TBt4x3IRtlzXsMtH37pb2/0AAH1092U0rJIbfAJVItfVEJFMscJLOc3miABk5zcgEyIyo3TaPw9DfJiXZrp1G9LZJZhVAS1ddTpHztXewACmUgXIErB7gzN5lIEREXbTBnQKhqIg54lDhYzFpZRmmEfERxYqO3PozgHyGMPwOwpmTq4lImfnc/iFcikm0Ae5sAi8RNJM9WUZsxyPzrAff3rTLtxy0RCuP8+h7wewJSI3bL4BP3r7j3gXjBvwSbwOO2cY3rCrn6f/hv0enEwfREWtYENkA4ZpmQIW5RlWmimCkjaWedSpW+Nq0lXnMkVUFRUeWTJcU50hLy/NOG3dVbtGkaElF2tFxF26apZ6NKKq/a6+TybnZ8bT6eh5zfCLIzP42uOnsEjTh0MVatwM2CgilaK2xjjJL7EiIiw/pGe7aWmJ+UMivggivgjvyDT4RGrgKkck3A14AkhTNckNEdnZSf6mY4vHsHv2JwCAue3vavyLLNisUeeMriuJkTFVCa4uRcQtPvWpTyGZTPL/xsbqZzxYgbXw1ikihZRmCusyKiKSJOHG3YOQ/eSE6Qn2IMgGsoW7HbWOzmcbqABDF5OvybOa1OwS+p7sfCWP99KpvN968izyZZqqSuX9Rm27gNa6O9QRNI3ZNp03Q2+kCTb4rqZrhpVlIn5P4+huG0VEkiQMesgic7bkrBc9jypy9CLtLmoXtt4jYjattRGYHL5YJAuNRyVkbHt/1NTwZwfmnVgoLPDpr1zBUBQU/OQ4F5oozaSKKaiqqqWqBuIYT+Rxci4LWQKu3la/CDdTmjkzn4UCGT+P0OyBp78KQFuIa42qenz4uq24/bcuM2SPNIQNEVkKOBFx0TkDEEPnh2js++aeCPZNU3/I0BWQWAR9bt70d1mWSFYhpDaUo8RYX5phHpHsLFBM8wyRvmjA0O4cDCUheQqQ4cW2jm32B03L0uXYJh5PYqmIuCzNpFRC1EOq/U2nRyY3qLTsjrwzzKQL+JP/IB67y86jZC1XP/iuDmy9lb2GErIlOBGpKc1YzJfhx1eToXPZJkJWnrNRRJjKXagWeA6UJSQJSnwQGXoOuCEibO7S6cQJdCnzWFSjiF10S4PfgnPDKveI9HF1R1UCq8sj0tvbC4/Hg+lp44yU6elpDA7WS0OBQADxeNzwn1MwRWQyO2lkmcwfEu4xpAEy3LRnELKP3FQHI0N1P2+EuXSDltVgB2HSABm33gT8sp8P0sqUM3jrxRsRDXhxdiGHY7PkggwW6c7WgT9EM6qamwbNiQiNeffIZBFgFz79vmOjKmA59A4AoKroUhMAgOM5Z6bGxQL5/PyKimhGUxxm0kVADSDqIzdWt4ZVVprJVsnFVsqT53FblgFIKJwsyVBUBYvFRSiqwncQMUVB2U/f3yYUkYpaQb6S10o9/jgep2rIxSOdPN1Sjx1UEZlMFuqmy/LSTE2ZgU3dfXno7WTY4fizwPhzlh0zS4beI9JCsHLGeGacnztO8e7LR/C/b7kAn3nHHu4PuWLwCu0Y8+aKCCMiBSUNyHl0FGmpsEOniAQ7tOdZOKVliOjKMgBQ8ZL8jA7PKB9nYAmqiOSj1KMiASELMhihpRmng++SijMi0qWS6zzhcqgjQJoB/vg/XsB8toRdgzG84xoaLkkJX5x611Im6qrBqOokj6iXrtPpSeMmiUW7m5RlAGA6ayTil42Sa/n5s4tQ2BTQGoR92tqWKze+aWfiG6BK7onIcHQYsiQjr5Qw75Hxw+o12Dbk4Hpyq4hE+zXjbXWVKSJ+vx979+7Fgw8+yL+nKAoefPBBXH1143wON+gMdnJD4KmkLiaZlWVq/CEMF23sQEeMvIFepdv0MXaYt+qY0WOJPhFJkgw+kZDfg6u2kr/1pUlyQQZUBejZUaf6mOH0vHnrLkMfnzdT38KbkD3asC6AG0/nnGaI6H4HlXz9PIP8Inwq+d5LSWeD6pjvolupQqIhUVUaRAaYT2t1ApaponrJzWU+Rd4vt0ZVgEx/ZQm18/l5ZMtZKDTILK4oUGhb4kKuwe5Ih5A3BK9Ebh7pUtownfNRfduuCTpCPh4bfqymPGPlEWF1396BjcDud5BvPn0HzxDRh5m1BLy+v8TsiRrE/XHe8upkAJ4eHlnCB6/dgm2DHh6xToiIvSIS9oV5eU72z6OrTEvTnTXlZ51hdZpniBivg5xE1rQwRtEQdP1LhwgRiQa8ljH4bAJvxqEikqwSghSo2pcX4pSIzKvuBqEBwB2PncKjx+YQ9Mn4/HsuRSBOzzFK+HiWTtlGEXHqNQt2kNEYAJm1AhDzMY92tzeqMiKyazCGsN+DdKGC47PmHhCf7OPT0p10zqSj5G8ISJ6GwX2G1/H4MEQN5Ge9PjwWvdHZsEk2DXrhJAkts4LOrMo9IkoA06kiCmWHc4uwDKWZT37yk/jKV76Cr3/96zh8+DA+8pGPIJvN4v3vf3/LX4uVZwzBZjqzlhlkWcJoP7lhJdPuLxSeqhqxIyJLT1itjQS+ZjshIkdmyAUZUFRHZRnAfNidHixLZNZkAm/CI/NJxgh28ImWjjNEAGNse215hpqfEmoEx+ad3ZQXCuQ96KlWeUjUfKYIRSU7wBE6ht2tIhLwetAb9UP2k+c/N0P+tgutFJFixrZNW9/Cy6RkP2QEVHBp340iIklGs54+WfVXNkZVBuYTqTWs1g2+ozijn7pLk1bx4vcwQ8cntFwRaVNpBnA/AK8Wz049C0VVsDm+mcymYsdoQUQATRUJ+KbRpVAlpnaDpDOsTpl0zABAokI2Wp5yAw9dtQwkyWdDBt4BMRN1jCHMFRFnRCShkOshULG/kUapn2NOcbe+zqaL+Lv7yY78f99yAVHxKGFHIQlUK4byZB14vLsLIlvbOTN/nLyWN0i6KE3ASpOsNOP1yDx12RBsVgM3htV0uBMAEJfclYQBYIRO937KOwBpyH5cCUe0n6jdqmIfe69r32XrD5sWP77oXBVpOxF597vfjb//+7/Hpz/9aVxyySXYv38/7rvvvjoDayvA6mGGqHfeumutFEQj5A08M+13FbEN6G7AMRslgAXHnH3C+UTD2mNkiggdG81uMGcWEgCAoKo6KssAuhuKJRExKc2wGSSyrCkiJpN3HZVmPF6ATWesTVfNkIt6Vu3UYpIbYL5AFZGqwmOzZ9Kad2dDtDlFBAD6OsuQfQkAEhLJPvg8Es4fslhQv/d+4EvXaW3UNdATEe4PoTkIcpT8zE3XDGBMV2XPuZD2YD5bQtjvwaWj1rkNVobVRorIpp4wqZcPXghUCpidJarCWiIiLGHVbecMA8sPuXKIBh5yImKdJcKISDxAZ874IvXmR51h1aw0o6oqporEB6cUN9gfZPIcoFYBTwCLMrmBW/lD9D9zGmi2UCHH5avYX6fhCrkZT7sc6vjiRBLlqoqtfRH81hVU/dG/X4VEnWHbAKfx7nrUGlaZP2ToEssmgFoiAmjlmVYZVtPUixdTHY5G0GE0RTZ3v/CM4rxBh3YHSWoc9a6qpopId4i8xtii8/ley2JW/djHPoYzZ86gWCziqaeewpVXNk4rbQbMuGXonGmgiABAQSWsLpuLY98p64XEDI4UkY2vInXK/ALA0k9dgnfO0It+R38UfbEA4vTYA5CAzdc0fB671l0GVpKYMRt855G1cpfJnBnHU24tBt8xRWRW7cBCtoSEA/MmU0S6dYoIS4btjwcMQ9LcIhwjvxNQBgEliF2DcQS8JtLmxH7g2M/Iv4/8xPS5+LwZnSLCFhZ/jEivbnJEAK1DJl1K813hyxNkR3vllm7zlnIKZlg9VjPR2WzwXbFSxWSSLCybeiJkobr8wwCAGfq+rikiQg2rB+cOOhvyVoOnpsgIiCsG6fyeBqUZQOucCfipZ65zpN67oAs1m07VKyIzuRlkKwmoqox8psH7rduEZUpkg8XKL2Zwa1adK5N1wtNAEQmUEgCAyZK70fAnaNjersGYVk7yeMmwNgDILTQwq7rIEGGoJSINgsyA+tIMAOylhtVnnSgiDkozqQDNbKk6L3cAAOaOYSRByoAve6PYOehClWrUwltIAMxoG9a6Zvqj5PM5t5oUkeWEaZZIA48IAEzSWRFquYvPnnEKNmemz04R8XjJrA4AOPhdV8/PUCvjSZKEa7b1YNRDw7aiA4C/8YW+2KB1F9BKM3OZIjdb8fHwHo9G7gypqqyN2WH90irmnSoiaR+5+ZyYbbxbYB4RUpo5C6gqJ1F90QAPv2pGEUGAnD/ZNCnvWA66+9XntX+fesT0IWaKSIzeA0OdZBHLlaquaqtMEUkUE3wh2H+G/O3X7rBfgHdwRcS4iLNQuOnsNJ6dJvXxc4t5KCppW+U+oAvfBfijmJHITa7lHhGnI9ybwHnd58EjeTBfmOc7WqeYz8/zQWKXD9JOClYycKCIgJrjq3GT0gpXRMxLM8yXohT7kGi0zuvyk5jvI2pTmnFjVlVVFXMVSkQa3Eh9RVradDldml372/pqlJQwXXfyC/aBZk7j3fWoLc0wo6oDIjIQ0RQRpkSemM1abqbYJsJJaSblI+91rFHSaS2OPYCRCvnsK/4UzhtohohYKCLs+gzEAV+Q/x1sWvyqU0SWC4yIjGfGiRNZN2fBqjSTLWd5LVwpd+L+l6Ysnc5mcKSIAMAe2rv98r08CMoNzJL4Xr29F0MyWUSDnZsdPc/pBq27AMlEkSQyeZa1k3LfgCxDZaUZ3cA7x5N3GayyRCgRqbLIfguzlx6G0kwpDRQSvDTTHwvyOPBxlt3gAlmQMl8lR24apkQkcZZnagAgUma6/uamDzXjHS50hxOM9/LQr2bSVSeyE1BBztv9p8nf3ig8bEc/OaemU0UkdSbZ4egwXrPxNaioFXzk5x/Bs9PP4iwty4x2h7XdqT+C7OZreet0SxURVW2rIhLyhrinzK1P5OlpcnPa2bWTZ6406poBtFCzop+c08WoycRYZlZNjWMxRQiivjRzeJ4SkcJGJPNlVO3WKl1+UoZ2RlnFuwPaDBonZtVCWUGatu/KRZu2eEWBh3YmnStGXK2tTBGpIyIhTX2yDTRzGu+uBx9+dwIopoFpWrrbaE5EykqZb4T05393xM8VZzaOoxZuFJG0lxDIWCkPKC5UkRMPYbRMPk/ZP4fNFp2SpuCdMxYtvDWKE/s7RjrJ53PORefMuiIiXcEuvps7lTpFbmqVApkZ02Gy+4Am17NBWjPpouWJU4tcqcJ3D72xBjfgkStIZkApAxy9z9kfpAObwKs/aa/ZHEWPTBY+uaN+IqQZGhlVAcDnkdFNp3wywyqT68ngO7M5Mw2C3WphlSVCSzOeOHGvO/GJ8NIMGz2dGDOUZjbSBX+hsMBn8zhBValirkx2RtU8uYmYtu4++UVSi9/yWmCQmsFOP1r3MK6IFHSlGeoZksK96KIjAppJVx2n6a8+OYBCWUZ/LMCJhuXvBn3YQG9yR3XlGUmS8I/X/yOuHroa+UoeH/n5R/DYOeKJqJu6u4koAlFVMrQkLhmFBHlPgbYQEaD5PBFD2y6DC7NqzltGTpKQDZnEBUR6AX8MgIquElHwBnSKyKEFIpNXCxugqkAqb+M5083Y4oqIHRGhGxMnZtVsqYIMJSJSOWt9cywkINHPcUGNIe2w7AMAJ+gmZHvteazz49gGmjVTmolvBHxhUnI49ENyDkYHgY5h04fP5eagQoVX9hrGSwC6Nl6L8owrj4hECFxcqWpppo1QLgCnH8MwVUQkTwH5qossJaaILJ4BSibHWPP+sr9jcxclIq9URQSoKc+wCzE+bGk0YnL9hugGvH4XYbT3v+SsPMNuvgGvzC9iS0iSpooc/J6j59fDTBHZmNyPikxO0OmKs9Zj1rq7udf+ptFXY1gNeAIIUcd2kg3Z0hERx/HuDFZZIlQRCXWTRdqJIsK7ZtgE1sRZXprpjwUQ98cRpiTFTXnmZPIkikoequKHUhxA0CfX39zzi8CzXyf/fvUfkmRbwLQ8Y2pWLVFiFO7m5K+ZCbznMsQAySaSXru917JNUw+r8kzQG8S/vv5fORn5/vj/gSd0ui57ZqaP7CD7yrq03VaAlTj8McDrvF3RDXjnjMuE1TqjKuDII9IR6NA+L68XqYCJ2VSSuE9kszSFaMBrIA9MEQkohBgn7IiIbsYWIwB2QXyaItJ4x50vVZGBbn6RlSpC5fuUGkYZXnvipMNitsSjEeq8bOy9zi/wHBFTjwjvmnFBRGRZy33afxf5OvwqyxwSHuYX6ocsGW+nl23qBAA8a2FYdaWI0HU/pijm04HNcPYJoJKH4uuBUqYG0rTzkFBEeul7pwKzR+p/rjMDq6rKSzPbesg694otzQC6qPfECZ00ae0PYXL9hsgGPnvmvhenHBnY9OUIJ4s+Lvx18vXYz7RkUocwPWlPPIgCfd1zi852Gk4UEQDop7sw/byZLg9ZeBbpXBdGRArlKtLUd9Ln1iNSV5ohbL+zn+xATrrxiFBTKpJjnED1xYKQJIkbVt3MnDk4dxAAUM0PA5CxZ0MHvJ6aS+bZO4FylvTdb38DUUUAUyJiZlaNV6ghONyDrgghy82kqzJlr1Imn5td264e3LBqEvXOyMhVQ1ehiiJCo1+DFDpleMwMHZDYX60Cp5ozYpuC+0Pao4YAWufMoblDPNOlESYyEziTOgNZkrF3QBdwxUsz1oPvAM2wOubzYt5r0TnIicg0z3oByHnObnwdHrKm2ZbxdB6RLPeI2BERd4pICT4UQTd4VkSEErOkpE2EdoKTc+R83NARrCdPOj8OO//zlXx9Qmmz5xArz5x5nHy1CDID7FOFmSKy/2zCtITmZvAdV1AVBUg5JCInHgIAvBR6FZQSeQ/Ops/a/UY97ILNMpoiUqwWUVHJebOttxeyBD7ywwnWHRFhisjJxEmDNGkFdmPaEN2A1+7sQ8Ar4+xCDocnrSWsSlXBTw5O4i/vJTKpoxAvABi4AOjfDVRLwOF7nP0ORW37LgDg+IMoUiJyetbZzet0g9ZdBj74TtfC20HJUIJN0KTlGlZK8HkkxEMO+9wtSzP0wh4iC/aZ+RwqNi3VVaXKuzu6O+jnnBjjJSXWAcRCzdzMnGEDzap5IqlfWOsPqRSBJ/+N/PvVHye7pk1XA5KHDC5LGC96poikS2k+cyZeVcjjgx18evP/v703D4+jvNK+7+p9k1q7JVmSN3nFeMWADQRsHGPCvoQlmSQQBgJjZwHyTsxMFnjzJuT7Jhk+QpYJCYG8gQwJCZAJmbAMBIMXNm9gvGAZ2/KqzVpbUq/P98dTT1V1dVXvrVbb53ddviSrS9VPt6qrTp1zn/tk464qToijQf56jebLGGGWERG4bC48suIR2EMzIVlC+OOR+7G1Y6vyuHgddZEo0PY/aa87JQXUhwhaK1vhtDoxGB5E+0DqE3QkFsG3N34bALCgdkG8w6W4OCYZfAcAzXKZ8LDNhg7J5E5dFqy2SB1xw+72nOQXg8nlk5UWSdOusuCg+h5WTlIG3iXTiChD79LIiIhthkVWxMjHA1CyEoMW/tkZGEnvhqlN6EOMyouajIh2/EVcViQUAIRjaSYZEUANRAQm1u6AsVBVMGNCGXxOGwKhqOHnKxMfEUXcnkUgsj56JmLhLAORZFbvmtKMuEGWIKHc6UWjbtp3Kk65QCTO1EyTmjRDXJgavA3wOm34xAx+0L5oUJ7pGQrip39vwwX/79/xT09txbb2PlgtEq5eaCA6M+NMUZ7JrHsmISMycAzo3KVkRDr6Y4ouwox0WncF4gIeN/hOPvH2WeNLM1rBblqZIUAjVtWUZqJh5eRZ19ACp82CUDSWtNbYH+pX7mYrq/jfnvW3q4GIXGLKpoX3/W4eiLhj/A51vl4f8sEfgaETQFmDWnZzlqm+MQfidSJl9jLFFVG4/5bFYspco0pP5hoREYiI94BFXZgxwRenK0hGsuF3ArvFiaFDn0NkqBXBGNeMbOvk5nziRFwbjQBtrwJZtMIaMgaBiN1ix8yqmQDSK8/8+5Z/x9sn3obb5sa3zv1W/IM2h6ztQPLOGVn0fcDuQEfMxNNBDkR4RiSxY2Z21WxUeHgmwrSMp7TYVwEuv6ZrJh0fkdTBwoisjRu2CD+g5KWZIVsFgPQzIqYdM4BaEh4+CZvFppwb40zNRDbE5gIcBvtIhuicAbi+UDhjG6C3d9ditUhY0FwBwLiNN5uMSHk0BgykIbofPAF07ASDhGf7p4PJGZHDAxmUZoD0AxE5mPLavbBIFtPxIWaURiDSdyTtTUVp5ujQUYz0ysZmSTpKxIVJCBpXn8HLMy9p2nh3Hu3H15/ZgaU/eA3/9tJeHO8fRbXXgbXLW7HhG8tx63lT0n8tc6/jXw+8CQykXybQTuAFoES7oy755BezY/N+8/o0wFt3RQkl1YFSV5YYiIhhaL2W+NJMxkJVwLh9N9ANgAGSFRZvtRIsiTStEaIsU+GsgE1u0Y6ePISQnEURWpdMMyKBcABtvdyh9/yWxaj2OuLLHYypLbvn3MkvRAITnYgkSUpW5NAAv1CUx2LKxVZkRNLxThHo506wqDvtsgygds50DwVNMzEnBkYRitgQOf4FnFN/DoYjw7jzlTuxrXOb6qHALPwEmWo2RbqI+n4mHQ9ZkK6x2V/2/wW/3fVbAMD3z/++Ml49jnS8RMCPx/02N/pHTTIPcudMi9QR37or60NmV89GhdATmR0rumyw+NwnE6t6ZJ3bSDiavBsHvDQDAKOpAhH57zhi5+eKdDUi+9PJiMgBn6GpWUBz/KR7cyTQZkRqZwNO80BGaLO0ZmZakk3iNWpAMEMtzbD0rhuyqWKw9kwcD/tgifIb7Iw0IkByUzPxHvtUMzORoTKzhjCjNAKRY1vS3rTKVYUKZwUYGA6K6C9ZRkQORESL58Wz62CzSNjbMYjHNhzAdT/fhMsf2YA/bjmCUCSGeU1+/OjT87Fx3Qp8/ZKZaPBnloJC5SSg+VwADPjw2bR/LSF6buPze4JyZoExOza2JZ/uK7IhDX5XyimowktEm2WplFXh/YpGpAJAFkJVwFisKpdl4K0FLFZMrZUDkSQ6EUWo6qpWJpmKeTMVHrtiPiYCzXQ1Iju7d4KBocHbgJ/ccCHe/peLlaAGAC9DdO3md8Fn6cYVaAMRXYZA6EREPbtME4goGZEM5s2Ik7CAxdwp23a1eJ02NFXyY9isPHNIPm6aKyrwyMWP4JwGNRgR5au6avnkve+VtJ87KUpGJPP5T5mQTufMrp5deGDzAwCAO+bdgZWTVhpvmEYLb7McIB+xW9FvdlGWMyJNUjcayvjxyxhT1ji7ejYq5YxIn9mxossGi8AhadeM5rFUOhHxeNAqByJGAywBxcsjJBsiCg+jVIiOmWm1Bplb3ftsaGqWjb27oHoaADl4SeIf0jfahzeP8KznorpFhtssnCQG4PUlPCbO6WlZvIuMSLqlmf38+rDdwdc1t44fU5mXZmSNSP/hxGDToDQjXlPzKRmIHE0/EJEkScmKtIXkKNREIxKMBhUPCmF6VeFxKGPTv/vCLmw51AubRcJVCxrx7D8tw5/XnIfrFjdlNs5cTxblmbjoeaRPOdCCDvmOKWbHxraepCJbYe2eSqgKaNxV4ybw8g+1PiOSsYcIYCxWFW1pPp7mnFrDD+pkpmbKwDt3lTJAzDraCzdGlawOoAaa6WZEhFB1Xu08SJKUKFLd+DD/uvgL6msRNJ/Dp9MOHuNDozTUuOJPjOWxmPI+ZqMR0WdEpJgbZ0/JrJyhlGc6jU+IYupuS7UHbpsbj6x4RMmMCG1KbdMyvnG+dCLZmFFlgeic2XNyDyKxxItkz0gPvvr3ryIYDeITTZ/AmgVrzHeWRgtvS5CXGU/aGE4GTEqOZQ0IwQ67FMUkGz+H7T65G8cCx+CyujCvZp6SEekbSZERkbOEQiOSrDTjtFlglb1sUpmaicdD1lQZEf5eRJzpZ0RGw1FlemurYWnGOCMS18KbTeuuwO5WbmqSBSJ/3v9nhGIhzK6arQS0ehY189d9oDuQUHLNyFk1TiOSojQTiykZkSc6+LXw5kW8vHRy9GRagY+Cu1IdBKjvnDEpzQCnakZE2OymidCJfOyw8Z5wk4NR3B27bW6l7ADwUd8Av7B+9eLp2LRuBR6+aSEWtVSmr4FIxpyruUDx2DZunJMGcRmRN/6N34HUzMCo3DJmlew42jeizAMxQumYSdG6C2jEqgNBJbipkOug/TqNSI8y8C6T0oyBWFVkRHw8zalmRMw/OIqHiIvXwoX980SpW8nqAGqg2TncmaiuN2BHFx9ed2bNmYkPHtvGfUIsNuDcuxIft7t5MAIkdJKI0owgLiOSg4+IoKm8OuldrxHT5c6Zj06YZEREy7ccwLptbp4ZqVfbV+umreLftG/mw/9yZQw0IgAXfvrsPoxGR+MdmcGzVl9f/3WcCJzApPJJePCCBxNaNONIozRTPdAJdywGJgFdoybZOYsFRyR+8p8Y4yXiFw9y76ELmi6Ax+5RMiK9ZhmR3viMSDo+IpIkKTYEqXQiw7JYNSyfl1KVZmJyiS0djcihnmHEGFDmssVnIQUasSoYMzY1y2bOjJZlX+aZzdlXGD4cYzH8Ye8fAAA3zLzB9Lrg99gVHxT9ADyx7lQakUgsomyjiFWTabFOvA8MdyNi8+LVocmo8jpwxdypis9JxuUZI6v3SEgVZWszInJpZlJVZnb+pRGInPjQ2FDFBDH8br/dzu8ITA4SrT5EeyBdPq8Rb/7zcmxatwJ3f3KG0sqaN3y1wLTl/Ps0PUW0Cmv2ttypsfpBBKM8GzFrAj9hb9xvXp45qLugJENkREbCUQTku59KOavQa7EAVie/4CLLjIiRs2pCIMIP6mSmZnGlGUDJijRJXXEZkWp3NewWO2IspugazGCM4YMunhGZXzs/cYNNP+Ffz7jW1OgIky/gX3U6EX0gEqcRSVX3N0BfmplZl/kwyRl1yTtnRCZNe5cjgpHLp16Oy6Zehoamc/lnLRoCDm7IeA0JjJFGxCJZMKeajzzXl2d+9N6P8F7He/Davfjx8h8nvNcJpDH4Tho4jGbZ6fJkyDg7F40x7I/yoL82fBSMMbx8kM8xWj15NQC1jGeqJ8pCIwKo5ZlUnTOi1BO1pQhEAvF/x3S6ZtSyjM/4Ai8yIrEIEBw0yYjkOB7g7NuBL/wlcSihzFvH30L7YDt8dh8+NeVTSXdlphNJNyOiDVTKYjEgGkxu/yDrB3c65iEMG65bNBEOm0Ux1Mu+c0ajExGfT8kKuCoSSjOnZkYEUX4XmiZKC6/DnnbHjJ7mKk/SgWE5IzxFPngmrU4D8QeOsAhCLAJMvwRoXYnRKNdwLG7mJ65NbeZ3Y6J1d3KKjhmAt/KJk5bwEvG7NIPvcnFVBYyH3ulLM3JGpGswiEGTOynF3l24Gsop1SapG7UaDwaLZFEFqyk6Z44FjqFntAc2iw2zqmbFP6i1c1/2ZfOdKDqRN+N8JYRGROCLMU1GRPYRCYTSHsRmt9rhsqqB8oKm+rR+T4sozewzK81op+5qcNvcePCCB/GDC34AyWIBWmXtRD7KM2OUEQHU8owoxwHA823P46ndTwHg4lRxc5OUNDIi6DuMFtnpcjBqbJzYPRTEoRj/DPiGD2Nn904cHToKt82NC5p4gOtP1jUTN9piMsLRGIKyp0NZktIMoApWAyk1IjxQiYqOFNP2Xf5eiOnS6WRETK3dBQ4P74aR92+oEVECkTzPP5IR2ZArpl2R0lHYbBKvOKePREYQTWLbLgIst80NuwjMk5Vn5EDkuQF+7hIZfhGIZC5YNbB615a+LBalNCNek99jR5krfflCiQQiAA6/nfamojRz2GZDsMLkjhXqBUm0do4psy7jH6aefcDxHSk31x7sQ1YHcMn3AABB2RDrnCn8TnjT/m7DeQ7a1t10MiKA2jkjdCJirkafxWo4eTcrjUg0xK2IgYSMSLnLruzTTLB6UhasVYm7JNnKf6LUnWCupuhEUgQiQoA5s3ImXDZdNkzYuU+9CGiYZ76TiYt5WXC4O+4DrM2IlMECK6BcwIRGJBiJYSSDwXdum1qemddgYBuegtY6HySJB0DibylgjCkZkVTeM3kNRMZIIwKo5bcPe3jnzM7unfju5u8CAO6afxdWtKxIb0epBt/FYkD/ESUjMhwzzsyd6B/FQcYDSkvvAaUsc1HTRXDbeBYyaUZEN9pCW2ZJ5qwKpN/CK8SqTJQGjTIijCkBgb2MB1bpaETaREakLsnx5lbLM0k1IgXIqHUEOvD64dcBADfMuCHl9mIS747D/XGeSCIjAqhT1Y1QOmbsZUC5fK0yE6wGh4D2twAA66NzcdakSrTKGU/FTC/r0oxJIAI1ayMCEQBoqkw/K1JCgci7aW9a7apGOayISRIOekympULNiBQlEHGWATMv5d+nIVq1xKLwyvFFYOFngJrpiMaiCMX4iWhRcx28Dit6h8PYdTzx7iST1l1BjS4QEYPv+qwWsFwG3gGy54KcdhV3U7qMCKCq5s1aeJOWZnQlNdE5k0qwKgKRebW6QCPOzj1JNgTg7bwtS/n3Gj+RuEBExIvyXb/bboVTzsJlohORYmrnVqXb/Hg3w+2wolk+aejLMz2BEAKhKCQJaK5K0SE25QLAYudmbmlqnwyJBPnwQqDgXTOA2sK7r3cfjg0dw1f//lWEYiFc1HwR7px/Z/o7SiVWHToBxMJojsj6Ckun4U3DiYFRtDP+GYid3I+XDr4EALhkyiXKNkrXjNGFXTfaQnzunTYL7HrRtf4lCFOzVGJVuXTDzIZXArycLpeOnX5+wUqna0aZMWOWEQE073WvMm/GuGsm/xmRP+37E6IsikV1i4zbuHVMq/Wh3GXDSDiKPRodlsPqgMPCA8pAEumB0jHjLOezcADzQOTgBiAWxjFpAg6yeiUbAgDN8rTndMz74hAZkcHj6hgHXelLlGa8mgnwX12pM4ZLQgkFIm+nbZYkSRKmyYHnfpt5ekhxVfUWIRAB1PLMzj+lnqj47mPwRvmHeGjhZwBA0YcAgM/hwTlT+Ydzk4FORGRDGtNo3RUoGRFRmpGFoBFJQkAurURjTLloZiRWtVh4MAaoglVdRgTQ6ERMMiIJpRlNRqROJ3QTpZlULbzCyCxBqPre47Kd+xnAtIuT7gOAoZ+INhApF3dH8klVkiRN50z6LbzhsPo6U+oYTDCzehdlmYZyl9IKbYqzDGg5l3+fS1ZEZBTk+nOhqffWo8pVhSiL4tYXb0XncCem+KfgwfNTiFP1pGrf7eN3ok0OfodssfdgyKAE0jGgZkR2BI6hY7gDPrsP5088X9lGdM0Mh6IIRnTnDt1oCyFUTVWWAbQakeQBgyjdSKLEapQREcGAzQWfT85apMiIxGIM+ztlM7NkQxs9ckZ2RLV5NzQ0y/OIgEgsgj999CcAwI0zb0zrdywWCQvMyjNyaSuZTkTJiDjKgHI542kWiMjdlK+F58LntOOyeWqGVGREMtaIuMp5UAuofiL6ybu60gzA512lS2kEIhYH/3BncJc1bYS3xrUxc7dRRSPiyzydnRdaV/ISxeBx4NAm8+0CPcDr34dXvnsKyO2z2kDEaXVimdx2vNFAJ5J2el2D6DoRPiFumxtuOYvR6+L76R0OQdzUiYto2ui9RJSMiBqITEvhJZKYEeEfNqNARHFXTZIRCUVD2NPDP2xxQtVIEBAiYWHnnoopsmD14AYl0NRqRMoi8klZc9eveomklxFhjCEwog50zD4QMRasZnzcTP8k/5pTICIEjtWZm1FlgSRJSvvlscAx+Ow+PLz84Tj78LRIpRGRLf8nyceh5OjFyUDi+elE/yiOshpEYcWLcvCwvHm54soLAOUum9Jqm+AlohOqptMxIxDzZlKXZvjxbHHpbia0iPKapwbl8nGdSiNyYmAUI+EobBYpueBRUwZLMDRjLLf23SSsP7wenSOdqHJVmfvJGDBfHg+xW5etTjCqNCA+EElRmpH1IW/G5uHKBY1KhgtQNSKdw50ZTSEHoPqJiPKMOFeLQCScGIhkQmkEIo0L+Nd0dSIjfZg2yv+wH4eM707CsbDSPSFS9mOOzQnMvpJ/n6w88/r3gdF++OQTkThoRSBis9hgtVgVR813DpxMGDiktu5mEIgIm/cBjbuqJKeE5Y4ZIVSt9NgTvTZSoXiJ9PM0rjiRaEozQrC636CFdzg8jJEIDzjFBX7AxT+oE6Q+1Lnj34N0MiJ7T+5FKBZChbNC+eAC4H+foQ6grFF1x01F/XzeThzsV3RATqtTuYMrj4pARA1OMvUSOXxyBMEQ/ztZJZuiIcgURbBqkhFJ27JZ6EQOvKlqfzJlDIWqAlGeAYAHL3gQU/wZuCULUg2+6+eByAT/ZIBZIUlRHOhNFB2eGBhFFFb0uxrwspe/76unrI7bRpIk+N2ihVd3rOjMzNLxEFFegnzhStdHxCpKgckyIt5qlLv4WoeCEcNylEB8zidVe5KXkTQtvIpYNTyoriUqvyd51oj8fu/vAQDXtF4DhzX9Gy8hvNV7IimmZkkyIoqHiKNMU5oxEKv2HgJ62hBhFmyKnYGbNGUZgJfWy+z8vToymL5bOYBEnYiuNKN3Vs2U0ghExPTDdAORvkOYGuIn+f2ylbaejkAHYiwGh8WhpvWLgSjP7Pozv+vW07ELeO/XAACv7F4pDloR1YquiZkTylDtdWAkHMX2w31xuzmgtO6mLyDSi1UBdQJvnzx0Kyt9iEDrJSIibLtHLdlANTU72BNIOIGJsozL6oLb5gZjDN9++Rj6GA9efIF4UZYygTdw3HTaqrYso7QOau3cz9XZuSfDagMmn8e/15Rnat38LqIsFuNeJE41i5Gpl8iW9pNgUf43KXeUZe1zo3iJdA7GdewIY6m0MyJ1c/jsncgI0J4ky5eMXFsvs+CyqZdheuV03Hf2fbio+aLsdpJq8J1cmrFWToItxl/b/t7E81OHXAp9zz8B3TYryixOLG1YmrCd6bwZYTwlj7YQGRGvI3Ug4kszIyIet3uSBCKa1l1RFmIMGEyybzHsrjVZWQbQZER6VLGqKM2IbIjdyzts8sShgUPYfHwzJEi4fsb1Gf3uNKXEHB9wpDP4Lk6sWiZn7wcNbqbkbMg21oqmhnqcOTFeLyZJkqoTyXgKr7B6F4GI/B7LN40iCNQKcDOhNAIR4W53+J30tu89iNYw/3AeHjyMUDTxpH48wP+QDb6GzOrA+Wby+dy5brRPsW1XYAx4cR0/sc2+Aj65TieETSIjIlK2FoukuMJu0Nm9H8qgdVdQqwQi6p2tXx4s19fM/ybKwLtM9CECrdBNK1TVXEybKt2wWyWMhmM41h/vRKk1M5MkCY9vPIjndxxX6uvoaYvbvs5TB4tkQTgWRveIsd+KoVB13yu8NuooAxbfktlrTKIT4a6qVXGvt8pjcpdrwpZDvWBRHoiWO7MrywD8RGmReJpfO19Indac5gldkoBWWT+jP57TRWhExkCoKmgpb8GzVz6Lz8z+TPY7STX4Tkxj9jfDBX4CN7ognOjnn7e/+/jF+2JXA+xWe8J2oozXr3VX7T0IHH0PgDwJGplpRFSxavJARHR12b3JMiJqZsulEWIn04loPUSSL1QtzWgNzaKxqPq8eQ5kn9nLs9bnTTwPTWXm3ZhGTJEzu91DoThr/3Q0IsYZkcTSDJP1IW9E5+GmJc2GNyXZd86I0oyxRkRck0TGJVNKIxBplDMiXbtV1W4yeg+hNhpFGayIsigODhxM2ESZMWPgITKmWKxqql9fntn739yZ0+oEPvndBAMc4SGibTEVAqFNmkAkk6m7WhSNiDYjIrurnpTbzboVV9VcMyKJQlUAsFktyt24Pq0p7N2r3dV46+MefO+/ebTua5wpbxCvKbJb7MqUTLMWXiUQqdEEIm/9jH81snNPhQhE2t/iboRQy0haV1VBxhmRQ31gMZERyT4QcdmtyvusncTbLmfSMjIoyrWNd4zMzApCMp2IPAMJFc3wWXmwfDSQmCLvGAgCiGIDuLBxdcQ4gDB0V93BSweYeqFitjeUppmZdpuUhmby405PBf9BOABEdcGLbt5LuVxKSqYTUYSqKQMRVRhc6aqE2+ZGlEWx5rU16O+Xs0x51IeMRkbx/P7nAaQvUtXic9owoVxYEaifr3Qm8CpdM45yVawaHIjX5UQjiO3nLs5vSfNx9QJjuUHWXiI18jk10Mm1P2l0zWRCaQQivhplEFRadu+9ByEBmOqoAAB83Pdxwib6qbtFRcye2fs31R47EgRe+lf+/dI1QNUUJXoWB62+NANA0YlsP9ynpE+1rbuZXFBEaaZ3OKxoTib7JwMAXj70MhhjuZVmtGJVJRBJHKc9VUzh1aU1RUbEY/VjzVNbEY0xXL2gEdNmySJTA3Gz6JASGTH9/sQ0zbm1smaAMTUTt/Af0n9tgtrZ/IIaDgDHtgIArpt+HRb7JuGTgeGEQETRiKSRERkcDWPviQGwCD8uci0xikm8QrA6OBpGjxwQZTTWe+pF3MOia49SjsiIImhE8oZZ5wxj6ntR0YIKO7+gdI3E1/qHghEMBSOwej5GX2wUFdEozu7vMnyqhAm8sRiwnZuwYcFnle1EKSQtjUjaYlX+uMtXof4wpMuKBOL/juXy8ydzV1UyImmXZk7CaXXif5/3v+GyurDx6Ebc+P7D2OOw5zUj8vKhl9Ef7EeDtwEXTLwgq31MM+gATMddNU6s6ixTxljElWeOboE1NIBe5kPz3PMUwzs9irtqpi28Tp8ytwhdu+MyIowxQx+RTCiNQARQZ3ekoxORxVqtXh5ktPW1JWySzFV1zGlcCFRN43X1vf/Nf/b2f3A/Bt8E4IJ7ACQetEppxqYGAc1VHjRXuRGJMbxzgJ8Ms2ndBXgN2m7l6T3ROXPDzBvgsDjwftf7eOfEO+hRApEsSjPawXcGHTMCsxZeEYjsOhxDTyCEOQ3lePDaeZCq5d7+kwaBiOicMciICFv3Kf4panZh4BgPIiw2QOw3EywWXn4DlPLMOQ3n4InmqzAtHFHbEGWUrpk0MiI7DvcjxoAJtsW4/czbkw9kSwPVYZWf+IRQtdrrQJnL+MRmiLsSaDqbf78/i/JMETQiecPMSyTQzT/fkIDyJtTJoureUHxALMoynkpuN78yMAx77yFD64IKt24Cb/tmfu5zlAGzLle2UzMiqf+G3jTEqrEYUx53u92qy6m+PJNhRmRgNKzo0Qyn7mpRxKpy1mjyajz5qScx0TcRR8P9+FzDBPzFnr4pYCqEk+r1M66H1ZLdwFMj4X06E3jjAhHAsIU3tJdPvd4Ym4sbzp5suq+W8ixbeAFVsHr4HcUfBp4a7gzL+Ht9GgQi8oktnUBEbl+bKpvNfNyfmBFRPESKYWamR5LiLd+HOoH1/8b/v/J+RbypT+MZZUQA4Lxp/IO/US7PiI6ZTFp3+bIkzfA7/lw17hpcN4OXkh59/9GCl2YAzfA7namZKM10DzhQ4bHjF59bDLfDKo/xRoJGBNB0zhhkRMSgu7iyTPdH/GvlFMCgTp8WBjoRVQdhkhFJw0dkizxE66yWenxl0Vcwu3p2duuTUQSrcmmmXTN1N2NEeWbfK5n/bklnRExKM3LHDMrqAZsDjV5eNhmMdsSJg7lQNQrJx4Pi1YERHqgblHoq9R1WO37Hv55xdZxIM6C076a+gAofkaEkGZFRjW+J12lVxeUJY+LjS2yic2bQxNRMWLtPKHemDnyFs7PmfZlZNRO/v/z3OM9Ri1GLBf8yvBc/eOcHaQ25TMbek3uxo2sHbJIN106/Nuv9COG99oZKn+U2QmhEFA2YQQvvwId8FtEu92KcM8U8Myo0IscDxxGOZvi+CGMzcR5z+ACHR1m7RbJk3bVXOoGIuMM6uiW5+VcspojCptXxFL1+qiYAHB3iKdFxEYgAanmm7VXghbt5mrNxETDvJmUTfc+5XqwqWCaXZ4RgNRuhqqBWdifVds7cesatsFlseOfEOzg6wicyVudSmgkOJC3NmHmJbD0qp7qjPjxy80I0i7JTlRyIBLriZ9kgRUZEnjUSJ1QVwUzN9LRekiFTLuRfD78NhGXBrcnFNhMfkS2yOZKwkM4VrZcIY0ydTZRhAAtAFax+vB7I9IRnEqSVBGYZEU1ZBgAmljWCMQuiCMYJp0/0j8LqbQOzDKPKVYWzHPL+Th5IeKoKrbtqKAB8+Dx/QFOWATL0EZFnzQwnEasKfYgkAS6bNdGYUKA7xpWMiIlYVWjAUupDADXgCw/HtYn7nX781DYZX+rln/undj+Ff3zpH03F6ekgWnYvnnRxwtDKTBDlJu0NVcalGSAxEBnpRWUfP3fVL7osaedcjbsGbpsbMRZL6TCdQB0fDiks5IUGR9sxk23XXukEInWzecoxNBQ/jljP4HHeQy5ZMa2Bl3PaB9rjor8Yi+HEMB84VTRXVT0104GG+XyOyZ4X+M9W/4Cn9mXMxKra0gwAxdhsz4lBdA8FldbdKTWZ39kKnYhWsNrga8BV064CAHRa/sqXn0tpJk4jYpARke8kjvePKifILYdO4sMO/kG6/IwZuGC6RpjmKge8ckCj04mYaURiLKZMX40LRERGJJdApHoa9x+JhlS9iUkgovURSTb4LhZj2CZnRMRQrVyZWuuF1SJhcDSCjoFgdkJVQcMC/tpCg+l3uwm0hmalhqabIw5NxwwAVHm9YOEKAPFp8hMDo7CXc8H0Jyd9ElahjTuZmNWNmzez+y/83Fg5RXW3lVE1ImmUZtIQq4rPoNtuhcUimWdEdN0rikbEpDSTdscMwHUSottRp8exjvRgbV8/fjzlBvjsPmzt3Iob/3IjtnduT71fHUOhIbzwMT8fpzNXJhlC63awexhR2YogI7GqXb5xK5OvWYP8/Hds24uwIoZ9bCJWn7c46RokSVI6fjLWiYjOGdm7KV8dM0ApBSIWq6aNN0l5Rpj5VDRjQlkjvHYvIiyCQxo/ka7hLkRiEVglK2o9hZnOmBWiPCO+bzkn7mHloBXtu7LviL40U+NzYlY9Pyg27+/JylVVYOQlAgC3zb0NVsmKiGs3LK4jWZZmtIFI4pwZQaXXoVygP+4KoHNgFHc+uRWw8g/opxfOSvgdpTyjO4ELF92jQ0fjLvQH+g9gKDwEt82tDE0EAHTv419r0p+bkIAkJZZnxEnaHZ9GFXe5kRhL6rewr3MIg8EIPA6r8rfOFafNqvjMfNQxmLmZmRaLRbXBz6R7hrGCtV+OCWaD7zQdMwDgd9sRC/FAS3tBONY/CFsZH763evJqoEo2VjMIRCq0XTOKSPUzCW60Q/KFPyNn1SQZEaEPUVw7jebNRILq/xMyIsb7blOm7qZxnrJYzN9ruSS0vHEZfnfZ7zDNPw2dI5249aVb8Ye9f0h7sjUAvPDxCxiJjGCKfwqW1C9J+/eMmFjhhtNmQSgaw5Fe/tlKlRGJxCIYjvBtzTIiJ7ZyXeEh/7lKp2MysrZ6r5mhBn9Agqtqth0zQCkFIoBGsJrkDkvYG1dM4jNn/PyCtL9fvTMWd8P13nrYLKk/nGPG3Ot4q67dy7UhOkwzItbEIEB0z2za351V665AbeGNd8lsLm/GJ1u426Oj5rU8dM2Yi1UB9W5i74lB3PXUVnQNBmG3y2JKt8Gds4lORGhERiIj6A+qZRvRtjunek78MSECkeocMiKAavcuApER4/KDy25V0uPJ3FXfO8R/f0FzReaOtknQlmdyCWABZNfGO9oPxOQLVUlmRNIrzVS47YiF+bbaVsq9/VsgWUfhs1Zh0YRFPMMBcOG6jgo3D85dgaPqYMX5NyVsl0lpRnFWTSMjIoIWNRDRZETE69fMCxIakVQZETEtNvViVXfVOJSOjhpM8U/BU5c9hU9O+iQisQi++9Z3cd+G+ww7KfUwxpSyzA0zbsi67CCwWCTlHCzKzKnEqtqfK66lGnfVYDiChu6NAICaBav1v25I1l4idrfi1gsgoXU3W6EqUHKBSBqCVd3Ap6kVPLWp1YkIfci46JjRUt4I/OMrwO2vKR4AWkzbd/Wj6gGc18pPci992JFV665AMTUbCCY8dsWkfwBjEuxlu3A4kMW0VSFWHTgKCEGZSe+/EKx+7793Y8uhXpS5JDALfx+UOTNahE5EV5px2VzK9toaqSJU1ZZlQgFgQPZ5yKU0A6gZkaNb+Ak7iQ4iHS8RIVTNlz5EMF0ORHYe7cdxWaCcVUYEAKat4F9PvA8MdqT3O+IC5ijjIxBKDbP2XaU0wy8CPCPCL6TaC8LR8GYAwMLqC7nRYrLSjJdf2FcEXwPAgMkXKIGOFlFmSad9V5RmQtFYwpgI/f7UjIgozRgMnfNUK+Xlcrdo300MRMLRmFIKnFaXZuBrlBGJxTQZNX4u8dq9+NGFP8I9i++BRbLgrx//FVf9+Sp88aUv4sUDL5qKNrd1bkNbXxtcVheubL0yvTWlQLV6j88imGVEhFDVY/OoN0iajMimd95CA3oQhB1zl30qrTVkPYUXUHUiQNKBd5lSWoFI01kAJJ71MDuxKQOfJgOAkmbXBiIiIzJuhKpaGuartTgdZu27+tIMAJw9pRo2i6RczDJt3RUoGpGhxEDEIzUiMsj9Nn71/q8y3rdyJyXugN2Vphcf0cJ7MhCCJAHfvXYKGBgkSKhwViT+glKaMW/h1c6cEULV+TWaQXcim+Kpzt3ls6KFH5MsChzarNGIJO43HS+RrUIfkudAREzhff2jLjDG76KrMx1mKPDV8tZ0QLGfTkmS96UkMO2aiS/NVHjsYHJp5pB8QRiNjGLIygPiFc2r+PZKIJKYEeEaEYZrLHKWTSdSFQxmUppxqOcIM8GqWpoRGREDjYiBBipZRuRQzzAiMQaPw4r68tTlBb5vg/d6tE+TUVNLe5Ik4da5t+I3q3+D5c3LYZEsePfEu/hfb/wvfPKPn8SPt/5YuUEV/OEj3rJ76ZRLczIL1KK28MbrKsw0IglCVUANRIZ70PHOcwCAE/6FsLnSCwSyNjUD1M4ZQNWI5OghApRaIOLyqxHZEZPyjKIRkTMifv5B1rbwjhtX1QwRf+iRyAiisaiSEdGLVQF+0pnfXKH8P5uOGUAdfGeUEekeCiLUvRwA8OLBF3GgP/FkmRS9S6lJWQZQSzMAcPfKGZjdxA/dSlelcV+/8PzoaUvwYBB/d5ERGQ4PK14zZ9aeqW6YD32IFpEV2fcSV/sDxhkRxUvE+E6teyiIg/Ld46LmfAci/IQnvClaqjy5paSV8kyabbyl3LoL6AbfyeWNkT41WyCLVctcammmfbAdjDG8eWQDYAkiFq7A+c2y6FBoRIa7EzrAXHYrltrbMMXSgZjdC8xJvGtnjGVk8W6zWhQrdrMWXhGgKIGIK0lpRqPzSaYRUfUhvvSPN7dBaUY8r9NvOBNqQd0C/HjFj/HSdS/hzvl3otZdi57RHvzyg1/i0j9dijWvrsH6w+vRPdKNlw/ylthsnFTNUKwIREZE0wlpNP8qzt5d4K5UvFvO6uX6EP/cS9JegyjNHBk6wi3xM6FOYxHg03XNnDYaESB1eUbJiPAP8LQKfmd8cOCg0k8+rlxVM0A7UCgQCSTNiACqTgTIvs4vNCLdQ8GEoXNdQyHEgo2oxAIwMDz2wWOZ7dzh5TVkgYFQVXDO1GrMnFCGG89qxtrlrcrAO1M3UVFbH+1PELPpW3g/7PkQMRZDvbdesYAHoAlEcizLCEQb7+6/8K8WW9yAP0GqCbwiGzK9zmfqoJgtk6u9sFnUC0HWZRmBCET2v5a87V5QymZmgG7wnRw4iLKMp0bx97BaJHgt/FgLhIfQH+zHf7Xxi0p08EzUCtGhs0wtVxpkRW6yc21I3+RP8c+TjpFwFOJjm05GBFDLM2amZgH55159aWbUpDQjk6xrRtWHZHBXLcwAh3s1z6vqQ5JR763HmgVr8NL1L+Ghix7C0oalYGB448gbWPvaWnzq2U8hHAtjTvUcnFFzRvprSoF+Cq92Wu2wuDnREGfvLpAkJSvSauHnsIoz09OHAMAEzwTYLXZEYhGlezRttIGIrmvm9MmIAMkFq+FR1fZW1og0eBvgsXkQiUVweICnohRXVV9pZUQcVgccFn6RGg4PJxWrAsB509STQDatuwAfZidJvItD720hXFXneLjJzwsfv5CQ3kyKJMVfiJNkRPxuO166+xP4f66fB4tFUlxVDfUhAD/hy0MCzQSrIhAR+pAza86M205p3c1VqCqYLAtWRauypzqhwwFI7SWSb/8QLQ6bJU7UnLVQVTDxLH53OtILHNuWevtSz4jYHGrJUQTAurKMoMLtRSzMt/2o9yNsPs6DirLIElg1waCpYDU0jJUxLlRsb7nacDkiqyFJmgxGCrwpbN5H9BkRI43IcGJAmcxHRG3dzeB4M9LjpBmICOwWO1ZOWolHVz2KF655AbeccQv8Tj9G5BbVfGZDALVhoHsoiIHRMBwWh6L9MNKJGAYiAFiZKisYddYAE9IPlqwWa/YtvNWt6s2jrmvmNAtE5IzIse28RUyLuPNw+JSDVJIkpTyzv38/GGOqq+p48RDJAO3YaKV910CsCgALWyrhlnUh2V5Q7FYLquQLo748I+bMzPDPwdKGpYiyaOZZEZfmA5YkENFzUj75VLmTaAmqRX09XiciMmFCKySs3efXzo/bLu+lmbIJ6vAowPRiW+UV492TZ0TyrQ8RiPIMkIeMiNUGTLuIf59O90wpe4gI9K6fuo4ZQYXbobTwPrn7SQRjo4iFqtDg0QW+ZoLVPX+FFyNoj9XikE937Moo9u4OW9olD5HpMPMSUcSqSteMwQRenasqoHFWDUYSsqsZmZkJjMSqSkYtc1uGSeWTcO9Z9+LVT7+K75//ffzzkn9W/JLyRZnLrujuPu4KQJKkpF4ihhoRAF2S+vmwz1hpeEOTjKx1IjYncOE/A3OvV85lSiDiOJ0Ckaqp/CQVDQLH349/TKsP0fxhROdMW18beoO9GI2OQoKEem/9WK06b2gFq2bOqgKHzYI1y6fh7ClVcWWaTKk1Eaz2yPbu1T4n7ph3BwDg+bbncSKQQbrPqdGJJCnN6BGlGdOMCBCvE9EgMmHHAsfAGMP73fLEXW3HTCyWH1dVPUInAphebJN1zYQiMew4wlP+hciIALpAJBszMz2ZtPGWsquqQN/CqzMzE1R4VJ3I3w//HQAQHpiHBr1Y00ywKnuHPBu7AH0jxkHDUAYD75TlO5J7iSjtuwldM8nFqkKjwhgwpNk3YwwfC41IRqUZA41IHkp7TqsTV0y7Ap+b87ms58okQynPdMbrRIwyIoYaEQDtkQrle+v0lRmvIesWXgC4aB1w/WNKN5TiI2LPPns6jkw00kSSeHlm739znUizxmRG1zEjEJ0zH/d9rKTja921cFiz7AYoItoWXpE+NBKrCtaumI61K3K7kNaVu7DnxKAyb0agnbx7Vv1ZWDxhMbZ0bMFvPvwNvnH2N9LbuVawmklGRC7NJJ04a9LCKzJh/cF+7O/bj+6RbtgkG2ZXaeqfA0e4g6DFrk6dzAdTPgG8+0v+vds4kKjST1XV8OGxfoQiMVR67HEC3nwiOmcAYFI+nkMYmx15F3hoLjdFsli5Rkay8u/Fz8TFtlQ1IkBiyUDMmdFlRMrddrCT8QFXZGAe6lv1gYgwNdMEIv1HgI9fBwD8KXoBrjMp46kD79I/1avuqsaBiNCIuJOWZoRYVX19LrsVTpsFwUgMAyNhJUPSORjEYDACq0XKLAOnZEQ0XTOiNOMZv8fP1FovNn/co1i9640qtZhlRPYOl+EsZYcXZbyGrKfwGnB6OatqMROsKoFI/IVDCFb39+9XO2ZKTB8iMMqIuK3ZDRpKFzN3VTUjwi+cIivyx4/+mP5sh7jSTPoZEUUjYmRmJlAyIvGBiM/hUz7YLx16CQAwo2pGfIlLMTKbxssL+WLy+QDkbF0WGRGtf0iuBktmzGrgfxO3PYNWymT4JwIty/j3/Yd55vLkx1yD07Ub6NjJvUaObePtl0B8CavU0LeVmpZmVHdVAPBI9YgFGzDBb5YR0ZRm3v89AIb28kU4zCaoE3h1DGaREVFKMyZi1REzsWqK0gxg3DkjMgMtVR44bRlkIIzs9IezL82MFfpp4uKcLrpPtIifaQMRxhg29vHXHqhdoHSvZEJOU3h15MNZtfQyIoBGsPo2z/OJE7IozegyIkIjcrD/oJKKGpceImmgrScqpZkCGz/VGsybAdRSjXBVXdqwFGfWnIkPuj/Ab3f9Fncvvjv1zp3ZaUTE5N2kGRGtzbv2OAHPiuwN7cWLB14EYCRUFYFIK/KKpwqoP5NfeE01IiIjknhx2dpeWH0IwAV13758DiaUu+JFk7nw+eeBrr3c4yEW5X4qytcIL4WJn/nqgInJZ2aMa9Iszfg17qoA4IssRgekxOBPiFUHj/GhiTYXsJ1P2j3QeCXQae45E8jAVVWQMiMi/1zRiBi27xqXSMpdNnQNBuM6Z7ISqgJqRmS0nx83FmtJdF1NU7xE4rUVyTQiWrHqsf5R/PfwTHzNthb/z6e/mNUaREbkyOARMMZyuqnJh1i1NAORxoU8rTvUwT/kIgOisXeP29zXCLfNjZHICN4+zrMopShUBeLFqoqzqkn7br5QMyJqaWY0HFUcW2vlQESSJNwx7w58+bUv4+k9T+OLc78Iv1YDYkS2YtV0SjMVk3jKPxwABk8A5WoWrMHXgL29e3Fw4CAAI6GqGHaXJ6GqljOvB058oM5O0qEdZhaNMSUYYIypGZE8Dboz44vnT8nvDm1OoGFe6u1OBbR36qGAWqLRd814REZEAsAQGeDvT0Ig4qniWqpgPz/HBQe5fsnuwcnJlwLb9xsGrUBm9u4C0TUzbOojojc0kz/D4WEgGuEBv6L1McuIaAORLISqgMb0jnGvFm91xl0zxUC8zoM9fPid9pyuZyCYqBHZcbgPgIS2CavhrJuW1RoavY2wSlaMRkfRNdIVb1uQIadn+y7APe8b5AuHaONlTGPvPjluc4tkwRQ/P7G+1/EegFMsI2IiVs0X6rwZNSMiygZ2q6RYNwPAhU0XYmblTAxHhvHk7idT71xoRCRrwgA4MxhjSkYkaWnG5lCDUp1gVe8hk5AR6cmzh4iW874KrDsEzLzU8GExzCzG4k/YR/tG0DEQhM0iYV5TRf7XReQHbTeHKMu4/AkGfn63HYi5MIl9Dt9Y8g309PJjOaE0I0nxOhE5G4I5V6GsnAek/SYZkcEsNCKeFKUZ1dBM3qe2WyI4wIMCyF0xOodc1V1VDXLashGqAoDVrgZBItjLoWtmrGiscMNhsyAUieFo70hSd1UjjQgPRID5OZwD7Fa7YmOQi04kxmKnadeMQFueAbhPgRBLGcxbEMPvhKlZqQYi2tkEio9IgUsziruqJhARQtVqrzMurSdJEm6fdzsA4KndTykfJFPEicRXp6iwUxEIBxCK8RNvpTNFZsDE6l3rqlvuKMekcp0gNd+tu3r0rrIa7FaLYv6k9RIR2ZAzGstVoSAx/tCWZnQzZrT45aF1juFluHraTUr2wlCXIwKRzg+Bnc/y7+ffrMybSZkRyUAj4kvhIzKs14jYHIrTJ5+jJAcDLj8PFjQYZ0RUV9WM0bZKx6IJc2bGI1aLpAjN93cNJZ03YxiIHOkDgDjn7GwQOpGsOmdkRiIjYHLQmUvXTAkHIjrBqtCH+CYo7oVahGBVUKqlmbiMiPARKXBpRpReOgeCyghtvVBVy8qWlZjin4LB0CCe+eiZ5Dt3aQKRNBFlGbfNDY89hcrepIVXG4jOq50XXyMNDqrGePnWiKSJkbtqof1DiDyhDUSUjpnmhM388kW5fySME/38pqLMaVM0GnEIweq7j/ESjb8ZmHwBKpJ0WAFq10xZHjMioq1X0YgA8RN4TYSqQKK76lAwguPya89YIwLEl8GGT0LJxKSZXS0WUzU6kaQ+IuF4jUg0xvCB3L6fS0YE0HTO5CBYFeUkm2TL6TpUuoFIkxyIdOwEgkOm+hCBPhApRQ8RQI06B0IDSlag4KUZOSMyEo4qd1h6oaoWq8WKz835HADgfw6l8I6YIJdEMhAnpuUhIlBaeOPNoLSB6LwanXZBZEO8dYC7Iu115ROjzplCOqoSeUTrb2HSMQOoJbj+kTA65Nb4hLKMQBGsygHy/JsBiwUVcjAzOBpBJJo4q0RkNQyDGxN8KcSqI3qNCBDfOWMiVAUSu2YOyPqQGp9DCaoyQjtvRjyvuyq/nW4FYGqN3DnTHTD1EQlHw4pFg8iI7O8aQiAUhcdhzcwO34Ccht/JaDtmchG8lm4g4p/ILbxZDDi21VQfIhClGYCn81PeSY9TxEErsgIAzwwUEo/DppychE6kO0kgAgAXTOR25ju7d6JPtGQa0bQYuPcj4FM/THs9abmqCkRpxsTUDNAZmQGFL8ukgd5LJBCMYPdxfndEgcg4Rzv4Ttwg+dPLiJi2S4uMiGD+TXH7AIA+A+v0bNp3PSlKM8JZVSnNAPFeIkkzIvETeNu6+DGdVVkGiM+IKELV8VuWEUyrkzMinWpGRB+IaNt5xTbbZX3ImRP9OXe0CVOzXDQi+eiYAUo5EAHiyzMmHiKCRl+jkjoqVX0IoP7BhVgTKHxGBEj0EhGlmRqD0gzAM06tFa1gYHjr+FvJd142gbfepUlGGRERiPQeiBu6VumsxETfRJTZyxIDEUWoWpyyDKDNiPAT9o7DfYjGGBr9LjT4Cxt4EjmiHXzXsZN/b1CaERmRcJThQDfPDExIJxBpWaoc1zaNnsjISyQrQzOH+dC7WIxhJJwqIyLfJHkTP59C2C40Ivs75Y6ZbO/uteZxJdC6K9BmRMwMzYQ+xGf3KQ6v7+dJHwLEa0SYbkJ5uuSjYwYo+UBEMwDPxENEYLVYlc6ZUg5EREZEXIxtFltBbIj11OoCkVQZEQA4r/E8AMCGoxvyupaUk3e1+JsBqwOIhtThY+Ci2t9f/ns8f/XzCa6FBW3dTRPVS4QHfFtIH1I6aAffiUycQWnGbbfCYeWn4D0n+EVnQrnJ56msHhCZzwWfiXtIBK19BjoRUUoty8TQLElpRgQhgKZrBlDF18GBpPOC9BmRnISqQHyHUikFIrJGpGswCAn8b56QETHsmMmPPgRQOweHwkPoDfam2NoYkbXJRagKlHwgIjIi76j2x0nsuMXMGW3HRKkhIk9xkBZaqCpQAhG5lp1MrCpYNpG7aW46tinriNsIpTSTTiBisar1dZ3Dqt/pN+6f7xYzZooXiCgTeGWNCOlDSgy9fb9B14wkSYpm4qMO/nmuN9OISBJv+55+CTD3uriHVMGqQUZEaEQcGZRmksyaET+TJMBl11w+tBmRZKUZnUYkazMzZbEaF9sSKs2UuezKObVviL/f+kBEP2dmNBzF7uP8Z/ObU/gzpYHL5sIED/duylYnIgS2ubTuAqUeiNSfye8SRvvUEdkmGREAuGnmTTi34VxcOe3KMVleIdDb6I5FWQZI9BJJJyOyeMJiuKwudI104aPej/K2lrTs3bUoOpH9ybcDePlG3MUWqWMGiJ/AG4sxpWOGApESQZsNsHsS/DQEojzTfnIYQJLSDAAsvw/47B8A3TlACFaNOmeya981n747rNGHxIkTRSAyOpBcrKrpmolEY0pJKmvhpQj4Rno1mZjxnxEB1OCre4C/j/rSjD4Q2X18AJEYQ7XXgYkV+SnPKlbvWepERNfMuC3NfO9738OyZcvg8XhQUVFRmCex2uO7LSx2oNy87LKgbgF+ueqXmFlVunMs9H/wuPkoBUR0zugDkWQZEaeVD8MDeFYkX2SkEQFMvUQM6Wvnk52tTsN0+lihZESGQ9jfNYSB0QhcdgtmN5Sn+E1iXKANRCpaTMe0a8WmQBKxahIq5WDGsDSjtO/aEx4zQxGrhiIJmUyREUnwsYnLiIjJu8kyImEc7h1BOMrgslvQmK3uyVCsWhqBiJg50yFXRYbCQ3Hvt740oxiZNVfkbc5UTlN4UQJi1VAohE9/+tO46667CvUUHFGeAbggbAz0EsVE/wcfu4yIqhGJxphSMqhNkhEBgPMnng8A2HhsY97Wkpa9uxaTKbyGKNmQaUU9lrQ+IkIfMr+pAnZraScxTxu0GRCDjhlBhT4QMSvNJKFCGQkQX5qJRGOKpiOboXeMAaPh+JZgdeCdPhDR+IgYTN4VCI3IYDCCfXI5amqND5ZsO0BKVKwKQDE1O3KSv8cMTGnXBRLnzOzIk3+Illy9RPIx8A4o4KyZBx54AADwxBNPFOopOEKwCuR3XPs4xW1zQ4KkuNmNVSBSq5k30zscQkwO3MUF04xljVwnsrVjK4bDw3lpm07L3l2LiamZIYpQtQDW7hmg9RHZQmWZ0iMuI2IeiGgzIlaLlLTUaUaliUZEW1rxOtMPqt12KySJByJDwUhc9iOgeIjoLh3a9t0kYlUhmmUMeF++sGbdMQPEi1XFGkpAIwKor/tAVxjWaiuiLIqh8JByjkwMRPoA5EcfIsjVS0RoRIRNfbaMq9urYDCIgYGBuH8paVqifp9EH3KqIElSnEK50B4iAqER6RwMKkLVSo8dthR36JPLJ2OibyLCsbAy5ycXwtGwUjtNOyMiSjN97UDE2IFSYRx4iACqj8jAaARvH+AZIApESog0MyJ+jxqI1PqcWXlDCJt3fWlmSC6jOKwWOG3pByIWiwSPXR58pxOsDisGaSYZkYFjvEMNMCzNuOxWOG38nCEmSbdm2zEDqO9zLKyax5VKIFKjDr8zMjXTlmb6R8L4WDZ/y+ecKaWFdyC7QESs8ZTqmnnwwQfh9/uVf83N5h9gBW+1esdr4iFyqqH9o491aaZvOIxj/Tx9mM7dmyRJSlYkH228os3MKllTT/YVlDVwwSCLqm3eZohApLq4GZFytx3imiSEjAsLPHGXyCNas70kWiNtRsTUVTUFfhOxquIhkkFZRiBaeId0LbzCW8RtlhE5KTsY2z2GozYAVSciNA/C3Csr7B6u5wK4tgsoGbHqxEp1+J3Lyt8DrWBVK1YVtu4tVZ6UWehMEBmR3mCv8nyZUJSumXXr1kGSpKT/9uzZk/Vi7rvvPvT39yv/Dh9OM0pb9HkekU+/JOvnLiW0OpFCD7wTVHjsqueB7PCZTKiqRfiJ5EOwKsoyla5KWKQ0D19JSl8nMk5KM1aLFGd5PbXWm9cTEFFg9GJVE7QakXozD5EUVJpoRIaC/P+ZmJkJRCCiNzUTGZIEjYiYGSVclJMEA6JzRpR5svYQAfhnW5t9kiyJrdPjFKtFwpRqHoDYJB6EmmVE8jXoTo/X7lVE/9mUZ/LVNZPREXrvvffilltuSbrN1KlTkz6eDKfTCacziw/jeV/l/04TtMKgsfIRkSQJtWVOHO0bUXrZ061nn91wNmySDYcGDuHw4GElCs+GjIWqguppQMcHyXUiI31AoFPevnitu4JKj10RBS+mbEhpoQ1E0izNZNMxA5gHIoNZuKoKvCY27yk1IsoOzPVb5ZrgS5KAKTW5pfXhrlJn8Hhq0p7iPR6YWuvF3o5BIMb/9trBd3GBiOiYacqfPkTQXNaMntEeHB48jDOqz8jod/PVNZPREVpbW4va2tKov53KxGVExqg0AwA1ciCyK8NApMzBbdS3dm7FpqObcOOsG7Neg+Ihkm7rriCdFl4RpJQ1qHd4RaTK68B+uS5M+pASQ3RuWB18IrgJFW41y5VtaUZ4kSSUZrLwEBEoE3iD+oyIgb07kBiIGAhVBaJzBgCaKt1w2XPsTtNmREqkY0YgHFYjEX4ciOBD+325o7xgGRGA60S2d23PSieSr66ZgoWO7e3t2L59O9rb2xGNRrF9+3Zs374dQ0NDqX+ZSIpWIzJWPiKAqhP5WHZDNJszY0S+2nhFaSatgXdalNJMkoyIog8pfjYEUO90AQpESo6amcD8zwDL/yXpHXq5Ow8ZEblkF4zElPZaQM1mZJURMXFXFWJVj5lYVZCsNKN5zTkJVZXnKt1ARJSlRoP8PTHKiASDDnQMBGG1SDijMf83SLm08IrSTK5dMwVr3/32t7+N3/zmN8r/Fy5cCAD4+9//josuuqhQT3taUKyMiAhEROtuJq2GyyYuw4+3/RhvH38b4WgYdmv6Bktasi/NiBbej823GQczZrQITUi5y5ZbHZ0YeywW4Jqfp9ysIg+lGa/DCptFQiTG0DscgtvBO+lyK80Yz5sJKD4iqUozqTUiQI76EIH2pqREOmYEwtQsMGIDfPEaESEePdzDT7jT63yJJbE8kO0U3mgsiuEIF9KP266ZJ554AoyxhH8UhORO8TIi8c9VnUEgMrtqNqpcVRiODGN71/as15Cxq6pAlGYGjgChYeNtxlkgIu50F0+qzN7wiRjXVOSha0aSJM28GbU8k0tpxmwCrxCrJpRmrHZ1KB+QvDSjec05eYgoz6UJREqkY0YgSjMjQf73ExmRYDSIoNwFtP8E/xssKEBZBsjeS0QEIcDpPmvmNCUuEBkjsSqgmpoJMinNWCQLljYuBZBb90xGk3e1eKrVCaFiLlHCzsWwu/FRmlk5uw6Tqz24+eziWc0ThcXvtsPvtsPntGVvcw7V5r1fI1hV7d3z375reGeuzYokzYhoApHTPCNSLg+/Y7H4CbyiLCNBwq5jPCAphD4EUL1Euka6MBw2uUkzQJRl7BZ7zpl5CkRKkGKXZgSZukCKNt6NR7PXiYjJu2m7qgpStfBGI+rPx0lGZPGkKrz+v5Zj1Rn1xV4KUSBsVgv+dNcyPPtPyxLnt2SAkbvqUC4aEVkDMpwQiJgYmgHxAu+kGRF1PVkPu9NSwhoRgFu9syg/lwofERGI+Bw+fHCEfz+vAB0zAJ9CLtxbjwwdSfv38tUxA1AgUpLEte+OZWmmPLdARGREdp/cje6R7qzWkHVpBkhu9d53iLsz2txAeVNWayOIbGit82HGhNzEfkadM0OKC2oOXTO60ozookmZEUnqI8LXWumx58cbRxv0lGIgUusDi8X7iIhAxG31YVAeeJnrMZIMZfhdBp0zooyUqz4EoECkJCleRkQNerwOa8Z3cDXuGsyumg0A2Hxsc8bPzxjLXqwKJG/h1XbMlJAPAUEAaiDSlyeNiM/ER2TErH0XSLs0I8oxeesEK+HSDABMq/UCcmlGXNxFIGJhvFw3t9Ff0IGX2XTO6KcD5wKdcUuQOIv3MXJWBbiTqpg+nYlQVct5E+XyTBZtvIPhQURi/MSYcfsuoMmIGAUi48NRlSCywbA0k4NGxDQjYiZWBeJbeJOUZuY0luOVuz+B/++mhRmvyxBPqQci5hmRaIT/PJ/zZYxoLs9csEoZkdMcbUZkLMWqdqtFGcaWiVBVi5g7s/nYZsRYLMXW8QgPEZ/dl10mqEp2/TUKRHrEsDsKRIjSo8LAXTWnrhmT9l0hVjUs94hAxGJTheEmTJ9QlpV2xZBS14jUqhqRQVkAKlp3h0d5piufE3eNUFp4M8iI5FMjUjAfEaJwFKt9F+CdMz2BUNYZkQW1C+C1e3Fy9CR2n9ydkaVwTmUZQC3NBDqB0YF4cd04mbpLENlQaVCaKYTFuxCruo3cUEVpxlMNJXU6FrgrgQvuBSClDIDGI02VHtgl2fslFJ8RGQjwv2uhWncF2UzhVebM5Ni6C1BGpCTR/uHHMiMCAHWy6VKmQlWB3WrH2fVnAwA2Hc2sjVexd8+0Y0bg8qupW71OZJy5qhJEJhj5iIgySjaBiMfARyQaYxgN8yymcUZEBCJFyEpc/G3g4m+N/fPmAatFQpOf62WGw0NgjCkZkWjEiQqPHS1VxpOM84XQiBwPHE+7hVexd6fSzOmJ16bRiIyhWBVQJ4TqW3kzQbTxbji6IaPfU+zds82IAMYtvMMngWG5i4cCEaIEUcWqvDTDGFM0ItmJVRNLM8Mau/ekYtUkA+8IY6ZW8eAthhhGo6NKRoTF3JjXVAGpwBmmalc16jx1YGDY2b0zrd8RGhFq3z1NKZZYFQC+sGwyrlrQiOsXZ9/iumwi14m83/W+kt5Lh5xLM4CxYFVkQ8qbACdZqROlR6UuIxKMxBCRZzFklxFJnDUjOmYsEuC0GVw6ROmzZmbGz3e601pbBcZ4sBEIB9RAJOrGggL5h2iRJAmL6hYBALZ2bk3rd7ReJ7lCgUgJYrfaUemshEWyoMJZMabPfUajHw/ftBDNOaQKm8uaMal8EiIsgrdPvJ327+VcmgGAalmwqi3NKEJVyoYQpYnirDoSRizGFH0IYDAXJg1E8DIajiES5eUY7ZwZwzv0mZcBt70CfPKBjJ/vdKe1rkxp4R0KDWkyIq6COarqWVjHu5i2dW5La3vKiBB4eMXDeOiih3LLDhSRbFxW81KaMTI1G2czZggiU4RGJMa4SFUxM3NYs5pTpJ2uOxzmAUjAbPKuwGIBms8GchwJfzoytdar2LwHwgH0BblGhEXdBW/dFYhAZEfXDkRj0RRbk0aEAD9oVrSsKPYyskb4iWw6tgmMsbR+Jy+lGUUj0gaI5+2Wg5Jqat0lShOHzQKvXE7pHQ4pQUM2+hAAcFgtsMkBzLDspjpsNnmXyJmptT6wKG8E6Az0oXu4DwBQ4/EnzPgqFNMrp8Nr9yIQDmBf376U24uyOhmaESXLWRPOgt1ix9Ghozg4cDCt38nJ3l0gvERG+7lIFSAzM+KUQNs5k0vrLsA1A/rBd0rrbg4zcQhj/G47bHIL74GTPRgI8tLMrLq6MVuDzWLD/Nr5ANIrz1BGhCh5PHYPFk3g4qh0p/GKgXdZuaoKHB6gfKK8w/1ANKxO46XSDFHCaDtnVDMze7JfSYrIsIgAhDIihcUjd0Me6u3FaIxf5Oc2jO3AywV1CwAA2zpSByKkESFOCTLRiYSiIQyG+V1CThkRQFX397QBvQeBWASwe4Hyxtz2SxBFRHTO9I2EMBTkbbzZ2LsL9BmRlBoRIifK5Y699r4OMPD3enHT2J6TMumcUZxVqWuGKGWETuTdE+8iGA0m3VboQ2ySTRlZnTVaLxGlLNM6tm6QBJFnlAm8gTCGgsKKPfugwSMHIkIjMhJOMvCOyJkqN9da7O89AgBgTMJZk8Y2I3JmzZmwSlZ0DHfg+NBx0+0isQhGIiMAyOKdKHGmV0xHnbsOnSOd2NqxFUvql+B44DgODxzG4UH+r32wHYcHD+PIIP9wVrmqcjf30WZEhAkTCVWJEkfJiAyH4JbLJz5n9qUZZQJvSGRERCBCl41CUOv1A4NA18gJ2Mr45N1yV3YzvbLFY/dgVtUsfNjzIbZ2bsVlvssMtxNlGYACEaLEkSQJyyYuw/Ntz+Pe1+/FSGQEERYx3d4iWXD5tMtzf2LRwntyPyDSiqQPIUocJSMyHEZU7ggry7JrBtBM4FW6ZtSWYCL/NJZVAicAyd4HAHBZi2OuuLBuIT7s+RDbOrfhsqnGgYgoyzitTtit2Qe7AgpEiKJyccvFeL7teUX/4bQ60eRrQnNZM5rLm/nXsma0lLWgwdcAuyX3g14tzXwMiKGB1DFDlDjarhlhHZLLhFszsaqbMiIFoaG8AgBgkQOR8jy0xWbDwrqFeHL3k0k7Z0Trbj46ZgAKRIgic2HThXhs1WOQJAnNZc2o89TBIhVYulQ5GZAsQDgAHNvOf0aBCFHiaN1VHbIFe7Y+IkCiWJUyIoWlXC4TS1auvajxVBRlHcLYbF/vPgyEBgw1efnsmAFIrEoUGUmScHbD2VhSvwT13vrCByEAYHMAFXzsNWJhAJKaJSGIEkU7b0Z0uBhOyU0T8bsiE6JoRHLYJ2GOPrswwVdRlHXUemrRXNYMBob3u9433CafHTMABSLE6Yp2yq6/mfuLEEQJE981wwORnNp3HfqMCHXNFBJ9dsHvzLE7MAdEVmRrh3EbryjNUEaEIHJBmwGhsgxxClCh6ZoZytFZFVBbf4d1pRkKRAqDPiOSD+v0bBGByPau7YaP59NVFaBAhDhd0WZEqGOGOAUQGpFAKIqTwyEAuWlElK4ZUZohZ9WCos8uFDMQEcZmH3R9gHA0nPC4CETytUYKRIjTk+qp6vc1NuIlTAAAGqhJREFUrebbEUSJUO6yK90yx/tGAeQnIyL0JsPkrFpQ9HqLYgYik/2T4Xf6MRodxe6TuxMez3fXDAUixOlJXGmGMiJE6WOxSPC7eVYkEuM+Irm178ZnRFSNCGVECoH+op6zg3QOWCQLFtby8oxRGy91zRBEPqhoAVx+wGIDamcXezUEkRdE54wgH+27AWrfHRPGUyACAAsnmAci+e6aodCWOD2xWIF/eA4IDgC+2mKvhiDygt8Tb/iXT7GqyIxQ+25hsEgWeO1eJdtQzNIMoApWt3VuA2MsbrQGdc0QRL5oWgxMW17sVRBE3tBmROxWCU5b9qd4rVg1Eo0hFInxn9spI1IotFmRYgciZ1SfAYfFgZOjJ9E+2B73mAiWSCNCEARBxFGhyYh4nbacBkT6NKUZkQ0BSKxaSLQZhmIHIg6rA2fUnAEg0U9EjOSgrhmCIAgiDm1GJJeyDKAGHJEYQ/8wb+G0WSQ4rHTZKBTaQKTYGhHA3E+EMiIEQRCEIZWajEiugYjWL6RriLcDux3WnLIsRHLEhd0qWeG2uYu8GtVPRJ8RIY0IQRAEYYhfkxEpy6FjBgCsFgkuO79EdA0GAZCZWaERXShljrJxEfAtqFsAADg4cBAnR08qP6dZMwRBEIQh+cyIAGrgIQIR0ocUFpERKbY+ROB3+jHNzz2XtnduBwCEo2EEo/x4oIwIQRAEEYdWI5LL5F39PigjMjaIC/t40IcI9H4iQh8CAB57foaFUiBCEARxiqDtmsm1NAOoA+66hngg4iYzs4Iy3jIiQLyfCKB2zLhtbtgtdtPfywQKRAiCIE4R8tk1o91H54DIiFAgUkhEADIeA5EPez7EaGQ07x0zAAUiBEEQpwwVcRqR3O9WhYuqyIiQq2phWdGyAksbluL6GdcXeykKTb4m1LhrEIlF8GHPh3nvmAEoECEIgjhlcNutcMhuqrnMmRH4ZHFqtxCrkqtqQWkua8ajqx7FssZlxV6KgiRJceUZpWOGAhGCIAhCjyRJSueMLw8dLsLmXWRE8iGAJUoPrZ+ICES8DirNEARBEAYInUg+SjNCExKOMgCqeJU4vdA6rA6GuFg1nxkRCm8JgiBOIS6d24D+kTAWTarIeV/6DAgFIqcnM6tmwm1zYzA0iPe73gdApRmCIAjChK+unI5N61agwZ+7RXhiIEL3rqcjNosN82rnAQA2Ht0IIH+uqgAFIgRBEKcc+bIH17freslZ9bRFlGd6g70AqH2XIAiCGAP07bqUETl9EYGIoMyeP68TCkQIgiAIQ/SW7qQROX2ZXzsfFkkNGahrhiAIgig4+lIMZUROX7x2L2ZWzlT+XxJi1YMHD+K2227DlClT4Ha7MW3aNHznO99BKBQq1FMSBEEQeUQvViWNyOmNtjxTEu27e/bsQSwWwy9+8Qu0trZi586duP322xEIBPDDH/6wUE9LEARB5AkqzRBaFtYtxO/2/A5AfrtmChaIrF69GqtXr1b+P3XqVOzduxc///nPKRAhCIIoAag0Q2hZULdA+T6fXTNjelT19/ejqqrK9PFgMIhgMKj8f2BgYCyWRRAEQRigDzz0GRLi9KLeW49FdYvQPtiOJl9T3vY7ZkdVW1sbHnnkkaTZkAcffBAPPPDAWC2JIAiCSIJPpxFxU2nmtOfx1Y8jHAvDaXXmbZ8Zi1XXrVsHSZKS/tuzZ0/c7xw9ehSrV6/Gpz/9adx+++2m+77vvvvQ39+v/Dt8+HDmr4ggCILICy67BRbZG81ulZTJvsTpi0Wy5DUIAbLIiNx777245ZZbkm4zdepU5ftjx45h+fLlWLZsGR599NGkv+d0OuF05vcFEgRBENkhSRK8DhsGgxHShxAFI+Mjq7a2FrW1tWlte/ToUSxfvhyLFy/G448/DouFommCIIhSwuO0yoEIlWWIwlCwEPfo0aO46KKLMGnSJPzwhz9EV1eX8lh9fX2hnpYgCILII9xLJEiBCFEwChaIvPLKK2hra0NbWxuamuLVtYyxQj0tQRAEkUdEp4ze3Iwg8kXBaiW33HILGGOG/wiCIIjSQGRCKCNCFAoSbRAEQRCmiBZeEqsShYICEYIgCMIUjxKIUEaEKAwUiBAEQRCm+GSbd3JVJQoFBSIEQRCEKaIkQ66qRKGgQIQgCIIwZfXcesyqL8PquWS7QBQGyrURBEEQpiyZXIUXv/aJYi+DOIWhjAhBEARBEEWDAhGCIAiCIIoGBSIEQRAEQRQNCkQIgiAIgigaFIgQBEEQBFE0KBAhCIIgCKJoUCBCEARBEETRoECEIAiCIIiiQYEIQRAEQRBFgwIRgiAIgiCKBgUiBEEQBEEUDQpECIIgCIIoGhSIEARBEARRNCgQIQiCIAiiaNiKvYBkMMYAAAMDA0VeCUEQBEEQ6SKu2+I6noxxHYj09PQAAJqbm4u8EoIgCIIgMqWnpwd+vz/pNuM6EKmqqgIAtLe3p3whS5Yswbvvvptyn+luV4h9nm7blcIax/t2pbDG8b7deF/jwMAAmpubcfjwYZSXl4+79RX7uU+37Uphjels19/fj5aWFuU6noxxHYhYLFzC4vf7U35ArVZrym0y2a4Q+zzdtiuFNY737UphjeN9u1JZY3l5+Zif506l9/BU2a4U1pjJaxHX8aTbpLWnEmDNmjV53a4Q+zzdtivmc58q2xXzuU+V7Yr53JmssRjPeyq9h6fKdsV87mId1xJLR0lSJAYGBuD3+9Hf35929EUQBFFK0HmOOBXJ5Lge1xkRp9OJ73znO3A6ncVeCkEQREGg8xxxKpLJcT2uMyIEQRAEQZzajOuMCEEQBEEQpzYUiBAEQRAEUTRKLhD56U9/ismTJ8PlcuGcc87BO++8AwA4efIkvvzlL2PmzJlwu91oaWnBV77yFfT39xd5xWOH2XsDAPv378c111yD2tpalJeX44YbbkBHR0cRVzt2vPHGG7jiiivQ2NgISZLw/PPPJ2yze/duXHnllfD7/fB6vViyZAna29vHfrFjyIMPPoglS5agrKwMdXV1uPrqq7F37964bb70pS9h2rRpcLvdqK2txVVXXYU9e/YUacVjx89//nPMmzdPaaldunQp/va3vymPj46OYs2aNaiurobP58N111132nyeBMnONwCwefNmrFixAl6vF+Xl5fjEJz6BkZGRIq12bEh1rrn//vsxa9YseL1eVFZWYuXKlXj77beLs9hxREkFIr///e9xzz334Dvf+Q62bt2K+fPn45JLLkFnZyeOHTuGY8eO4Yc//CF27tyJJ554Ai+++CJuu+22Yi97TEj23gQCAaxatQqSJOG1117Dxo0bEQqFcMUVVyAWixV76QUnEAhg/vz5+OlPf2r4+P79+3H++edj1qxZeP311/H+++/jW9/6Flwu1xivdGxZv3491qxZg7feeguvvPIKwuEwVq1ahUAgoGyzePFiPP7449i9ezdeeuklMMawatUqRKPRIq688DQ1NeEHP/gBtmzZgvfeew8rVqzAVVddhQ8//BAAcPfdd+Mvf/kLnnnmGaxfvx7Hjh3DtddeW+RVjx3JzjcAD0JWr16NVatW4Z133sG7776LtWvXpuUpUcqkOtfMmDEDP/nJT/DBBx9gw4YNmDx5MlatWoWurq4xXuk4g5UQZ599NluzZo3y/2g0yhobG9mDDz5ouP0f/vAH5nA4WDgcHqslFo1k781LL73ELBYL6+/vVx7v6+tjkiSxV155pRjLLRoA2HPPPRf3sxtvvJH9wz/8Q3EWNI7o7OxkANj69etNt9mxYwcDwNra2sZwZeODyspK9qtf/Yr19fUxu93OnnnmGeWx3bt3MwBs8+bNRVzh2JHqXHzOOeewb37zm8Va3rjA6Fyjp7+/nwFg//M//zM2ixqnlEx4GgqFsGXLFqxcuVL5mcViwcqVK7F582bD3xH9yzbbuDaQzZlU700wGIQkSXFtVC6XCxaLBRs2bCjGkscNsVgMf/3rXzFjxgxccsklqKurwznnnGNYvjnVEWVMM0vmQCCAxx9/HFOmTDmt5j9Fo1E8/fTTCAQCWLp0KbZs2YJwOBz3eZs1axZaWlpMz0WnEqnON52dnXj77bdRV1eHZcuWYcKECbjwwgtP+3ONnlAohEcffRR+vx/z588v9nKKSskEIt3d3YhGo5gwYULczydMmIATJ04Ybv/d734Xd9xxx1gtsWikem/OPfdceL1efOMb38Dw8DACgQC+/vWvIxqN4vjx40Va9figs7MTQ0ND+MEPfoDVq1fj5ZdfxjXXXINrr70W69evL/byxoxYLIavfe1rOO+88zB37ty4x372s5/B5/PB5/Phb3/7G1555RU4HI4irXTs+OCDD+Dz+eB0OnHnnXfiueeew5w5c3DixAk4HA5UVFTEbW92LjrVSHW++fjjjwFwPcTtt9+OF198EYsWLcLFF1+Mffv2FWPJ44oXXngBPp8PLpcLDz30EF555RXU1NQUe1lFpWQCkUwYGBjAZZddhjlz5uD+++8v9nKKTm1tLZ555hn85S9/gc/ng9/vR19fHxYtWnTK12xTITQyV111Fe6++24sWLAA69atw+WXX47/+I//KPLqxo41a9Zg586dePrppxMe++xnP4tt27Zh/fr1mDFjBm644QaMjo4WYZVjy8yZM7F9+3a8/fbbuOuuu/CFL3wBu3btKvayxj3iM/WlL30Jt956KxYuXIiHHnoIM2fOxK9//esir674LF++HNu3b8emTZuwevVq3HDDDYq25nSlZGoWNTU1sFqtCcr0jo4O1NfXK/8fHBzE6tWrUVZWhueeew52u32slzrmpPPerFq1Cvv370d3dzdsNhsqKipQX1+PqVOnFmPJ44aamhrYbDbMmTMn7uezZ88+bVLJa9euxQsvvIA33ngDTU1NCY/7/X74/X5Mnz4d5557LiorK/Hcc8/h5ptvLsJqxw6Hw4HW1lYAXLT77rvv4uGHH8aNN96IUCiEvr6+uKyI/lx0qpLqfNPQ0AAAhp+pU70TLR28Xi9aW1vR2tqKc889F9OnT8djjz2G++67r9hLKxolczvscDiwePFivPrqq8rPYrEYXn31VSxduhQAz4SsWrUKDocD//Vf/3XKdz0I0nlvBDU1NaioqMBrr72Gzs5OXHnllWO93HGFw+HAkiVLEtpWP/roI0yaNKlIqxobGGNYu3YtnnvuObz22muYMmVKWr/DGEMwGByDFY4vYrEYgsEgFi9eDLvdHvd527t3L9rb2xM+b6ciqc43kydPRmNj42n5mcoGcVyd1hRZLJsRTz/9NHM6neyJJ55gu3btYnfccQerqKhgJ06cYP39/eycc85hZ555Jmtra2PHjx9X/kUikWIvveAke28YY+zXv/4127x5M2tra2O//e1vWVVVFbvnnnuKvOqxYXBwkG3bto1t27aNAWD//u//zrZt28YOHTrEGGPs2WefZXa7nT366KNs37597JFHHmFWq5W9+eabRV55YbnrrruY3+9nr7/+etznZXh4mDHG2P79+9n3v/999t5777FDhw6xjRs3siuuuIJVVVWxjo6OIq++sKxbt46tX7+eHThwgL3//vts3bp1TJIk9vLLLzPGGLvzzjtZS0sLe+2119h7773Hli5dypYuXVrkVY8dqc43Dz30ECsvL2fPPPMM27dvH/vmN7/JXC7XKd9tlexcMzQ0xO677z62efNmdvDgQfbee++xW2+9lTmdTrZz585iL72olFQgwhhjjzzyCGtpaWEOh4OdffbZ7K233mKMMfb3v/+dATD8d+DAgeIueowwe28YY+wb3/gGmzBhArPb7Wz69OnsRz/6EYvFYkVc7dhhdmx84QtfULZ57LHHWGtrK3O5XGz+/Pns+eefL96Cxwizz8vjjz/OGGPs6NGj7NJLL2V1dXXMbrezpqYm9pnPfIbt2bOnuAsfA774xS+ySZMmMYfDwWpra9nFF1+sBCGMMTYyMsL+6Z/+iVVWVjKPx8OuueYadvz48SKueOxJdr5hjLEHH3yQNTU1MY/Hw5YuXXrKB/aMJT/XjIyMsGuuuYY1NjYyh8PBGhoa2JVXXsneeeedYi+76NDQO4IgCIIgikbJaEQIgiAIgjj1oECEIAiCIIiiQYEIQRAEQRBFgwIRgiAIgiCKBgUiBEEQBEEUDQpECIIgCIIoGhSIEARBEARRNCgQIQiCIAiiaFAgQhAEQRBE0aBAhCAIgiCIokGBCEEQBEEQRYMCEYIgCIIgigYFIgRBEARBFA0KRAiCIAiCKBoUiBAEQRAEUTQoECEIgiAIomhQIEIQBEEQRNGgQIQgCIIgiKJBgQhBEARBEEWDAhGCIAiCIIoGBSIEQRAEQRQNCkQIgiAIgigaFIgQBEEQBFE0KBAhCIIYZ0iShOeff77YyyCIMaGogcgtt9yCq6++uphLIAiCKAi33HILJElK+NfW1lbspRHEuMJW7AUQBEGcqqxevRqPP/543M9qa2uLtBqCGJ+Mm9LMiy++iPPPPx8VFRWorq7G5Zdfjv379yuPHzx4EJIk4dlnn8Xy5cvh8Xgwf/58bN68uYirJgiCMMfpdKK+vj7un9VqxZ///GcsWrQILpcLU6dOxQMPPIBIJBL3u8ePH8ell14Kt9uNqVOn4o9//GORXgVBFJZxE4gEAgHcc889eO+99/Dqq6/CYrHgmmuuQSwWi9vuX//1X/H1r38d27dvx4wZM3DzzTcnfIAJgiDGK2+++SY+//nP46tf/Sp27dqFX/ziF3jiiSfwve99L267b33rW7juuuuwY8cOfPazn8VNN92E3bt3F2nVBFE4JMYYK9aT33LLLejr6zMUZXV3d6O2thYffPAB5s6di4MHD2LKlCn41a9+hdtuuw0AsGvXLpxxxhnYvXs3Zs2aNcarJwiCMOeWW27Bk08+CZfLpfzs0ksvRW9vLy6++GLcd999ys+ffPJJ/PM//zOOHTsGgItV77zzTvz85z9Xtjn33HOxaNEi/OxnPxu7F0EQY8C40Yjs27cP3/72t/H222+ju7tbyYS0t7dj7ty5ynbz5s1Tvm9oaAAAdHZ2UiBCEMS4Y/ny5XHBhNfrxbx587Bx48a4DEg0GsXo6CiGh4fh8XgAAEuXLo3b19KlS7F9+/YxWTdBjCXjJhC54oorMGnSJPzyl79EY2MjYrEY5s6di1AoFLed3W5XvpckCQASyjcEQRDjAa/Xi9bW1rifDQ0N4YEHHsC1116bsL02e0IQpwvjIhDp6enB3r178ctf/hIXXHABAGDDhg1FXhVBEET+WbRoEfbu3ZsQoOh566238PnPfz7u/wsXLiz08ghizBkXgUhlZSWqq6vx6KOPoqGhAe3t7Vi3bl2xl0UQBJF3vv3tb+Pyyy9HS0sLrr/+elgsFuzYsQM7d+7E//k//0fZ7plnnsFZZ52F888/H0899RTeeecdPPbYY0VcOUEUhqJ2zcRiMdhsNlgsFjz99NPYsmUL5s6di7vvvhv/9m//VsylEQRBFIRLLrkEL7zwAl5++WUsWbIE5557Lh566CFMmjQpbrsHHngATz/9NObNm4f/+3//L/7zP/8Tc+bMKdKqCaJwFLVrZvXq1WhtbcVPfvKTYi2BIAiCIIgiUpSMSG9vL1544QW8/vrrWLlyZTGWQBAEQRDEOKAoGpEvfvGLePfdd3HvvffiqquuKsYSCIIgCIIYBxS1NEMQBEEQxOnNuLF4JwiCIAji9IMCEYIgCIIgikbBA5EHH3wQS5YsQVlZGerq6nD11Vdj7969cduMjo5izZo1qK6uhs/nw3XXXYeOjg7l8R07duDmm29Gc3Mz3G43Zs+ejYcffjhuHxs2bMB5552H6upquN1uzJo1Cw899FChXx5BEARBEDlQcLHq+vXrsWbNGixZsgSRSAT/8i//glWrVmHXrl3wer0AgLvvvht//etf8cwzz8Dv92Pt2rW49tprsXHjRgDAli1bUFdXhyeffBLNzc3YtGkT7rjjDlitVqxduxYAt1Jeu3Yt5s2bB6/Xiw0bNuBLX/oSvF4v7rjjjkK/TIIgCIIgsmDMxapdXV2oq6vD+vXr8YlPfAL9/f2ora3F7373O1x//fUAgD179mD27NnYvHkzzj33XMP9rFmzBrt378Zrr71m+lzXXnstvF4vfvvb3xbktRAEQRAEkRtjrhHp7+8HAFRVVQHg2Y5wOBznJzJr1iy0tLRg8+bNSfcj9mHEtm3bsGnTJlx44YV5WjlBEARBEPlmTH1EYrEYvva1r+G8887D3LlzAQAnTpyAw+FARUVF3LYTJkzAiRMnDPezadMm/P73v8df//rXhMeamprQ1dWFSCSC+++/H//4j/+Y99dBEARBEER+GNNAZM2aNdi5c2dOk3V37tyJq666Ct/5znewatWqhMfffPNNDA0N4a233sK6devQ2tqKm2++OZdlEwRBEARRIMYsEFm7di1eeOEFvPHGG2hqalJ+Xl9fj1AohL6+vrisSEdHB+rr6+P2sWvXLlx88cW444478M1vftPweaZMmQIAOPPMM9HR0YH777+fAhGCIAiCGKcUXCPCGMPatWvx3HPP4bXXXlMCBcHixYtht9vx6quvKj/bu3cv2tvbsXTpUuVnH374IZYvX44vfOEL+N73vpfWc8diMQSDwfy8EIIgCIIg8k7BMyJr1qzB7373O/z5z39GWVmZovvw+/1wu93w+/247bbbcM8996Cqqgrl5eX48pe/jKVLlyodMzt37sSKFStwySWX4J577lH2YbVaUVtbCwD46U9/ipaWFsyaNQsA8MYbb+CHP/whvvKVrxT6JRIEQRAEkSUFb9+VJMnw548//jhuueUWANzQ7N5778V//ud/IhgM4pJLLsHPfvYzpTRz//3344EHHkjYx6RJk3Dw4EEAwCOPPIJf/OIXOHDgAGw2G6ZNm4bbb78dX/rSl2CxkIEsQRAEQYxHaOgdQRAEQRBFg1IFBEEQBEEUDQpECIIgCIIoGhSIEARBEARRNCgQIQiCIAiiaFAgQhAEQRBE0aBAhCAIgiCIokGBCEEQBEEQRYMCEYIgCIIgigYFIgRBEARBFA0KRAiCIAiCKBoUiBAEQRAEUTT+f65uf5UC5bj/AAAAAElFTkSuQmCC",
      "text/plain": [
       "<Figure size 640x480 with 1 Axes>"
>>>>>>> a2fc80b917052043d36ef0a9ff96a01d0148ed5f
      ]
     },
     "metadata": {},
     "output_type": "display_data"
    }
   ],
   "source": [
<<<<<<< HEAD
    "# 넘파이 2차원 배열을 이용하여 데이터프레임 생성\n",
    "np.random.seed(1)\n",
    "df2 = pd.DataFrame(data = np.random.randn(50,3),\n",
    "                   index = pd.date_range('1/1/2023',periods = 50),\n",
    "                   columns=['A','B','C'])\n",
    "df2 = df2.cumsum()\n",
    "print(df2.head())\n",
    "df2.plot() # 시각화"
=======
    "df2 = pd.DataFrame(data = np.random.randn(50,3),\n",
    "                   index = pd.date_range('1/1/2023',periods = 50),\n",
    "                   columns = ['A','B','C'])\n",
    "dk2 = df2.cumsum\n",
    "print(df2.head())\n",
    "df2.plot()"
   ]
  },
  {
   "cell_type": "code",
   "execution_count": 91,
   "metadata": {},
   "outputs": [
    {
     "data": {
      "text/html": [
       "<div>\n",
       "<style scoped>\n",
       "    .dataframe tbody tr th:only-of-type {\n",
       "        vertical-align: middle;\n",
       "    }\n",
       "\n",
       "    .dataframe tbody tr th {\n",
       "        vertical-align: top;\n",
       "    }\n",
       "\n",
       "    .dataframe thead th {\n",
       "        text-align: right;\n",
       "    }\n",
       "</style>\n",
       "<table border=\"1\" class=\"dataframe\">\n",
       "  <thead>\n",
       "    <tr style=\"text-align: right;\">\n",
       "      <th></th>\n",
       "      <th>year</th>\n",
       "      <th>state</th>\n",
       "      <th>pop</th>\n",
       "    </tr>\n",
       "  </thead>\n",
       "  <tbody>\n",
       "    <tr>\n",
       "      <th>0</th>\n",
       "      <td>2000</td>\n",
       "      <td>Ohio</td>\n",
       "      <td>1.5</td>\n",
       "    </tr>\n",
       "    <tr>\n",
       "      <th>1</th>\n",
       "      <td>2001</td>\n",
       "      <td>Ohio</td>\n",
       "      <td>1.7</td>\n",
       "    </tr>\n",
       "    <tr>\n",
       "      <th>2</th>\n",
       "      <td>2002</td>\n",
       "      <td>Ohio</td>\n",
       "      <td>3.6</td>\n",
       "    </tr>\n",
       "    <tr>\n",
       "      <th>3</th>\n",
       "      <td>2001</td>\n",
       "      <td>Nevada</td>\n",
       "      <td>2.4</td>\n",
       "    </tr>\n",
       "    <tr>\n",
       "      <th>4</th>\n",
       "      <td>2002</td>\n",
       "      <td>Nevada</td>\n",
       "      <td>2.9</td>\n",
       "    </tr>\n",
       "    <tr>\n",
       "      <th>5</th>\n",
       "      <td>2003</td>\n",
       "      <td>Nevada</td>\n",
       "      <td>3.2</td>\n",
       "    </tr>\n",
       "  </tbody>\n",
       "</table>\n",
       "</div>"
      ],
      "text/plain": [
       "   year   state  pop\n",
       "0  2000    Ohio  1.5\n",
       "1  2001    Ohio  1.7\n",
       "2  2002    Ohio  3.6\n",
       "3  2001  Nevada  2.4\n",
       "4  2002  Nevada  2.9\n",
       "5  2003  Nevada  3.2"
      ]
     },
     "execution_count": 91,
     "metadata": {},
     "output_type": "execute_result"
    }
   ],
   "source": [
    "data = {\"state\": [\"Ohio\", \"Ohio\", \"Ohio\", \"Nevada\", \"Nevada\", \"Nevada\"],\n",
    "        \"year\": [2000, 2001, 2002, 2001, 2002, 2003],\n",
    "        \"pop\": [1.5, 1.7, 3.6, 2.4, 2.9, 3.2]}\n",
    "pd.DataFrame(data, columns=[\"year\", \"state\", \"pop\"]) # columns을 원하는 순서대로 지정"
   ]
  },
  {
   "cell_type": "code",
   "execution_count": 92,
   "metadata": {},
   "outputs": [
    {
     "data": {
      "text/plain": [
       "Index(['year', 'state', 'pop'], dtype='object')"
      ]
     },
     "execution_count": 92,
     "metadata": {},
     "output_type": "execute_result"
    }
   ],
   "source": [
    "frame2 = pd.DataFrame(data, columns=[\"year\", \"state\", \"pop\"])\n",
    "frame2\n",
    "frame2.columns"
>>>>>>> a2fc80b917052043d36ef0a9ff96a01d0148ed5f
   ]
  },
  {
   "cell_type": "markdown",
   "metadata": {},
   "source": [
    "### 3.3.3 DateFrame의 원하는 데이터만 선택하기 (p.209, 213)\n",
    "* 인덱싱을 활용하여 원하는 데이터 선택\n",
    "* 원하는 컬럼들만 선택\n",
    "* 원하는 로우들만 선택\n",
    "* 인덱싱 슬라이싱으로 특정 범위 데이터 선택\n",
    "* 조건색인으로 특정 조건에 부합되는 데이터 선택"
   ]
  },
  {
   "cell_type": "markdown",
   "metadata": {},
   "source": [
    "* 원하는 열(컬럼)만 조회하기"
   ]
  },
  {
   "cell_type": "code",
<<<<<<< HEAD
   "execution_count": 117,
=======
   "execution_count": 71,
>>>>>>> a2fc80b917052043d36ef0a9ff96a01d0148ed5f
   "metadata": {},
   "outputs": [
    {
     "data": {
      "text/html": [
       "<div>\n",
       "<style scoped>\n",
       "    .dataframe tbody tr th:only-of-type {\n",
       "        vertical-align: middle;\n",
       "    }\n",
       "\n",
       "    .dataframe tbody tr th {\n",
       "        vertical-align: top;\n",
       "    }\n",
       "\n",
       "    .dataframe thead th {\n",
       "        text-align: right;\n",
       "    }\n",
       "</style>\n",
       "<table border=\"1\" class=\"dataframe\">\n",
       "  <thead>\n",
       "    <tr style=\"text-align: right;\">\n",
       "      <th></th>\n",
       "      <th>state</th>\n",
       "      <th>year</th>\n",
       "      <th>pop</th>\n",
       "    </tr>\n",
       "  </thead>\n",
       "  <tbody>\n",
       "    <tr>\n",
       "      <th>a</th>\n",
       "      <td>Ohio</td>\n",
       "      <td>2000</td>\n",
       "      <td>1.5</td>\n",
       "    </tr>\n",
       "    <tr>\n",
       "      <th>b</th>\n",
       "      <td>Ohio</td>\n",
       "      <td>2001</td>\n",
       "      <td>1.7</td>\n",
       "    </tr>\n",
       "    <tr>\n",
       "      <th>c</th>\n",
       "      <td>Ohio</td>\n",
       "      <td>2002</td>\n",
       "      <td>3.6</td>\n",
       "    </tr>\n",
       "    <tr>\n",
       "      <th>d</th>\n",
       "      <td>Nevada</td>\n",
       "      <td>2001</td>\n",
       "      <td>2.4</td>\n",
       "    </tr>\n",
       "    <tr>\n",
       "      <th>e</th>\n",
       "      <td>Nevada</td>\n",
       "      <td>2002</td>\n",
       "      <td>2.9</td>\n",
       "    </tr>\n",
       "    <tr>\n",
       "      <th>f</th>\n",
       "      <td>Nevada</td>\n",
       "      <td>2003</td>\n",
       "      <td>3.2</td>\n",
       "    </tr>\n",
       "  </tbody>\n",
       "</table>\n",
       "</div>"
      ],
      "text/plain": [
       "    state  year  pop\n",
       "a    Ohio  2000  1.5\n",
       "b    Ohio  2001  1.7\n",
       "c    Ohio  2002  3.6\n",
       "d  Nevada  2001  2.4\n",
       "e  Nevada  2002  2.9\n",
       "f  Nevada  2003  3.2"
      ]
     },
<<<<<<< HEAD
     "execution_count": 117,
=======
     "execution_count": 71,
>>>>>>> a2fc80b917052043d36ef0a9ff96a01d0148ed5f
     "metadata": {},
     "output_type": "execute_result"
    }
   ],
   "source": [
    "frame"
   ]
  },
  {
   "cell_type": "code",
<<<<<<< HEAD
   "execution_count": 119,
=======
   "execution_count": 76,
>>>>>>> a2fc80b917052043d36ef0a9ff96a01d0148ed5f
   "metadata": {},
   "outputs": [
    {
     "data": {
      "text/plain": [
<<<<<<< HEAD
       "a      Ohio\n",
       "b      Ohio\n",
       "c      Ohio\n",
       "d    Nevada\n",
       "e    Nevada\n",
       "f    Nevada\n",
       "Name: state, dtype: object"
      ]
     },
     "execution_count": 119,
=======
       "pandas.core.series.Series"
      ]
     },
     "execution_count": 76,
>>>>>>> a2fc80b917052043d36ef0a9ff96a01d0148ed5f
     "metadata": {},
     "output_type": "execute_result"
    }
   ],
   "source": [
    "# 1) state만 조회\n",
    "frame[\"state\"]\n",
<<<<<<< HEAD
    "# type(frame2['state']) # Series 객체\n"
=======
    "type(frame['state']) # Series 객체"
>>>>>>> a2fc80b917052043d36ef0a9ff96a01d0148ed5f
   ]
  },
  {
   "cell_type": "code",
<<<<<<< HEAD
   "execution_count": 120,
=======
   "execution_count": 77,
>>>>>>> a2fc80b917052043d36ef0a9ff96a01d0148ed5f
   "metadata": {},
   "outputs": [
    {
     "data": {
      "text/html": [
       "<div>\n",
       "<style scoped>\n",
       "    .dataframe tbody tr th:only-of-type {\n",
       "        vertical-align: middle;\n",
       "    }\n",
       "\n",
       "    .dataframe tbody tr th {\n",
       "        vertical-align: top;\n",
       "    }\n",
       "\n",
       "    .dataframe thead th {\n",
       "        text-align: right;\n",
       "    }\n",
       "</style>\n",
       "<table border=\"1\" class=\"dataframe\">\n",
       "  <thead>\n",
       "    <tr style=\"text-align: right;\">\n",
       "      <th></th>\n",
       "      <th>year</th>\n",
       "      <th>pop</th>\n",
       "    </tr>\n",
       "  </thead>\n",
       "  <tbody>\n",
       "    <tr>\n",
       "      <th>a</th>\n",
       "      <td>2000</td>\n",
       "      <td>1.5</td>\n",
       "    </tr>\n",
       "    <tr>\n",
       "      <th>b</th>\n",
       "      <td>2001</td>\n",
       "      <td>1.7</td>\n",
       "    </tr>\n",
       "    <tr>\n",
       "      <th>c</th>\n",
       "      <td>2002</td>\n",
       "      <td>3.6</td>\n",
       "    </tr>\n",
       "    <tr>\n",
       "      <th>d</th>\n",
       "      <td>2001</td>\n",
       "      <td>2.4</td>\n",
       "    </tr>\n",
       "    <tr>\n",
       "      <th>e</th>\n",
       "      <td>2002</td>\n",
       "      <td>2.9</td>\n",
       "    </tr>\n",
       "    <tr>\n",
       "      <th>f</th>\n",
       "      <td>2003</td>\n",
       "      <td>3.2</td>\n",
       "    </tr>\n",
       "  </tbody>\n",
       "</table>\n",
       "</div>"
      ],
      "text/plain": [
       "   year  pop\n",
       "a  2000  1.5\n",
       "b  2001  1.7\n",
       "c  2002  3.6\n",
       "d  2001  2.4\n",
       "e  2002  2.9\n",
       "f  2003  3.2"
      ]
     },
<<<<<<< HEAD
     "execution_count": 120,
=======
     "execution_count": 77,
>>>>>>> a2fc80b917052043d36ef0a9ff96a01d0148ed5f
     "metadata": {},
     "output_type": "execute_result"
    }
   ],
   "source": [
    "# 2) year와 pop 조회하기 - 색인 기호 안에 조회할 2개 이상의 컬럼명들을 리스트로 작성\n",
    "frame[['year','pop']]"
   ]
  },
  {
   "cell_type": "markdown",
   "metadata": {},
   "source": [
    "* 특정 행만 선택 - df.loc[행_레이블], df.iloc[행_위치] (p.211)"
   ]
  },
  {
   "cell_type": "code",
<<<<<<< HEAD
   "execution_count": 124,
   "metadata": {},
   "outputs": [
    {
     "data": {
      "text/plain": [
       "state    Ohio\n",
       "year     2001\n",
       "pop       1.7\n",
       "Name: b, dtype: object"
      ]
     },
     "execution_count": 124,
     "metadata": {},
     "output_type": "execute_result"
=======
   "execution_count": 80,
   "metadata": {},
   "outputs": [
    {
     "ename": "KeyError",
     "evalue": "1",
     "output_type": "error",
     "traceback": [
      "\u001b[1;31m---------------------------------------------------------------------------\u001b[0m",
      "\u001b[1;31mKeyError\u001b[0m                                  Traceback (most recent call last)",
      "File \u001b[1;32m~\\AppData\\Local\\Programs\\Python\\Python312\\Lib\\site-packages\\pandas\\core\\indexes\\base.py:3805\u001b[0m, in \u001b[0;36mIndex.get_loc\u001b[1;34m(self, key)\u001b[0m\n\u001b[0;32m   3804\u001b[0m \u001b[38;5;28;01mtry\u001b[39;00m:\n\u001b[1;32m-> 3805\u001b[0m     \u001b[38;5;28;01mreturn\u001b[39;00m \u001b[38;5;28;43mself\u001b[39;49m\u001b[38;5;241;43m.\u001b[39;49m\u001b[43m_engine\u001b[49m\u001b[38;5;241;43m.\u001b[39;49m\u001b[43mget_loc\u001b[49m\u001b[43m(\u001b[49m\u001b[43mcasted_key\u001b[49m\u001b[43m)\u001b[49m\n\u001b[0;32m   3806\u001b[0m \u001b[38;5;28;01mexcept\u001b[39;00m \u001b[38;5;167;01mKeyError\u001b[39;00m \u001b[38;5;28;01mas\u001b[39;00m err:\n",
      "File \u001b[1;32mindex.pyx:167\u001b[0m, in \u001b[0;36mpandas._libs.index.IndexEngine.get_loc\u001b[1;34m()\u001b[0m\n",
      "File \u001b[1;32mindex.pyx:196\u001b[0m, in \u001b[0;36mpandas._libs.index.IndexEngine.get_loc\u001b[1;34m()\u001b[0m\n",
      "File \u001b[1;32mpandas\\\\_libs\\\\hashtable_class_helper.pxi:7081\u001b[0m, in \u001b[0;36mpandas._libs.hashtable.PyObjectHashTable.get_item\u001b[1;34m()\u001b[0m\n",
      "File \u001b[1;32mpandas\\\\_libs\\\\hashtable_class_helper.pxi:7089\u001b[0m, in \u001b[0;36mpandas._libs.hashtable.PyObjectHashTable.get_item\u001b[1;34m()\u001b[0m\n",
      "\u001b[1;31mKeyError\u001b[0m: 1",
      "\nThe above exception was the direct cause of the following exception:\n",
      "\u001b[1;31mKeyError\u001b[0m                                  Traceback (most recent call last)",
      "Cell \u001b[1;32mIn[80], line 2\u001b[0m\n\u001b[0;32m      1\u001b[0m \u001b[38;5;66;03m# 1) 2번째 행 조회\u001b[39;00m\n\u001b[1;32m----> 2\u001b[0m \u001b[43mframe\u001b[49m\u001b[38;5;241;43m.\u001b[39;49m\u001b[43mloc\u001b[49m\u001b[43m[\u001b[49m\u001b[38;5;241;43m1\u001b[39;49m\u001b[43m]\u001b[49m\n\u001b[0;32m      3\u001b[0m frame\u001b[38;5;241m.\u001b[39miloc[b]\n",
      "File \u001b[1;32m~\\AppData\\Local\\Programs\\Python\\Python312\\Lib\\site-packages\\pandas\\core\\indexing.py:1191\u001b[0m, in \u001b[0;36m_LocationIndexer.__getitem__\u001b[1;34m(self, key)\u001b[0m\n\u001b[0;32m   1189\u001b[0m maybe_callable \u001b[38;5;241m=\u001b[39m com\u001b[38;5;241m.\u001b[39mapply_if_callable(key, \u001b[38;5;28mself\u001b[39m\u001b[38;5;241m.\u001b[39mobj)\n\u001b[0;32m   1190\u001b[0m maybe_callable \u001b[38;5;241m=\u001b[39m \u001b[38;5;28mself\u001b[39m\u001b[38;5;241m.\u001b[39m_check_deprecated_callable_usage(key, maybe_callable)\n\u001b[1;32m-> 1191\u001b[0m \u001b[38;5;28;01mreturn\u001b[39;00m \u001b[38;5;28;43mself\u001b[39;49m\u001b[38;5;241;43m.\u001b[39;49m\u001b[43m_getitem_axis\u001b[49m\u001b[43m(\u001b[49m\u001b[43mmaybe_callable\u001b[49m\u001b[43m,\u001b[49m\u001b[43m \u001b[49m\u001b[43maxis\u001b[49m\u001b[38;5;241;43m=\u001b[39;49m\u001b[43maxis\u001b[49m\u001b[43m)\u001b[49m\n",
      "File \u001b[1;32m~\\AppData\\Local\\Programs\\Python\\Python312\\Lib\\site-packages\\pandas\\core\\indexing.py:1431\u001b[0m, in \u001b[0;36m_LocIndexer._getitem_axis\u001b[1;34m(self, key, axis)\u001b[0m\n\u001b[0;32m   1429\u001b[0m \u001b[38;5;66;03m# fall thru to straight lookup\u001b[39;00m\n\u001b[0;32m   1430\u001b[0m \u001b[38;5;28mself\u001b[39m\u001b[38;5;241m.\u001b[39m_validate_key(key, axis)\n\u001b[1;32m-> 1431\u001b[0m \u001b[38;5;28;01mreturn\u001b[39;00m \u001b[38;5;28;43mself\u001b[39;49m\u001b[38;5;241;43m.\u001b[39;49m\u001b[43m_get_label\u001b[49m\u001b[43m(\u001b[49m\u001b[43mkey\u001b[49m\u001b[43m,\u001b[49m\u001b[43m \u001b[49m\u001b[43maxis\u001b[49m\u001b[38;5;241;43m=\u001b[39;49m\u001b[43maxis\u001b[49m\u001b[43m)\u001b[49m\n",
      "File \u001b[1;32m~\\AppData\\Local\\Programs\\Python\\Python312\\Lib\\site-packages\\pandas\\core\\indexing.py:1381\u001b[0m, in \u001b[0;36m_LocIndexer._get_label\u001b[1;34m(self, label, axis)\u001b[0m\n\u001b[0;32m   1379\u001b[0m \u001b[38;5;28;01mdef\u001b[39;00m \u001b[38;5;21m_get_label\u001b[39m(\u001b[38;5;28mself\u001b[39m, label, axis: AxisInt):\n\u001b[0;32m   1380\u001b[0m     \u001b[38;5;66;03m# GH#5567 this will fail if the label is not present in the axis.\u001b[39;00m\n\u001b[1;32m-> 1381\u001b[0m     \u001b[38;5;28;01mreturn\u001b[39;00m \u001b[38;5;28;43mself\u001b[39;49m\u001b[38;5;241;43m.\u001b[39;49m\u001b[43mobj\u001b[49m\u001b[38;5;241;43m.\u001b[39;49m\u001b[43mxs\u001b[49m\u001b[43m(\u001b[49m\u001b[43mlabel\u001b[49m\u001b[43m,\u001b[49m\u001b[43m \u001b[49m\u001b[43maxis\u001b[49m\u001b[38;5;241;43m=\u001b[39;49m\u001b[43maxis\u001b[49m\u001b[43m)\u001b[49m\n",
      "File \u001b[1;32m~\\AppData\\Local\\Programs\\Python\\Python312\\Lib\\site-packages\\pandas\\core\\generic.py:4298\u001b[0m, in \u001b[0;36mNDFrame.xs\u001b[1;34m(self, key, axis, level, drop_level)\u001b[0m\n\u001b[0;32m   4296\u001b[0m             new_index \u001b[38;5;241m=\u001b[39m index[loc]\n\u001b[0;32m   4297\u001b[0m \u001b[38;5;28;01melse\u001b[39;00m:\n\u001b[1;32m-> 4298\u001b[0m     loc \u001b[38;5;241m=\u001b[39m \u001b[43mindex\u001b[49m\u001b[38;5;241;43m.\u001b[39;49m\u001b[43mget_loc\u001b[49m\u001b[43m(\u001b[49m\u001b[43mkey\u001b[49m\u001b[43m)\u001b[49m\n\u001b[0;32m   4300\u001b[0m     \u001b[38;5;28;01mif\u001b[39;00m \u001b[38;5;28misinstance\u001b[39m(loc, np\u001b[38;5;241m.\u001b[39mndarray):\n\u001b[0;32m   4301\u001b[0m         \u001b[38;5;28;01mif\u001b[39;00m loc\u001b[38;5;241m.\u001b[39mdtype \u001b[38;5;241m==\u001b[39m np\u001b[38;5;241m.\u001b[39mbool_:\n",
      "File \u001b[1;32m~\\AppData\\Local\\Programs\\Python\\Python312\\Lib\\site-packages\\pandas\\core\\indexes\\base.py:3812\u001b[0m, in \u001b[0;36mIndex.get_loc\u001b[1;34m(self, key)\u001b[0m\n\u001b[0;32m   3807\u001b[0m     \u001b[38;5;28;01mif\u001b[39;00m \u001b[38;5;28misinstance\u001b[39m(casted_key, \u001b[38;5;28mslice\u001b[39m) \u001b[38;5;129;01mor\u001b[39;00m (\n\u001b[0;32m   3808\u001b[0m         \u001b[38;5;28misinstance\u001b[39m(casted_key, abc\u001b[38;5;241m.\u001b[39mIterable)\n\u001b[0;32m   3809\u001b[0m         \u001b[38;5;129;01mand\u001b[39;00m \u001b[38;5;28many\u001b[39m(\u001b[38;5;28misinstance\u001b[39m(x, \u001b[38;5;28mslice\u001b[39m) \u001b[38;5;28;01mfor\u001b[39;00m x \u001b[38;5;129;01min\u001b[39;00m casted_key)\n\u001b[0;32m   3810\u001b[0m     ):\n\u001b[0;32m   3811\u001b[0m         \u001b[38;5;28;01mraise\u001b[39;00m InvalidIndexError(key)\n\u001b[1;32m-> 3812\u001b[0m     \u001b[38;5;28;01mraise\u001b[39;00m \u001b[38;5;167;01mKeyError\u001b[39;00m(key) \u001b[38;5;28;01mfrom\u001b[39;00m \u001b[38;5;21;01merr\u001b[39;00m\n\u001b[0;32m   3813\u001b[0m \u001b[38;5;28;01mexcept\u001b[39;00m \u001b[38;5;167;01mTypeError\u001b[39;00m:\n\u001b[0;32m   3814\u001b[0m     \u001b[38;5;66;03m# If we have a listlike key, _check_indexing_error will raise\u001b[39;00m\n\u001b[0;32m   3815\u001b[0m     \u001b[38;5;66;03m#  InvalidIndexError. Otherwise we fall through and re-raise\u001b[39;00m\n\u001b[0;32m   3816\u001b[0m     \u001b[38;5;66;03m#  the TypeError.\u001b[39;00m\n\u001b[0;32m   3817\u001b[0m     \u001b[38;5;28mself\u001b[39m\u001b[38;5;241m.\u001b[39m_check_indexing_error(key)\n",
      "\u001b[1;31mKeyError\u001b[0m: 1"
     ]
>>>>>>> a2fc80b917052043d36ef0a9ff96a01d0148ed5f
    }
   ],
   "source": [
    "# 1) 2번째 행 조회\n",
<<<<<<< HEAD
    "frame.loc['b'] "
=======
    "frame.loc[1]\n",
    "frame.iloc[1]"
>>>>>>> a2fc80b917052043d36ef0a9ff96a01d0148ed5f
   ]
  },
  {
   "cell_type": "markdown",
   "metadata": {},
   "source": [
    "* 인덱스 슬라이싱\n",
    "  * 범위 값을 주고, 그 범위에 해당하는 데이터를 색인하는 방법\n",
    "  * 숫자, 문자인덱스 모두 슬라이싱 가능"
   ]
  },
  {
   "cell_type": "code",
<<<<<<< HEAD
   "execution_count": 128,
=======
   "execution_count": 83,
>>>>>>> a2fc80b917052043d36ef0a9ff96a01d0148ed5f
   "metadata": {},
   "outputs": [
    {
     "data": {
      "text/html": [
       "<div>\n",
       "<style scoped>\n",
       "    .dataframe tbody tr th:only-of-type {\n",
       "        vertical-align: middle;\n",
       "    }\n",
       "\n",
       "    .dataframe tbody tr th {\n",
       "        vertical-align: top;\n",
       "    }\n",
       "\n",
       "    .dataframe thead th {\n",
       "        text-align: right;\n",
       "    }\n",
       "</style>\n",
       "<table border=\"1\" class=\"dataframe\">\n",
       "  <thead>\n",
       "    <tr style=\"text-align: right;\">\n",
       "      <th></th>\n",
       "      <th>state</th>\n",
       "      <th>year</th>\n",
       "      <th>pop</th>\n",
       "    </tr>\n",
       "  </thead>\n",
       "  <tbody>\n",
       "    <tr>\n",
       "      <th>a</th>\n",
       "      <td>Ohio</td>\n",
       "      <td>2000</td>\n",
       "      <td>1.5</td>\n",
       "    </tr>\n",
       "    <tr>\n",
       "      <th>b</th>\n",
       "      <td>Ohio</td>\n",
       "      <td>2001</td>\n",
       "      <td>1.7</td>\n",
       "    </tr>\n",
       "    <tr>\n",
       "      <th>c</th>\n",
       "      <td>Ohio</td>\n",
       "      <td>2002</td>\n",
       "      <td>3.6</td>\n",
       "    </tr>\n",
       "    <tr>\n",
       "      <th>d</th>\n",
       "      <td>Nevada</td>\n",
       "      <td>2001</td>\n",
       "      <td>2.4</td>\n",
       "    </tr>\n",
       "    <tr>\n",
       "      <th>e</th>\n",
       "      <td>Nevada</td>\n",
       "      <td>2002</td>\n",
       "      <td>2.9</td>\n",
       "    </tr>\n",
       "    <tr>\n",
       "      <th>f</th>\n",
       "      <td>Nevada</td>\n",
       "      <td>2003</td>\n",
       "      <td>3.2</td>\n",
       "    </tr>\n",
       "  </tbody>\n",
       "</table>\n",
       "</div>"
      ],
      "text/plain": [
       "    state  year  pop\n",
       "a    Ohio  2000  1.5\n",
       "b    Ohio  2001  1.7\n",
       "c    Ohio  2002  3.6\n",
       "d  Nevada  2001  2.4\n",
       "e  Nevada  2002  2.9\n",
       "f  Nevada  2003  3.2"
      ]
     },
<<<<<<< HEAD
     "execution_count": 128,
=======
     "execution_count": 83,
>>>>>>> a2fc80b917052043d36ef0a9ff96a01d0148ed5f
     "metadata": {},
     "output_type": "execute_result"
    }
   ],
   "source": [
    "frame"
   ]
  },
  {
   "cell_type": "code",
<<<<<<< HEAD
   "execution_count": 130,
=======
   "execution_count": 84,
>>>>>>> a2fc80b917052043d36ef0a9ff96a01d0148ed5f
   "metadata": {},
   "outputs": [
    {
     "data": {
      "text/html": [
       "<div>\n",
       "<style scoped>\n",
       "    .dataframe tbody tr th:only-of-type {\n",
       "        vertical-align: middle;\n",
       "    }\n",
       "\n",
       "    .dataframe tbody tr th {\n",
       "        vertical-align: top;\n",
       "    }\n",
       "\n",
       "    .dataframe thead th {\n",
       "        text-align: right;\n",
       "    }\n",
       "</style>\n",
       "<table border=\"1\" class=\"dataframe\">\n",
       "  <thead>\n",
       "    <tr style=\"text-align: right;\">\n",
       "      <th></th>\n",
       "      <th>state</th>\n",
       "      <th>year</th>\n",
       "      <th>pop</th>\n",
       "    </tr>\n",
       "  </thead>\n",
       "  <tbody>\n",
       "    <tr>\n",
       "      <th>b</th>\n",
       "      <td>Ohio</td>\n",
       "      <td>2001</td>\n",
       "      <td>1.7</td>\n",
       "    </tr>\n",
       "    <tr>\n",
       "      <th>c</th>\n",
       "      <td>Ohio</td>\n",
       "      <td>2002</td>\n",
       "      <td>3.6</td>\n",
       "    </tr>\n",
       "    <tr>\n",
       "      <th>d</th>\n",
       "      <td>Nevada</td>\n",
       "      <td>2001</td>\n",
       "      <td>2.4</td>\n",
       "    </tr>\n",
       "  </tbody>\n",
       "</table>\n",
       "</div>"
      ],
      "text/plain": [
       "    state  year  pop\n",
       "b    Ohio  2001  1.7\n",
       "c    Ohio  2002  3.6\n",
       "d  Nevada  2001  2.4"
      ]
     },
<<<<<<< HEAD
     "execution_count": 130,
=======
     "execution_count": 84,
>>>>>>> a2fc80b917052043d36ef0a9ff96a01d0148ed5f
     "metadata": {},
     "output_type": "execute_result"
    }
   ],
   "source": [
    "frame.loc[\"b\":\"d\"]"
   ]
  },
  {
   "cell_type": "code",
<<<<<<< HEAD
   "execution_count": 134,
=======
   "execution_count": 86,
>>>>>>> a2fc80b917052043d36ef0a9ff96a01d0148ed5f
   "metadata": {},
   "outputs": [
    {
     "data": {
      "text/html": [
       "<div>\n",
       "<style scoped>\n",
       "    .dataframe tbody tr th:only-of-type {\n",
       "        vertical-align: middle;\n",
       "    }\n",
       "\n",
       "    .dataframe tbody tr th {\n",
       "        vertical-align: top;\n",
       "    }\n",
       "\n",
       "    .dataframe thead th {\n",
       "        text-align: right;\n",
       "    }\n",
       "</style>\n",
       "<table border=\"1\" class=\"dataframe\">\n",
       "  <thead>\n",
       "    <tr style=\"text-align: right;\">\n",
       "      <th></th>\n",
       "      <th>state</th>\n",
       "      <th>year</th>\n",
       "      <th>pop</th>\n",
       "    </tr>\n",
       "  </thead>\n",
       "  <tbody>\n",
       "    <tr>\n",
       "      <th>b</th>\n",
       "      <td>Ohio</td>\n",
       "      <td>2001</td>\n",
       "      <td>1.7</td>\n",
       "    </tr>\n",
       "    <tr>\n",
       "      <th>c</th>\n",
       "      <td>Ohio</td>\n",
       "      <td>2002</td>\n",
       "      <td>3.6</td>\n",
       "    </tr>\n",
       "  </tbody>\n",
       "</table>\n",
       "</div>"
      ],
      "text/plain": [
       "  state  year  pop\n",
       "b  Ohio  2001  1.7\n",
       "c  Ohio  2002  3.6"
      ]
     },
<<<<<<< HEAD
     "execution_count": 134,
=======
     "execution_count": 86,
>>>>>>> a2fc80b917052043d36ef0a9ff96a01d0148ed5f
     "metadata": {},
     "output_type": "execute_result"
    }
   ],
   "source": [
    "frame.iloc[1:3]"
   ]
  },
  {
   "cell_type": "markdown",
   "metadata": {},
   "source": [
    "* 2개의 인덱스를 모두 사용 색인 - 원하는 행과 열을 선택하여 조회하기\n",
    " "
   ]
  },
  {
   "cell_type": "code",
<<<<<<< HEAD
   "execution_count": 136,
   "metadata": {},
   "outputs": [
    {
     "ename": "KeyError",
     "evalue": "\"None of [Index([1, 2, 3], dtype='int32')] are in the [index]\"",
     "output_type": "error",
     "traceback": [
      "\u001b[1;31m---------------------------------------------------------------------------\u001b[0m",
      "\u001b[1;31mKeyError\u001b[0m                                  Traceback (most recent call last)",
      "Cell \u001b[1;32mIn[136], line 1\u001b[0m\n\u001b[1;32m----> 1\u001b[0m \u001b[43mframe\u001b[49m\u001b[38;5;241;43m.\u001b[39;49m\u001b[43mloc\u001b[49m\u001b[43m[\u001b[49m\u001b[43m[\u001b[49m\u001b[38;5;241;43m1\u001b[39;49m\u001b[43m,\u001b[49m\u001b[38;5;241;43m2\u001b[39;49m\u001b[43m,\u001b[49m\u001b[38;5;241;43m3\u001b[39;49m\u001b[43m]\u001b[49m\u001b[43m,\u001b[49m\u001b[43m \u001b[49m\u001b[43m[\u001b[49m\u001b[38;5;124;43m'\u001b[39;49m\u001b[38;5;124;43myear\u001b[39;49m\u001b[38;5;124;43m'\u001b[39;49m\u001b[43m,\u001b[49m\u001b[38;5;124;43m'\u001b[39;49m\u001b[38;5;124;43mpop\u001b[39;49m\u001b[38;5;124;43m'\u001b[39;49m\u001b[43m]\u001b[49m\u001b[43m]\u001b[49m \u001b[38;5;66;03m# 행과 열을 동시에 명시\u001b[39;00m\n",
      "File \u001b[1;32mC:\\Python39\\lib\\site-packages\\pandas\\core\\indexing.py:1184\u001b[0m, in \u001b[0;36m_LocationIndexer.__getitem__\u001b[1;34m(self, key)\u001b[0m\n\u001b[0;32m   1182\u001b[0m     \u001b[38;5;28;01mif\u001b[39;00m \u001b[38;5;28mself\u001b[39m\u001b[38;5;241m.\u001b[39m_is_scalar_access(key):\n\u001b[0;32m   1183\u001b[0m         \u001b[38;5;28;01mreturn\u001b[39;00m \u001b[38;5;28mself\u001b[39m\u001b[38;5;241m.\u001b[39mobj\u001b[38;5;241m.\u001b[39m_get_value(\u001b[38;5;241m*\u001b[39mkey, takeable\u001b[38;5;241m=\u001b[39m\u001b[38;5;28mself\u001b[39m\u001b[38;5;241m.\u001b[39m_takeable)\n\u001b[1;32m-> 1184\u001b[0m     \u001b[38;5;28;01mreturn\u001b[39;00m \u001b[38;5;28;43mself\u001b[39;49m\u001b[38;5;241;43m.\u001b[39;49m\u001b[43m_getitem_tuple\u001b[49m\u001b[43m(\u001b[49m\u001b[43mkey\u001b[49m\u001b[43m)\u001b[49m\n\u001b[0;32m   1185\u001b[0m \u001b[38;5;28;01melse\u001b[39;00m:\n\u001b[0;32m   1186\u001b[0m     \u001b[38;5;66;03m# we by definition only have the 0th axis\u001b[39;00m\n\u001b[0;32m   1187\u001b[0m     axis \u001b[38;5;241m=\u001b[39m \u001b[38;5;28mself\u001b[39m\u001b[38;5;241m.\u001b[39maxis \u001b[38;5;129;01mor\u001b[39;00m \u001b[38;5;241m0\u001b[39m\n",
      "File \u001b[1;32mC:\\Python39\\lib\\site-packages\\pandas\\core\\indexing.py:1375\u001b[0m, in \u001b[0;36m_LocIndexer._getitem_tuple\u001b[1;34m(self, tup)\u001b[0m\n\u001b[0;32m   1373\u001b[0m \u001b[38;5;66;03m# ugly hack for GH #836\u001b[39;00m\n\u001b[0;32m   1374\u001b[0m \u001b[38;5;28;01mif\u001b[39;00m \u001b[38;5;28mself\u001b[39m\u001b[38;5;241m.\u001b[39m_multi_take_opportunity(tup):\n\u001b[1;32m-> 1375\u001b[0m     \u001b[38;5;28;01mreturn\u001b[39;00m \u001b[38;5;28;43mself\u001b[39;49m\u001b[38;5;241;43m.\u001b[39;49m\u001b[43m_multi_take\u001b[49m\u001b[43m(\u001b[49m\u001b[43mtup\u001b[49m\u001b[43m)\u001b[49m\n\u001b[0;32m   1377\u001b[0m \u001b[38;5;28;01mreturn\u001b[39;00m \u001b[38;5;28mself\u001b[39m\u001b[38;5;241m.\u001b[39m_getitem_tuple_same_dim(tup)\n",
      "File \u001b[1;32mC:\\Python39\\lib\\site-packages\\pandas\\core\\indexing.py:1326\u001b[0m, in \u001b[0;36m_LocIndexer._multi_take\u001b[1;34m(self, tup)\u001b[0m\n\u001b[0;32m   1310\u001b[0m \u001b[38;5;250m\u001b[39m\u001b[38;5;124;03m\"\"\"\u001b[39;00m\n\u001b[0;32m   1311\u001b[0m \u001b[38;5;124;03mCreate the indexers for the passed tuple of keys, and\u001b[39;00m\n\u001b[0;32m   1312\u001b[0m \u001b[38;5;124;03mexecutes the take operation. This allows the take operation to be\u001b[39;00m\n\u001b[1;32m   (...)\u001b[0m\n\u001b[0;32m   1323\u001b[0m \u001b[38;5;124;03mvalues: same type as the object being indexed\u001b[39;00m\n\u001b[0;32m   1324\u001b[0m \u001b[38;5;124;03m\"\"\"\u001b[39;00m\n\u001b[0;32m   1325\u001b[0m \u001b[38;5;66;03m# GH 836\u001b[39;00m\n\u001b[1;32m-> 1326\u001b[0m d \u001b[38;5;241m=\u001b[39m {\n\u001b[0;32m   1327\u001b[0m     axis: \u001b[38;5;28mself\u001b[39m\u001b[38;5;241m.\u001b[39m_get_listlike_indexer(key, axis)\n\u001b[0;32m   1328\u001b[0m     \u001b[38;5;28;01mfor\u001b[39;00m (key, axis) \u001b[38;5;129;01min\u001b[39;00m \u001b[38;5;28mzip\u001b[39m(tup, \u001b[38;5;28mself\u001b[39m\u001b[38;5;241m.\u001b[39mobj\u001b[38;5;241m.\u001b[39m_AXIS_ORDERS)\n\u001b[0;32m   1329\u001b[0m }\n\u001b[0;32m   1330\u001b[0m \u001b[38;5;28;01mreturn\u001b[39;00m \u001b[38;5;28mself\u001b[39m\u001b[38;5;241m.\u001b[39mobj\u001b[38;5;241m.\u001b[39m_reindex_with_indexers(d, copy\u001b[38;5;241m=\u001b[39m\u001b[38;5;28;01mTrue\u001b[39;00m, allow_dups\u001b[38;5;241m=\u001b[39m\u001b[38;5;28;01mTrue\u001b[39;00m)\n",
      "File \u001b[1;32mC:\\Python39\\lib\\site-packages\\pandas\\core\\indexing.py:1327\u001b[0m, in \u001b[0;36m<dictcomp>\u001b[1;34m(.0)\u001b[0m\n\u001b[0;32m   1310\u001b[0m \u001b[38;5;250m\u001b[39m\u001b[38;5;124;03m\"\"\"\u001b[39;00m\n\u001b[0;32m   1311\u001b[0m \u001b[38;5;124;03mCreate the indexers for the passed tuple of keys, and\u001b[39;00m\n\u001b[0;32m   1312\u001b[0m \u001b[38;5;124;03mexecutes the take operation. This allows the take operation to be\u001b[39;00m\n\u001b[1;32m   (...)\u001b[0m\n\u001b[0;32m   1323\u001b[0m \u001b[38;5;124;03mvalues: same type as the object being indexed\u001b[39;00m\n\u001b[0;32m   1324\u001b[0m \u001b[38;5;124;03m\"\"\"\u001b[39;00m\n\u001b[0;32m   1325\u001b[0m \u001b[38;5;66;03m# GH 836\u001b[39;00m\n\u001b[0;32m   1326\u001b[0m d \u001b[38;5;241m=\u001b[39m {\n\u001b[1;32m-> 1327\u001b[0m     axis: \u001b[38;5;28;43mself\u001b[39;49m\u001b[38;5;241;43m.\u001b[39;49m\u001b[43m_get_listlike_indexer\u001b[49m\u001b[43m(\u001b[49m\u001b[43mkey\u001b[49m\u001b[43m,\u001b[49m\u001b[43m \u001b[49m\u001b[43maxis\u001b[49m\u001b[43m)\u001b[49m\n\u001b[0;32m   1328\u001b[0m     \u001b[38;5;28;01mfor\u001b[39;00m (key, axis) \u001b[38;5;129;01min\u001b[39;00m \u001b[38;5;28mzip\u001b[39m(tup, \u001b[38;5;28mself\u001b[39m\u001b[38;5;241m.\u001b[39mobj\u001b[38;5;241m.\u001b[39m_AXIS_ORDERS)\n\u001b[0;32m   1329\u001b[0m }\n\u001b[0;32m   1330\u001b[0m \u001b[38;5;28;01mreturn\u001b[39;00m \u001b[38;5;28mself\u001b[39m\u001b[38;5;241m.\u001b[39mobj\u001b[38;5;241m.\u001b[39m_reindex_with_indexers(d, copy\u001b[38;5;241m=\u001b[39m\u001b[38;5;28;01mTrue\u001b[39;00m, allow_dups\u001b[38;5;241m=\u001b[39m\u001b[38;5;28;01mTrue\u001b[39;00m)\n",
      "File \u001b[1;32mC:\\Python39\\lib\\site-packages\\pandas\\core\\indexing.py:1558\u001b[0m, in \u001b[0;36m_LocIndexer._get_listlike_indexer\u001b[1;34m(self, key, axis)\u001b[0m\n\u001b[0;32m   1555\u001b[0m ax \u001b[38;5;241m=\u001b[39m \u001b[38;5;28mself\u001b[39m\u001b[38;5;241m.\u001b[39mobj\u001b[38;5;241m.\u001b[39m_get_axis(axis)\n\u001b[0;32m   1556\u001b[0m axis_name \u001b[38;5;241m=\u001b[39m \u001b[38;5;28mself\u001b[39m\u001b[38;5;241m.\u001b[39mobj\u001b[38;5;241m.\u001b[39m_get_axis_name(axis)\n\u001b[1;32m-> 1558\u001b[0m keyarr, indexer \u001b[38;5;241m=\u001b[39m \u001b[43max\u001b[49m\u001b[38;5;241;43m.\u001b[39;49m\u001b[43m_get_indexer_strict\u001b[49m\u001b[43m(\u001b[49m\u001b[43mkey\u001b[49m\u001b[43m,\u001b[49m\u001b[43m \u001b[49m\u001b[43maxis_name\u001b[49m\u001b[43m)\u001b[49m\n\u001b[0;32m   1560\u001b[0m \u001b[38;5;28;01mreturn\u001b[39;00m keyarr, indexer\n",
      "File \u001b[1;32mC:\\Python39\\lib\\site-packages\\pandas\\core\\indexes\\base.py:6200\u001b[0m, in \u001b[0;36mIndex._get_indexer_strict\u001b[1;34m(self, key, axis_name)\u001b[0m\n\u001b[0;32m   6197\u001b[0m \u001b[38;5;28;01melse\u001b[39;00m:\n\u001b[0;32m   6198\u001b[0m     keyarr, indexer, new_indexer \u001b[38;5;241m=\u001b[39m \u001b[38;5;28mself\u001b[39m\u001b[38;5;241m.\u001b[39m_reindex_non_unique(keyarr)\n\u001b[1;32m-> 6200\u001b[0m \u001b[38;5;28;43mself\u001b[39;49m\u001b[38;5;241;43m.\u001b[39;49m\u001b[43m_raise_if_missing\u001b[49m\u001b[43m(\u001b[49m\u001b[43mkeyarr\u001b[49m\u001b[43m,\u001b[49m\u001b[43m \u001b[49m\u001b[43mindexer\u001b[49m\u001b[43m,\u001b[49m\u001b[43m \u001b[49m\u001b[43maxis_name\u001b[49m\u001b[43m)\u001b[49m\n\u001b[0;32m   6202\u001b[0m keyarr \u001b[38;5;241m=\u001b[39m \u001b[38;5;28mself\u001b[39m\u001b[38;5;241m.\u001b[39mtake(indexer)\n\u001b[0;32m   6203\u001b[0m \u001b[38;5;28;01mif\u001b[39;00m \u001b[38;5;28misinstance\u001b[39m(key, Index):\n\u001b[0;32m   6204\u001b[0m     \u001b[38;5;66;03m# GH 42790 - Preserve name from an Index\u001b[39;00m\n",
      "File \u001b[1;32mC:\\Python39\\lib\\site-packages\\pandas\\core\\indexes\\base.py:6249\u001b[0m, in \u001b[0;36mIndex._raise_if_missing\u001b[1;34m(self, key, indexer, axis_name)\u001b[0m\n\u001b[0;32m   6247\u001b[0m \u001b[38;5;28;01mif\u001b[39;00m nmissing:\n\u001b[0;32m   6248\u001b[0m     \u001b[38;5;28;01mif\u001b[39;00m nmissing \u001b[38;5;241m==\u001b[39m \u001b[38;5;28mlen\u001b[39m(indexer):\n\u001b[1;32m-> 6249\u001b[0m         \u001b[38;5;28;01mraise\u001b[39;00m \u001b[38;5;167;01mKeyError\u001b[39;00m(\u001b[38;5;124mf\u001b[39m\u001b[38;5;124m\"\u001b[39m\u001b[38;5;124mNone of [\u001b[39m\u001b[38;5;132;01m{\u001b[39;00mkey\u001b[38;5;132;01m}\u001b[39;00m\u001b[38;5;124m] are in the [\u001b[39m\u001b[38;5;132;01m{\u001b[39;00maxis_name\u001b[38;5;132;01m}\u001b[39;00m\u001b[38;5;124m]\u001b[39m\u001b[38;5;124m\"\u001b[39m)\n\u001b[0;32m   6251\u001b[0m     not_found \u001b[38;5;241m=\u001b[39m \u001b[38;5;28mlist\u001b[39m(ensure_index(key)[missing_mask\u001b[38;5;241m.\u001b[39mnonzero()[\u001b[38;5;241m0\u001b[39m]]\u001b[38;5;241m.\u001b[39munique())\n\u001b[0;32m   6252\u001b[0m     \u001b[38;5;28;01mraise\u001b[39;00m \u001b[38;5;167;01mKeyError\u001b[39;00m(\u001b[38;5;124mf\u001b[39m\u001b[38;5;124m\"\u001b[39m\u001b[38;5;132;01m{\u001b[39;00mnot_found\u001b[38;5;132;01m}\u001b[39;00m\u001b[38;5;124m not in index\u001b[39m\u001b[38;5;124m\"\u001b[39m)\n",
      "\u001b[1;31mKeyError\u001b[0m: \"None of [Index([1, 2, 3], dtype='int32')] are in the [index]\""
     ]
    }
   ],
   "source": [
    "frame.loc[[1,2,3], ['year','pop']] # 행과 열을 동시에 명시"
=======
   "execution_count": 87,
   "metadata": {},
   "outputs": [
    {
     "data": {
      "text/html": [
       "<div>\n",
       "<style scoped>\n",
       "    .dataframe tbody tr th:only-of-type {\n",
       "        vertical-align: middle;\n",
       "    }\n",
       "\n",
       "    .dataframe tbody tr th {\n",
       "        vertical-align: top;\n",
       "    }\n",
       "\n",
       "    .dataframe thead th {\n",
       "        text-align: right;\n",
       "    }\n",
       "</style>\n",
       "<table border=\"1\" class=\"dataframe\">\n",
       "  <thead>\n",
       "    <tr style=\"text-align: right;\">\n",
       "      <th></th>\n",
       "      <th>state</th>\n",
       "      <th>year</th>\n",
       "      <th>pop</th>\n",
       "    </tr>\n",
       "  </thead>\n",
       "  <tbody>\n",
       "    <tr>\n",
       "      <th>a</th>\n",
       "      <td>Ohio</td>\n",
       "      <td>2000</td>\n",
       "      <td>1.5</td>\n",
       "    </tr>\n",
       "    <tr>\n",
       "      <th>b</th>\n",
       "      <td>Ohio</td>\n",
       "      <td>2001</td>\n",
       "      <td>1.7</td>\n",
       "    </tr>\n",
       "    <tr>\n",
       "      <th>c</th>\n",
       "      <td>Ohio</td>\n",
       "      <td>2002</td>\n",
       "      <td>3.6</td>\n",
       "    </tr>\n",
       "    <tr>\n",
       "      <th>d</th>\n",
       "      <td>Nevada</td>\n",
       "      <td>2001</td>\n",
       "      <td>2.4</td>\n",
       "    </tr>\n",
       "    <tr>\n",
       "      <th>e</th>\n",
       "      <td>Nevada</td>\n",
       "      <td>2002</td>\n",
       "      <td>2.9</td>\n",
       "    </tr>\n",
       "    <tr>\n",
       "      <th>f</th>\n",
       "      <td>Nevada</td>\n",
       "      <td>2003</td>\n",
       "      <td>3.2</td>\n",
       "    </tr>\n",
       "  </tbody>\n",
       "</table>\n",
       "</div>"
      ],
      "text/plain": [
       "    state  year  pop\n",
       "a    Ohio  2000  1.5\n",
       "b    Ohio  2001  1.7\n",
       "c    Ohio  2002  3.6\n",
       "d  Nevada  2001  2.4\n",
       "e  Nevada  2002  2.9\n",
       "f  Nevada  2003  3.2"
      ]
     },
     "execution_count": 87,
     "metadata": {},
     "output_type": "execute_result"
    }
   ],
   "source": [
    "frame"
>>>>>>> a2fc80b917052043d36ef0a9ff96a01d0148ed5f
   ]
  },
  {
   "cell_type": "code",
<<<<<<< HEAD
   "execution_count": 138,
   "metadata": {},
   "outputs": [
    {
     "ename": "TypeError",
     "evalue": "cannot do slice indexing on Index with these indexers [1] of type int",
     "output_type": "error",
     "traceback": [
      "\u001b[1;31m---------------------------------------------------------------------------\u001b[0m",
      "\u001b[1;31mTypeError\u001b[0m                                 Traceback (most recent call last)",
      "Cell \u001b[1;32mIn[138], line 1\u001b[0m\n\u001b[1;32m----> 1\u001b[0m \u001b[43mframe\u001b[49m\u001b[38;5;241;43m.\u001b[39;49m\u001b[43mloc\u001b[49m\u001b[43m[\u001b[49m\u001b[38;5;241;43m1\u001b[39;49m\u001b[43m:\u001b[49m\u001b[38;5;241;43m4\u001b[39;49m\u001b[43m,\u001b[49m\u001b[43m \u001b[49m\u001b[43m[\u001b[49m\u001b[38;5;124;43m'\u001b[39;49m\u001b[38;5;124;43myear\u001b[39;49m\u001b[38;5;124;43m'\u001b[39;49m\u001b[43m,\u001b[49m\u001b[38;5;124;43m'\u001b[39;49m\u001b[38;5;124;43mpop\u001b[39;49m\u001b[38;5;124;43m'\u001b[39;49m\u001b[43m]\u001b[49m\u001b[43m]\u001b[49m \u001b[38;5;66;03m# 행과 열을 동시에 슬라이싱\u001b[39;00m\n",
      "File \u001b[1;32mC:\\Python39\\lib\\site-packages\\pandas\\core\\indexing.py:1184\u001b[0m, in \u001b[0;36m_LocationIndexer.__getitem__\u001b[1;34m(self, key)\u001b[0m\n\u001b[0;32m   1182\u001b[0m     \u001b[38;5;28;01mif\u001b[39;00m \u001b[38;5;28mself\u001b[39m\u001b[38;5;241m.\u001b[39m_is_scalar_access(key):\n\u001b[0;32m   1183\u001b[0m         \u001b[38;5;28;01mreturn\u001b[39;00m \u001b[38;5;28mself\u001b[39m\u001b[38;5;241m.\u001b[39mobj\u001b[38;5;241m.\u001b[39m_get_value(\u001b[38;5;241m*\u001b[39mkey, takeable\u001b[38;5;241m=\u001b[39m\u001b[38;5;28mself\u001b[39m\u001b[38;5;241m.\u001b[39m_takeable)\n\u001b[1;32m-> 1184\u001b[0m     \u001b[38;5;28;01mreturn\u001b[39;00m \u001b[38;5;28;43mself\u001b[39;49m\u001b[38;5;241;43m.\u001b[39;49m\u001b[43m_getitem_tuple\u001b[49m\u001b[43m(\u001b[49m\u001b[43mkey\u001b[49m\u001b[43m)\u001b[49m\n\u001b[0;32m   1185\u001b[0m \u001b[38;5;28;01melse\u001b[39;00m:\n\u001b[0;32m   1186\u001b[0m     \u001b[38;5;66;03m# we by definition only have the 0th axis\u001b[39;00m\n\u001b[0;32m   1187\u001b[0m     axis \u001b[38;5;241m=\u001b[39m \u001b[38;5;28mself\u001b[39m\u001b[38;5;241m.\u001b[39maxis \u001b[38;5;129;01mor\u001b[39;00m \u001b[38;5;241m0\u001b[39m\n",
      "File \u001b[1;32mC:\\Python39\\lib\\site-packages\\pandas\\core\\indexing.py:1377\u001b[0m, in \u001b[0;36m_LocIndexer._getitem_tuple\u001b[1;34m(self, tup)\u001b[0m\n\u001b[0;32m   1374\u001b[0m \u001b[38;5;28;01mif\u001b[39;00m \u001b[38;5;28mself\u001b[39m\u001b[38;5;241m.\u001b[39m_multi_take_opportunity(tup):\n\u001b[0;32m   1375\u001b[0m     \u001b[38;5;28;01mreturn\u001b[39;00m \u001b[38;5;28mself\u001b[39m\u001b[38;5;241m.\u001b[39m_multi_take(tup)\n\u001b[1;32m-> 1377\u001b[0m \u001b[38;5;28;01mreturn\u001b[39;00m \u001b[38;5;28;43mself\u001b[39;49m\u001b[38;5;241;43m.\u001b[39;49m\u001b[43m_getitem_tuple_same_dim\u001b[49m\u001b[43m(\u001b[49m\u001b[43mtup\u001b[49m\u001b[43m)\u001b[49m\n",
      "File \u001b[1;32mC:\\Python39\\lib\\site-packages\\pandas\\core\\indexing.py:1020\u001b[0m, in \u001b[0;36m_LocationIndexer._getitem_tuple_same_dim\u001b[1;34m(self, tup)\u001b[0m\n\u001b[0;32m   1017\u001b[0m \u001b[38;5;28;01mif\u001b[39;00m com\u001b[38;5;241m.\u001b[39mis_null_slice(key):\n\u001b[0;32m   1018\u001b[0m     \u001b[38;5;28;01mcontinue\u001b[39;00m\n\u001b[1;32m-> 1020\u001b[0m retval \u001b[38;5;241m=\u001b[39m \u001b[38;5;28;43mgetattr\u001b[39;49m\u001b[43m(\u001b[49m\u001b[43mretval\u001b[49m\u001b[43m,\u001b[49m\u001b[43m \u001b[49m\u001b[38;5;28;43mself\u001b[39;49m\u001b[38;5;241;43m.\u001b[39;49m\u001b[43mname\u001b[49m\u001b[43m)\u001b[49m\u001b[38;5;241;43m.\u001b[39;49m\u001b[43m_getitem_axis\u001b[49m\u001b[43m(\u001b[49m\u001b[43mkey\u001b[49m\u001b[43m,\u001b[49m\u001b[43m \u001b[49m\u001b[43maxis\u001b[49m\u001b[38;5;241;43m=\u001b[39;49m\u001b[43mi\u001b[49m\u001b[43m)\u001b[49m\n\u001b[0;32m   1021\u001b[0m \u001b[38;5;66;03m# We should never have retval.ndim < self.ndim, as that should\u001b[39;00m\n\u001b[0;32m   1022\u001b[0m \u001b[38;5;66;03m#  be handled by the _getitem_lowerdim call above.\u001b[39;00m\n\u001b[0;32m   1023\u001b[0m \u001b[38;5;28;01massert\u001b[39;00m retval\u001b[38;5;241m.\u001b[39mndim \u001b[38;5;241m==\u001b[39m \u001b[38;5;28mself\u001b[39m\u001b[38;5;241m.\u001b[39mndim\n",
      "File \u001b[1;32mC:\\Python39\\lib\\site-packages\\pandas\\core\\indexing.py:1411\u001b[0m, in \u001b[0;36m_LocIndexer._getitem_axis\u001b[1;34m(self, key, axis)\u001b[0m\n\u001b[0;32m   1409\u001b[0m \u001b[38;5;28;01mif\u001b[39;00m \u001b[38;5;28misinstance\u001b[39m(key, \u001b[38;5;28mslice\u001b[39m):\n\u001b[0;32m   1410\u001b[0m     \u001b[38;5;28mself\u001b[39m\u001b[38;5;241m.\u001b[39m_validate_key(key, axis)\n\u001b[1;32m-> 1411\u001b[0m     \u001b[38;5;28;01mreturn\u001b[39;00m \u001b[38;5;28;43mself\u001b[39;49m\u001b[38;5;241;43m.\u001b[39;49m\u001b[43m_get_slice_axis\u001b[49m\u001b[43m(\u001b[49m\u001b[43mkey\u001b[49m\u001b[43m,\u001b[49m\u001b[43m \u001b[49m\u001b[43maxis\u001b[49m\u001b[38;5;241;43m=\u001b[39;49m\u001b[43maxis\u001b[49m\u001b[43m)\u001b[49m\n\u001b[0;32m   1412\u001b[0m \u001b[38;5;28;01melif\u001b[39;00m com\u001b[38;5;241m.\u001b[39mis_bool_indexer(key):\n\u001b[0;32m   1413\u001b[0m     \u001b[38;5;28;01mreturn\u001b[39;00m \u001b[38;5;28mself\u001b[39m\u001b[38;5;241m.\u001b[39m_getbool_axis(key, axis\u001b[38;5;241m=\u001b[39maxis)\n",
      "File \u001b[1;32mC:\\Python39\\lib\\site-packages\\pandas\\core\\indexing.py:1443\u001b[0m, in \u001b[0;36m_LocIndexer._get_slice_axis\u001b[1;34m(self, slice_obj, axis)\u001b[0m\n\u001b[0;32m   1440\u001b[0m     \u001b[38;5;28;01mreturn\u001b[39;00m obj\u001b[38;5;241m.\u001b[39mcopy(deep\u001b[38;5;241m=\u001b[39m\u001b[38;5;28;01mFalse\u001b[39;00m)\n\u001b[0;32m   1442\u001b[0m labels \u001b[38;5;241m=\u001b[39m obj\u001b[38;5;241m.\u001b[39m_get_axis(axis)\n\u001b[1;32m-> 1443\u001b[0m indexer \u001b[38;5;241m=\u001b[39m \u001b[43mlabels\u001b[49m\u001b[38;5;241;43m.\u001b[39;49m\u001b[43mslice_indexer\u001b[49m\u001b[43m(\u001b[49m\u001b[43mslice_obj\u001b[49m\u001b[38;5;241;43m.\u001b[39;49m\u001b[43mstart\u001b[49m\u001b[43m,\u001b[49m\u001b[43m \u001b[49m\u001b[43mslice_obj\u001b[49m\u001b[38;5;241;43m.\u001b[39;49m\u001b[43mstop\u001b[49m\u001b[43m,\u001b[49m\u001b[43m \u001b[49m\u001b[43mslice_obj\u001b[49m\u001b[38;5;241;43m.\u001b[39;49m\u001b[43mstep\u001b[49m\u001b[43m)\u001b[49m\n\u001b[0;32m   1445\u001b[0m \u001b[38;5;28;01mif\u001b[39;00m \u001b[38;5;28misinstance\u001b[39m(indexer, \u001b[38;5;28mslice\u001b[39m):\n\u001b[0;32m   1446\u001b[0m     \u001b[38;5;28;01mreturn\u001b[39;00m \u001b[38;5;28mself\u001b[39m\u001b[38;5;241m.\u001b[39mobj\u001b[38;5;241m.\u001b[39m_slice(indexer, axis\u001b[38;5;241m=\u001b[39maxis)\n",
      "File \u001b[1;32mC:\\Python39\\lib\\site-packages\\pandas\\core\\indexes\\base.py:6662\u001b[0m, in \u001b[0;36mIndex.slice_indexer\u001b[1;34m(self, start, end, step)\u001b[0m\n\u001b[0;32m   6618\u001b[0m \u001b[38;5;28;01mdef\u001b[39;00m \u001b[38;5;21mslice_indexer\u001b[39m(\n\u001b[0;32m   6619\u001b[0m     \u001b[38;5;28mself\u001b[39m,\n\u001b[0;32m   6620\u001b[0m     start: Hashable \u001b[38;5;241m|\u001b[39m \u001b[38;5;28;01mNone\u001b[39;00m \u001b[38;5;241m=\u001b[39m \u001b[38;5;28;01mNone\u001b[39;00m,\n\u001b[0;32m   6621\u001b[0m     end: Hashable \u001b[38;5;241m|\u001b[39m \u001b[38;5;28;01mNone\u001b[39;00m \u001b[38;5;241m=\u001b[39m \u001b[38;5;28;01mNone\u001b[39;00m,\n\u001b[0;32m   6622\u001b[0m     step: \u001b[38;5;28mint\u001b[39m \u001b[38;5;241m|\u001b[39m \u001b[38;5;28;01mNone\u001b[39;00m \u001b[38;5;241m=\u001b[39m \u001b[38;5;28;01mNone\u001b[39;00m,\n\u001b[0;32m   6623\u001b[0m ) \u001b[38;5;241m-\u001b[39m\u001b[38;5;241m>\u001b[39m \u001b[38;5;28mslice\u001b[39m:\n\u001b[0;32m   6624\u001b[0m \u001b[38;5;250m    \u001b[39m\u001b[38;5;124;03m\"\"\"\u001b[39;00m\n\u001b[0;32m   6625\u001b[0m \u001b[38;5;124;03m    Compute the slice indexer for input labels and step.\u001b[39;00m\n\u001b[0;32m   6626\u001b[0m \n\u001b[1;32m   (...)\u001b[0m\n\u001b[0;32m   6660\u001b[0m \u001b[38;5;124;03m    slice(1, 3, None)\u001b[39;00m\n\u001b[0;32m   6661\u001b[0m \u001b[38;5;124;03m    \"\"\"\u001b[39;00m\n\u001b[1;32m-> 6662\u001b[0m     start_slice, end_slice \u001b[38;5;241m=\u001b[39m \u001b[38;5;28;43mself\u001b[39;49m\u001b[38;5;241;43m.\u001b[39;49m\u001b[43mslice_locs\u001b[49m\u001b[43m(\u001b[49m\u001b[43mstart\u001b[49m\u001b[43m,\u001b[49m\u001b[43m \u001b[49m\u001b[43mend\u001b[49m\u001b[43m,\u001b[49m\u001b[43m \u001b[49m\u001b[43mstep\u001b[49m\u001b[38;5;241;43m=\u001b[39;49m\u001b[43mstep\u001b[49m\u001b[43m)\u001b[49m\n\u001b[0;32m   6664\u001b[0m     \u001b[38;5;66;03m# return a slice\u001b[39;00m\n\u001b[0;32m   6665\u001b[0m     \u001b[38;5;28;01mif\u001b[39;00m \u001b[38;5;129;01mnot\u001b[39;00m is_scalar(start_slice):\n",
      "File \u001b[1;32mC:\\Python39\\lib\\site-packages\\pandas\\core\\indexes\\base.py:6879\u001b[0m, in \u001b[0;36mIndex.slice_locs\u001b[1;34m(self, start, end, step)\u001b[0m\n\u001b[0;32m   6877\u001b[0m start_slice \u001b[38;5;241m=\u001b[39m \u001b[38;5;28;01mNone\u001b[39;00m\n\u001b[0;32m   6878\u001b[0m \u001b[38;5;28;01mif\u001b[39;00m start \u001b[38;5;129;01mis\u001b[39;00m \u001b[38;5;129;01mnot\u001b[39;00m \u001b[38;5;28;01mNone\u001b[39;00m:\n\u001b[1;32m-> 6879\u001b[0m     start_slice \u001b[38;5;241m=\u001b[39m \u001b[38;5;28;43mself\u001b[39;49m\u001b[38;5;241;43m.\u001b[39;49m\u001b[43mget_slice_bound\u001b[49m\u001b[43m(\u001b[49m\u001b[43mstart\u001b[49m\u001b[43m,\u001b[49m\u001b[43m \u001b[49m\u001b[38;5;124;43m\"\u001b[39;49m\u001b[38;5;124;43mleft\u001b[39;49m\u001b[38;5;124;43m\"\u001b[39;49m\u001b[43m)\u001b[49m\n\u001b[0;32m   6880\u001b[0m \u001b[38;5;28;01mif\u001b[39;00m start_slice \u001b[38;5;129;01mis\u001b[39;00m \u001b[38;5;28;01mNone\u001b[39;00m:\n\u001b[0;32m   6881\u001b[0m     start_slice \u001b[38;5;241m=\u001b[39m \u001b[38;5;241m0\u001b[39m\n",
      "File \u001b[1;32mC:\\Python39\\lib\\site-packages\\pandas\\core\\indexes\\base.py:6794\u001b[0m, in \u001b[0;36mIndex.get_slice_bound\u001b[1;34m(self, label, side)\u001b[0m\n\u001b[0;32m   6790\u001b[0m original_label \u001b[38;5;241m=\u001b[39m label\n\u001b[0;32m   6792\u001b[0m \u001b[38;5;66;03m# For datetime indices label may be a string that has to be converted\u001b[39;00m\n\u001b[0;32m   6793\u001b[0m \u001b[38;5;66;03m# to datetime boundary according to its resolution.\u001b[39;00m\n\u001b[1;32m-> 6794\u001b[0m label \u001b[38;5;241m=\u001b[39m \u001b[38;5;28;43mself\u001b[39;49m\u001b[38;5;241;43m.\u001b[39;49m\u001b[43m_maybe_cast_slice_bound\u001b[49m\u001b[43m(\u001b[49m\u001b[43mlabel\u001b[49m\u001b[43m,\u001b[49m\u001b[43m \u001b[49m\u001b[43mside\u001b[49m\u001b[43m)\u001b[49m\n\u001b[0;32m   6796\u001b[0m \u001b[38;5;66;03m# we need to look up the label\u001b[39;00m\n\u001b[0;32m   6797\u001b[0m \u001b[38;5;28;01mtry\u001b[39;00m:\n",
      "File \u001b[1;32mC:\\Python39\\lib\\site-packages\\pandas\\core\\indexes\\base.py:6727\u001b[0m, in \u001b[0;36mIndex._maybe_cast_slice_bound\u001b[1;34m(self, label, side)\u001b[0m\n\u001b[0;32m   6725\u001b[0m \u001b[38;5;66;03m# reject them, if index does not contain label\u001b[39;00m\n\u001b[0;32m   6726\u001b[0m \u001b[38;5;28;01mif\u001b[39;00m (is_float(label) \u001b[38;5;129;01mor\u001b[39;00m is_integer(label)) \u001b[38;5;129;01mand\u001b[39;00m label \u001b[38;5;129;01mnot\u001b[39;00m \u001b[38;5;129;01min\u001b[39;00m \u001b[38;5;28mself\u001b[39m:\n\u001b[1;32m-> 6727\u001b[0m     \u001b[38;5;28;43mself\u001b[39;49m\u001b[38;5;241;43m.\u001b[39;49m\u001b[43m_raise_invalid_indexer\u001b[49m\u001b[43m(\u001b[49m\u001b[38;5;124;43m\"\u001b[39;49m\u001b[38;5;124;43mslice\u001b[39;49m\u001b[38;5;124;43m\"\u001b[39;49m\u001b[43m,\u001b[49m\u001b[43m \u001b[49m\u001b[43mlabel\u001b[49m\u001b[43m)\u001b[49m\n\u001b[0;32m   6729\u001b[0m \u001b[38;5;28;01mreturn\u001b[39;00m label\n",
      "File \u001b[1;32mC:\\Python39\\lib\\site-packages\\pandas\\core\\indexes\\base.py:4301\u001b[0m, in \u001b[0;36mIndex._raise_invalid_indexer\u001b[1;34m(self, form, key, reraise)\u001b[0m\n\u001b[0;32m   4299\u001b[0m \u001b[38;5;28;01mif\u001b[39;00m reraise \u001b[38;5;129;01mis\u001b[39;00m \u001b[38;5;129;01mnot\u001b[39;00m lib\u001b[38;5;241m.\u001b[39mno_default:\n\u001b[0;32m   4300\u001b[0m     \u001b[38;5;28;01mraise\u001b[39;00m \u001b[38;5;167;01mTypeError\u001b[39;00m(msg) \u001b[38;5;28;01mfrom\u001b[39;00m \u001b[38;5;21;01mreraise\u001b[39;00m\n\u001b[1;32m-> 4301\u001b[0m \u001b[38;5;28;01mraise\u001b[39;00m \u001b[38;5;167;01mTypeError\u001b[39;00m(msg)\n",
      "\u001b[1;31mTypeError\u001b[0m: cannot do slice indexing on Index with these indexers [1] of type int"
     ]
    }
   ],
   "source": [
    "frame.loc[1:4, ['year','pop']] # 행과 열을 동시에 슬라이싱"
=======
   "execution_count": 89,
   "metadata": {},
   "outputs": [
    {
     "data": {
      "text/html": [
       "<div>\n",
       "<style scoped>\n",
       "    .dataframe tbody tr th:only-of-type {\n",
       "        vertical-align: middle;\n",
       "    }\n",
       "\n",
       "    .dataframe tbody tr th {\n",
       "        vertical-align: top;\n",
       "    }\n",
       "\n",
       "    .dataframe thead th {\n",
       "        text-align: right;\n",
       "    }\n",
       "</style>\n",
       "<table border=\"1\" class=\"dataframe\">\n",
       "  <thead>\n",
       "    <tr style=\"text-align: right;\">\n",
       "      <th></th>\n",
       "      <th>year</th>\n",
       "      <th>pop</th>\n",
       "    </tr>\n",
       "  </thead>\n",
       "  <tbody>\n",
       "    <tr>\n",
       "      <th>b</th>\n",
       "      <td>2001</td>\n",
       "      <td>1.7</td>\n",
       "    </tr>\n",
       "    <tr>\n",
       "      <th>c</th>\n",
       "      <td>2002</td>\n",
       "      <td>3.6</td>\n",
       "    </tr>\n",
       "    <tr>\n",
       "      <th>d</th>\n",
       "      <td>2001</td>\n",
       "      <td>2.4</td>\n",
       "    </tr>\n",
       "  </tbody>\n",
       "</table>\n",
       "</div>"
      ],
      "text/plain": [
       "   year  pop\n",
       "b  2001  1.7\n",
       "c  2002  3.6\n",
       "d  2001  2.4"
      ]
     },
     "execution_count": 89,
     "metadata": {},
     "output_type": "execute_result"
    }
   ],
   "source": [
    "frame[['year','pop']].iloc[1:4] # 2번째부터 4번째의 year와 pop 선택 -열을 먼저 선택하고 행 선택"
   ]
  },
  {
   "cell_type": "code",
   "execution_count": 168,
   "metadata": {},
   "outputs": [
    {
     "data": {
      "text/html": [
       "<div>\n",
       "<style scoped>\n",
       "    .dataframe tbody tr th:only-of-type {\n",
       "        vertical-align: middle;\n",
       "    }\n",
       "\n",
       "    .dataframe tbody tr th {\n",
       "        vertical-align: top;\n",
       "    }\n",
       "\n",
       "    .dataframe thead th {\n",
       "        text-align: right;\n",
       "    }\n",
       "</style>\n",
       "<table border=\"1\" class=\"dataframe\">\n",
       "  <thead>\n",
       "    <tr style=\"text-align: right;\">\n",
       "      <th></th>\n",
       "      <th>year</th>\n",
       "      <th>pop</th>\n",
       "    </tr>\n",
       "  </thead>\n",
       "  <tbody>\n",
       "    <tr>\n",
       "      <th>1</th>\n",
       "      <td>2001</td>\n",
       "      <td>1.7</td>\n",
       "    </tr>\n",
       "    <tr>\n",
       "      <th>2</th>\n",
       "      <td>2002</td>\n",
       "      <td>3.6</td>\n",
       "    </tr>\n",
       "    <tr>\n",
       "      <th>3</th>\n",
       "      <td>2001</td>\n",
       "      <td>2.4</td>\n",
       "    </tr>\n",
       "    <tr>\n",
       "      <th>4</th>\n",
       "      <td>2002</td>\n",
       "      <td>2.9</td>\n",
       "    </tr>\n",
       "  </tbody>\n",
       "</table>\n",
       "</div>"
      ],
      "text/plain": [
       "   year  pop\n",
       "1  2001  1.7\n",
       "2  2002  3.6\n",
       "3  2001  2.4\n",
       "4  2002  2.9"
      ]
     },
     "execution_count": 168,
     "metadata": {},
     "output_type": "execute_result"
    }
   ],
   "source": [
    "frame2.loc[1:4][['year','pop']] # 행을 먼저 선택 후 열을 선택"
   ]
  },
  {
   "cell_type": "code",
   "execution_count": 78,
   "metadata": {},
   "outputs": [
    {
     "data": {
      "text/html": [
       "<div>\n",
       "<style scoped>\n",
       "    .dataframe tbody tr th:only-of-type {\n",
       "        vertical-align: middle;\n",
       "    }\n",
       "\n",
       "    .dataframe tbody tr th {\n",
       "        vertical-align: top;\n",
       "    }\n",
       "\n",
       "    .dataframe thead th {\n",
       "        text-align: right;\n",
       "    }\n",
       "</style>\n",
       "<table border=\"1\" class=\"dataframe\">\n",
       "  <thead>\n",
       "    <tr style=\"text-align: right;\">\n",
       "      <th></th>\n",
       "      <th>year</th>\n",
       "      <th>pop</th>\n",
       "    </tr>\n",
       "  </thead>\n",
       "  <tbody>\n",
       "    <tr>\n",
       "      <th>1</th>\n",
       "      <td>2001</td>\n",
       "      <td>1.7</td>\n",
       "    </tr>\n",
       "    <tr>\n",
       "      <th>2</th>\n",
       "      <td>2002</td>\n",
       "      <td>3.6</td>\n",
       "    </tr>\n",
       "    <tr>\n",
       "      <th>3</th>\n",
       "      <td>2001</td>\n",
       "      <td>2.4</td>\n",
       "    </tr>\n",
       "  </tbody>\n",
       "</table>\n",
       "</div>"
      ],
      "text/plain": [
       "   year  pop\n",
       "1  2001  1.7\n",
       "2  2002  3.6\n",
       "3  2001  2.4"
      ]
     },
     "execution_count": 78,
     "metadata": {},
     "output_type": "execute_result"
    }
   ],
   "source": [
    "frame2.loc[[1,2,3], ['year','pop']] # 행과 열을 동시에 명시"
   ]
  },
  {
   "cell_type": "code",
   "execution_count": 79,
   "metadata": {},
   "outputs": [
    {
     "data": {
      "text/html": [
       "<div>\n",
       "<style scoped>\n",
       "    .dataframe tbody tr th:only-of-type {\n",
       "        vertical-align: middle;\n",
       "    }\n",
       "\n",
       "    .dataframe tbody tr th {\n",
       "        vertical-align: top;\n",
       "    }\n",
       "\n",
       "    .dataframe thead th {\n",
       "        text-align: right;\n",
       "    }\n",
       "</style>\n",
       "<table border=\"1\" class=\"dataframe\">\n",
       "  <thead>\n",
       "    <tr style=\"text-align: right;\">\n",
       "      <th></th>\n",
       "      <th>year</th>\n",
       "      <th>pop</th>\n",
       "    </tr>\n",
       "  </thead>\n",
       "  <tbody>\n",
       "    <tr>\n",
       "      <th>1</th>\n",
       "      <td>2001</td>\n",
       "      <td>1.7</td>\n",
       "    </tr>\n",
       "    <tr>\n",
       "      <th>2</th>\n",
       "      <td>2002</td>\n",
       "      <td>3.6</td>\n",
       "    </tr>\n",
       "    <tr>\n",
       "      <th>3</th>\n",
       "      <td>2001</td>\n",
       "      <td>2.4</td>\n",
       "    </tr>\n",
       "    <tr>\n",
       "      <th>4</th>\n",
       "      <td>2002</td>\n",
       "      <td>2.9</td>\n",
       "    </tr>\n",
       "  </tbody>\n",
       "</table>\n",
       "</div>"
      ],
      "text/plain": [
       "   year  pop\n",
       "1  2001  1.7\n",
       "2  2002  3.6\n",
       "3  2001  2.4\n",
       "4  2002  2.9"
      ]
     },
     "execution_count": 79,
     "metadata": {},
     "output_type": "execute_result"
    }
   ],
   "source": [
    "frame2.loc[1:4, ['year','pop']] # 행과 열을 동시에 슬라이싱"
>>>>>>> a2fc80b917052043d36ef0a9ff96a01d0148ed5f
   ]
  },
  {
   "cell_type": "code",
   "execution_count": 219,
   "metadata": {},
   "outputs": [
    {
     "data": {
      "text/html": [
       "<div>\n",
       "<style scoped>\n",
       "    .dataframe tbody tr th:only-of-type {\n",
       "        vertical-align: middle;\n",
       "    }\n",
       "\n",
       "    .dataframe tbody tr th {\n",
       "        vertical-align: top;\n",
       "    }\n",
       "\n",
       "    .dataframe thead th {\n",
       "        text-align: right;\n",
       "    }\n",
       "</style>\n",
       "<table border=\"1\" class=\"dataframe\">\n",
       "  <thead>\n",
       "    <tr style=\"text-align: right;\">\n",
       "      <th></th>\n",
       "      <th>year</th>\n",
       "      <th>pop</th>\n",
       "    </tr>\n",
       "  </thead>\n",
       "  <tbody>\n",
       "    <tr>\n",
       "      <th>0</th>\n",
       "      <td>2000</td>\n",
       "      <td>1.5</td>\n",
       "    </tr>\n",
       "    <tr>\n",
       "      <th>1</th>\n",
       "      <td>2001</td>\n",
       "      <td>1.7</td>\n",
       "    </tr>\n",
       "    <tr>\n",
       "      <th>2</th>\n",
       "      <td>2002</td>\n",
       "      <td>3.6</td>\n",
       "    </tr>\n",
       "    <tr>\n",
       "      <th>3</th>\n",
       "      <td>2001</td>\n",
       "      <td>2.4</td>\n",
       "    </tr>\n",
       "    <tr>\n",
       "      <th>4</th>\n",
       "      <td>2002</td>\n",
       "      <td>2.9</td>\n",
       "    </tr>\n",
       "    <tr>\n",
       "      <th>5</th>\n",
       "      <td>2003</td>\n",
       "      <td>3.2</td>\n",
       "    </tr>\n",
       "  </tbody>\n",
       "</table>\n",
       "</div>"
      ],
      "text/plain": [
       "   year  pop\n",
       "0  2000  1.5\n",
       "1  2001  1.7\n",
       "2  2002  3.6\n",
       "3  2001  2.4\n",
       "4  2002  2.9\n",
       "5  2003  3.2"
      ]
     },
     "execution_count": 219,
     "metadata": {},
     "output_type": "execute_result"
    }
   ],
   "source": [
    "frame2.loc[:,['year', 'pop']] # 전체의 year & prop 가져오기"
   ]
  },
  {
   "cell_type": "markdown",
   "metadata": {},
   "source": [
    "* 조건 색인"
   ]
  },
  {
   "cell_type": "code",
<<<<<<< HEAD
   "execution_count": 80,
=======
   "execution_count": 90,
>>>>>>> a2fc80b917052043d36ef0a9ff96a01d0148ed5f
   "metadata": {},
   "outputs": [
    {
     "data": {
      "text/html": [
       "<div>\n",
       "<style scoped>\n",
       "    .dataframe tbody tr th:only-of-type {\n",
       "        vertical-align: middle;\n",
       "    }\n",
       "\n",
       "    .dataframe tbody tr th {\n",
       "        vertical-align: top;\n",
       "    }\n",
       "\n",
       "    .dataframe thead th {\n",
       "        text-align: right;\n",
       "    }\n",
       "</style>\n",
       "<table border=\"1\" class=\"dataframe\">\n",
       "  <thead>\n",
       "    <tr style=\"text-align: right;\">\n",
       "      <th></th>\n",
<<<<<<< HEAD
       "      <th>year</th>\n",
       "      <th>state</th>\n",
=======
       "      <th>state</th>\n",
       "      <th>year</th>\n",
>>>>>>> a2fc80b917052043d36ef0a9ff96a01d0148ed5f
       "      <th>pop</th>\n",
       "    </tr>\n",
       "  </thead>\n",
       "  <tbody>\n",
       "    <tr>\n",
<<<<<<< HEAD
       "      <th>2</th>\n",
       "      <td>2002</td>\n",
       "      <td>Ohio</td>\n",
       "      <td>3.6</td>\n",
       "    </tr>\n",
       "    <tr>\n",
       "      <th>4</th>\n",
       "      <td>2002</td>\n",
       "      <td>Nevada</td>\n",
       "      <td>2.9</td>\n",
       "    </tr>\n",
       "    <tr>\n",
       "      <th>5</th>\n",
       "      <td>2003</td>\n",
       "      <td>Nevada</td>\n",
=======
       "      <th>c</th>\n",
       "      <td>Ohio</td>\n",
       "      <td>2002</td>\n",
       "      <td>3.6</td>\n",
       "    </tr>\n",
       "    <tr>\n",
       "      <th>e</th>\n",
       "      <td>Nevada</td>\n",
       "      <td>2002</td>\n",
       "      <td>2.9</td>\n",
       "    </tr>\n",
       "    <tr>\n",
       "      <th>f</th>\n",
       "      <td>Nevada</td>\n",
       "      <td>2003</td>\n",
>>>>>>> a2fc80b917052043d36ef0a9ff96a01d0148ed5f
       "      <td>3.2</td>\n",
       "    </tr>\n",
       "  </tbody>\n",
       "</table>\n",
       "</div>"
      ],
      "text/plain": [
<<<<<<< HEAD
       "   year   state  pop\n",
       "2  2002    Ohio  3.6\n",
       "4  2002  Nevada  2.9\n",
       "5  2003  Nevada  3.2"
      ]
     },
     "execution_count": 80,
=======
       "    state  year  pop\n",
       "c    Ohio  2002  3.6\n",
       "e  Nevada  2002  2.9\n",
       "f  Nevada  2003  3.2"
      ]
     },
     "execution_count": 90,
>>>>>>> a2fc80b917052043d36ef0a9ff96a01d0148ed5f
     "metadata": {},
     "output_type": "execute_result"
    }
   ],
   "source": [
    "# pop가 2.5이상인 행 데이터 선택\n",
<<<<<<< HEAD
    "frame2['pop'] >= 2.5\n",
    "frame2[frame2['pop'] >= 2.5]"
=======
    "frame['pop'] >= 2.5\n",
    "frame[frame['pop'] >= 2.5]"
>>>>>>> a2fc80b917052043d36ef0a9ff96a01d0148ed5f
   ]
  },
  {
   "cell_type": "markdown",
   "metadata": {},
   "source": [
    "## 3.4 DataFrame의 산술 연산 (p.218)\n",
    "* 서로 다른 색인을 가지고 있는 객체 간의 산술연산 처리"
   ]
  },
  {
   "cell_type": "code",
   "execution_count": 81,
   "metadata": {},
   "outputs": [
    {
     "name": "stdout",
     "output_type": "stream",
     "text": [
      "a    7.3\n",
      "c   -2.5\n",
      "d    3.4\n",
      "e    1.5\n",
      "dtype: float64\n",
      "a   -2.1\n",
      "c    3.6\n",
      "e   -1.5\n",
      "f    4.0\n",
      "g    3.1\n",
      "dtype: float64\n"
     ]
    },
    {
     "data": {
      "text/plain": [
       "a    5.2\n",
       "c    1.1\n",
       "d    NaN\n",
       "e    0.0\n",
       "f    NaN\n",
       "g    NaN\n",
       "dtype: float64"
      ]
     },
     "execution_count": 81,
     "metadata": {},
     "output_type": "execute_result"
    }
   ],
   "source": [
    "# 1) 1차원 데이터 간의 연산 : 짝이 맞지 않는 색인이 있는 경우 결과에 두 색인 통합된다.\n",
    "s1 = pd.Series([7.3, -2.5, 3.4, 1.5], index = ['a','c','d','e'])\n",
    "print(s1)\n",
    "s2 = pd.Series([-2.1, 3.6, -1.5, 4, 3.1], index =['a','c','e','f','g'])\n",
    "print(s2)\n",
    "s1 + s2  # 서로 겹치는 색인이 없는 경우 데이터는 결측치가 된다. 추후 산술 연산 시 누락돈 값이 전달됨"
   ]
  },
  {
   "cell_type": "code",
   "execution_count": 249,
   "metadata": {},
   "outputs": [
    {
     "data": {
      "text/plain": [
       "a    9300\n",
       "b    6300\n",
       "c    5500\n",
       "dtype: int64"
      ]
     },
     "execution_count": 249,
     "metadata": {},
     "output_type": "execute_result"
    }
   ],
   "source": [
    "# 2)1차원 데이터 간의 산술 연산 : 같은 색인 라벨의 값들끼리 산술 연산이 수행\n",
    "sr1 = pd.Series([4500, 2800, 3000], index = ['a','b','c'])\n",
    "sr2 = pd.Series([4800, 3500, 2500], index = ['a','b','c'])\n",
    "sr1 + sr2"
   ]
  },
  {
   "cell_type": "code",
   "execution_count": 82,
   "metadata": {},
   "outputs": [
    {
     "data": {
      "text/plain": [
       "0    13\n",
       "1    15\n",
       "2    17\n",
       "dtype: int64"
      ]
     },
     "execution_count": 82,
     "metadata": {},
     "output_type": "execute_result"
    }
   ],
   "source": [
    "# 3) 1차원 데이터와 값 간의 연산 : series + 스칼라 (broadcasting)\n",
    "sr = pd.Series([3,5,7])\n",
    "sr + 10"
   ]
  },
  {
   "cell_type": "markdown",
   "metadata": {},
   "source": [
    "## 3.6 DataFrame 변경하기 (p. 203)\n",
    "* 새로운 컬럼 추가 (p.192)\n",
    "  * 고정 값 할당\n",
    "  * 기존 컬럼에 함수를 적용한 결과 할당(p.226)\n",
    "  * 기존 컬럼들의 산술 연산 결과 할당\n",
    "* 불필요한 컬럼 또는 데이터 삭제하기(p.203)"
   ]
  },
  {
   "cell_type": "markdown",
   "metadata": {},
   "source": [
    "    1) 컬럼 추가 하기 -고정 값 할당(p.192)"
   ]
  },
  {
   "cell_type": "code",
   "execution_count": 83,
   "metadata": {},
   "outputs": [
    {
     "data": {
      "text/html": [
       "<div>\n",
       "<style scoped>\n",
       "    .dataframe tbody tr th:only-of-type {\n",
       "        vertical-align: middle;\n",
       "    }\n",
       "\n",
       "    .dataframe tbody tr th {\n",
       "        vertical-align: top;\n",
       "    }\n",
       "\n",
       "    .dataframe thead th {\n",
       "        text-align: right;\n",
       "    }\n",
       "</style>\n",
       "<table border=\"1\" class=\"dataframe\">\n",
       "  <thead>\n",
       "    <tr style=\"text-align: right;\">\n",
       "      <th></th>\n",
       "      <th>year</th>\n",
       "      <th>state</th>\n",
       "      <th>pop</th>\n",
       "      <th>debt</th>\n",
       "    </tr>\n",
       "  </thead>\n",
       "  <tbody>\n",
       "    <tr>\n",
       "      <th>0</th>\n",
       "      <td>2000</td>\n",
       "      <td>Ohio</td>\n",
       "      <td>1.5</td>\n",
       "      <td>2.3</td>\n",
       "    </tr>\n",
       "    <tr>\n",
       "      <th>1</th>\n",
       "      <td>2001</td>\n",
       "      <td>Ohio</td>\n",
       "      <td>1.7</td>\n",
       "      <td>2.7</td>\n",
       "    </tr>\n",
       "    <tr>\n",
       "      <th>2</th>\n",
       "      <td>2002</td>\n",
       "      <td>Ohio</td>\n",
       "      <td>3.6</td>\n",
       "      <td>2.6</td>\n",
       "    </tr>\n",
       "    <tr>\n",
       "      <th>3</th>\n",
       "      <td>2001</td>\n",
       "      <td>Nevada</td>\n",
       "      <td>2.4</td>\n",
       "      <td>3.4</td>\n",
       "    </tr>\n",
       "    <tr>\n",
       "      <th>4</th>\n",
       "      <td>2002</td>\n",
       "      <td>Nevada</td>\n",
       "      <td>2.9</td>\n",
       "      <td>3.9</td>\n",
       "    </tr>\n",
       "    <tr>\n",
       "      <th>5</th>\n",
       "      <td>2003</td>\n",
       "      <td>Nevada</td>\n",
       "      <td>3.2</td>\n",
       "      <td>4.2</td>\n",
       "    </tr>\n",
       "  </tbody>\n",
       "</table>\n",
       "</div>"
      ],
      "text/plain": [
       "   year   state  pop  debt\n",
       "0  2000    Ohio  1.5   2.3\n",
       "1  2001    Ohio  1.7   2.7\n",
       "2  2002    Ohio  3.6   2.6\n",
       "3  2001  Nevada  2.4   3.4\n",
       "4  2002  Nevada  2.9   3.9\n",
       "5  2003  Nevada  3.2   4.2"
      ]
     },
     "execution_count": 83,
     "metadata": {},
     "output_type": "execute_result"
    }
   ],
   "source": [
    "frame2[\"debt\"] = 16.5 # 'debt' 컬럼추가 후, 값을 모두 16.5로 저장\n",
    "frame2\n",
    "\n",
    "frame2[\"debt\"] = np.arange(6.) #원본 데이터프레임의 행의 개수와 신규로 할당되는 리스트나 배열 값의 개수가 일치\n",
    "frame2\n",
    "\n",
    "frame2[\"debt\"] = [2.3,2.7,2.6,3.4,3.9,4.2]\n",
    "frame2"
   ]
  },
  {
   "cell_type": "code",
   "execution_count": 84,
   "metadata": {},
   "outputs": [
    {
     "data": {
      "text/html": [
       "<div>\n",
       "<style scoped>\n",
       "    .dataframe tbody tr th:only-of-type {\n",
       "        vertical-align: middle;\n",
       "    }\n",
       "\n",
       "    .dataframe tbody tr th {\n",
       "        vertical-align: top;\n",
       "    }\n",
       "\n",
       "    .dataframe thead th {\n",
       "        text-align: right;\n",
       "    }\n",
       "</style>\n",
       "<table border=\"1\" class=\"dataframe\">\n",
       "  <thead>\n",
       "    <tr style=\"text-align: right;\">\n",
       "      <th></th>\n",
       "      <th>year</th>\n",
       "      <th>state</th>\n",
       "      <th>pop</th>\n",
       "      <th>debt</th>\n",
       "    </tr>\n",
       "  </thead>\n",
       "  <tbody>\n",
       "    <tr>\n",
       "      <th>0</th>\n",
       "      <td>2000</td>\n",
       "      <td>Ohio</td>\n",
       "      <td>1.5</td>\n",
       "      <td>NaN</td>\n",
       "    </tr>\n",
       "    <tr>\n",
       "      <th>1</th>\n",
       "      <td>2001</td>\n",
       "      <td>Ohio</td>\n",
       "      <td>1.7</td>\n",
       "      <td>NaN</td>\n",
       "    </tr>\n",
       "    <tr>\n",
       "      <th>2</th>\n",
       "      <td>2002</td>\n",
       "      <td>Ohio</td>\n",
       "      <td>3.6</td>\n",
       "      <td>NaN</td>\n",
       "    </tr>\n",
       "    <tr>\n",
       "      <th>3</th>\n",
       "      <td>2001</td>\n",
       "      <td>Nevada</td>\n",
       "      <td>2.4</td>\n",
       "      <td>NaN</td>\n",
       "    </tr>\n",
       "    <tr>\n",
       "      <th>4</th>\n",
       "      <td>2002</td>\n",
       "      <td>Nevada</td>\n",
       "      <td>2.9</td>\n",
       "      <td>NaN</td>\n",
       "    </tr>\n",
       "    <tr>\n",
       "      <th>5</th>\n",
       "      <td>2003</td>\n",
       "      <td>Nevada</td>\n",
       "      <td>3.2</td>\n",
       "      <td>NaN</td>\n",
       "    </tr>\n",
       "  </tbody>\n",
       "</table>\n",
       "</div>"
      ],
      "text/plain": [
       "   year   state  pop  debt\n",
       "0  2000    Ohio  1.5   NaN\n",
       "1  2001    Ohio  1.7   NaN\n",
       "2  2002    Ohio  3.6   NaN\n",
       "3  2001  Nevada  2.4   NaN\n",
       "4  2002  Nevada  2.9   NaN\n",
       "5  2003  Nevada  3.2   NaN"
      ]
     },
     "execution_count": 84,
     "metadata": {},
     "output_type": "execute_result"
    }
   ],
   "source": [
    "# Series를 대입하면 DataFrame의 색인에 따라 값이 대입되며 존재하지 않는 색인에는 결측치가 대입됨\n",
    "val = pd.Series([-1.2, -1.5, -1.7],  index=[\"two\", \"four\", \"five\"])\n",
    "val.shape\n",
    "frame2[\"debt\"] = val  # Series 객체는 기존 데이터프레임의 shape, index 이름이 동일해야만 추가 가능\n",
    "frame2"
   ]
  },
  {
   "cell_type": "code",
   "execution_count": 85,
   "metadata": {},
   "outputs": [
    {
     "data": {
      "text/html": [
       "<div>\n",
       "<style scoped>\n",
       "    .dataframe tbody tr th:only-of-type {\n",
       "        vertical-align: middle;\n",
       "    }\n",
       "\n",
       "    .dataframe tbody tr th {\n",
       "        vertical-align: top;\n",
       "    }\n",
       "\n",
       "    .dataframe thead th {\n",
       "        text-align: right;\n",
       "    }\n",
       "</style>\n",
       "<table border=\"1\" class=\"dataframe\">\n",
       "  <thead>\n",
       "    <tr style=\"text-align: right;\">\n",
       "      <th></th>\n",
       "      <th>year</th>\n",
       "      <th>state</th>\n",
       "      <th>pop</th>\n",
       "      <th>debt</th>\n",
       "      <th>eastern</th>\n",
       "    </tr>\n",
       "  </thead>\n",
       "  <tbody>\n",
       "    <tr>\n",
       "      <th>0</th>\n",
       "      <td>2000</td>\n",
       "      <td>Ohio</td>\n",
       "      <td>1.5</td>\n",
       "      <td>NaN</td>\n",
       "      <td>True</td>\n",
       "    </tr>\n",
       "    <tr>\n",
       "      <th>1</th>\n",
       "      <td>2001</td>\n",
       "      <td>Ohio</td>\n",
       "      <td>1.7</td>\n",
       "      <td>NaN</td>\n",
       "      <td>True</td>\n",
       "    </tr>\n",
       "    <tr>\n",
       "      <th>2</th>\n",
       "      <td>2002</td>\n",
       "      <td>Ohio</td>\n",
       "      <td>3.6</td>\n",
       "      <td>NaN</td>\n",
       "      <td>True</td>\n",
       "    </tr>\n",
       "    <tr>\n",
       "      <th>3</th>\n",
       "      <td>2001</td>\n",
       "      <td>Nevada</td>\n",
       "      <td>2.4</td>\n",
       "      <td>NaN</td>\n",
       "      <td>False</td>\n",
       "    </tr>\n",
       "    <tr>\n",
       "      <th>4</th>\n",
       "      <td>2002</td>\n",
       "      <td>Nevada</td>\n",
       "      <td>2.9</td>\n",
       "      <td>NaN</td>\n",
       "      <td>False</td>\n",
       "    </tr>\n",
       "    <tr>\n",
       "      <th>5</th>\n",
       "      <td>2003</td>\n",
       "      <td>Nevada</td>\n",
       "      <td>3.2</td>\n",
       "      <td>NaN</td>\n",
       "      <td>False</td>\n",
       "    </tr>\n",
       "  </tbody>\n",
       "</table>\n",
       "</div>"
      ],
      "text/plain": [
       "   year   state  pop  debt  eastern\n",
       "0  2000    Ohio  1.5   NaN     True\n",
       "1  2001    Ohio  1.7   NaN     True\n",
       "2  2002    Ohio  3.6   NaN     True\n",
       "3  2001  Nevada  2.4   NaN    False\n",
       "4  2002  Nevada  2.9   NaN    False\n",
       "5  2003  Nevada  3.2   NaN    False"
      ]
     },
     "execution_count": 85,
     "metadata": {},
     "output_type": "execute_result"
    }
   ],
   "source": [
    "frame2[\"state\"] == \"Ohio\" # 존재하지 않는 열을 대입할 경우에는 새로운 열이 생성\n",
    "frame2[\"eastern\"] = frame2[\"state\"] == \"Ohio\" # 기존 컬럼에 조건 색인을 적용한 결과을 추가\n",
    "frame2"
   ]
  },
  {
   "cell_type": "markdown",
   "metadata": {},
   "source": [
    "    2) 컬럼 추가하기 : 기존 컬럼에 함수를 적용한 결과로 값을 할당"
   ]
  },
  {
   "cell_type": "code",
   "execution_count": 7,
   "metadata": {},
   "outputs": [
    {
     "data": {
      "text/plain": [
       "Utah      0.968402\n",
       "Ohio      0.556276\n",
       "Texas     1.407327\n",
       "Oregon    1.052955\n",
       "dtype: float64"
      ]
     },
     "execution_count": 7,
     "metadata": {},
     "output_type": "execute_result"
    }
   ],
   "source": [
    "# p.226\n",
    "import pandas as pd\n",
    "import numpy as np\n",
    "frame = pd.DataFrame(np.random.standard_normal((4,3)),\n",
    "                     columns = list(\"bde\"),\n",
    "                     index = [\"Utah\", \"Ohio\",\"Texas\", \"Oregon\"])\n",
    "frame\n",
    "\n",
    "# 각 행이나 열의 1차원 배열에 함수를 적용하기 위한 함수: DataFrame.apply(함수, axis=)\n",
    "#1. 함수 정의\n",
    "def f1(x):\n",
    "    return x.max() - x.min()\n",
    "#2. 이 함수을 각 열에 적용하기-> 열을 색인으로 하는 Series 반환\n",
    "frame.apply(f1, axis = 0)\n",
    "# 3. 이 함수을 각 행에 적용하기 -> 행을 색인으로 하는 Series 반환\n",
    "frame.apply(f1, axis = 1)"
   ]
  },
  {
   "cell_type": "code",
   "execution_count": 8,
   "metadata": {},
   "outputs": [
    {
     "name": "stdout",
     "output_type": "stream",
     "text": [
      "               b         d         e\n",
      "Utah   -0.797113 -1.720225 -0.751823\n",
      "Ohio   -0.849467 -0.293191 -0.741246\n",
      "Texas   0.137655 -0.241545  1.165782\n",
      "Oregon -0.390402 -0.064310  0.662553\n"
     ]
    },
    {
     "data": {
      "text/html": [
       "<div>\n",
       "<style scoped>\n",
       "    .dataframe tbody tr th:only-of-type {\n",
       "        vertical-align: middle;\n",
       "    }\n",
       "\n",
       "    .dataframe tbody tr th {\n",
       "        vertical-align: top;\n",
       "    }\n",
       "\n",
       "    .dataframe thead th {\n",
       "        text-align: right;\n",
       "    }\n",
       "</style>\n",
       "<table border=\"1\" class=\"dataframe\">\n",
       "  <thead>\n",
       "    <tr style=\"text-align: right;\">\n",
       "      <th></th>\n",
       "      <th>b</th>\n",
       "      <th>d</th>\n",
       "      <th>e</th>\n",
       "    </tr>\n",
       "  </thead>\n",
       "  <tbody>\n",
       "    <tr>\n",
       "      <th>min</th>\n",
       "      <td>-0.849467</td>\n",
       "      <td>-1.720225</td>\n",
       "      <td>-0.751823</td>\n",
       "    </tr>\n",
       "    <tr>\n",
       "      <th>max</th>\n",
       "      <td>0.137655</td>\n",
       "      <td>-0.064310</td>\n",
       "      <td>1.165782</td>\n",
       "    </tr>\n",
       "  </tbody>\n",
       "</table>\n",
       "</div>"
      ],
      "text/plain": [
       "            b         d         e\n",
       "min -0.849467 -1.720225 -0.751823\n",
       "max  0.137655 -0.064310  1.165782"
      ]
     },
     "execution_count": 8,
     "metadata": {},
     "output_type": "execute_result"
    }
   ],
   "source": [
    "# p.227\n",
    "np.random.seed(1)\n",
    "print(frame)\n",
    "def f2(x):\n",
    "    return pd.Series([x.min(), x.max()], index=['min', 'max'])\n",
    "frame.apply(f2)\n",
    "                     "
   ]
  },
  {
   "cell_type": "markdown",
   "metadata": {},
   "source": [
    "### [Quiz] 데이터프레임 frame2에 poplevel 컬럼을 추가하고, pop이 2.5 이상이면 \"high\", 2.5보다 작으면 \"low\"로 값을 저장하기"
   ]
  },
  {
   "cell_type": "code",
   "execution_count": null,
   "metadata": {},
   "outputs": [],
   "source": []
  },
  {
   "cell_type": "markdown",
   "metadata": {},
   "source": [
    "    3) 기존 컬럼들의 산술 연산 결과 할당"
   ]
  },
  {
   "cell_type": "code",
   "execution_count": 245,
   "metadata": {},
   "outputs": [
    {
     "data": {
      "text/html": [
       "<div>\n",
       "<style scoped>\n",
       "    .dataframe tbody tr th:only-of-type {\n",
       "        vertical-align: middle;\n",
       "    }\n",
       "\n",
       "    .dataframe tbody tr th {\n",
       "        vertical-align: top;\n",
       "    }\n",
       "\n",
       "    .dataframe thead th {\n",
       "        text-align: right;\n",
       "    }\n",
       "</style>\n",
       "<table border=\"1\" class=\"dataframe\">\n",
       "  <thead>\n",
       "    <tr style=\"text-align: right;\">\n",
       "      <th></th>\n",
       "      <th>year</th>\n",
       "      <th>state</th>\n",
       "      <th>pop</th>\n",
       "      <th>debt</th>\n",
       "      <th>popLevel</th>\n",
       "      <th>perDebt</th>\n",
       "    </tr>\n",
       "  </thead>\n",
       "  <tbody>\n",
       "    <tr>\n",
       "      <th>0</th>\n",
       "      <td>2000</td>\n",
       "      <td>Ohio</td>\n",
       "      <td>1.5</td>\n",
       "      <td>1.624345</td>\n",
       "      <td>Low</td>\n",
       "      <td>1.082897</td>\n",
       "    </tr>\n",
       "    <tr>\n",
       "      <th>1</th>\n",
       "      <td>2001</td>\n",
       "      <td>Ohio</td>\n",
       "      <td>1.7</td>\n",
       "      <td>-0.611756</td>\n",
       "      <td>Low</td>\n",
       "      <td>-0.359857</td>\n",
       "    </tr>\n",
       "    <tr>\n",
       "      <th>2</th>\n",
       "      <td>2002</td>\n",
       "      <td>Ohio</td>\n",
       "      <td>3.6</td>\n",
       "      <td>-0.528172</td>\n",
       "      <td>High</td>\n",
       "      <td>-0.146714</td>\n",
       "    </tr>\n",
       "    <tr>\n",
       "      <th>3</th>\n",
       "      <td>2001</td>\n",
       "      <td>Nevada</td>\n",
       "      <td>2.4</td>\n",
       "      <td>-1.072969</td>\n",
       "      <td>Low</td>\n",
       "      <td>-0.447070</td>\n",
       "    </tr>\n",
       "    <tr>\n",
       "      <th>4</th>\n",
       "      <td>2002</td>\n",
       "      <td>Nevada</td>\n",
       "      <td>2.9</td>\n",
       "      <td>0.865408</td>\n",
       "      <td>High</td>\n",
       "      <td>0.298416</td>\n",
       "    </tr>\n",
       "    <tr>\n",
       "      <th>5</th>\n",
       "      <td>2003</td>\n",
       "      <td>Nevada</td>\n",
       "      <td>3.2</td>\n",
       "      <td>-2.301539</td>\n",
       "      <td>High</td>\n",
       "      <td>-0.719231</td>\n",
       "    </tr>\n",
       "  </tbody>\n",
       "</table>\n",
       "</div>"
      ],
      "text/plain": [
       "   year   state  pop      debt popLevel   perDebt\n",
       "0  2000    Ohio  1.5  1.624345      Low  1.082897\n",
       "1  2001    Ohio  1.7 -0.611756      Low -0.359857\n",
       "2  2002    Ohio  3.6 -0.528172     High -0.146714\n",
       "3  2001  Nevada  2.4 -1.072969      Low -0.447070\n",
       "4  2002  Nevada  2.9  0.865408     High  0.298416\n",
       "5  2003  Nevada  3.2 -2.301539     High -0.719231"
      ]
     },
     "execution_count": 245,
     "metadata": {},
     "output_type": "execute_result"
    }
   ],
   "source": [
    "# perDebt 컬럼을 추가하고, debt을 pop의 값을 나눈 값으로 할당하기\n",
    "frame2['perDebt'] = frame2['debt']/frame2['pop']\n",
    "frame2"
   ]
  },
  {
   "cell_type": "raw",
   "metadata": {},
   "source": [
    "    4) 기존 컬럼들의 삭제 : del "
   ]
  },
  {
   "cell_type": "code",
   "execution_count": 65,
   "metadata": {},
   "outputs": [
    {
     "data": {
      "text/plain": [
       "Index(['year', 'state', 'pop', 'debt'], dtype='object')"
      ]
     },
     "execution_count": 65,
     "metadata": {},
     "output_type": "execute_result"
    }
   ],
   "source": [
    "del frame2[\"eastern\"]\n",
    "frame2.columns"
   ]
  },
  {
   "cell_type": "markdown",
   "metadata": {},
   "source": [
    "    5) 재색인 : reindex(리스트)"
   ]
  },
  {
   "cell_type": "code",
   "execution_count": 10,
   "metadata": {},
   "outputs": [
    {
     "data": {
      "text/plain": [
       "d    4.5\n",
       "b    7.2\n",
       "a   -5.3\n",
       "c    3.6\n",
       "dtype: float64"
      ]
     },
     "execution_count": 10,
     "metadata": {},
     "output_type": "execute_result"
    }
   ],
   "source": [
    "obj = pd.Series([4.5, 7.2, -5.3, 3.6], index=[\"d\", \"b\", \"a\", \"c\"])\n",
    "obj"
   ]
  },
  {
   "cell_type": "code",
   "execution_count": 11,
   "metadata": {},
   "outputs": [
    {
     "data": {
      "text/plain": [
       "a   -5.3\n",
       "b    7.2\n",
       "c    3.6\n",
       "d    4.5\n",
       "e    NaN\n",
       "dtype: float64"
      ]
     },
     "execution_count": 11,
     "metadata": {},
     "output_type": "execute_result"
    }
   ],
   "source": [
    "obj2 = obj.reindex([\"a\", \"b\", \"c\", \"d\", \"e\"])\n",
    "obj2"
   ]
  },
  {
   "cell_type": "code",
   "execution_count": 91,
   "metadata": {},
   "outputs": [
    {
     "data": {
      "text/plain": [
       "0      blue\n",
       "1      blue\n",
       "2    purple\n",
       "3    purple\n",
       "4    yellow\n",
       "5    yellow\n",
       "dtype: object"
      ]
     },
     "execution_count": 91,
     "metadata": {},
     "output_type": "execute_result"
    }
   ],
   "source": [
    "obj3 = pd.Series([\"blue\", \"purple\", \"yellow\"], index=[0, 2, 4])\n",
    "obj3\n",
    "obj3.reindex(np.arange(6), method=\"ffill\")"
   ]
  },
  {
   "cell_type": "code",
   "execution_count": 93,
   "metadata": {},
   "outputs": [
    {
     "data": {
      "text/html": [
       "<div>\n",
       "<style scoped>\n",
       "    .dataframe tbody tr th:only-of-type {\n",
       "        vertical-align: middle;\n",
       "    }\n",
       "\n",
       "    .dataframe tbody tr th {\n",
       "        vertical-align: top;\n",
       "    }\n",
       "\n",
       "    .dataframe thead th {\n",
       "        text-align: right;\n",
       "    }\n",
       "</style>\n",
       "<table border=\"1\" class=\"dataframe\">\n",
       "  <thead>\n",
       "    <tr style=\"text-align: right;\">\n",
       "      <th></th>\n",
       "      <th>Ohio</th>\n",
       "      <th>Texas</th>\n",
       "      <th>California</th>\n",
       "    </tr>\n",
       "  </thead>\n",
       "  <tbody>\n",
       "    <tr>\n",
       "      <th>a</th>\n",
       "      <td>0.0</td>\n",
       "      <td>1.0</td>\n",
       "      <td>2.0</td>\n",
       "    </tr>\n",
       "    <tr>\n",
       "      <th>b</th>\n",
       "      <td>NaN</td>\n",
       "      <td>NaN</td>\n",
       "      <td>NaN</td>\n",
       "    </tr>\n",
       "    <tr>\n",
       "      <th>c</th>\n",
       "      <td>3.0</td>\n",
       "      <td>4.0</td>\n",
       "      <td>5.0</td>\n",
       "    </tr>\n",
       "    <tr>\n",
       "      <th>d</th>\n",
       "      <td>6.0</td>\n",
       "      <td>7.0</td>\n",
       "      <td>8.0</td>\n",
       "    </tr>\n",
       "  </tbody>\n",
       "</table>\n",
       "</div>"
      ],
      "text/plain": [
       "   Ohio  Texas  California\n",
       "a   0.0    1.0         2.0\n",
       "b   NaN    NaN         NaN\n",
       "c   3.0    4.0         5.0\n",
       "d   6.0    7.0         8.0"
      ]
     },
     "execution_count": 93,
     "metadata": {},
     "output_type": "execute_result"
    }
   ],
   "source": [
    "frame = pd.DataFrame(np.arange(9).reshape((3, 3)),\n",
    "                     index=[\"a\", \"c\", \"d\"],\n",
    "                     columns=[\"Ohio\", \"Texas\", \"California\"])\n",
    "frame\n",
    "frame2 = frame.reindex(index=[\"a\", \"b\", \"c\", \"d\"])\n",
    "frame2"
   ]
  },
  {
   "cell_type": "code",
   "execution_count": 94,
   "metadata": {},
   "outputs": [
    {
     "data": {
      "text/html": [
       "<div>\n",
       "<style scoped>\n",
       "    .dataframe tbody tr th:only-of-type {\n",
       "        vertical-align: middle;\n",
       "    }\n",
       "\n",
       "    .dataframe tbody tr th {\n",
       "        vertical-align: top;\n",
       "    }\n",
       "\n",
       "    .dataframe thead th {\n",
       "        text-align: right;\n",
       "    }\n",
       "</style>\n",
       "<table border=\"1\" class=\"dataframe\">\n",
       "  <thead>\n",
       "    <tr style=\"text-align: right;\">\n",
       "      <th></th>\n",
       "      <th>Texas</th>\n",
       "      <th>Utah</th>\n",
       "      <th>California</th>\n",
       "    </tr>\n",
       "  </thead>\n",
       "  <tbody>\n",
       "    <tr>\n",
       "      <th>a</th>\n",
       "      <td>1</td>\n",
       "      <td>NaN</td>\n",
       "      <td>2</td>\n",
       "    </tr>\n",
       "    <tr>\n",
       "      <th>c</th>\n",
       "      <td>4</td>\n",
       "      <td>NaN</td>\n",
       "      <td>5</td>\n",
       "    </tr>\n",
       "    <tr>\n",
       "      <th>d</th>\n",
       "      <td>7</td>\n",
       "      <td>NaN</td>\n",
       "      <td>8</td>\n",
       "    </tr>\n",
       "  </tbody>\n",
       "</table>\n",
       "</div>"
      ],
      "text/plain": [
       "   Texas  Utah  California\n",
       "a      1   NaN           2\n",
       "c      4   NaN           5\n",
       "d      7   NaN           8"
      ]
     },
     "execution_count": 94,
     "metadata": {},
     "output_type": "execute_result"
    }
   ],
   "source": [
    "states = [\"Texas\", \"Utah\", \"California\"]\n",
    "frame.reindex(columns=states)"
   ]
  },
  {
   "cell_type": "code",
   "execution_count": 95,
   "metadata": {},
   "outputs": [
    {
     "data": {
      "text/html": [
       "<div>\n",
       "<style scoped>\n",
       "    .dataframe tbody tr th:only-of-type {\n",
       "        vertical-align: middle;\n",
       "    }\n",
       "\n",
       "    .dataframe tbody tr th {\n",
       "        vertical-align: top;\n",
       "    }\n",
       "\n",
       "    .dataframe thead th {\n",
       "        text-align: right;\n",
       "    }\n",
       "</style>\n",
       "<table border=\"1\" class=\"dataframe\">\n",
       "  <thead>\n",
       "    <tr style=\"text-align: right;\">\n",
       "      <th></th>\n",
       "      <th>Texas</th>\n",
       "      <th>Utah</th>\n",
       "      <th>California</th>\n",
       "    </tr>\n",
       "  </thead>\n",
       "  <tbody>\n",
       "    <tr>\n",
       "      <th>a</th>\n",
       "      <td>1</td>\n",
       "      <td>NaN</td>\n",
       "      <td>2</td>\n",
       "    </tr>\n",
       "    <tr>\n",
       "      <th>c</th>\n",
       "      <td>4</td>\n",
       "      <td>NaN</td>\n",
       "      <td>5</td>\n",
       "    </tr>\n",
       "    <tr>\n",
       "      <th>d</th>\n",
       "      <td>7</td>\n",
       "      <td>NaN</td>\n",
       "      <td>8</td>\n",
       "    </tr>\n",
       "  </tbody>\n",
       "</table>\n",
       "</div>"
      ],
      "text/plain": [
       "   Texas  Utah  California\n",
       "a      1   NaN           2\n",
       "c      4   NaN           5\n",
       "d      7   NaN           8"
      ]
     },
     "execution_count": 95,
     "metadata": {},
     "output_type": "execute_result"
    }
   ],
   "source": [
    "frame.reindex(states, axis=\"columns\")"
   ]
  },
  {
   "cell_type": "code",
   "execution_count": 96,
   "metadata": {},
   "outputs": [
    {
     "data": {
      "text/html": [
       "<div>\n",
       "<style scoped>\n",
       "    .dataframe tbody tr th:only-of-type {\n",
       "        vertical-align: middle;\n",
       "    }\n",
       "\n",
       "    .dataframe tbody tr th {\n",
       "        vertical-align: top;\n",
       "    }\n",
       "\n",
       "    .dataframe thead th {\n",
       "        text-align: right;\n",
       "    }\n",
       "</style>\n",
       "<table border=\"1\" class=\"dataframe\">\n",
       "  <thead>\n",
       "    <tr style=\"text-align: right;\">\n",
       "      <th></th>\n",
       "      <th>California</th>\n",
       "      <th>Texas</th>\n",
       "    </tr>\n",
       "  </thead>\n",
       "  <tbody>\n",
       "    <tr>\n",
       "      <th>a</th>\n",
       "      <td>2</td>\n",
       "      <td>1</td>\n",
       "    </tr>\n",
       "    <tr>\n",
       "      <th>d</th>\n",
       "      <td>8</td>\n",
       "      <td>7</td>\n",
       "    </tr>\n",
       "    <tr>\n",
       "      <th>c</th>\n",
       "      <td>5</td>\n",
       "      <td>4</td>\n",
       "    </tr>\n",
       "  </tbody>\n",
       "</table>\n",
       "</div>"
      ],
      "text/plain": [
       "   California  Texas\n",
       "a           2      1\n",
       "d           8      7\n",
       "c           5      4"
      ]
     },
     "execution_count": 96,
     "metadata": {},
     "output_type": "execute_result"
    }
   ],
   "source": [
    "frame.loc[[\"a\", \"d\", \"c\"], [\"California\", \"Texas\"]]"
   ]
  },
  {
   "cell_type": "markdown",
   "metadata": {},
   "source": [
    "## # 데이터 삭제하기 :Series, DataFrame\n",
    "* drop(삭제할 리스트, axis=0)\n",
    "* drop(index= 행_리스트)\n",
    "* drop(columns= 열_리스트)"
   ]
  },
  {
   "cell_type": "code",
   "execution_count": 98,
   "metadata": {},
   "outputs": [
    {
     "data": {
      "text/plain": [
       "a    0.0\n",
       "b    1.0\n",
       "e    4.0\n",
       "dtype: float64"
      ]
     },
     "execution_count": 98,
     "metadata": {},
     "output_type": "execute_result"
    }
   ],
   "source": [
    "obj = pd.Series(np.arange(5.), index=[\"a\", \"b\", \"c\", \"d\", \"e\"])\n",
    "obj\n",
    "new_obj = obj.drop(\"c\")\n",
    "new_obj\n",
    "obj.drop([\"d\", \"c\"])"
   ]
  },
  {
   "cell_type": "code",
   "execution_count": 99,
   "metadata": {},
   "outputs": [
    {
     "data": {
      "text/html": [
       "<div>\n",
       "<style scoped>\n",
       "    .dataframe tbody tr th:only-of-type {\n",
       "        vertical-align: middle;\n",
       "    }\n",
       "\n",
       "    .dataframe tbody tr th {\n",
       "        vertical-align: top;\n",
       "    }\n",
       "\n",
       "    .dataframe thead th {\n",
       "        text-align: right;\n",
       "    }\n",
       "</style>\n",
       "<table border=\"1\" class=\"dataframe\">\n",
       "  <thead>\n",
       "    <tr style=\"text-align: right;\">\n",
       "      <th></th>\n",
       "      <th>one</th>\n",
       "      <th>two</th>\n",
       "      <th>three</th>\n",
       "      <th>four</th>\n",
       "    </tr>\n",
       "  </thead>\n",
       "  <tbody>\n",
       "    <tr>\n",
       "      <th>Ohio</th>\n",
       "      <td>0</td>\n",
       "      <td>1</td>\n",
       "      <td>2</td>\n",
       "      <td>3</td>\n",
       "    </tr>\n",
       "    <tr>\n",
       "      <th>Colorado</th>\n",
       "      <td>4</td>\n",
       "      <td>5</td>\n",
       "      <td>6</td>\n",
       "      <td>7</td>\n",
       "    </tr>\n",
       "    <tr>\n",
       "      <th>Utah</th>\n",
       "      <td>8</td>\n",
       "      <td>9</td>\n",
       "      <td>10</td>\n",
       "      <td>11</td>\n",
       "    </tr>\n",
       "    <tr>\n",
       "      <th>New York</th>\n",
       "      <td>12</td>\n",
       "      <td>13</td>\n",
       "      <td>14</td>\n",
       "      <td>15</td>\n",
       "    </tr>\n",
       "  </tbody>\n",
       "</table>\n",
       "</div>"
      ],
      "text/plain": [
       "          one  two  three  four\n",
       "Ohio        0    1      2     3\n",
       "Colorado    4    5      6     7\n",
       "Utah        8    9     10    11\n",
       "New York   12   13     14    15"
      ]
     },
     "execution_count": 99,
     "metadata": {},
     "output_type": "execute_result"
    }
   ],
   "source": [
    "data = pd.DataFrame(np.arange(16).reshape((4, 4)),\n",
    "                    index=[\"Ohio\", \"Colorado\", \"Utah\", \"New York\"],\n",
    "                    columns=[\"one\", \"two\", \"three\", \"four\"])\n",
    "data"
   ]
  },
  {
   "cell_type": "code",
   "execution_count": 100,
   "metadata": {},
   "outputs": [
    {
     "data": {
      "text/html": [
       "<div>\n",
       "<style scoped>\n",
       "    .dataframe tbody tr th:only-of-type {\n",
       "        vertical-align: middle;\n",
       "    }\n",
       "\n",
       "    .dataframe tbody tr th {\n",
       "        vertical-align: top;\n",
       "    }\n",
       "\n",
       "    .dataframe thead th {\n",
       "        text-align: right;\n",
       "    }\n",
       "</style>\n",
       "<table border=\"1\" class=\"dataframe\">\n",
       "  <thead>\n",
       "    <tr style=\"text-align: right;\">\n",
       "      <th></th>\n",
       "      <th>one</th>\n",
       "      <th>two</th>\n",
       "      <th>three</th>\n",
       "      <th>four</th>\n",
       "    </tr>\n",
       "  </thead>\n",
       "  <tbody>\n",
       "    <tr>\n",
       "      <th>Utah</th>\n",
       "      <td>8</td>\n",
       "      <td>9</td>\n",
       "      <td>10</td>\n",
       "      <td>11</td>\n",
       "    </tr>\n",
       "    <tr>\n",
       "      <th>New York</th>\n",
       "      <td>12</td>\n",
       "      <td>13</td>\n",
       "      <td>14</td>\n",
       "      <td>15</td>\n",
       "    </tr>\n",
       "  </tbody>\n",
       "</table>\n",
       "</div>"
      ],
      "text/plain": [
       "          one  two  three  four\n",
       "Utah        8    9     10    11\n",
       "New York   12   13     14    15"
      ]
     },
     "execution_count": 100,
     "metadata": {},
     "output_type": "execute_result"
    }
   ],
   "source": [
    "data.drop(index=[\"Colorado\", \"Ohio\"])"
   ]
  },
  {
   "cell_type": "code",
   "execution_count": 101,
   "metadata": {},
   "outputs": [
    {
     "data": {
      "text/html": [
       "<div>\n",
       "<style scoped>\n",
       "    .dataframe tbody tr th:only-of-type {\n",
       "        vertical-align: middle;\n",
       "    }\n",
       "\n",
       "    .dataframe tbody tr th {\n",
       "        vertical-align: top;\n",
       "    }\n",
       "\n",
       "    .dataframe thead th {\n",
       "        text-align: right;\n",
       "    }\n",
       "</style>\n",
       "<table border=\"1\" class=\"dataframe\">\n",
       "  <thead>\n",
       "    <tr style=\"text-align: right;\">\n",
       "      <th></th>\n",
       "      <th>one</th>\n",
       "      <th>three</th>\n",
       "      <th>four</th>\n",
       "    </tr>\n",
       "  </thead>\n",
       "  <tbody>\n",
       "    <tr>\n",
       "      <th>Ohio</th>\n",
       "      <td>0</td>\n",
       "      <td>2</td>\n",
       "      <td>3</td>\n",
       "    </tr>\n",
       "    <tr>\n",
       "      <th>Colorado</th>\n",
       "      <td>4</td>\n",
       "      <td>6</td>\n",
       "      <td>7</td>\n",
       "    </tr>\n",
       "    <tr>\n",
       "      <th>Utah</th>\n",
       "      <td>8</td>\n",
       "      <td>10</td>\n",
       "      <td>11</td>\n",
       "    </tr>\n",
       "    <tr>\n",
       "      <th>New York</th>\n",
       "      <td>12</td>\n",
       "      <td>14</td>\n",
       "      <td>15</td>\n",
       "    </tr>\n",
       "  </tbody>\n",
       "</table>\n",
       "</div>"
      ],
      "text/plain": [
       "          one  three  four\n",
       "Ohio        0      2     3\n",
       "Colorado    4      6     7\n",
       "Utah        8     10    11\n",
       "New York   12     14    15"
      ]
     },
     "execution_count": 101,
     "metadata": {},
     "output_type": "execute_result"
    }
   ],
   "source": [
    "data.drop(columns=[\"two\"])"
   ]
  },
  {
   "cell_type": "code",
   "execution_count": 102,
   "metadata": {},
   "outputs": [
    {
     "data": {
      "text/html": [
       "<div>\n",
       "<style scoped>\n",
       "    .dataframe tbody tr th:only-of-type {\n",
       "        vertical-align: middle;\n",
       "    }\n",
       "\n",
       "    .dataframe tbody tr th {\n",
       "        vertical-align: top;\n",
       "    }\n",
       "\n",
       "    .dataframe thead th {\n",
       "        text-align: right;\n",
       "    }\n",
       "</style>\n",
       "<table border=\"1\" class=\"dataframe\">\n",
       "  <thead>\n",
       "    <tr style=\"text-align: right;\">\n",
       "      <th></th>\n",
       "      <th>one</th>\n",
       "      <th>three</th>\n",
       "    </tr>\n",
       "  </thead>\n",
       "  <tbody>\n",
       "    <tr>\n",
       "      <th>Ohio</th>\n",
       "      <td>0</td>\n",
       "      <td>2</td>\n",
       "    </tr>\n",
       "    <tr>\n",
       "      <th>Colorado</th>\n",
       "      <td>4</td>\n",
       "      <td>6</td>\n",
       "    </tr>\n",
       "    <tr>\n",
       "      <th>Utah</th>\n",
       "      <td>8</td>\n",
       "      <td>10</td>\n",
       "    </tr>\n",
       "    <tr>\n",
       "      <th>New York</th>\n",
       "      <td>12</td>\n",
       "      <td>14</td>\n",
       "    </tr>\n",
       "  </tbody>\n",
       "</table>\n",
       "</div>"
      ],
      "text/plain": [
       "          one  three\n",
       "Ohio        0      2\n",
       "Colorado    4      6\n",
       "Utah        8     10\n",
       "New York   12     14"
      ]
     },
     "execution_count": 102,
     "metadata": {},
     "output_type": "execute_result"
    }
   ],
   "source": [
    "data.drop(\"two\", axis=1)\n",
    "data.drop([\"two\", \"four\"], axis=\"columns\")"
   ]
  },
  {
   "cell_type": "markdown",
   "metadata": {},
   "source": [
    "## #  5주차 "
   ]
  },
  {
   "cell_type": "code",
   "execution_count": 54,
   "metadata": {},
   "outputs": [],
   "source": [
    "obj = pd.Series(np.arange(4.), index=[\"a\", \"b\", \"c\", \"d\"])\n",
    "obj\n",
    "obj[\"b\"]\n",
    "obj[1]\n",
    "obj[2:4]\n",
    "obj[[\"b\", \"a\", \"d\"]]\n",
    "obj[[1, 3]]\n",
    "obj[obj < 2]"
   ]
  },
  {
   "cell_type": "code",
   "execution_count": 55,
   "metadata": {},
   "outputs": [],
   "source": [
    "obj.loc[[\"b\", \"a\", \"d\"]]"
   ]
  },
  {
   "cell_type": "code",
   "execution_count": 56,
   "metadata": {},
   "outputs": [],
   "source": [
    "obj1 = pd.Series([1, 2, 3], index=[2, 0, 1])\n",
    "obj2 = pd.Series([1, 2, 3], index=[\"a\", \"b\", \"c\"])\n",
    "obj1\n",
    "obj2\n",
    "obj1[[0, 1, 2]]\n",
    "obj2[[0, 1, 2]]"
   ]
  },
  {
   "cell_type": "code",
   "execution_count": 57,
   "metadata": {},
   "outputs": [],
   "source": [
    "obj1.iloc[[0, 1, 2]]\n",
    "obj2.iloc[[0, 1, 2]]"
   ]
  },
  {
   "cell_type": "code",
   "execution_count": 58,
   "metadata": {},
   "outputs": [],
   "source": [
    "obj2.loc[\"b\":\"c\"]"
   ]
  },
  {
   "cell_type": "code",
   "execution_count": 59,
   "metadata": {},
   "outputs": [],
   "source": [
    "obj2.loc[\"b\":\"c\"] = 5\n",
    "obj2"
   ]
  },
  {
   "cell_type": "code",
   "execution_count": 60,
   "metadata": {},
   "outputs": [],
   "source": [
    "data = pd.DataFrame(np.arange(16).reshape((4, 4)),\n",
    "                    index=[\"Ohio\", \"Colorado\", \"Utah\", \"New York\"],\n",
    "                    columns=[\"one\", \"two\", \"three\", \"four\"])\n",
    "data\n",
    "data[\"two\"]\n",
    "data[[\"three\", \"one\"]]"
   ]
  },
  {
   "cell_type": "code",
   "execution_count": 61,
   "metadata": {},
   "outputs": [],
   "source": [
    "data[:2]\n",
    "data[data[\"three\"] > 5]"
   ]
  },
  {
   "cell_type": "code",
   "execution_count": 62,
   "metadata": {},
   "outputs": [],
   "source": [
    "data < 5"
   ]
  },
  {
   "cell_type": "code",
   "execution_count": 63,
   "metadata": {},
   "outputs": [],
   "source": [
    "data[data < 5] = 0\n",
    "data"
   ]
  },
  {
   "cell_type": "code",
   "execution_count": 64,
   "metadata": {},
   "outputs": [],
   "source": [
    "data\n",
    "data.loc[\"Colorado\"]"
   ]
  },
  {
   "cell_type": "code",
   "execution_count": 65,
   "metadata": {},
   "outputs": [],
   "source": [
    "data.loc[[\"Colorado\", \"New York\"]]"
   ]
  },
  {
   "cell_type": "code",
   "execution_count": 66,
   "metadata": {},
   "outputs": [],
   "source": [
    "data.loc[\"Colorado\", [\"two\", \"three\"]]"
   ]
  },
  {
   "cell_type": "code",
   "execution_count": 67,
   "metadata": {},
   "outputs": [],
   "source": [
    "data.iloc[2]\n",
    "data.iloc[[2, 1]]\n",
    "data.iloc[2, [3, 0, 1]]\n",
    "data.iloc[[1, 2], [3, 0, 1]]"
   ]
  },
  {
   "cell_type": "code",
   "execution_count": 68,
   "metadata": {},
   "outputs": [],
   "source": [
    "data.loc[:\"Utah\", \"two\"]\n",
    "data.iloc[:, :3][data.three > 5]"
   ]
  },
  {
   "cell_type": "code",
   "execution_count": 69,
   "metadata": {},
   "outputs": [],
   "source": [
    "data.loc[data.three >= 2]"
   ]
  },
  {
   "cell_type": "code",
   "execution_count": 70,
   "metadata": {},
   "outputs": [],
   "source": [
    "ser = pd.Series(np.arange(3.))\n",
    "ser\n",
    "ser[-1]"
   ]
  },
  {
   "cell_type": "code",
   "execution_count": 71,
   "metadata": {},
   "outputs": [],
   "source": [
    "ser"
   ]
  },
  {
   "cell_type": "code",
   "execution_count": 72,
   "metadata": {},
   "outputs": [],
   "source": [
    "ser2 = pd.Series(np.arange(3.), index=[\"a\", \"b\", \"c\"])\n",
    "ser2[-1]"
   ]
  },
  {
   "cell_type": "code",
   "execution_count": 73,
   "metadata": {},
   "outputs": [],
   "source": [
    "ser.iloc[-1]"
   ]
  },
  {
   "cell_type": "code",
   "execution_count": 74,
   "metadata": {},
   "outputs": [],
   "source": [
    "ser[:2]"
   ]
  },
  {
   "cell_type": "code",
   "execution_count": 75,
   "metadata": {},
   "outputs": [],
   "source": [
    "data.loc[:, \"one\"] = 1\n",
    "data\n",
    "data.iloc[2] = 5\n",
    "data\n",
    "data.loc[data[\"four\"] > 5] = 3\n",
    "data"
   ]
  },
  {
   "cell_type": "code",
   "execution_count": 76,
   "metadata": {},
   "outputs": [],
   "source": [
    "data.loc[data.three == 5][\"three\"] = 6"
   ]
  },
  {
   "cell_type": "code",
   "execution_count": 77,
   "metadata": {},
   "outputs": [],
   "source": [
    "data"
   ]
  },
  {
   "cell_type": "code",
   "execution_count": 78,
   "metadata": {},
   "outputs": [],
   "source": [
    "data.loc[data.three == 5, \"three\"] = 6\n",
    "data"
   ]
  },
  {
   "cell_type": "code",
   "execution_count": 79,
   "metadata": {},
   "outputs": [],
   "source": [
    "s1 = pd.Series([7.3, -2.5, 3.4, 1.5], index=[\"a\", \"c\", \"d\", \"e\"])\n",
    "s2 = pd.Series([-2.1, 3.6, -1.5, 4, 3.1],\n",
    "               index=[\"a\", \"c\", \"e\", \"f\", \"g\"])\n",
    "s1\n",
    "s2"
   ]
  },
  {
   "cell_type": "code",
   "execution_count": 80,
   "metadata": {},
   "outputs": [],
   "source": [
    "s1 + s2"
   ]
  },
  {
   "cell_type": "code",
   "execution_count": 81,
   "metadata": {},
   "outputs": [],
   "source": [
    "df1 = pd.DataFrame(np.arange(9.).reshape((3, 3)), columns=list(\"bcd\"),\n",
    "                   index=[\"Ohio\", \"Texas\", \"Colorado\"])\n",
    "df2 = pd.DataFrame(np.arange(12.).reshape((4, 3)), columns=list(\"bde\"),\n",
    "                   index=[\"Utah\", \"Ohio\", \"Texas\", \"Oregon\"])\n",
    "df1\n",
    "df2"
   ]
  },
  {
   "cell_type": "code",
   "execution_count": 82,
   "metadata": {},
   "outputs": [],
   "source": [
    "df1 + df2"
   ]
  },
  {
   "cell_type": "code",
   "execution_count": 83,
   "metadata": {},
   "outputs": [],
   "source": [
    "df1 = pd.DataFrame({\"A\": [1, 2]})\n",
    "df2 = pd.DataFrame({\"B\": [3, 4]})\n",
    "df1\n",
    "df2\n",
    "df1 + df2"
   ]
  },
  {
   "cell_type": "code",
   "execution_count": 84,
   "metadata": {},
   "outputs": [],
   "source": [
    "df1 = pd.DataFrame(np.arange(12.).reshape((3, 4)),\n",
    "                   columns=list(\"abcd\"))\n",
    "df2 = pd.DataFrame(np.arange(20.).reshape((4, 5)),\n",
    "                   columns=list(\"abcde\"))\n",
    "df2.loc[1, \"b\"] = np.nan\n",
    "df1\n",
    "df2"
   ]
  },
  {
   "cell_type": "code",
   "execution_count": 85,
   "metadata": {},
   "outputs": [],
   "source": [
    "df1 + df2"
   ]
  },
  {
   "cell_type": "code",
   "execution_count": 86,
   "metadata": {},
   "outputs": [],
   "source": [
    "df1.add(df2, fill_value=0)"
   ]
  },
  {
   "cell_type": "code",
   "execution_count": 87,
   "metadata": {},
   "outputs": [],
   "source": [
    "1 / df1\n",
    "df1.rdiv(1)"
   ]
  },
  {
   "cell_type": "code",
   "execution_count": 88,
   "metadata": {},
   "outputs": [],
   "source": [
    "df1.reindex(columns=df2.columns, fill_value=0)"
   ]
  },
  {
   "cell_type": "code",
   "execution_count": 89,
   "metadata": {},
   "outputs": [],
   "source": [
    "arr = np.arange(12.).reshape((3, 4))\n",
    "arr\n",
    "arr[0]\n",
    "arr - arr[0]"
   ]
  },
  {
   "cell_type": "code",
   "execution_count": 90,
   "metadata": {},
   "outputs": [],
   "source": [
    "frame = pd.DataFrame(np.arange(12.).reshape((4, 3)),\n",
    "                     columns=list(\"bde\"),\n",
    "                     index=[\"Utah\", \"Ohio\", \"Texas\", \"Oregon\"])\n",
    "series = frame.iloc[0]\n",
    "frame\n",
    "series"
   ]
  },
  {
   "cell_type": "code",
   "execution_count": 91,
   "metadata": {},
   "outputs": [],
   "source": [
    "frame - series"
   ]
  },
  {
   "cell_type": "code",
   "execution_count": 92,
   "metadata": {},
   "outputs": [],
   "source": [
    "series2 = pd.Series(np.arange(3), index=[\"b\", \"e\", \"f\"])\n",
    "series2\n",
    "frame + series2"
   ]
  },
  {
   "cell_type": "code",
   "execution_count": 93,
   "metadata": {},
   "outputs": [],
   "source": [
    "series3 = frame[\"d\"]\n",
    "frame\n",
    "series3\n",
    "frame.sub(series3, axis=\"index\")"
   ]
  },
  {
   "cell_type": "code",
   "execution_count": 94,
   "metadata": {},
   "outputs": [],
   "source": [
    "frame = pd.DataFrame(np.random.standard_normal((4, 3)),\n",
    "                     columns=list(\"bde\"),\n",
    "                     index=[\"Utah\", \"Ohio\", \"Texas\", \"Oregon\"])\n",
    "frame\n",
    "np.abs(frame)"
   ]
  },
  {
   "cell_type": "code",
   "execution_count": 95,
   "metadata": {},
   "outputs": [],
   "source": [
    "def f1(x):\n",
    "    return x.max() - x.min()\n",
    "\n",
    "frame.apply(f1)"
   ]
  },
  {
   "cell_type": "code",
   "execution_count": 96,
   "metadata": {},
   "outputs": [],
   "source": [
    "frame.apply(f1, axis=\"columns\")"
   ]
  },
  {
   "cell_type": "code",
   "execution_count": 97,
   "metadata": {},
   "outputs": [],
   "source": [
    "def f2(x):\n",
    "    return pd.Series([x.min(), x.max()], index=[\"min\", \"max\"])\n",
    "frame.apply(f2)"
   ]
  },
  {
   "cell_type": "code",
   "execution_count": 98,
   "metadata": {},
   "outputs": [],
   "source": [
    "def my_format(x):\n",
    "    return f\"{x:.2f}\"\n",
    "\n",
    "frame.applymap(my_format)"
   ]
  },
  {
   "cell_type": "code",
   "execution_count": 99,
   "metadata": {},
   "outputs": [],
   "source": [
    "frame[\"e\"].map(my_format)"
   ]
  },
  {
   "cell_type": "code",
   "execution_count": 100,
   "metadata": {},
   "outputs": [],
   "source": [
    "obj = pd.Series(np.arange(4), index=[\"d\", \"a\", \"b\", \"c\"])\n",
    "obj\n",
    "obj.sort_index()"
   ]
  },
  {
   "cell_type": "code",
   "execution_count": 101,
   "metadata": {},
   "outputs": [],
   "source": [
    "frame = pd.DataFrame(np.arange(8).reshape((2, 4)),\n",
    "                     index=[\"three\", \"one\"],\n",
    "                     columns=[\"d\", \"a\", \"b\", \"c\"])\n",
    "frame\n",
    "frame.sort_index()\n",
    "frame.sort_index(axis=\"columns\")"
   ]
  },
  {
   "cell_type": "code",
   "execution_count": 102,
   "metadata": {},
   "outputs": [],
   "source": [
    "frame.sort_index(axis=\"columns\", ascending=False)"
   ]
  },
  {
   "cell_type": "code",
   "execution_count": 103,
   "metadata": {},
   "outputs": [],
   "source": [
    "obj = pd.Series([4, 7, -3, 2])\n",
    "obj.sort_values()"
   ]
  },
  {
   "cell_type": "code",
   "execution_count": 104,
   "metadata": {},
   "outputs": [],
   "source": [
    "obj = pd.Series([4, np.nan, 7, np.nan, -3, 2])\n",
    "obj.sort_values()"
   ]
  },
  {
   "cell_type": "code",
   "execution_count": 105,
   "metadata": {},
   "outputs": [],
   "source": [
    "obj.sort_values(na_position=\"first\")"
   ]
  },
  {
   "cell_type": "code",
   "execution_count": 106,
   "metadata": {},
   "outputs": [],
   "source": [
    "frame = pd.DataFrame({\"b\": [4, 7, -3, 2], \"a\": [0, 1, 0, 1]})\n",
    "frame\n",
    "frame.sort_values(\"b\")"
   ]
  },
  {
   "cell_type": "code",
   "execution_count": 107,
   "metadata": {},
   "outputs": [],
   "source": [
    "frame.sort_values([\"a\", \"b\"])"
   ]
  },
  {
   "cell_type": "code",
   "execution_count": 108,
   "metadata": {},
   "outputs": [],
   "source": [
    "obj = pd.Series([7, -5, 7, 4, 2, 0, 4])\n",
    "obj.rank()"
   ]
  },
  {
   "cell_type": "code",
   "execution_count": 109,
   "metadata": {},
   "outputs": [],
   "source": [
    "obj.rank(method=\"first\")"
   ]
  },
  {
   "cell_type": "code",
   "execution_count": 110,
   "metadata": {},
   "outputs": [],
   "source": [
    "obj.rank(ascending=False)"
   ]
  },
  {
   "cell_type": "code",
   "execution_count": 111,
   "metadata": {},
   "outputs": [],
   "source": [
    "frame = pd.DataFrame({\"b\": [4.3, 7, -3, 2], \"a\": [0, 1, 0, 1],\n",
    "                      \"c\": [-2, 5, 8, -2.5]})\n",
    "frame\n",
    "frame.rank(axis=\"columns\")"
   ]
  },
  {
   "cell_type": "code",
   "execution_count": 112,
   "metadata": {},
   "outputs": [],
   "source": [
    "obj = pd.Series(np.arange(5), index=[\"a\", \"a\", \"b\", \"b\", \"c\"])\n",
    "obj"
   ]
  },
  {
   "cell_type": "code",
   "execution_count": 113,
   "metadata": {},
   "outputs": [],
   "source": [
    "obj.index.is_unique"
   ]
  },
  {
   "cell_type": "code",
   "execution_count": 114,
   "metadata": {},
   "outputs": [],
   "source": [
    "obj[\"a\"]\n",
    "obj[\"c\"]"
   ]
  },
  {
   "cell_type": "code",
   "execution_count": 115,
   "metadata": {},
   "outputs": [],
   "source": [
    "df = pd.DataFrame(np.random.standard_normal((5, 3)),\n",
    "                  index=[\"a\", \"a\", \"b\", \"b\", \"c\"])\n",
    "df\n",
    "df.loc[\"b\"]\n",
    "df.loc[\"c\"]"
   ]
  },
  {
   "cell_type": "code",
   "execution_count": 116,
   "metadata": {},
   "outputs": [],
   "source": [
    "df = pd.DataFrame([[1.4, np.nan], [7.1, -4.5],\n",
    "                   [np.nan, np.nan], [0.75, -1.3]],\n",
    "                  index=[\"a\", \"b\", \"c\", \"d\"],\n",
    "                  columns=[\"one\", \"two\"])\n",
    "df"
   ]
  },
  {
   "cell_type": "code",
   "execution_count": 117,
   "metadata": {},
   "outputs": [],
   "source": [
    "df.sum()"
   ]
  },
  {
   "cell_type": "code",
   "execution_count": 118,
   "metadata": {},
   "outputs": [],
   "source": [
    "df.sum(axis=\"columns\")"
   ]
  },
  {
   "cell_type": "code",
   "execution_count": 119,
   "metadata": {},
   "outputs": [],
   "source": [
    "df.sum(axis=\"index\", skipna=False)\n",
    "df.sum(axis=\"columns\", skipna=False)"
   ]
  },
  {
   "cell_type": "code",
   "execution_count": 120,
   "metadata": {},
   "outputs": [],
   "source": [
    "df.mean(axis=\"columns\")"
   ]
  },
  {
   "cell_type": "code",
   "execution_count": 121,
   "metadata": {},
   "outputs": [],
   "source": [
    "df.idxmax()"
   ]
  },
  {
   "cell_type": "code",
   "execution_count": 122,
   "metadata": {},
   "outputs": [],
   "source": [
    "df.cumsum()"
   ]
  },
  {
   "cell_type": "code",
   "execution_count": 123,
   "metadata": {},
   "outputs": [],
   "source": [
    "df.describe()"
   ]
  },
  {
   "cell_type": "code",
   "execution_count": 124,
   "metadata": {},
   "outputs": [],
   "source": [
    "obj = pd.Series([\"a\", \"a\", \"b\", \"c\"] * 4)\n",
    "obj.describe()"
   ]
  },
  {
   "cell_type": "code",
   "execution_count": 125,
   "metadata": {},
   "outputs": [],
   "source": [
    "price = pd.read_pickle(\"examples/yahoo_price.pkl\")\n",
    "volume = pd.read_pickle(\"examples/yahoo_volume.pkl\")"
   ]
  },
  {
   "cell_type": "code",
   "execution_count": 126,
   "metadata": {},
   "outputs": [],
   "source": [
    "returns = price.pct_change()\n",
    "returns.tail()"
   ]
  },
  {
   "cell_type": "code",
   "execution_count": 127,
   "metadata": {},
   "outputs": [],
   "source": [
    "returns[\"MSFT\"].corr(returns[\"IBM\"])\n",
    "returns[\"MSFT\"].cov(returns[\"IBM\"])"
   ]
  },
  {
   "cell_type": "code",
   "execution_count": 128,
   "metadata": {},
   "outputs": [],
   "source": [
    "returns.corr()\n",
    "returns.cov()"
   ]
  },
  {
   "cell_type": "code",
   "execution_count": 129,
   "metadata": {},
   "outputs": [],
   "source": [
    "returns.corrwith(returns[\"IBM\"])"
   ]
  },
  {
   "cell_type": "code",
   "execution_count": 130,
   "metadata": {},
   "outputs": [],
   "source": [
    "returns.corrwith(volume)"
   ]
  },
  {
   "cell_type": "code",
   "execution_count": 131,
   "metadata": {},
   "outputs": [],
   "source": [
    "obj = pd.Series([\"c\", \"a\", \"d\", \"a\", \"a\", \"b\", \"b\", \"c\", \"c\"])"
   ]
  },
  {
   "cell_type": "code",
   "execution_count": 132,
   "metadata": {},
   "outputs": [],
   "source": [
    "uniques = obj.unique()\n",
    "uniques"
   ]
  },
  {
   "cell_type": "code",
   "execution_count": 133,
   "metadata": {},
   "outputs": [],
   "source": [
    "obj.value_counts()"
   ]
  },
  {
   "cell_type": "code",
   "execution_count": 134,
   "metadata": {},
   "outputs": [],
   "source": [
    "pd.value_counts(obj.to_numpy(), sort=False)"
   ]
  },
  {
   "cell_type": "code",
   "execution_count": 135,
   "metadata": {},
   "outputs": [],
   "source": [
    "obj\n",
    "mask = obj.isin([\"b\", \"c\"])\n",
    "mask\n",
    "obj[mask]"
   ]
  },
  {
   "cell_type": "code",
   "execution_count": 136,
   "metadata": {},
   "outputs": [],
   "source": [
    "to_match = pd.Series([\"c\", \"a\", \"b\", \"b\", \"c\", \"a\"])\n",
    "unique_vals = pd.Series([\"c\", \"b\", \"a\"])\n",
    "indices = pd.Index(unique_vals).get_indexer(to_match)\n",
    "indices"
   ]
  },
  {
   "cell_type": "code",
   "execution_count": 137,
   "metadata": {},
   "outputs": [],
   "source": [
    "data = pd.DataFrame({\"Qu1\": [1, 3, 4, 3, 4],\n",
    "                     \"Qu2\": [2, 3, 1, 2, 3],\n",
    "                     \"Qu3\": [1, 5, 2, 4, 4]})\n",
    "data"
   ]
  },
  {
   "cell_type": "code",
   "execution_count": 138,
   "metadata": {},
   "outputs": [],
   "source": [
    "data[\"Qu1\"].value_counts().sort_index()"
   ]
  },
  {
   "cell_type": "code",
   "execution_count": 139,
   "metadata": {},
   "outputs": [],
   "source": [
    "result = data.apply(pd.value_counts).fillna(0)\n",
    "result"
   ]
  },
  {
   "cell_type": "code",
   "execution_count": 140,
   "metadata": {},
   "outputs": [],
   "source": [
    "data = pd.DataFrame({\"a\": [1, 1, 1, 2, 2], \"b\": [0, 0, 1, 0, 0]})\n",
    "data\n",
    "data.value_counts()"
   ]
  },
  {
   "cell_type": "code",
   "execution_count": 141,
   "metadata": {},
   "outputs": [],
   "source": []
  },
  {
   "cell_type": "code",
   "execution_count": 142,
   "metadata": {},
   "outputs": [],
   "source": [
    "pd.options.display.max_rows = PREVIOUS_MAX_ROWS"
   ]
  }
 ],
 "metadata": {
  "kernelspec": {
   "display_name": "Python 3 (ipykernel)",
   "language": "python",
   "name": "python3"
  },
  "language_info": {
   "codemirror_mode": {
    "name": "ipython",
    "version": 3
   },
   "file_extension": ".py",
   "mimetype": "text/x-python",
   "name": "python",
   "nbconvert_exporter": "python",
   "pygments_lexer": "ipython3",
<<<<<<< HEAD
   "version": "3.9.13"
=======
   "version": "3.12.2"
>>>>>>> a2fc80b917052043d36ef0a9ff96a01d0148ed5f
  }
 },
 "nbformat": 4,
 "nbformat_minor": 4
}
